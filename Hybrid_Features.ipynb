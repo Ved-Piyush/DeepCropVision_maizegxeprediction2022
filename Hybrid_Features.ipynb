{
 "cells": [
  {
   "cell_type": "code",
   "execution_count": 1,
   "id": "09950f7a",
   "metadata": {},
   "outputs": [
    {
     "name": "stdout",
     "output_type": "stream",
     "text": [
      "1.3.5\n"
     ]
    }
   ],
   "source": [
    "# import scikit-allel\n",
    "import allel\n",
    "# check which version is installed\n",
    "print(allel.__version__)"
   ]
  },
  {
   "cell_type": "code",
   "execution_count": 2,
   "id": "f9b497eb",
   "metadata": {},
   "outputs": [],
   "source": [
    "## This data is in some weird vcf format\n",
    "## Found a package above to deal with this"
   ]
  },
  {
   "cell_type": "code",
   "execution_count": 3,
   "id": "1e63515c",
   "metadata": {},
   "outputs": [],
   "source": [
    "callset = allel.read_vcf(r\"D:\\Maize_Comp\\Training_Data\\5_Genotype_Data_All_Years.vcf\")"
   ]
  },
  {
   "cell_type": "code",
   "execution_count": 4,
   "id": "0c9323c5",
   "metadata": {},
   "outputs": [
    {
     "data": {
      "text/plain": [
       "['calldata/GT',\n",
       " 'samples',\n",
       " 'variants/ALT',\n",
       " 'variants/CHROM',\n",
       " 'variants/FILTER_PASS',\n",
       " 'variants/ID',\n",
       " 'variants/POS',\n",
       " 'variants/QUAL',\n",
       " 'variants/REF']"
      ]
     },
     "execution_count": 4,
     "metadata": {},
     "output_type": "execute_result"
    }
   ],
   "source": [
    "# These are the keys\n",
    "sorted(callset.keys())"
   ]
  },
  {
   "cell_type": "code",
   "execution_count": 5,
   "id": "b2b2768a",
   "metadata": {},
   "outputs": [
    {
     "data": {
      "text/plain": [
       "array(['2369/DK3IIH6', '2369/PHN82', '2369/PHZ51', ...,\n",
       "       'Z038E0057/DK3IIH6', 'Z038E0057/LH162', 'Z038E0057/PHZ51'],\n",
       "      dtype=object)"
      ]
     },
     "execution_count": 5,
     "metadata": {},
     "output_type": "execute_result"
    }
   ],
   "source": [
    "# basically these samples are the Hybrids that we see in train and test\n",
    "callset['samples']"
   ]
  },
  {
   "cell_type": "code",
   "execution_count": 6,
   "id": "b521e3ce",
   "metadata": {},
   "outputs": [
    {
     "data": {
      "text/plain": [
       "4928"
      ]
     },
     "execution_count": 6,
     "metadata": {},
     "output_type": "execute_result"
    }
   ],
   "source": [
    "# How many such Hybrids?\n",
    "len(callset['samples'])"
   ]
  },
  {
   "cell_type": "code",
   "execution_count": 7,
   "id": "df951052",
   "metadata": {},
   "outputs": [
    {
     "data": {
      "text/plain": [
       "(437214, 4928, 2)"
      ]
     },
     "execution_count": 7,
     "metadata": {},
     "output_type": "execute_result"
    }
   ],
   "source": [
    "# These is where the features of the Hybrids will come from\n",
    "# So basically you can see we have 437214 x 2 dimensional features\n",
    "# for all these 4928 Hybrids\n",
    "callset['calldata/GT'].shape"
   ]
  },
  {
   "cell_type": "code",
   "execution_count": 8,
   "id": "00819322",
   "metadata": {},
   "outputs": [],
   "source": [
    "first_col = callset['calldata/GT'][:,:,0].T"
   ]
  },
  {
   "cell_type": "code",
   "execution_count": 9,
   "id": "43b74a3e",
   "metadata": {},
   "outputs": [],
   "source": [
    "second_col = callset['calldata/GT'][:,:,1].T"
   ]
  },
  {
   "cell_type": "code",
   "execution_count": 10,
   "id": "ff7588da",
   "metadata": {},
   "outputs": [],
   "source": [
    "import numpy as np"
   ]
  },
  {
   "cell_type": "code",
   "execution_count": 11,
   "id": "41fd4ae7",
   "metadata": {},
   "outputs": [],
   "source": [
    "np.save(\"first_col.npy\", first_col)"
   ]
  },
  {
   "cell_type": "code",
   "execution_count": 12,
   "id": "72bb8449",
   "metadata": {},
   "outputs": [],
   "source": [
    "np.save(\"second_col.npy\", second_col)"
   ]
  },
  {
   "cell_type": "code",
   "execution_count": 13,
   "id": "4c417f47",
   "metadata": {},
   "outputs": [],
   "source": [
    "np.save(\"hybrid_order.npy\", callset['samples'])"
   ]
  },
  {
   "cell_type": "code",
   "execution_count": 14,
   "id": "9a3f72b4",
   "metadata": {},
   "outputs": [],
   "source": [
    "from scipy.sparse import csr_matrix"
   ]
  },
  {
   "cell_type": "code",
   "execution_count": 15,
   "id": "1e7686e4",
   "metadata": {},
   "outputs": [],
   "source": [
    "# first_col = csr_matrix(first_col)"
   ]
  },
  {
   "cell_type": "code",
   "execution_count": 16,
   "id": "b05a4ba5",
   "metadata": {},
   "outputs": [],
   "source": [
    "# second_col = csr_matrix(second_col)"
   ]
  },
  {
   "cell_type": "code",
   "execution_count": 17,
   "id": "409c122d",
   "metadata": {},
   "outputs": [],
   "source": [
    "from sklearn.decomposition import PCA"
   ]
  },
  {
   "cell_type": "code",
   "execution_count": 1,
   "id": "42a93c95",
   "metadata": {},
   "outputs": [
    {
     "ename": "NameError",
     "evalue": "name 'second_col' is not defined",
     "output_type": "error",
     "traceback": [
      "\u001b[1;31m---------------------------------------------------------------------------\u001b[0m",
      "\u001b[1;31mNameError\u001b[0m                                 Traceback (most recent call last)",
      "Input \u001b[1;32mIn [1]\u001b[0m, in \u001b[0;36m<cell line: 1>\u001b[1;34m()\u001b[0m\n\u001b[1;32m----> 1\u001b[0m \u001b[43msecond_col\u001b[49m\u001b[38;5;241m.\u001b[39mshape\n",
      "\u001b[1;31mNameError\u001b[0m: name 'second_col' is not defined"
     ]
    }
   ],
   "source": [
    "second_col.shape"
   ]
  },
  {
   "cell_type": "code",
   "execution_count": 18,
   "id": "bd96dcc8",
   "metadata": {},
   "outputs": [
    {
     "data": {
      "text/plain": [
       "(4928, 437214)"
      ]
     },
     "execution_count": 18,
     "metadata": {},
     "output_type": "execute_result"
    }
   ],
   "source": [
    "first_col.shape"
   ]
  },
  {
   "cell_type": "code",
   "execution_count": 19,
   "id": "fffe19b8",
   "metadata": {},
   "outputs": [],
   "source": [
    "pca_size = 200"
   ]
  },
  {
   "cell_type": "code",
   "execution_count": 20,
   "id": "a4d860cc",
   "metadata": {},
   "outputs": [],
   "source": [
    "mds_1 = PCA(n_components=pca_size)"
   ]
  },
  {
   "cell_type": "code",
   "execution_count": 21,
   "id": "1a744005",
   "metadata": {},
   "outputs": [],
   "source": [
    "first_col_mds = mds_1.fit_transform(first_col)"
   ]
  },
  {
   "cell_type": "code",
   "execution_count": 22,
   "id": "3c465461",
   "metadata": {},
   "outputs": [],
   "source": [
    "mds_2 = PCA(n_components=pca_size)"
   ]
  },
  {
   "cell_type": "code",
   "execution_count": 23,
   "id": "caa311b5",
   "metadata": {},
   "outputs": [],
   "source": [
    "second_col_mds = mds_2.fit_transform(second_col)"
   ]
  },
  {
   "cell_type": "code",
   "execution_count": 24,
   "id": "c7768b30",
   "metadata": {},
   "outputs": [
    {
     "data": {
      "text/plain": [
       "(4928, 200)"
      ]
     },
     "execution_count": 24,
     "metadata": {},
     "output_type": "execute_result"
    }
   ],
   "source": [
    "first_col_mds.shape"
   ]
  },
  {
   "cell_type": "code",
   "execution_count": 25,
   "id": "1987e1c8",
   "metadata": {},
   "outputs": [
    {
     "data": {
      "text/plain": [
       "(4928, 200)"
      ]
     },
     "execution_count": 25,
     "metadata": {},
     "output_type": "execute_result"
    }
   ],
   "source": [
    "second_col_mds.shape"
   ]
  },
  {
   "cell_type": "code",
   "execution_count": 26,
   "id": "2a02e612",
   "metadata": {},
   "outputs": [],
   "source": [
    "np.save(\"first_col_pca_\" + str(pca_size) + \".npy\", first_col_mds)"
   ]
  },
  {
   "cell_type": "code",
   "execution_count": 27,
   "id": "3113657a",
   "metadata": {},
   "outputs": [],
   "source": [
    "np.save(\"second_col_pca_\" + str(pca_size) + \".npy\", second_col_mds)"
   ]
  },
  {
   "cell_type": "code",
   "execution_count": 28,
   "id": "e396c7c9",
   "metadata": {},
   "outputs": [],
   "source": [
    "import tensorflow as tf"
   ]
  },
  {
   "cell_type": "code",
   "execution_count": 29,
   "id": "8b56b880",
   "metadata": {},
   "outputs": [],
   "source": [
    "padding_vector = np.zeros((1, pca_size))\n",
    "unknown_vector = np.zeros((1, pca_size))\n",
    "weight_vectors = np.vstack((padding_vector, unknown_vector))\n",
    "weight_vectors = np.vstack((weight_vectors, first_col_mds))\n",
    "embedding_layer_first_col = tf.keras.layers.Embedding(len(weight_vectors),\n",
    "                            weight_vectors.shape[1],\n",
    "                            weights=[weight_vectors],\n",
    "                            mask_zero = False,\n",
    "                            trainable=False)"
   ]
  },
  {
   "cell_type": "code",
   "execution_count": 30,
   "id": "6d65df94",
   "metadata": {},
   "outputs": [],
   "source": [
    "vectorize_layer_first_col = tf.keras.layers.TextVectorization(\n",
    "                     output_mode='int',\n",
    "                     vocabulary=callset['samples'], \n",
    "                     standardize = None)"
   ]
  },
  {
   "cell_type": "code",
   "execution_count": 31,
   "id": "14c95677",
   "metadata": {},
   "outputs": [
    {
     "data": {
      "text/plain": [
       "TensorShape([None, None])"
      ]
     },
     "execution_count": 31,
     "metadata": {},
     "output_type": "execute_result"
    }
   ],
   "source": [
    "input_layer = tf.keras.layers.Input(shape = (1,), dtype = tf.string)\n",
    "\n",
    "vectorize = vectorize_layer_first_col(input_layer)\n",
    "\n",
    "vectorize.shape\n"
   ]
  },
  {
   "cell_type": "code",
   "execution_count": 32,
   "id": "32ee7770",
   "metadata": {},
   "outputs": [],
   "source": [
    "emb_output = embedding_layer_first_col(vectorize)"
   ]
  },
  {
   "cell_type": "code",
   "execution_count": 33,
   "id": "a8577bbb",
   "metadata": {},
   "outputs": [
    {
     "data": {
      "text/plain": [
       "<KerasTensor: shape=(None, None, 200) dtype=float32 (created by layer 'embedding')>"
      ]
     },
     "execution_count": 33,
     "metadata": {},
     "output_type": "execute_result"
    }
   ],
   "source": [
    "emb_output"
   ]
  },
  {
   "cell_type": "code",
   "execution_count": 34,
   "id": "5bd78f9b",
   "metadata": {},
   "outputs": [],
   "source": [
    "first_col_pca_model = tf.keras.models.Model(input_layer, emb_output)"
   ]
  },
  {
   "cell_type": "code",
   "execution_count": 35,
   "id": "717c3cc1",
   "metadata": {},
   "outputs": [
    {
     "name": "stdout",
     "output_type": "stream",
     "text": [
      "Model: \"model\"\n",
      "_________________________________________________________________\n",
      " Layer (type)                Output Shape              Param #   \n",
      "=================================================================\n",
      " input_1 (InputLayer)        [(None, 1)]               0         \n",
      "                                                                 \n",
      " text_vectorization (TextVec  (None, None)             0         \n",
      " torization)                                                     \n",
      "                                                                 \n",
      " embedding (Embedding)       (None, None, 200)         986000    \n",
      "                                                                 \n",
      "=================================================================\n",
      "Total params: 986,000\n",
      "Trainable params: 0\n",
      "Non-trainable params: 986,000\n",
      "_________________________________________________________________\n"
     ]
    }
   ],
   "source": [
    "first_col_pca_model.summary()"
   ]
  },
  {
   "cell_type": "code",
   "execution_count": 36,
   "id": "bd1ae3e9",
   "metadata": {},
   "outputs": [
    {
     "name": "stdout",
     "output_type": "stream",
     "text": [
      "WARNING:tensorflow:Compiled the loaded model, but the compiled metrics have yet to be built. `model.compile_metrics` will be empty until you train or evaluate the model.\n",
      "INFO:tensorflow:Assets written to: first_col_pca_200\\assets\n"
     ]
    }
   ],
   "source": [
    "first_col_pca_model.save(\"first_col_pca_\" + str(pca_size))"
   ]
  },
  {
   "cell_type": "code",
   "execution_count": 37,
   "id": "afe3a67a",
   "metadata": {},
   "outputs": [
    {
     "name": "stdout",
     "output_type": "stream",
     "text": [
      "WARNING:tensorflow:No training configuration found in save file, so the model was *not* compiled. Compile it manually.\n"
     ]
    }
   ],
   "source": [
    "first_col_pca_model = tf.keras.models.load_model(\"first_col_pca_\" + str(pca_size))"
   ]
  },
  {
   "cell_type": "code",
   "execution_count": 38,
   "id": "f721220e",
   "metadata": {},
   "outputs": [],
   "source": [
    "# first_col_mds"
   ]
  },
  {
   "cell_type": "code",
   "execution_count": 39,
   "id": "791e3ef0",
   "metadata": {},
   "outputs": [],
   "source": [
    "padding_vector = np.zeros((1, pca_size))\n",
    "unknown_vector = np.zeros((1, pca_size))\n",
    "weight_vectors = np.vstack((padding_vector, unknown_vector))\n",
    "weight_vectors = np.vstack((weight_vectors, second_col_mds))\n",
    "embedding_layer_second_col = tf.keras.layers.Embedding(len(weight_vectors),\n",
    "                            weight_vectors.shape[1],\n",
    "                            weights=[weight_vectors],\n",
    "                            mask_zero = False,\n",
    "                            trainable=False)"
   ]
  },
  {
   "cell_type": "code",
   "execution_count": 40,
   "id": "10e39cc2",
   "metadata": {},
   "outputs": [],
   "source": [
    "vectorize_layer_second_col = tf.keras.layers.TextVectorization(\n",
    "                     output_mode='int',\n",
    "                     vocabulary=callset['samples'], \n",
    "                     standardize = None)"
   ]
  },
  {
   "cell_type": "code",
   "execution_count": 41,
   "id": "c2a69ba9",
   "metadata": {},
   "outputs": [
    {
     "data": {
      "text/plain": [
       "array(['2369/DK3IIH6', '2369/PHN82', '2369/PHZ51', ...,\n",
       "       'Z038E0057/DK3IIH6', 'Z038E0057/LH162', 'Z038E0057/PHZ51'],\n",
       "      dtype=object)"
      ]
     },
     "execution_count": 41,
     "metadata": {},
     "output_type": "execute_result"
    }
   ],
   "source": [
    "callset[\"samples\"]"
   ]
  },
  {
   "cell_type": "code",
   "execution_count": 42,
   "id": "dab50f0c",
   "metadata": {},
   "outputs": [
    {
     "data": {
      "text/plain": [
       "TensorShape([None, None])"
      ]
     },
     "execution_count": 42,
     "metadata": {},
     "output_type": "execute_result"
    }
   ],
   "source": [
    "input_layer = tf.keras.layers.Input(shape = (1,), dtype = tf.string)\n",
    "\n",
    "vectorize = vectorize_layer_second_col(input_layer)\n",
    "\n",
    "vectorize.shape\n"
   ]
  },
  {
   "cell_type": "code",
   "execution_count": 43,
   "id": "a8120676",
   "metadata": {},
   "outputs": [],
   "source": [
    "emb_output = embedding_layer_second_col(vectorize)"
   ]
  },
  {
   "cell_type": "code",
   "execution_count": 44,
   "id": "31d030a4",
   "metadata": {},
   "outputs": [
    {
     "data": {
      "text/plain": [
       "<KerasTensor: shape=(None, None, 200) dtype=float32 (created by layer 'embedding_1')>"
      ]
     },
     "execution_count": 44,
     "metadata": {},
     "output_type": "execute_result"
    }
   ],
   "source": [
    "emb_output"
   ]
  },
  {
   "cell_type": "code",
   "execution_count": 45,
   "id": "06c16a54",
   "metadata": {},
   "outputs": [],
   "source": [
    "second_col_pca_model = tf.keras.models.Model(input_layer, emb_output)"
   ]
  },
  {
   "cell_type": "code",
   "execution_count": 46,
   "id": "8955cef8",
   "metadata": {},
   "outputs": [
    {
     "name": "stdout",
     "output_type": "stream",
     "text": [
      "Model: \"model_1\"\n",
      "_________________________________________________________________\n",
      " Layer (type)                Output Shape              Param #   \n",
      "=================================================================\n",
      " input_2 (InputLayer)        [(None, 1)]               0         \n",
      "                                                                 \n",
      " text_vectorization_1 (TextV  (None, None)             0         \n",
      " ectorization)                                                   \n",
      "                                                                 \n",
      " embedding_1 (Embedding)     (None, None, 200)         986000    \n",
      "                                                                 \n",
      "=================================================================\n",
      "Total params: 986,000\n",
      "Trainable params: 0\n",
      "Non-trainable params: 986,000\n",
      "_________________________________________________________________\n"
     ]
    }
   ],
   "source": [
    "second_col_pca_model.summary()"
   ]
  },
  {
   "cell_type": "code",
   "execution_count": 47,
   "id": "3a7ec25d",
   "metadata": {},
   "outputs": [
    {
     "name": "stdout",
     "output_type": "stream",
     "text": [
      "WARNING:tensorflow:Compiled the loaded model, but the compiled metrics have yet to be built. `model.compile_metrics` will be empty until you train or evaluate the model.\n",
      "INFO:tensorflow:Assets written to: second_col_pca_200\\assets\n"
     ]
    }
   ],
   "source": [
    "second_col_pca_model.save(\"second_col_pca_\" + str(pca_size))"
   ]
  },
  {
   "cell_type": "code",
   "execution_count": null,
   "id": "379e0267",
   "metadata": {},
   "outputs": [],
   "source": []
  }
 ],
 "metadata": {
  "kernelspec": {
   "display_name": "newone1",
   "language": "python",
   "name": "newone1"
  },
  "language_info": {
   "codemirror_mode": {
    "name": "ipython",
    "version": 3
   },
   "file_extension": ".py",
   "mimetype": "text/x-python",
   "name": "python",
   "nbconvert_exporter": "python",
   "pygments_lexer": "ipython3",
   "version": "3.9.12"
  }
 },
 "nbformat": 4,
 "nbformat_minor": 5
}
