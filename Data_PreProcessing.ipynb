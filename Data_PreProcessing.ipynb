{
 "cells": [
  {
   "cell_type": "code",
   "execution_count": 1,
   "id": "a15bd0b0",
   "metadata": {},
   "outputs": [],
   "source": [
    "# import necessary packages\n",
    "import pandas as pd\n",
    "import numpy as np\n",
    "import matplotlib.pyplot as plt\n",
    "import pandas as pd\n",
    "import gzip"
   ]
  },
  {
   "cell_type": "code",
   "execution_count": 2,
   "id": "8e64568d",
   "metadata": {},
   "outputs": [],
   "source": [
    "# read in the data files from the train set to see how they look like\n",
    "\n",
    "# most likely the keys will be \"Env\" and \"Hybrid\"\n",
    "\n",
    "# Training data first\n",
    "Trait_data = pd.read_csv(r\"Training_Data\\1_Training_Trait_Data_2014_2021.csv\")"
   ]
  },
  {
   "cell_type": "code",
   "execution_count": 3,
   "id": "0688a1ed",
   "metadata": {},
   "outputs": [
    {
     "data": {
      "text/html": [
       "<div>\n",
       "<style scoped>\n",
       "    .dataframe tbody tr th:only-of-type {\n",
       "        vertical-align: middle;\n",
       "    }\n",
       "\n",
       "    .dataframe tbody tr th {\n",
       "        vertical-align: top;\n",
       "    }\n",
       "\n",
       "    .dataframe thead th {\n",
       "        text-align: right;\n",
       "    }\n",
       "</style>\n",
       "<table border=\"1\" class=\"dataframe\">\n",
       "  <thead>\n",
       "    <tr style=\"text-align: right;\">\n",
       "      <th></th>\n",
       "      <th>Env</th>\n",
       "      <th>Year</th>\n",
       "      <th>Field_Location</th>\n",
       "      <th>Experiment</th>\n",
       "      <th>Replicate</th>\n",
       "      <th>Block</th>\n",
       "      <th>Plot</th>\n",
       "      <th>Range</th>\n",
       "      <th>Pass</th>\n",
       "      <th>Hybrid</th>\n",
       "      <th>...</th>\n",
       "      <th>Stand_Count_plants</th>\n",
       "      <th>Pollen_DAP_days</th>\n",
       "      <th>Silk_DAP_days</th>\n",
       "      <th>Plant_Height_cm</th>\n",
       "      <th>Ear_Height_cm</th>\n",
       "      <th>Root_Lodging_plants</th>\n",
       "      <th>Stalk_Lodging_plants</th>\n",
       "      <th>Yield_Mg_ha</th>\n",
       "      <th>Grain_Moisture</th>\n",
       "      <th>Twt_kg_m3</th>\n",
       "    </tr>\n",
       "  </thead>\n",
       "  <tbody>\n",
       "    <tr>\n",
       "      <th>0</th>\n",
       "      <td>DEH1_2014</td>\n",
       "      <td>2014</td>\n",
       "      <td>DEH1</td>\n",
       "      <td>G2F_2014_15</td>\n",
       "      <td>1</td>\n",
       "      <td>1</td>\n",
       "      <td>1</td>\n",
       "      <td>1.0</td>\n",
       "      <td>1.0</td>\n",
       "      <td>M0088/LH185</td>\n",
       "      <td>...</td>\n",
       "      <td>56.0</td>\n",
       "      <td>63.0</td>\n",
       "      <td>67.0</td>\n",
       "      <td>213.0</td>\n",
       "      <td>79.0</td>\n",
       "      <td>0.0</td>\n",
       "      <td>0.0</td>\n",
       "      <td>5.721725</td>\n",
       "      <td>20.8</td>\n",
       "      <td>706.664693</td>\n",
       "    </tr>\n",
       "    <tr>\n",
       "      <th>1</th>\n",
       "      <td>DEH1_2014</td>\n",
       "      <td>2014</td>\n",
       "      <td>DEH1</td>\n",
       "      <td>G2F_2014_15</td>\n",
       "      <td>1</td>\n",
       "      <td>1</td>\n",
       "      <td>2</td>\n",
       "      <td>1.0</td>\n",
       "      <td>2.0</td>\n",
       "      <td>M0143/LH185</td>\n",
       "      <td>...</td>\n",
       "      <td>54.0</td>\n",
       "      <td>61.0</td>\n",
       "      <td>63.0</td>\n",
       "      <td>286.0</td>\n",
       "      <td>172.0</td>\n",
       "      <td>0.0</td>\n",
       "      <td>0.0</td>\n",
       "      <td>11.338246</td>\n",
       "      <td>25.8</td>\n",
       "      <td>693.792841</td>\n",
       "    </tr>\n",
       "    <tr>\n",
       "      <th>2</th>\n",
       "      <td>DEH1_2014</td>\n",
       "      <td>2014</td>\n",
       "      <td>DEH1</td>\n",
       "      <td>G2F_2014_15</td>\n",
       "      <td>1</td>\n",
       "      <td>1</td>\n",
       "      <td>3</td>\n",
       "      <td>1.0</td>\n",
       "      <td>3.0</td>\n",
       "      <td>M0003/LH185</td>\n",
       "      <td>...</td>\n",
       "      <td>60.0</td>\n",
       "      <td>63.0</td>\n",
       "      <td>65.0</td>\n",
       "      <td>239.0</td>\n",
       "      <td>92.0</td>\n",
       "      <td>0.0</td>\n",
       "      <td>4.0</td>\n",
       "      <td>6.540810</td>\n",
       "      <td>20.8</td>\n",
       "      <td>698.941582</td>\n",
       "    </tr>\n",
       "    <tr>\n",
       "      <th>3</th>\n",
       "      <td>DEH1_2014</td>\n",
       "      <td>2014</td>\n",
       "      <td>DEH1</td>\n",
       "      <td>G2F_2014_15</td>\n",
       "      <td>1</td>\n",
       "      <td>1</td>\n",
       "      <td>4</td>\n",
       "      <td>1.0</td>\n",
       "      <td>4.0</td>\n",
       "      <td>M0035/LH185</td>\n",
       "      <td>...</td>\n",
       "      <td>59.0</td>\n",
       "      <td>61.0</td>\n",
       "      <td>63.0</td>\n",
       "      <td>242.0</td>\n",
       "      <td>118.0</td>\n",
       "      <td>0.0</td>\n",
       "      <td>0.0</td>\n",
       "      <td>10.366857</td>\n",
       "      <td>23.7</td>\n",
       "      <td>711.813434</td>\n",
       "    </tr>\n",
       "    <tr>\n",
       "      <th>4</th>\n",
       "      <td>DEH1_2014</td>\n",
       "      <td>2014</td>\n",
       "      <td>DEH1</td>\n",
       "      <td>G2F_2014_15</td>\n",
       "      <td>1</td>\n",
       "      <td>1</td>\n",
       "      <td>5</td>\n",
       "      <td>1.0</td>\n",
       "      <td>5.0</td>\n",
       "      <td>M0052/LH185</td>\n",
       "      <td>...</td>\n",
       "      <td>58.0</td>\n",
       "      <td>63.0</td>\n",
       "      <td>65.0</td>\n",
       "      <td>211.0</td>\n",
       "      <td>92.0</td>\n",
       "      <td>0.0</td>\n",
       "      <td>0.0</td>\n",
       "      <td>10.908814</td>\n",
       "      <td>19.4</td>\n",
       "      <td>743.993065</td>\n",
       "    </tr>\n",
       "  </tbody>\n",
       "</table>\n",
       "<p>5 rows × 26 columns</p>\n",
       "</div>"
      ],
      "text/plain": [
       "         Env  Year Field_Location   Experiment  Replicate  Block  Plot  Range  \\\n",
       "0  DEH1_2014  2014           DEH1  G2F_2014_15          1      1     1    1.0   \n",
       "1  DEH1_2014  2014           DEH1  G2F_2014_15          1      1     2    1.0   \n",
       "2  DEH1_2014  2014           DEH1  G2F_2014_15          1      1     3    1.0   \n",
       "3  DEH1_2014  2014           DEH1  G2F_2014_15          1      1     4    1.0   \n",
       "4  DEH1_2014  2014           DEH1  G2F_2014_15          1      1     5    1.0   \n",
       "\n",
       "   Pass       Hybrid  ... Stand_Count_plants Pollen_DAP_days Silk_DAP_days  \\\n",
       "0   1.0  M0088/LH185  ...               56.0            63.0          67.0   \n",
       "1   2.0  M0143/LH185  ...               54.0            61.0          63.0   \n",
       "2   3.0  M0003/LH185  ...               60.0            63.0          65.0   \n",
       "3   4.0  M0035/LH185  ...               59.0            61.0          63.0   \n",
       "4   5.0  M0052/LH185  ...               58.0            63.0          65.0   \n",
       "\n",
       "   Plant_Height_cm Ear_Height_cm Root_Lodging_plants  Stalk_Lodging_plants  \\\n",
       "0            213.0          79.0                 0.0                   0.0   \n",
       "1            286.0         172.0                 0.0                   0.0   \n",
       "2            239.0          92.0                 0.0                   4.0   \n",
       "3            242.0         118.0                 0.0                   0.0   \n",
       "4            211.0          92.0                 0.0                   0.0   \n",
       "\n",
       "   Yield_Mg_ha  Grain_Moisture   Twt_kg_m3  \n",
       "0     5.721725            20.8  706.664693  \n",
       "1    11.338246            25.8  693.792841  \n",
       "2     6.540810            20.8  698.941582  \n",
       "3    10.366857            23.7  711.813434  \n",
       "4    10.908814            19.4  743.993065  \n",
       "\n",
       "[5 rows x 26 columns]"
      ]
     },
     "execution_count": 3,
     "metadata": {},
     "output_type": "execute_result"
    }
   ],
   "source": [
    "# take a look at the data\n",
    "Trait_data.head()"
   ]
  },
  {
   "cell_type": "code",
   "execution_count": 4,
   "id": "d1665cb4",
   "metadata": {},
   "outputs": [
    {
     "data": {
      "text/plain": [
       "(136012, 26)"
      ]
     },
     "execution_count": 4,
     "metadata": {},
     "output_type": "execute_result"
    }
   ],
   "source": [
    "# how many rows?\n",
    "Trait_data.shape"
   ]
  },
  {
   "cell_type": "code",
   "execution_count": 5,
   "id": "468872df",
   "metadata": {},
   "outputs": [
    {
     "data": {
      "text/plain": [
       "Env                         0\n",
       "Year                        0\n",
       "Field_Location              0\n",
       "Experiment                  0\n",
       "Replicate                   0\n",
       "Block                       0\n",
       "Plot                        0\n",
       "Range                   18725\n",
       "Pass                    18315\n",
       "Hybrid                      0\n",
       "Hybrid_orig_name            0\n",
       "Hybrid_Parent1           1619\n",
       "Hybrid_Parent2           1619\n",
       "Plot_Area_ha                1\n",
       "Date_Planted              362\n",
       "Date_Harvested           1125\n",
       "Stand_Count_plants      11653\n",
       "Pollen_DAP_days         30497\n",
       "Silk_DAP_days           32880\n",
       "Plant_Height_cm         15561\n",
       "Ear_Height_cm           15544\n",
       "Root_Lodging_plants     59641\n",
       "Stalk_Lodging_plants    48188\n",
       "Yield_Mg_ha              7845\n",
       "Grain_Moisture           7770\n",
       "Twt_kg_m3               27952\n",
       "dtype: int64"
      ]
     },
     "execution_count": 5,
     "metadata": {},
     "output_type": "execute_result"
    }
   ],
   "source": [
    "# how many missing values per column?\n",
    "na_values_trait_data = Trait_data.isna().sum()\n",
    "na_values_trait_data"
   ]
  },
  {
   "cell_type": "code",
   "execution_count": 6,
   "id": "d435da2d",
   "metadata": {},
   "outputs": [
    {
     "data": {
      "text/plain": [
       "299297"
      ]
     },
     "execution_count": 6,
     "metadata": {},
     "output_type": "execute_result"
    }
   ],
   "source": [
    "na_values_trait_data.sum()"
   ]
  },
  {
   "cell_type": "code",
   "execution_count": 7,
   "id": "ca232507",
   "metadata": {},
   "outputs": [],
   "source": [
    "# import meta data\n",
    "Meta_data = pd.read_csv(r\"Training_Data\\2_Training_Meta_Data_2014_2021.csv\", encoding = \"latin1\")"
   ]
  },
  {
   "cell_type": "code",
   "execution_count": 8,
   "id": "ac4351a9",
   "metadata": {},
   "outputs": [
    {
     "data": {
      "text/plain": [
       "(217, 36)"
      ]
     },
     "execution_count": 8,
     "metadata": {},
     "output_type": "execute_result"
    }
   ],
   "source": [
    "Meta_data.shape"
   ]
  },
  {
   "cell_type": "code",
   "execution_count": 9,
   "id": "c42a0e98",
   "metadata": {
    "scrolled": false
   },
   "outputs": [
    {
     "data": {
      "text/html": [
       "<div>\n",
       "<style scoped>\n",
       "    .dataframe tbody tr th:only-of-type {\n",
       "        vertical-align: middle;\n",
       "    }\n",
       "\n",
       "    .dataframe tbody tr th {\n",
       "        vertical-align: top;\n",
       "    }\n",
       "\n",
       "    .dataframe thead th {\n",
       "        text-align: right;\n",
       "    }\n",
       "</style>\n",
       "<table border=\"1\" class=\"dataframe\">\n",
       "  <thead>\n",
       "    <tr style=\"text-align: right;\">\n",
       "      <th></th>\n",
       "      <th>Year</th>\n",
       "      <th>Env</th>\n",
       "      <th>Experiment_Code</th>\n",
       "      <th>Treatment</th>\n",
       "      <th>City</th>\n",
       "      <th>Farm</th>\n",
       "      <th>Field</th>\n",
       "      <th>Trial_ID (Assigned by collaborator for internal reference)</th>\n",
       "      <th>Soil_Taxonomic_ID and horizon description, if known</th>\n",
       "      <th>Weather_Station_Serial_Number (Last four digits, e.g. m2700s#####)</th>\n",
       "      <th>...</th>\n",
       "      <th>Latitude_of_Field_Corner_#4 (upper left)</th>\n",
       "      <th>Longitude_of_Field_Corner_#4 (upper left)</th>\n",
       "      <th>Cardinal_Heading_Pass_1</th>\n",
       "      <th>Issue/comment_#1</th>\n",
       "      <th>Issue/comment_#2</th>\n",
       "      <th>Issue/comment_#3</th>\n",
       "      <th>Issue/comment_#4</th>\n",
       "      <th>Issue/comment_#5</th>\n",
       "      <th>Issue/comment_#6</th>\n",
       "      <th>Comments</th>\n",
       "    </tr>\n",
       "  </thead>\n",
       "  <tbody>\n",
       "    <tr>\n",
       "      <th>0</th>\n",
       "      <td>2017</td>\n",
       "      <td>TXH1-Early_2017</td>\n",
       "      <td>TXH1</td>\n",
       "      <td>Standard</td>\n",
       "      <td>College Station</td>\n",
       "      <td>University Field Lab</td>\n",
       "      <td>210</td>\n",
       "      <td>CS17-G2FE</td>\n",
       "      <td>NaN</td>\n",
       "      <td>NaN</td>\n",
       "      <td>...</td>\n",
       "      <td>NaN</td>\n",
       "      <td>NaN</td>\n",
       "      <td>NaN</td>\n",
       "      <td>NaN</td>\n",
       "      <td>NaN</td>\n",
       "      <td>NaN</td>\n",
       "      <td>NaN</td>\n",
       "      <td>NaN</td>\n",
       "      <td>NaN</td>\n",
       "      <td>Information for TXH1-Dry_2017, TXH1-Early_2017...</td>\n",
       "    </tr>\n",
       "    <tr>\n",
       "      <th>1</th>\n",
       "      <td>2017</td>\n",
       "      <td>TXH1-Late_2017</td>\n",
       "      <td>TXH1</td>\n",
       "      <td>Standard</td>\n",
       "      <td>College Station</td>\n",
       "      <td>University Field Lab</td>\n",
       "      <td>210</td>\n",
       "      <td>CS17-G2FE</td>\n",
       "      <td>NaN</td>\n",
       "      <td>NaN</td>\n",
       "      <td>...</td>\n",
       "      <td>NaN</td>\n",
       "      <td>NaN</td>\n",
       "      <td>NaN</td>\n",
       "      <td>NaN</td>\n",
       "      <td>NaN</td>\n",
       "      <td>NaN</td>\n",
       "      <td>NaN</td>\n",
       "      <td>NaN</td>\n",
       "      <td>NaN</td>\n",
       "      <td>Information for TXH1-Dry_2017, TXH1-Early_2017...</td>\n",
       "    </tr>\n",
       "    <tr>\n",
       "      <th>2</th>\n",
       "      <td>2014</td>\n",
       "      <td>IAH1b_2014</td>\n",
       "      <td>IAH1</td>\n",
       "      <td>NaN</td>\n",
       "      <td>Ames</td>\n",
       "      <td>Worle</td>\n",
       "      <td>NaN</td>\n",
       "      <td>NaN</td>\n",
       "      <td>NaN</td>\n",
       "      <td>9080</td>\n",
       "      <td>...</td>\n",
       "      <td>NaN</td>\n",
       "      <td>NaN</td>\n",
       "      <td>NaN</td>\n",
       "      <td>NaN</td>\n",
       "      <td>NaN</td>\n",
       "      <td>NaN</td>\n",
       "      <td>NaN</td>\n",
       "      <td>NaN</td>\n",
       "      <td>NaN</td>\n",
       "      <td>Information for IAH1a_2014, IAH1b_2014,and IAH...</td>\n",
       "    </tr>\n",
       "    <tr>\n",
       "      <th>3</th>\n",
       "      <td>2014</td>\n",
       "      <td>IAH1c_2014</td>\n",
       "      <td>IAH1</td>\n",
       "      <td>NaN</td>\n",
       "      <td>Ames</td>\n",
       "      <td>Worle</td>\n",
       "      <td>NaN</td>\n",
       "      <td>NaN</td>\n",
       "      <td>NaN</td>\n",
       "      <td>9080</td>\n",
       "      <td>...</td>\n",
       "      <td>NaN</td>\n",
       "      <td>NaN</td>\n",
       "      <td>NaN</td>\n",
       "      <td>NaN</td>\n",
       "      <td>NaN</td>\n",
       "      <td>NaN</td>\n",
       "      <td>NaN</td>\n",
       "      <td>NaN</td>\n",
       "      <td>NaN</td>\n",
       "      <td>Information for IAH1a_2014, IAH1b_2014,and IAH...</td>\n",
       "    </tr>\n",
       "    <tr>\n",
       "      <th>4</th>\n",
       "      <td>2016</td>\n",
       "      <td>ARH1_2016</td>\n",
       "      <td>ARH1</td>\n",
       "      <td>NaN</td>\n",
       "      <td>Marianna</td>\n",
       "      <td>NaN</td>\n",
       "      <td>NaN</td>\n",
       "      <td>Mariana</td>\n",
       "      <td>NaN</td>\n",
       "      <td>8658</td>\n",
       "      <td>...</td>\n",
       "      <td>34.729151</td>\n",
       "      <td>-90.760916</td>\n",
       "      <td>NaN</td>\n",
       "      <td>Large pigweed in field at harvest August 30 an...</td>\n",
       "      <td>NaN</td>\n",
       "      <td>NaN</td>\n",
       "      <td>NaN</td>\n",
       "      <td>NaN</td>\n",
       "      <td>NaN</td>\n",
       "      <td>NaN</td>\n",
       "    </tr>\n",
       "  </tbody>\n",
       "</table>\n",
       "<p>5 rows × 36 columns</p>\n",
       "</div>"
      ],
      "text/plain": [
       "   Year              Env Experiment_Code Treatment             City  \\\n",
       "0  2017  TXH1-Early_2017            TXH1  Standard  College Station   \n",
       "1  2017   TXH1-Late_2017            TXH1  Standard  College Station   \n",
       "2  2014       IAH1b_2014            IAH1       NaN             Ames   \n",
       "3  2014       IAH1c_2014            IAH1       NaN             Ames   \n",
       "4  2016        ARH1_2016            ARH1       NaN         Marianna   \n",
       "\n",
       "                   Farm Field  \\\n",
       "0  University Field Lab   210   \n",
       "1  University Field Lab   210   \n",
       "2                 Worle   NaN   \n",
       "3                 Worle   NaN   \n",
       "4                   NaN   NaN   \n",
       "\n",
       "  Trial_ID (Assigned by collaborator for internal reference)  \\\n",
       "0                                          CS17-G2FE           \n",
       "1                                          CS17-G2FE           \n",
       "2                                                NaN           \n",
       "3                                                NaN           \n",
       "4                                            Mariana           \n",
       "\n",
       "  Soil_Taxonomic_ID and horizon description, if known  \\\n",
       "0                                                NaN    \n",
       "1                                                NaN    \n",
       "2                                                NaN    \n",
       "3                                                NaN    \n",
       "4                                                NaN    \n",
       "\n",
       "  Weather_Station_Serial_Number (Last four digits, e.g. m2700s#####)  ...  \\\n",
       "0                                                NaN                  ...   \n",
       "1                                                NaN                  ...   \n",
       "2                                               9080                  ...   \n",
       "3                                               9080                  ...   \n",
       "4                                               8658                  ...   \n",
       "\n",
       "   Latitude_of_Field_Corner_#4 (upper left)  \\\n",
       "0                                       NaN   \n",
       "1                                       NaN   \n",
       "2                                       NaN   \n",
       "3                                       NaN   \n",
       "4                                 34.729151   \n",
       "\n",
       "   Longitude_of_Field_Corner_#4 (upper left) Cardinal_Heading_Pass_1  \\\n",
       "0                                        NaN                     NaN   \n",
       "1                                        NaN                     NaN   \n",
       "2                                        NaN                     NaN   \n",
       "3                                        NaN                     NaN   \n",
       "4                                 -90.760916                     NaN   \n",
       "\n",
       "                                    Issue/comment_#1 Issue/comment_#2  \\\n",
       "0                                                NaN              NaN   \n",
       "1                                                NaN              NaN   \n",
       "2                                                NaN              NaN   \n",
       "3                                                NaN              NaN   \n",
       "4  Large pigweed in field at harvest August 30 an...              NaN   \n",
       "\n",
       "  Issue/comment_#3 Issue/comment_#4 Issue/comment_#5 Issue/comment_#6  \\\n",
       "0              NaN              NaN              NaN              NaN   \n",
       "1              NaN              NaN              NaN              NaN   \n",
       "2              NaN              NaN              NaN              NaN   \n",
       "3              NaN              NaN              NaN              NaN   \n",
       "4              NaN              NaN              NaN              NaN   \n",
       "\n",
       "                                            Comments  \n",
       "0  Information for TXH1-Dry_2017, TXH1-Early_2017...  \n",
       "1  Information for TXH1-Dry_2017, TXH1-Early_2017...  \n",
       "2  Information for IAH1a_2014, IAH1b_2014,and IAH...  \n",
       "3  Information for IAH1a_2014, IAH1b_2014,and IAH...  \n",
       "4                                                NaN  \n",
       "\n",
       "[5 rows x 36 columns]"
      ]
     },
     "execution_count": 9,
     "metadata": {},
     "output_type": "execute_result"
    }
   ],
   "source": [
    "Meta_data.head()"
   ]
  },
  {
   "cell_type": "code",
   "execution_count": 10,
   "id": "60717f87",
   "metadata": {
    "scrolled": true
   },
   "outputs": [
    {
     "data": {
      "text/plain": [
       "Year                                                                    0\n",
       "Env                                                                     0\n",
       "Experiment_Code                                                         0\n",
       "Treatment                                                              56\n",
       "City                                                                    5\n",
       "Farm                                                                   56\n",
       "Field                                                                  87\n",
       "Trial_ID (Assigned by collaborator for internal reference)            114\n",
       "Soil_Taxonomic_ID and horizon description, if known                   157\n",
       "Weather_Station_Serial_Number (Last four digits, e.g. m2700s#####)     20\n",
       "Weather_Station_Latitude (in decimal numbers NOT DMS)                  21\n",
       "Weather_Station_Longitude (in decimal numbers NOT DMS)                 21\n",
       "Date_weather_station_placed                                            70\n",
       "Date_weather_station_removed                                           77\n",
       "Previous_Crop                                                          31\n",
       "Pre-plant_tillage_method(s)                                            45\n",
       "In-season_tillage_method(s)                                           153\n",
       "Type_of_planter (fluted cone; belt cone; air planter)                  25\n",
       "System_Determining_Moisture                                            67\n",
       "Pounds_Needed_Soil_Moisture                                            80\n",
       "Latitude_of_Field_Corner_#1 (lower left)                               52\n",
       "Longitude_of_Field_Corner_#1 (lower left)                              52\n",
       "Latitude_of_Field_Corner_#2 (lower right)                              54\n",
       "Longitude_of_Field_Corner_#2 (lower right)                             54\n",
       "Latitude_of_Field_Corner_#3 (upper right)                              54\n",
       "Longitude_of_Field_Corner_#3 (upper right)                             54\n",
       "Latitude_of_Field_Corner_#4 (upper left)                               53\n",
       "Longitude_of_Field_Corner_#4 (upper left)                              53\n",
       "Cardinal_Heading_Pass_1                                                98\n",
       "Issue/comment_#1                                                      144\n",
       "Issue/comment_#2                                                      176\n",
       "Issue/comment_#3                                                      196\n",
       "Issue/comment_#4                                                      202\n",
       "Issue/comment_#5                                                      210\n",
       "Issue/comment_#6                                                      216\n",
       "Comments                                                              207\n",
       "dtype: int64"
      ]
     },
     "execution_count": 10,
     "metadata": {},
     "output_type": "execute_result"
    }
   ],
   "source": [
    "# missing values\n",
    "missing_meta = Meta_data.isna().sum()\n",
    "missing_meta"
   ]
  },
  {
   "cell_type": "code",
   "execution_count": 11,
   "id": "13f039b4",
   "metadata": {},
   "outputs": [
    {
     "data": {
      "text/plain": [
       "2960"
      ]
     },
     "execution_count": 11,
     "metadata": {},
     "output_type": "execute_result"
    }
   ],
   "source": [
    "missing_meta.sum()"
   ]
  },
  {
   "cell_type": "code",
   "execution_count": 12,
   "id": "2f4f7f52",
   "metadata": {},
   "outputs": [],
   "source": [
    "# import soil data\n",
    "soil_data = pd.read_csv(r\"Training_Data\\3_Training_Soil_Data_2015_2021.csv\")"
   ]
  },
  {
   "cell_type": "code",
   "execution_count": 13,
   "id": "da9ca423",
   "metadata": {},
   "outputs": [
    {
     "data": {
      "text/plain": [
       "(141, 36)"
      ]
     },
     "execution_count": 13,
     "metadata": {},
     "output_type": "execute_result"
    }
   ],
   "source": [
    "soil_data.shape"
   ]
  },
  {
   "cell_type": "code",
   "execution_count": 14,
   "id": "453223dd",
   "metadata": {
    "scrolled": true
   },
   "outputs": [
    {
     "data": {
      "text/html": [
       "<div>\n",
       "<style scoped>\n",
       "    .dataframe tbody tr th:only-of-type {\n",
       "        vertical-align: middle;\n",
       "    }\n",
       "\n",
       "    .dataframe tbody tr th {\n",
       "        vertical-align: top;\n",
       "    }\n",
       "\n",
       "    .dataframe thead th {\n",
       "        text-align: right;\n",
       "    }\n",
       "</style>\n",
       "<table border=\"1\" class=\"dataframe\">\n",
       "  <thead>\n",
       "    <tr style=\"text-align: right;\">\n",
       "      <th></th>\n",
       "      <th>Year</th>\n",
       "      <th>Env</th>\n",
       "      <th>LabID</th>\n",
       "      <th>Date Received</th>\n",
       "      <th>Date Reported</th>\n",
       "      <th>E Depth</th>\n",
       "      <th>1:1 Soil pH</th>\n",
       "      <th>WDRF Buffer pH</th>\n",
       "      <th>1:1 S Salts mmho/cm</th>\n",
       "      <th>Texture No</th>\n",
       "      <th>...</th>\n",
       "      <th>% Silt</th>\n",
       "      <th>% Clay</th>\n",
       "      <th>Texture</th>\n",
       "      <th>BpH</th>\n",
       "      <th>Zinc ppm Zn</th>\n",
       "      <th>Iron ppm Fe</th>\n",
       "      <th>Manganese ppm Mn</th>\n",
       "      <th>Copper ppm Cu</th>\n",
       "      <th>Boron ppm B</th>\n",
       "      <th>Comments</th>\n",
       "    </tr>\n",
       "  </thead>\n",
       "  <tbody>\n",
       "    <tr>\n",
       "      <th>0</th>\n",
       "      <td>2021</td>\n",
       "      <td>NEH3_2021</td>\n",
       "      <td>Ward Laboratories Inc</td>\n",
       "      <td>08/31/2021</td>\n",
       "      <td>09/02/2021</td>\n",
       "      <td>12.0</td>\n",
       "      <td>5.8</td>\n",
       "      <td>6.8</td>\n",
       "      <td>0.26</td>\n",
       "      <td>2.0</td>\n",
       "      <td>...</td>\n",
       "      <td>53.0</td>\n",
       "      <td>22.0</td>\n",
       "      <td>Silt Loam</td>\n",
       "      <td>NaN</td>\n",
       "      <td>NaN</td>\n",
       "      <td>NaN</td>\n",
       "      <td>NaN</td>\n",
       "      <td>NaN</td>\n",
       "      <td>NaN</td>\n",
       "      <td>Results referent to NEH2_2021 and NEH3_2021</td>\n",
       "    </tr>\n",
       "    <tr>\n",
       "      <th>1</th>\n",
       "      <td>2020</td>\n",
       "      <td>MOH1_1_2020</td>\n",
       "      <td>Ward Laboratories Inc</td>\n",
       "      <td>9/16/20</td>\n",
       "      <td>9/18/20</td>\n",
       "      <td>12.0</td>\n",
       "      <td>6.1</td>\n",
       "      <td>6.9</td>\n",
       "      <td>0.36</td>\n",
       "      <td>2.0</td>\n",
       "      <td>...</td>\n",
       "      <td>67.0</td>\n",
       "      <td>14.0</td>\n",
       "      <td>Silt Loam</td>\n",
       "      <td>NaN</td>\n",
       "      <td>NaN</td>\n",
       "      <td>NaN</td>\n",
       "      <td>NaN</td>\n",
       "      <td>NaN</td>\n",
       "      <td>NaN</td>\n",
       "      <td>NaN</td>\n",
       "    </tr>\n",
       "    <tr>\n",
       "      <th>2</th>\n",
       "      <td>2016</td>\n",
       "      <td>ARH1_2016</td>\n",
       "      <td>Local Lab</td>\n",
       "      <td>NaN</td>\n",
       "      <td>4/8/2016</td>\n",
       "      <td>12.0</td>\n",
       "      <td>NaN</td>\n",
       "      <td>NaN</td>\n",
       "      <td>NaN</td>\n",
       "      <td>2.0</td>\n",
       "      <td>...</td>\n",
       "      <td>NaN</td>\n",
       "      <td>NaN</td>\n",
       "      <td>Silt Loam-Silty Clay Loam</td>\n",
       "      <td>NaN</td>\n",
       "      <td>3.6</td>\n",
       "      <td>174.0</td>\n",
       "      <td>161.0</td>\n",
       "      <td>1.9</td>\n",
       "      <td>0.3</td>\n",
       "      <td>NaN</td>\n",
       "    </tr>\n",
       "    <tr>\n",
       "      <th>3</th>\n",
       "      <td>2016</td>\n",
       "      <td>ARH2_2016</td>\n",
       "      <td>Local Lab</td>\n",
       "      <td>NaN</td>\n",
       "      <td>4/12/2016</td>\n",
       "      <td>12.0</td>\n",
       "      <td>NaN</td>\n",
       "      <td>NaN</td>\n",
       "      <td>NaN</td>\n",
       "      <td>2.0</td>\n",
       "      <td>...</td>\n",
       "      <td>NaN</td>\n",
       "      <td>NaN</td>\n",
       "      <td>Silt Loam</td>\n",
       "      <td>NaN</td>\n",
       "      <td>1.9</td>\n",
       "      <td>131.0</td>\n",
       "      <td>248.0</td>\n",
       "      <td>1.5</td>\n",
       "      <td>0.0</td>\n",
       "      <td>NaN</td>\n",
       "    </tr>\n",
       "    <tr>\n",
       "      <th>4</th>\n",
       "      <td>2016</td>\n",
       "      <td>DEH1_2016</td>\n",
       "      <td>Ward Laboratories Inc</td>\n",
       "      <td>5/19/2016</td>\n",
       "      <td>5/23/2016</td>\n",
       "      <td>12.0</td>\n",
       "      <td>5.7</td>\n",
       "      <td>6.4</td>\n",
       "      <td>0.37</td>\n",
       "      <td>2.0</td>\n",
       "      <td>...</td>\n",
       "      <td>13.0</td>\n",
       "      <td>12.0</td>\n",
       "      <td>Sandy Loam</td>\n",
       "      <td>NaN</td>\n",
       "      <td>NaN</td>\n",
       "      <td>NaN</td>\n",
       "      <td>NaN</td>\n",
       "      <td>NaN</td>\n",
       "      <td>NaN</td>\n",
       "      <td>NaN</td>\n",
       "    </tr>\n",
       "  </tbody>\n",
       "</table>\n",
       "<p>5 rows × 36 columns</p>\n",
       "</div>"
      ],
      "text/plain": [
       "   Year          Env                  LabID Date Received Date Reported  \\\n",
       "0  2021    NEH3_2021  Ward Laboratories Inc    08/31/2021    09/02/2021   \n",
       "1  2020  MOH1_1_2020  Ward Laboratories Inc       9/16/20       9/18/20   \n",
       "2  2016    ARH1_2016              Local Lab           NaN      4/8/2016   \n",
       "3  2016    ARH2_2016              Local Lab           NaN     4/12/2016   \n",
       "4  2016    DEH1_2016  Ward Laboratories Inc     5/19/2016     5/23/2016   \n",
       "\n",
       "   E Depth  1:1 Soil pH  WDRF Buffer pH  1:1 S Salts mmho/cm  Texture No  ...  \\\n",
       "0     12.0          5.8             6.8                 0.26         2.0  ...   \n",
       "1     12.0          6.1             6.9                 0.36         2.0  ...   \n",
       "2     12.0          NaN             NaN                  NaN         2.0  ...   \n",
       "3     12.0          NaN             NaN                  NaN         2.0  ...   \n",
       "4     12.0          5.7             6.4                 0.37         2.0  ...   \n",
       "\n",
       "   % Silt  % Clay                    Texture  BpH  Zinc ppm Zn  Iron ppm Fe  \\\n",
       "0    53.0    22.0                  Silt Loam  NaN          NaN          NaN   \n",
       "1    67.0    14.0                  Silt Loam  NaN          NaN          NaN   \n",
       "2     NaN     NaN  Silt Loam-Silty Clay Loam  NaN          3.6        174.0   \n",
       "3     NaN     NaN                  Silt Loam  NaN          1.9        131.0   \n",
       "4    13.0    12.0                 Sandy Loam  NaN          NaN          NaN   \n",
       "\n",
       "   Manganese ppm Mn  Copper ppm Cu  Boron ppm B  \\\n",
       "0               NaN            NaN          NaN   \n",
       "1               NaN            NaN          NaN   \n",
       "2             161.0            1.9          0.3   \n",
       "3             248.0            1.5          0.0   \n",
       "4               NaN            NaN          NaN   \n",
       "\n",
       "                                      Comments  \n",
       "0  Results referent to NEH2_2021 and NEH3_2021  \n",
       "1                                          NaN  \n",
       "2                                          NaN  \n",
       "3                                          NaN  \n",
       "4                                          NaN  \n",
       "\n",
       "[5 rows x 36 columns]"
      ]
     },
     "execution_count": 14,
     "metadata": {},
     "output_type": "execute_result"
    }
   ],
   "source": [
    "soil_data.head()"
   ]
  },
  {
   "cell_type": "code",
   "execution_count": 15,
   "id": "e72ff196",
   "metadata": {},
   "outputs": [],
   "source": [
    "# missing values\n",
    "missing_soil = soil_data.isna().sum()"
   ]
  },
  {
   "cell_type": "code",
   "execution_count": 16,
   "id": "9e674ee2",
   "metadata": {},
   "outputs": [
    {
     "data": {
      "text/plain": [
       "1349"
      ]
     },
     "execution_count": 16,
     "metadata": {},
     "output_type": "execute_result"
    }
   ],
   "source": [
    "missing_soil.sum()"
   ]
  },
  {
   "cell_type": "code",
   "execution_count": 17,
   "id": "03000bcf",
   "metadata": {},
   "outputs": [],
   "source": [
    "# weather data\n",
    "weather_data = pd.read_csv(r\"Training_Data\\4_Training_Weather_Data_2014_2021.csv\")"
   ]
  },
  {
   "cell_type": "code",
   "execution_count": 18,
   "id": "7d0a21f6",
   "metadata": {},
   "outputs": [
    {
     "data": {
      "text/plain": [
       "(77431, 18)"
      ]
     },
     "execution_count": 18,
     "metadata": {},
     "output_type": "execute_result"
    }
   ],
   "source": [
    "weather_data.shape"
   ]
  },
  {
   "cell_type": "code",
   "execution_count": 19,
   "id": "922d5607",
   "metadata": {
    "scrolled": true
   },
   "outputs": [
    {
     "data": {
      "text/html": [
       "<div>\n",
       "<style scoped>\n",
       "    .dataframe tbody tr th:only-of-type {\n",
       "        vertical-align: middle;\n",
       "    }\n",
       "\n",
       "    .dataframe tbody tr th {\n",
       "        vertical-align: top;\n",
       "    }\n",
       "\n",
       "    .dataframe thead th {\n",
       "        text-align: right;\n",
       "    }\n",
       "</style>\n",
       "<table border=\"1\" class=\"dataframe\">\n",
       "  <thead>\n",
       "    <tr style=\"text-align: right;\">\n",
       "      <th></th>\n",
       "      <th>Env</th>\n",
       "      <th>Date</th>\n",
       "      <th>QV2M</th>\n",
       "      <th>T2MDEW</th>\n",
       "      <th>PS</th>\n",
       "      <th>RH2M</th>\n",
       "      <th>WS2M</th>\n",
       "      <th>GWETTOP</th>\n",
       "      <th>ALLSKY_SFC_SW_DWN</th>\n",
       "      <th>ALLSKY_SFC_PAR_TOT</th>\n",
       "      <th>T2M_MAX</th>\n",
       "      <th>T2M_MIN</th>\n",
       "      <th>T2MWET</th>\n",
       "      <th>GWETROOT</th>\n",
       "      <th>T2M</th>\n",
       "      <th>GWETPROF</th>\n",
       "      <th>ALLSKY_SFC_SW_DNI</th>\n",
       "      <th>PRECTOTCORR</th>\n",
       "    </tr>\n",
       "  </thead>\n",
       "  <tbody>\n",
       "    <tr>\n",
       "      <th>0</th>\n",
       "      <td>ARH1_2016</td>\n",
       "      <td>20160101</td>\n",
       "      <td>3.54</td>\n",
       "      <td>-0.78</td>\n",
       "      <td>102.34</td>\n",
       "      <td>77.00</td>\n",
       "      <td>2.15</td>\n",
       "      <td>0.84</td>\n",
       "      <td>8.21</td>\n",
       "      <td>41.96</td>\n",
       "      <td>7.80</td>\n",
       "      <td>-0.70</td>\n",
       "      <td>1.15</td>\n",
       "      <td>0.83</td>\n",
       "      <td>3.08</td>\n",
       "      <td>0.8</td>\n",
       "      <td>5.96</td>\n",
       "      <td>0.0</td>\n",
       "    </tr>\n",
       "    <tr>\n",
       "      <th>1</th>\n",
       "      <td>ARH1_2016</td>\n",
       "      <td>20160102</td>\n",
       "      <td>3.23</td>\n",
       "      <td>-1.91</td>\n",
       "      <td>102.04</td>\n",
       "      <td>74.62</td>\n",
       "      <td>1.49</td>\n",
       "      <td>0.84</td>\n",
       "      <td>11.28</td>\n",
       "      <td>55.13</td>\n",
       "      <td>10.15</td>\n",
       "      <td>-3.10</td>\n",
       "      <td>0.42</td>\n",
       "      <td>0.83</td>\n",
       "      <td>2.74</td>\n",
       "      <td>0.8</td>\n",
       "      <td>16.13</td>\n",
       "      <td>0.0</td>\n",
       "    </tr>\n",
       "    <tr>\n",
       "      <th>2</th>\n",
       "      <td>ARH1_2016</td>\n",
       "      <td>20160103</td>\n",
       "      <td>4.09</td>\n",
       "      <td>1.05</td>\n",
       "      <td>101.59</td>\n",
       "      <td>80.69</td>\n",
       "      <td>1.95</td>\n",
       "      <td>0.84</td>\n",
       "      <td>9.78</td>\n",
       "      <td>49.21</td>\n",
       "      <td>12.39</td>\n",
       "      <td>-1.29</td>\n",
       "      <td>2.72</td>\n",
       "      <td>0.83</td>\n",
       "      <td>4.38</td>\n",
       "      <td>0.8</td>\n",
       "      <td>18.36</td>\n",
       "      <td>0.0</td>\n",
       "    </tr>\n",
       "    <tr>\n",
       "      <th>3</th>\n",
       "      <td>ARH1_2016</td>\n",
       "      <td>20160104</td>\n",
       "      <td>2.87</td>\n",
       "      <td>-3.49</td>\n",
       "      <td>102.24</td>\n",
       "      <td>79.88</td>\n",
       "      <td>3.45</td>\n",
       "      <td>0.84</td>\n",
       "      <td>7.35</td>\n",
       "      <td>35.66</td>\n",
       "      <td>4.56</td>\n",
       "      <td>-4.00</td>\n",
       "      <td>-1.79</td>\n",
       "      <td>0.83</td>\n",
       "      <td>-0.09</td>\n",
       "      <td>0.8</td>\n",
       "      <td>10.87</td>\n",
       "      <td>0.0</td>\n",
       "    </tr>\n",
       "    <tr>\n",
       "      <th>4</th>\n",
       "      <td>ARH1_2016</td>\n",
       "      <td>20160105</td>\n",
       "      <td>2.81</td>\n",
       "      <td>-3.64</td>\n",
       "      <td>102.37</td>\n",
       "      <td>78.81</td>\n",
       "      <td>1.95</td>\n",
       "      <td>0.84</td>\n",
       "      <td>13.00</td>\n",
       "      <td>62.04</td>\n",
       "      <td>6.94</td>\n",
       "      <td>-4.59</td>\n",
       "      <td>-1.74</td>\n",
       "      <td>0.82</td>\n",
       "      <td>0.16</td>\n",
       "      <td>0.8</td>\n",
       "      <td>27.02</td>\n",
       "      <td>0.0</td>\n",
       "    </tr>\n",
       "  </tbody>\n",
       "</table>\n",
       "</div>"
      ],
      "text/plain": [
       "         Env      Date  QV2M  T2MDEW      PS   RH2M  WS2M  GWETTOP  \\\n",
       "0  ARH1_2016  20160101  3.54   -0.78  102.34  77.00  2.15     0.84   \n",
       "1  ARH1_2016  20160102  3.23   -1.91  102.04  74.62  1.49     0.84   \n",
       "2  ARH1_2016  20160103  4.09    1.05  101.59  80.69  1.95     0.84   \n",
       "3  ARH1_2016  20160104  2.87   -3.49  102.24  79.88  3.45     0.84   \n",
       "4  ARH1_2016  20160105  2.81   -3.64  102.37  78.81  1.95     0.84   \n",
       "\n",
       "   ALLSKY_SFC_SW_DWN  ALLSKY_SFC_PAR_TOT  T2M_MAX  T2M_MIN  T2MWET  GWETROOT  \\\n",
       "0               8.21               41.96     7.80    -0.70    1.15      0.83   \n",
       "1              11.28               55.13    10.15    -3.10    0.42      0.83   \n",
       "2               9.78               49.21    12.39    -1.29    2.72      0.83   \n",
       "3               7.35               35.66     4.56    -4.00   -1.79      0.83   \n",
       "4              13.00               62.04     6.94    -4.59   -1.74      0.82   \n",
       "\n",
       "    T2M  GWETPROF  ALLSKY_SFC_SW_DNI  PRECTOTCORR  \n",
       "0  3.08       0.8               5.96          0.0  \n",
       "1  2.74       0.8              16.13          0.0  \n",
       "2  4.38       0.8              18.36          0.0  \n",
       "3 -0.09       0.8              10.87          0.0  \n",
       "4  0.16       0.8              27.02          0.0  "
      ]
     },
     "execution_count": 19,
     "metadata": {},
     "output_type": "execute_result"
    }
   ],
   "source": [
    "weather_data.head()"
   ]
  },
  {
   "cell_type": "code",
   "execution_count": 20,
   "id": "603faf81",
   "metadata": {},
   "outputs": [
    {
     "data": {
      "text/plain": [
       "0"
      ]
     },
     "execution_count": 20,
     "metadata": {},
     "output_type": "execute_result"
    }
   ],
   "source": [
    "# missing weather\n",
    "missing_weather = weather_data.isna().sum()\n",
    "missing_weather.sum()"
   ]
  },
  {
   "cell_type": "code",
   "execution_count": 21,
   "id": "0e60e0fd",
   "metadata": {},
   "outputs": [],
   "source": [
    "# EC data\n",
    "EC_data = pd.read_csv(r\"Training_Data\\6_Training_EC_Data_2014_2021.csv\")"
   ]
  },
  {
   "cell_type": "code",
   "execution_count": 22,
   "id": "bceaa445",
   "metadata": {},
   "outputs": [
    {
     "data": {
      "text/plain": [
       "(165, 766)"
      ]
     },
     "execution_count": 22,
     "metadata": {},
     "output_type": "execute_result"
    }
   ],
   "source": [
    "EC_data.shape"
   ]
  },
  {
   "cell_type": "code",
   "execution_count": 23,
   "id": "2e923b53",
   "metadata": {
    "scrolled": true
   },
   "outputs": [
    {
     "data": {
      "text/html": [
       "<div>\n",
       "<style scoped>\n",
       "    .dataframe tbody tr th:only-of-type {\n",
       "        vertical-align: middle;\n",
       "    }\n",
       "\n",
       "    .dataframe tbody tr th {\n",
       "        vertical-align: top;\n",
       "    }\n",
       "\n",
       "    .dataframe thead th {\n",
       "        text-align: right;\n",
       "    }\n",
       "</style>\n",
       "<table border=\"1\" class=\"dataframe\">\n",
       "  <thead>\n",
       "    <tr style=\"text-align: right;\">\n",
       "      <th></th>\n",
       "      <th>Env</th>\n",
       "      <th>SDR_pGerEme_1</th>\n",
       "      <th>SDR_pEmeEnJ_1</th>\n",
       "      <th>SDR_pEnJFlo_1</th>\n",
       "      <th>SDR_pFloFla_1</th>\n",
       "      <th>SDR_pFlaFlw_1</th>\n",
       "      <th>SDR_pFlwStG_1</th>\n",
       "      <th>SDR_pStGEnG_1</th>\n",
       "      <th>SDR_pEnGMat_1</th>\n",
       "      <th>SDR_pMatHar_1</th>\n",
       "      <th>...</th>\n",
       "      <th>LAI_pMatHar</th>\n",
       "      <th>AccumulatedTT_pGerEme</th>\n",
       "      <th>AccumulatedTT_pEmeEnJ</th>\n",
       "      <th>AccumulatedTT_pEnJFlo</th>\n",
       "      <th>AccumulatedTT_pFloFla</th>\n",
       "      <th>AccumulatedTT_pFlaFlw</th>\n",
       "      <th>AccumulatedTT_pFlwStG</th>\n",
       "      <th>AccumulatedTT_pStGEnG</th>\n",
       "      <th>AccumulatedTT_pEnGMat</th>\n",
       "      <th>AccumulatedTT_pMatHar</th>\n",
       "    </tr>\n",
       "  </thead>\n",
       "  <tbody>\n",
       "    <tr>\n",
       "      <th>0</th>\n",
       "      <td>DEH1_2014</td>\n",
       "      <td>0.966035</td>\n",
       "      <td>1.615324</td>\n",
       "      <td>0.542019</td>\n",
       "      <td>0.317045</td>\n",
       "      <td>0.617058</td>\n",
       "      <td>0.773524</td>\n",
       "      <td>0.983128</td>\n",
       "      <td>0.407474</td>\n",
       "      <td>0.350057</td>\n",
       "      <td>...</td>\n",
       "      <td>0.205764</td>\n",
       "      <td>49.504228</td>\n",
       "      <td>193.031359</td>\n",
       "      <td>298.945606</td>\n",
       "      <td>568.505726</td>\n",
       "      <td>901.267505</td>\n",
       "      <td>991.957052</td>\n",
       "      <td>1310.703432</td>\n",
       "      <td>1568.706763</td>\n",
       "      <td>1576.874263</td>\n",
       "    </tr>\n",
       "    <tr>\n",
       "      <th>1</th>\n",
       "      <td>GAH1_2014</td>\n",
       "      <td>5.193014</td>\n",
       "      <td>4.045844</td>\n",
       "      <td>7.391888</td>\n",
       "      <td>0.906985</td>\n",
       "      <td>0.416992</td>\n",
       "      <td>0.271526</td>\n",
       "      <td>0.319996</td>\n",
       "      <td>0.842299</td>\n",
       "      <td>1.299659</td>\n",
       "      <td>...</td>\n",
       "      <td>0.055241</td>\n",
       "      <td>58.476261</td>\n",
       "      <td>188.937888</td>\n",
       "      <td>301.295911</td>\n",
       "      <td>578.477880</td>\n",
       "      <td>923.290662</td>\n",
       "      <td>1008.783376</td>\n",
       "      <td>1316.817879</td>\n",
       "      <td>1582.773261</td>\n",
       "      <td>1591.640761</td>\n",
       "    </tr>\n",
       "    <tr>\n",
       "      <th>2</th>\n",
       "      <td>IAH1a_2014</td>\n",
       "      <td>2.737199</td>\n",
       "      <td>2.600896</td>\n",
       "      <td>5.387700</td>\n",
       "      <td>2.758684</td>\n",
       "      <td>0.652613</td>\n",
       "      <td>0.604745</td>\n",
       "      <td>2.120976</td>\n",
       "      <td>1.945856</td>\n",
       "      <td>1.805435</td>\n",
       "      <td>...</td>\n",
       "      <td>1.684233</td>\n",
       "      <td>44.833797</td>\n",
       "      <td>176.274597</td>\n",
       "      <td>270.018175</td>\n",
       "      <td>547.970301</td>\n",
       "      <td>844.619071</td>\n",
       "      <td>937.820486</td>\n",
       "      <td>1236.469643</td>\n",
       "      <td>1490.937025</td>\n",
       "      <td>1499.509525</td>\n",
       "    </tr>\n",
       "    <tr>\n",
       "      <th>3</th>\n",
       "      <td>ILH1_2014</td>\n",
       "      <td>2.912543</td>\n",
       "      <td>4.779256</td>\n",
       "      <td>2.055311</td>\n",
       "      <td>2.728058</td>\n",
       "      <td>1.798698</td>\n",
       "      <td>1.831869</td>\n",
       "      <td>1.252356</td>\n",
       "      <td>1.720705</td>\n",
       "      <td>1.947210</td>\n",
       "      <td>...</td>\n",
       "      <td>1.983900</td>\n",
       "      <td>55.717746</td>\n",
       "      <td>168.526560</td>\n",
       "      <td>280.489645</td>\n",
       "      <td>558.097862</td>\n",
       "      <td>873.502307</td>\n",
       "      <td>964.280829</td>\n",
       "      <td>1258.346008</td>\n",
       "      <td>1527.124520</td>\n",
       "      <td>1536.317020</td>\n",
       "    </tr>\n",
       "    <tr>\n",
       "      <th>4</th>\n",
       "      <td>INH1_2014</td>\n",
       "      <td>2.420657</td>\n",
       "      <td>3.594260</td>\n",
       "      <td>4.747529</td>\n",
       "      <td>1.513581</td>\n",
       "      <td>1.163567</td>\n",
       "      <td>2.107868</td>\n",
       "      <td>5.232937</td>\n",
       "      <td>18.253280</td>\n",
       "      <td>31.352579</td>\n",
       "      <td>...</td>\n",
       "      <td>0.000000</td>\n",
       "      <td>62.757189</td>\n",
       "      <td>259.279147</td>\n",
       "      <td>435.528791</td>\n",
       "      <td>785.039009</td>\n",
       "      <td>1152.276580</td>\n",
       "      <td>1240.862791</td>\n",
       "      <td>1687.130584</td>\n",
       "      <td>1943.904924</td>\n",
       "      <td>1953.957060</td>\n",
       "    </tr>\n",
       "  </tbody>\n",
       "</table>\n",
       "<p>5 rows × 766 columns</p>\n",
       "</div>"
      ],
      "text/plain": [
       "          Env  SDR_pGerEme_1  SDR_pEmeEnJ_1  SDR_pEnJFlo_1  SDR_pFloFla_1  \\\n",
       "0   DEH1_2014       0.966035       1.615324       0.542019       0.317045   \n",
       "1   GAH1_2014       5.193014       4.045844       7.391888       0.906985   \n",
       "2  IAH1a_2014       2.737199       2.600896       5.387700       2.758684   \n",
       "3   ILH1_2014       2.912543       4.779256       2.055311       2.728058   \n",
       "4   INH1_2014       2.420657       3.594260       4.747529       1.513581   \n",
       "\n",
       "   SDR_pFlaFlw_1  SDR_pFlwStG_1  SDR_pStGEnG_1  SDR_pEnGMat_1  SDR_pMatHar_1  \\\n",
       "0       0.617058       0.773524       0.983128       0.407474       0.350057   \n",
       "1       0.416992       0.271526       0.319996       0.842299       1.299659   \n",
       "2       0.652613       0.604745       2.120976       1.945856       1.805435   \n",
       "3       1.798698       1.831869       1.252356       1.720705       1.947210   \n",
       "4       1.163567       2.107868       5.232937      18.253280      31.352579   \n",
       "\n",
       "   ...  LAI_pMatHar  AccumulatedTT_pGerEme  AccumulatedTT_pEmeEnJ  \\\n",
       "0  ...     0.205764              49.504228             193.031359   \n",
       "1  ...     0.055241              58.476261             188.937888   \n",
       "2  ...     1.684233              44.833797             176.274597   \n",
       "3  ...     1.983900              55.717746             168.526560   \n",
       "4  ...     0.000000              62.757189             259.279147   \n",
       "\n",
       "   AccumulatedTT_pEnJFlo  AccumulatedTT_pFloFla  AccumulatedTT_pFlaFlw  \\\n",
       "0             298.945606             568.505726             901.267505   \n",
       "1             301.295911             578.477880             923.290662   \n",
       "2             270.018175             547.970301             844.619071   \n",
       "3             280.489645             558.097862             873.502307   \n",
       "4             435.528791             785.039009            1152.276580   \n",
       "\n",
       "   AccumulatedTT_pFlwStG  AccumulatedTT_pStGEnG  AccumulatedTT_pEnGMat  \\\n",
       "0             991.957052            1310.703432            1568.706763   \n",
       "1            1008.783376            1316.817879            1582.773261   \n",
       "2             937.820486            1236.469643            1490.937025   \n",
       "3             964.280829            1258.346008            1527.124520   \n",
       "4            1240.862791            1687.130584            1943.904924   \n",
       "\n",
       "   AccumulatedTT_pMatHar  \n",
       "0            1576.874263  \n",
       "1            1591.640761  \n",
       "2            1499.509525  \n",
       "3            1536.317020  \n",
       "4            1953.957060  \n",
       "\n",
       "[5 rows x 766 columns]"
      ]
     },
     "execution_count": 23,
     "metadata": {},
     "output_type": "execute_result"
    }
   ],
   "source": [
    "EC_data.head()"
   ]
  },
  {
   "cell_type": "code",
   "execution_count": 24,
   "id": "ed6077c9",
   "metadata": {},
   "outputs": [],
   "source": [
    "# missing EC\n",
    "missing_EC = EC_data.isna().sum()"
   ]
  },
  {
   "cell_type": "code",
   "execution_count": 25,
   "id": "4905b192",
   "metadata": {},
   "outputs": [
    {
     "data": {
      "text/plain": [
       "0"
      ]
     },
     "execution_count": 25,
     "metadata": {},
     "output_type": "execute_result"
    }
   ],
   "source": [
    "missing_EC.sum()"
   ]
  },
  {
   "cell_type": "markdown",
   "id": "c29c7831",
   "metadata": {},
   "source": [
    "Okay, so no missing data in the EC data, and weather data, but all other datasets have missing values. When doing preprocessing, it is better to do at least minimal preprocessing for individual data than straight away joining the data. Hence start with that."
   ]
  },
  {
   "cell_type": "markdown",
   "id": "cc9d8368",
   "metadata": {},
   "source": [
    "Test Data "
   ]
  },
  {
   "cell_type": "code",
   "execution_count": 26,
   "id": "8cddf549",
   "metadata": {},
   "outputs": [],
   "source": [
    "# import the test data, and compare with train data\n",
    "# submission data\n",
    "\n",
    "submission_test = pd.read_csv(r\"Testing_Data\\1_Submission_Template_2022.csv\")"
   ]
  },
  {
   "cell_type": "code",
   "execution_count": 27,
   "id": "feaf3728",
   "metadata": {},
   "outputs": [
    {
     "data": {
      "text/plain": [
       "(11555, 3)"
      ]
     },
     "execution_count": 27,
     "metadata": {},
     "output_type": "execute_result"
    }
   ],
   "source": [
    "submission_test.shape"
   ]
  },
  {
   "cell_type": "code",
   "execution_count": 28,
   "id": "f1811c14",
   "metadata": {
    "scrolled": true
   },
   "outputs": [
    {
     "data": {
      "text/html": [
       "<div>\n",
       "<style scoped>\n",
       "    .dataframe tbody tr th:only-of-type {\n",
       "        vertical-align: middle;\n",
       "    }\n",
       "\n",
       "    .dataframe tbody tr th {\n",
       "        vertical-align: top;\n",
       "    }\n",
       "\n",
       "    .dataframe thead th {\n",
       "        text-align: right;\n",
       "    }\n",
       "</style>\n",
       "<table border=\"1\" class=\"dataframe\">\n",
       "  <thead>\n",
       "    <tr style=\"text-align: right;\">\n",
       "      <th></th>\n",
       "      <th>Env</th>\n",
       "      <th>Hybrid</th>\n",
       "      <th>Yield_Mg_ha</th>\n",
       "    </tr>\n",
       "  </thead>\n",
       "  <tbody>\n",
       "    <tr>\n",
       "      <th>0</th>\n",
       "      <td>DEH1_2022</td>\n",
       "      <td>B14A/OH43</td>\n",
       "      <td>NaN</td>\n",
       "    </tr>\n",
       "    <tr>\n",
       "      <th>1</th>\n",
       "      <td>DEH1_2022</td>\n",
       "      <td>B37/H95</td>\n",
       "      <td>NaN</td>\n",
       "    </tr>\n",
       "    <tr>\n",
       "      <th>2</th>\n",
       "      <td>DEH1_2022</td>\n",
       "      <td>B73/MO17</td>\n",
       "      <td>NaN</td>\n",
       "    </tr>\n",
       "    <tr>\n",
       "      <th>3</th>\n",
       "      <td>DEH1_2022</td>\n",
       "      <td>B73/PHN82</td>\n",
       "      <td>NaN</td>\n",
       "    </tr>\n",
       "    <tr>\n",
       "      <th>4</th>\n",
       "      <td>DEH1_2022</td>\n",
       "      <td>B73/TX779</td>\n",
       "      <td>NaN</td>\n",
       "    </tr>\n",
       "  </tbody>\n",
       "</table>\n",
       "</div>"
      ],
      "text/plain": [
       "         Env     Hybrid  Yield_Mg_ha\n",
       "0  DEH1_2022  B14A/OH43          NaN\n",
       "1  DEH1_2022    B37/H95          NaN\n",
       "2  DEH1_2022   B73/MO17          NaN\n",
       "3  DEH1_2022  B73/PHN82          NaN\n",
       "4  DEH1_2022  B73/TX779          NaN"
      ]
     },
     "execution_count": 28,
     "metadata": {},
     "output_type": "execute_result"
    }
   ],
   "source": [
    "submission_test.head()"
   ]
  },
  {
   "cell_type": "code",
   "execution_count": 29,
   "id": "d404397f",
   "metadata": {},
   "outputs": [],
   "source": [
    "# any duplicate entries? - nope\n",
    "submission_test = submission_test.drop_duplicates()"
   ]
  },
  {
   "cell_type": "code",
   "execution_count": 30,
   "id": "4ffa17c4",
   "metadata": {},
   "outputs": [
    {
     "data": {
      "text/plain": [
       "(11555, 3)"
      ]
     },
     "execution_count": 30,
     "metadata": {},
     "output_type": "execute_result"
    }
   ],
   "source": [
    "submission_test.shape"
   ]
  },
  {
   "cell_type": "code",
   "execution_count": 31,
   "id": "7ea18e22",
   "metadata": {},
   "outputs": [
    {
     "data": {
      "text/plain": [
       "548"
      ]
     },
     "execution_count": 31,
     "metadata": {},
     "output_type": "execute_result"
    }
   ],
   "source": [
    "# how many test hybrids?\n",
    "test_hybrids = list(submission_test['Hybrid'].unique())\n",
    "len(test_hybrids)"
   ]
  },
  {
   "cell_type": "code",
   "execution_count": 32,
   "id": "e6f0f66f",
   "metadata": {},
   "outputs": [
    {
     "data": {
      "text/plain": [
       "26"
      ]
     },
     "execution_count": 32,
     "metadata": {},
     "output_type": "execute_result"
    }
   ],
   "source": [
    "# how many test Envs?\n",
    "test_envs = list(submission_test['Env'].unique())\n",
    "len(test_envs)"
   ]
  },
  {
   "cell_type": "code",
   "execution_count": 33,
   "id": "2ff3c70b",
   "metadata": {},
   "outputs": [],
   "source": [
    "# import traits data\n",
    "\n",
    "# interesting! There is no any trait data!"
   ]
  },
  {
   "cell_type": "code",
   "execution_count": 34,
   "id": "4d99cb70",
   "metadata": {},
   "outputs": [],
   "source": [
    "# but we need the three corresponding columns in train trait data for joinning the dataframes\n",
    "# Therefore, lets extract those data\n",
    "\n",
    "test_col_list = submission_test.columns.tolist()\n",
    "train_col_list = Trait_data.columns.tolist()\n",
    "\n",
    "train_col_not_in_test = []\n",
    "for val in train_col_list:\n",
    "    if val not in test_col_list:\n",
    "        train_col_not_in_test.append(val)\n",
    "\n",
    "# train_sub_data = Trait_data[[\"\"]]\n",
    "# train_sub_data.shape"
   ]
  },
  {
   "cell_type": "code",
   "execution_count": 35,
   "id": "7284f7ef",
   "metadata": {},
   "outputs": [
    {
     "data": {
      "text/plain": [
       "['Year',\n",
       " 'Field_Location',\n",
       " 'Experiment',\n",
       " 'Replicate',\n",
       " 'Block',\n",
       " 'Plot',\n",
       " 'Range',\n",
       " 'Pass',\n",
       " 'Hybrid_orig_name',\n",
       " 'Hybrid_Parent1',\n",
       " 'Hybrid_Parent2',\n",
       " 'Plot_Area_ha',\n",
       " 'Date_Planted',\n",
       " 'Date_Harvested',\n",
       " 'Stand_Count_plants',\n",
       " 'Pollen_DAP_days',\n",
       " 'Silk_DAP_days',\n",
       " 'Plant_Height_cm',\n",
       " 'Ear_Height_cm',\n",
       " 'Root_Lodging_plants',\n",
       " 'Stalk_Lodging_plants',\n",
       " 'Grain_Moisture',\n",
       " 'Twt_kg_m3']"
      ]
     },
     "execution_count": 35,
     "metadata": {},
     "output_type": "execute_result"
    }
   ],
   "source": [
    "train_col_not_in_test"
   ]
  },
  {
   "cell_type": "code",
   "execution_count": 36,
   "id": "cafcdd7d",
   "metadata": {},
   "outputs": [],
   "source": [
    "train_trait_none = Trait_data[test_col_list]"
   ]
  },
  {
   "cell_type": "code",
   "execution_count": 37,
   "id": "a819dca1",
   "metadata": {},
   "outputs": [],
   "source": [
    "train_trait_others = Trait_data[train_col_not_in_test]"
   ]
  },
  {
   "cell_type": "code",
   "execution_count": 38,
   "id": "9b785820",
   "metadata": {},
   "outputs": [],
   "source": [
    "train_sub_data = pd.concat([train_trait_none, train_trait_others], axis = 1)"
   ]
  },
  {
   "cell_type": "code",
   "execution_count": 39,
   "id": "d11a6687",
   "metadata": {},
   "outputs": [
    {
     "data": {
      "text/plain": [
       "(136012, 26)"
      ]
     },
     "execution_count": 39,
     "metadata": {},
     "output_type": "execute_result"
    }
   ],
   "source": [
    "train_sub_data.shape"
   ]
  },
  {
   "cell_type": "code",
   "execution_count": 40,
   "id": "2370e817",
   "metadata": {},
   "outputs": [
    {
     "data": {
      "text/html": [
       "<div>\n",
       "<style scoped>\n",
       "    .dataframe tbody tr th:only-of-type {\n",
       "        vertical-align: middle;\n",
       "    }\n",
       "\n",
       "    .dataframe tbody tr th {\n",
       "        vertical-align: top;\n",
       "    }\n",
       "\n",
       "    .dataframe thead th {\n",
       "        text-align: right;\n",
       "    }\n",
       "</style>\n",
       "<table border=\"1\" class=\"dataframe\">\n",
       "  <thead>\n",
       "    <tr style=\"text-align: right;\">\n",
       "      <th></th>\n",
       "      <th>Env</th>\n",
       "      <th>Hybrid</th>\n",
       "      <th>Yield_Mg_ha</th>\n",
       "      <th>Year</th>\n",
       "      <th>Field_Location</th>\n",
       "      <th>Experiment</th>\n",
       "      <th>Replicate</th>\n",
       "      <th>Block</th>\n",
       "      <th>Plot</th>\n",
       "      <th>Range</th>\n",
       "      <th>...</th>\n",
       "      <th>Date_Harvested</th>\n",
       "      <th>Stand_Count_plants</th>\n",
       "      <th>Pollen_DAP_days</th>\n",
       "      <th>Silk_DAP_days</th>\n",
       "      <th>Plant_Height_cm</th>\n",
       "      <th>Ear_Height_cm</th>\n",
       "      <th>Root_Lodging_plants</th>\n",
       "      <th>Stalk_Lodging_plants</th>\n",
       "      <th>Grain_Moisture</th>\n",
       "      <th>Twt_kg_m3</th>\n",
       "    </tr>\n",
       "  </thead>\n",
       "  <tbody>\n",
       "    <tr>\n",
       "      <th>0</th>\n",
       "      <td>DEH1_2014</td>\n",
       "      <td>M0088/LH185</td>\n",
       "      <td>5.721725</td>\n",
       "      <td>2014</td>\n",
       "      <td>DEH1</td>\n",
       "      <td>G2F_2014_15</td>\n",
       "      <td>1</td>\n",
       "      <td>1</td>\n",
       "      <td>1</td>\n",
       "      <td>1.0</td>\n",
       "      <td>...</td>\n",
       "      <td>9/29/14</td>\n",
       "      <td>56.0</td>\n",
       "      <td>63.0</td>\n",
       "      <td>67.0</td>\n",
       "      <td>213.0</td>\n",
       "      <td>79.0</td>\n",
       "      <td>0.0</td>\n",
       "      <td>0.0</td>\n",
       "      <td>20.8</td>\n",
       "      <td>706.664693</td>\n",
       "    </tr>\n",
       "    <tr>\n",
       "      <th>1</th>\n",
       "      <td>DEH1_2014</td>\n",
       "      <td>M0143/LH185</td>\n",
       "      <td>11.338246</td>\n",
       "      <td>2014</td>\n",
       "      <td>DEH1</td>\n",
       "      <td>G2F_2014_15</td>\n",
       "      <td>1</td>\n",
       "      <td>1</td>\n",
       "      <td>2</td>\n",
       "      <td>1.0</td>\n",
       "      <td>...</td>\n",
       "      <td>9/29/14</td>\n",
       "      <td>54.0</td>\n",
       "      <td>61.0</td>\n",
       "      <td>63.0</td>\n",
       "      <td>286.0</td>\n",
       "      <td>172.0</td>\n",
       "      <td>0.0</td>\n",
       "      <td>0.0</td>\n",
       "      <td>25.8</td>\n",
       "      <td>693.792841</td>\n",
       "    </tr>\n",
       "    <tr>\n",
       "      <th>2</th>\n",
       "      <td>DEH1_2014</td>\n",
       "      <td>M0003/LH185</td>\n",
       "      <td>6.540810</td>\n",
       "      <td>2014</td>\n",
       "      <td>DEH1</td>\n",
       "      <td>G2F_2014_15</td>\n",
       "      <td>1</td>\n",
       "      <td>1</td>\n",
       "      <td>3</td>\n",
       "      <td>1.0</td>\n",
       "      <td>...</td>\n",
       "      <td>9/29/14</td>\n",
       "      <td>60.0</td>\n",
       "      <td>63.0</td>\n",
       "      <td>65.0</td>\n",
       "      <td>239.0</td>\n",
       "      <td>92.0</td>\n",
       "      <td>0.0</td>\n",
       "      <td>4.0</td>\n",
       "      <td>20.8</td>\n",
       "      <td>698.941582</td>\n",
       "    </tr>\n",
       "    <tr>\n",
       "      <th>3</th>\n",
       "      <td>DEH1_2014</td>\n",
       "      <td>M0035/LH185</td>\n",
       "      <td>10.366857</td>\n",
       "      <td>2014</td>\n",
       "      <td>DEH1</td>\n",
       "      <td>G2F_2014_15</td>\n",
       "      <td>1</td>\n",
       "      <td>1</td>\n",
       "      <td>4</td>\n",
       "      <td>1.0</td>\n",
       "      <td>...</td>\n",
       "      <td>9/29/14</td>\n",
       "      <td>59.0</td>\n",
       "      <td>61.0</td>\n",
       "      <td>63.0</td>\n",
       "      <td>242.0</td>\n",
       "      <td>118.0</td>\n",
       "      <td>0.0</td>\n",
       "      <td>0.0</td>\n",
       "      <td>23.7</td>\n",
       "      <td>711.813434</td>\n",
       "    </tr>\n",
       "    <tr>\n",
       "      <th>4</th>\n",
       "      <td>DEH1_2014</td>\n",
       "      <td>M0052/LH185</td>\n",
       "      <td>10.908814</td>\n",
       "      <td>2014</td>\n",
       "      <td>DEH1</td>\n",
       "      <td>G2F_2014_15</td>\n",
       "      <td>1</td>\n",
       "      <td>1</td>\n",
       "      <td>5</td>\n",
       "      <td>1.0</td>\n",
       "      <td>...</td>\n",
       "      <td>9/29/14</td>\n",
       "      <td>58.0</td>\n",
       "      <td>63.0</td>\n",
       "      <td>65.0</td>\n",
       "      <td>211.0</td>\n",
       "      <td>92.0</td>\n",
       "      <td>0.0</td>\n",
       "      <td>0.0</td>\n",
       "      <td>19.4</td>\n",
       "      <td>743.993065</td>\n",
       "    </tr>\n",
       "  </tbody>\n",
       "</table>\n",
       "<p>5 rows × 26 columns</p>\n",
       "</div>"
      ],
      "text/plain": [
       "         Env       Hybrid  Yield_Mg_ha  Year Field_Location   Experiment  \\\n",
       "0  DEH1_2014  M0088/LH185     5.721725  2014           DEH1  G2F_2014_15   \n",
       "1  DEH1_2014  M0143/LH185    11.338246  2014           DEH1  G2F_2014_15   \n",
       "2  DEH1_2014  M0003/LH185     6.540810  2014           DEH1  G2F_2014_15   \n",
       "3  DEH1_2014  M0035/LH185    10.366857  2014           DEH1  G2F_2014_15   \n",
       "4  DEH1_2014  M0052/LH185    10.908814  2014           DEH1  G2F_2014_15   \n",
       "\n",
       "   Replicate  Block  Plot  Range  ...  Date_Harvested Stand_Count_plants  \\\n",
       "0          1      1     1    1.0  ...         9/29/14               56.0   \n",
       "1          1      1     2    1.0  ...         9/29/14               54.0   \n",
       "2          1      1     3    1.0  ...         9/29/14               60.0   \n",
       "3          1      1     4    1.0  ...         9/29/14               59.0   \n",
       "4          1      1     5    1.0  ...         9/29/14               58.0   \n",
       "\n",
       "  Pollen_DAP_days Silk_DAP_days  Plant_Height_cm Ear_Height_cm  \\\n",
       "0            63.0          67.0            213.0          79.0   \n",
       "1            61.0          63.0            286.0         172.0   \n",
       "2            63.0          65.0            239.0          92.0   \n",
       "3            61.0          63.0            242.0         118.0   \n",
       "4            63.0          65.0            211.0          92.0   \n",
       "\n",
       "  Root_Lodging_plants  Stalk_Lodging_plants  Grain_Moisture   Twt_kg_m3  \n",
       "0                 0.0                   0.0            20.8  706.664693  \n",
       "1                 0.0                   0.0            25.8  693.792841  \n",
       "2                 0.0                   4.0            20.8  698.941582  \n",
       "3                 0.0                   0.0            23.7  711.813434  \n",
       "4                 0.0                   0.0            19.4  743.993065  \n",
       "\n",
       "[5 rows x 26 columns]"
      ]
     },
     "execution_count": 40,
     "metadata": {},
     "output_type": "execute_result"
    }
   ],
   "source": [
    "train_sub_data.head()"
   ]
  },
  {
   "cell_type": "code",
   "execution_count": 41,
   "id": "98414539",
   "metadata": {},
   "outputs": [],
   "source": [
    "train_sub_data = train_sub_data.drop_duplicates()"
   ]
  },
  {
   "cell_type": "code",
   "execution_count": 42,
   "id": "12bb2244",
   "metadata": {},
   "outputs": [
    {
     "data": {
      "text/plain": [
       "(136012, 26)"
      ]
     },
     "execution_count": 42,
     "metadata": {},
     "output_type": "execute_result"
    }
   ],
   "source": [
    "train_sub_data.shape"
   ]
  },
  {
   "cell_type": "code",
   "execution_count": 43,
   "id": "9af3426f",
   "metadata": {
    "scrolled": true
   },
   "outputs": [
    {
     "data": {
      "text/html": [
       "<div>\n",
       "<style scoped>\n",
       "    .dataframe tbody tr th:only-of-type {\n",
       "        vertical-align: middle;\n",
       "    }\n",
       "\n",
       "    .dataframe tbody tr th {\n",
       "        vertical-align: top;\n",
       "    }\n",
       "\n",
       "    .dataframe thead th {\n",
       "        text-align: right;\n",
       "    }\n",
       "</style>\n",
       "<table border=\"1\" class=\"dataframe\">\n",
       "  <thead>\n",
       "    <tr style=\"text-align: right;\">\n",
       "      <th></th>\n",
       "      <th>Env</th>\n",
       "      <th>Hybrid</th>\n",
       "      <th>Yield_Mg_ha</th>\n",
       "      <th>Year</th>\n",
       "      <th>Field_Location</th>\n",
       "      <th>Experiment</th>\n",
       "      <th>Replicate</th>\n",
       "      <th>Block</th>\n",
       "      <th>Plot</th>\n",
       "      <th>Range</th>\n",
       "      <th>...</th>\n",
       "      <th>Date_Harvested</th>\n",
       "      <th>Stand_Count_plants</th>\n",
       "      <th>Pollen_DAP_days</th>\n",
       "      <th>Silk_DAP_days</th>\n",
       "      <th>Plant_Height_cm</th>\n",
       "      <th>Ear_Height_cm</th>\n",
       "      <th>Root_Lodging_plants</th>\n",
       "      <th>Stalk_Lodging_plants</th>\n",
       "      <th>Grain_Moisture</th>\n",
       "      <th>Twt_kg_m3</th>\n",
       "    </tr>\n",
       "  </thead>\n",
       "  <tbody>\n",
       "    <tr>\n",
       "      <th>0</th>\n",
       "      <td>DEH1_2014</td>\n",
       "      <td>M0088/LH185</td>\n",
       "      <td>5.721725</td>\n",
       "      <td>2014</td>\n",
       "      <td>DEH1</td>\n",
       "      <td>G2F_2014_15</td>\n",
       "      <td>1</td>\n",
       "      <td>1</td>\n",
       "      <td>1</td>\n",
       "      <td>1.0</td>\n",
       "      <td>...</td>\n",
       "      <td>9/29/14</td>\n",
       "      <td>56.0</td>\n",
       "      <td>63.0</td>\n",
       "      <td>67.0</td>\n",
       "      <td>213.0</td>\n",
       "      <td>79.0</td>\n",
       "      <td>0.0</td>\n",
       "      <td>0.0</td>\n",
       "      <td>20.8</td>\n",
       "      <td>706.664693</td>\n",
       "    </tr>\n",
       "    <tr>\n",
       "      <th>1</th>\n",
       "      <td>DEH1_2014</td>\n",
       "      <td>M0143/LH185</td>\n",
       "      <td>11.338246</td>\n",
       "      <td>2014</td>\n",
       "      <td>DEH1</td>\n",
       "      <td>G2F_2014_15</td>\n",
       "      <td>1</td>\n",
       "      <td>1</td>\n",
       "      <td>2</td>\n",
       "      <td>1.0</td>\n",
       "      <td>...</td>\n",
       "      <td>9/29/14</td>\n",
       "      <td>54.0</td>\n",
       "      <td>61.0</td>\n",
       "      <td>63.0</td>\n",
       "      <td>286.0</td>\n",
       "      <td>172.0</td>\n",
       "      <td>0.0</td>\n",
       "      <td>0.0</td>\n",
       "      <td>25.8</td>\n",
       "      <td>693.792841</td>\n",
       "    </tr>\n",
       "    <tr>\n",
       "      <th>2</th>\n",
       "      <td>DEH1_2014</td>\n",
       "      <td>M0003/LH185</td>\n",
       "      <td>6.540810</td>\n",
       "      <td>2014</td>\n",
       "      <td>DEH1</td>\n",
       "      <td>G2F_2014_15</td>\n",
       "      <td>1</td>\n",
       "      <td>1</td>\n",
       "      <td>3</td>\n",
       "      <td>1.0</td>\n",
       "      <td>...</td>\n",
       "      <td>9/29/14</td>\n",
       "      <td>60.0</td>\n",
       "      <td>63.0</td>\n",
       "      <td>65.0</td>\n",
       "      <td>239.0</td>\n",
       "      <td>92.0</td>\n",
       "      <td>0.0</td>\n",
       "      <td>4.0</td>\n",
       "      <td>20.8</td>\n",
       "      <td>698.941582</td>\n",
       "    </tr>\n",
       "    <tr>\n",
       "      <th>3</th>\n",
       "      <td>DEH1_2014</td>\n",
       "      <td>M0035/LH185</td>\n",
       "      <td>10.366857</td>\n",
       "      <td>2014</td>\n",
       "      <td>DEH1</td>\n",
       "      <td>G2F_2014_15</td>\n",
       "      <td>1</td>\n",
       "      <td>1</td>\n",
       "      <td>4</td>\n",
       "      <td>1.0</td>\n",
       "      <td>...</td>\n",
       "      <td>9/29/14</td>\n",
       "      <td>59.0</td>\n",
       "      <td>61.0</td>\n",
       "      <td>63.0</td>\n",
       "      <td>242.0</td>\n",
       "      <td>118.0</td>\n",
       "      <td>0.0</td>\n",
       "      <td>0.0</td>\n",
       "      <td>23.7</td>\n",
       "      <td>711.813434</td>\n",
       "    </tr>\n",
       "    <tr>\n",
       "      <th>4</th>\n",
       "      <td>DEH1_2014</td>\n",
       "      <td>M0052/LH185</td>\n",
       "      <td>10.908814</td>\n",
       "      <td>2014</td>\n",
       "      <td>DEH1</td>\n",
       "      <td>G2F_2014_15</td>\n",
       "      <td>1</td>\n",
       "      <td>1</td>\n",
       "      <td>5</td>\n",
       "      <td>1.0</td>\n",
       "      <td>...</td>\n",
       "      <td>9/29/14</td>\n",
       "      <td>58.0</td>\n",
       "      <td>63.0</td>\n",
       "      <td>65.0</td>\n",
       "      <td>211.0</td>\n",
       "      <td>92.0</td>\n",
       "      <td>0.0</td>\n",
       "      <td>0.0</td>\n",
       "      <td>19.4</td>\n",
       "      <td>743.993065</td>\n",
       "    </tr>\n",
       "  </tbody>\n",
       "</table>\n",
       "<p>5 rows × 26 columns</p>\n",
       "</div>"
      ],
      "text/plain": [
       "         Env       Hybrid  Yield_Mg_ha  Year Field_Location   Experiment  \\\n",
       "0  DEH1_2014  M0088/LH185     5.721725  2014           DEH1  G2F_2014_15   \n",
       "1  DEH1_2014  M0143/LH185    11.338246  2014           DEH1  G2F_2014_15   \n",
       "2  DEH1_2014  M0003/LH185     6.540810  2014           DEH1  G2F_2014_15   \n",
       "3  DEH1_2014  M0035/LH185    10.366857  2014           DEH1  G2F_2014_15   \n",
       "4  DEH1_2014  M0052/LH185    10.908814  2014           DEH1  G2F_2014_15   \n",
       "\n",
       "   Replicate  Block  Plot  Range  ...  Date_Harvested Stand_Count_plants  \\\n",
       "0          1      1     1    1.0  ...         9/29/14               56.0   \n",
       "1          1      1     2    1.0  ...         9/29/14               54.0   \n",
       "2          1      1     3    1.0  ...         9/29/14               60.0   \n",
       "3          1      1     4    1.0  ...         9/29/14               59.0   \n",
       "4          1      1     5    1.0  ...         9/29/14               58.0   \n",
       "\n",
       "  Pollen_DAP_days Silk_DAP_days  Plant_Height_cm Ear_Height_cm  \\\n",
       "0            63.0          67.0            213.0          79.0   \n",
       "1            61.0          63.0            286.0         172.0   \n",
       "2            63.0          65.0            239.0          92.0   \n",
       "3            61.0          63.0            242.0         118.0   \n",
       "4            63.0          65.0            211.0          92.0   \n",
       "\n",
       "  Root_Lodging_plants  Stalk_Lodging_plants  Grain_Moisture   Twt_kg_m3  \n",
       "0                 0.0                   0.0            20.8  706.664693  \n",
       "1                 0.0                   0.0            25.8  693.792841  \n",
       "2                 0.0                   4.0            20.8  698.941582  \n",
       "3                 0.0                   0.0            23.7  711.813434  \n",
       "4                 0.0                   0.0            19.4  743.993065  \n",
       "\n",
       "[5 rows x 26 columns]"
      ]
     },
     "execution_count": 43,
     "metadata": {},
     "output_type": "execute_result"
    }
   ],
   "source": [
    "train_sub_data.head()"
   ]
  },
  {
   "cell_type": "code",
   "execution_count": 44,
   "id": "209713a1",
   "metadata": {},
   "outputs": [
    {
     "data": {
      "text/html": [
       "<div>\n",
       "<style scoped>\n",
       "    .dataframe tbody tr th:only-of-type {\n",
       "        vertical-align: middle;\n",
       "    }\n",
       "\n",
       "    .dataframe tbody tr th {\n",
       "        vertical-align: top;\n",
       "    }\n",
       "\n",
       "    .dataframe thead th {\n",
       "        text-align: right;\n",
       "    }\n",
       "</style>\n",
       "<table border=\"1\" class=\"dataframe\">\n",
       "  <thead>\n",
       "    <tr style=\"text-align: right;\">\n",
       "      <th></th>\n",
       "      <th>Env</th>\n",
       "      <th>Hybrid</th>\n",
       "      <th>Yield_Mg_ha</th>\n",
       "    </tr>\n",
       "  </thead>\n",
       "  <tbody>\n",
       "    <tr>\n",
       "      <th>0</th>\n",
       "      <td>DEH1_2022</td>\n",
       "      <td>B14A/OH43</td>\n",
       "      <td>NaN</td>\n",
       "    </tr>\n",
       "    <tr>\n",
       "      <th>1</th>\n",
       "      <td>DEH1_2022</td>\n",
       "      <td>B37/H95</td>\n",
       "      <td>NaN</td>\n",
       "    </tr>\n",
       "    <tr>\n",
       "      <th>2</th>\n",
       "      <td>DEH1_2022</td>\n",
       "      <td>B73/MO17</td>\n",
       "      <td>NaN</td>\n",
       "    </tr>\n",
       "    <tr>\n",
       "      <th>3</th>\n",
       "      <td>DEH1_2022</td>\n",
       "      <td>B73/PHN82</td>\n",
       "      <td>NaN</td>\n",
       "    </tr>\n",
       "    <tr>\n",
       "      <th>4</th>\n",
       "      <td>DEH1_2022</td>\n",
       "      <td>B73/TX779</td>\n",
       "      <td>NaN</td>\n",
       "    </tr>\n",
       "  </tbody>\n",
       "</table>\n",
       "</div>"
      ],
      "text/plain": [
       "         Env     Hybrid  Yield_Mg_ha\n",
       "0  DEH1_2022  B14A/OH43          NaN\n",
       "1  DEH1_2022    B37/H95          NaN\n",
       "2  DEH1_2022   B73/MO17          NaN\n",
       "3  DEH1_2022  B73/PHN82          NaN\n",
       "4  DEH1_2022  B73/TX779          NaN"
      ]
     },
     "execution_count": 44,
     "metadata": {},
     "output_type": "execute_result"
    }
   ],
   "source": [
    "submission_test.head()"
   ]
  },
  {
   "cell_type": "code",
   "execution_count": 45,
   "id": "c2079913",
   "metadata": {},
   "outputs": [],
   "source": [
    "# vertically stack the two dataframes for joins in future\n",
    "sub_all = pd.concat([train_sub_data, submission_test], axis = 0)"
   ]
  },
  {
   "cell_type": "code",
   "execution_count": 46,
   "id": "567f3a92",
   "metadata": {},
   "outputs": [
    {
     "data": {
      "text/plain": [
       "(147567, 26)"
      ]
     },
     "execution_count": 46,
     "metadata": {},
     "output_type": "execute_result"
    }
   ],
   "source": [
    "sub_all.shape"
   ]
  },
  {
   "cell_type": "code",
   "execution_count": 47,
   "id": "c619ec1e",
   "metadata": {},
   "outputs": [
    {
     "data": {
      "text/html": [
       "<div>\n",
       "<style scoped>\n",
       "    .dataframe tbody tr th:only-of-type {\n",
       "        vertical-align: middle;\n",
       "    }\n",
       "\n",
       "    .dataframe tbody tr th {\n",
       "        vertical-align: top;\n",
       "    }\n",
       "\n",
       "    .dataframe thead th {\n",
       "        text-align: right;\n",
       "    }\n",
       "</style>\n",
       "<table border=\"1\" class=\"dataframe\">\n",
       "  <thead>\n",
       "    <tr style=\"text-align: right;\">\n",
       "      <th></th>\n",
       "      <th>Env</th>\n",
       "      <th>Hybrid</th>\n",
       "      <th>Yield_Mg_ha</th>\n",
       "      <th>Year</th>\n",
       "      <th>Field_Location</th>\n",
       "      <th>Experiment</th>\n",
       "      <th>Replicate</th>\n",
       "      <th>Block</th>\n",
       "      <th>Plot</th>\n",
       "      <th>Range</th>\n",
       "      <th>...</th>\n",
       "      <th>Date_Harvested</th>\n",
       "      <th>Stand_Count_plants</th>\n",
       "      <th>Pollen_DAP_days</th>\n",
       "      <th>Silk_DAP_days</th>\n",
       "      <th>Plant_Height_cm</th>\n",
       "      <th>Ear_Height_cm</th>\n",
       "      <th>Root_Lodging_plants</th>\n",
       "      <th>Stalk_Lodging_plants</th>\n",
       "      <th>Grain_Moisture</th>\n",
       "      <th>Twt_kg_m3</th>\n",
       "    </tr>\n",
       "  </thead>\n",
       "  <tbody>\n",
       "    <tr>\n",
       "      <th>11550</th>\n",
       "      <td>WIH3_2022</td>\n",
       "      <td>W10010_0337/LH244</td>\n",
       "      <td>NaN</td>\n",
       "      <td>NaN</td>\n",
       "      <td>NaN</td>\n",
       "      <td>NaN</td>\n",
       "      <td>NaN</td>\n",
       "      <td>NaN</td>\n",
       "      <td>NaN</td>\n",
       "      <td>NaN</td>\n",
       "      <td>...</td>\n",
       "      <td>NaN</td>\n",
       "      <td>NaN</td>\n",
       "      <td>NaN</td>\n",
       "      <td>NaN</td>\n",
       "      <td>NaN</td>\n",
       "      <td>NaN</td>\n",
       "      <td>NaN</td>\n",
       "      <td>NaN</td>\n",
       "      <td>NaN</td>\n",
       "      <td>NaN</td>\n",
       "    </tr>\n",
       "    <tr>\n",
       "      <th>11551</th>\n",
       "      <td>WIH3_2022</td>\n",
       "      <td>W10010_0346/LH244</td>\n",
       "      <td>NaN</td>\n",
       "      <td>NaN</td>\n",
       "      <td>NaN</td>\n",
       "      <td>NaN</td>\n",
       "      <td>NaN</td>\n",
       "      <td>NaN</td>\n",
       "      <td>NaN</td>\n",
       "      <td>NaN</td>\n",
       "      <td>...</td>\n",
       "      <td>NaN</td>\n",
       "      <td>NaN</td>\n",
       "      <td>NaN</td>\n",
       "      <td>NaN</td>\n",
       "      <td>NaN</td>\n",
       "      <td>NaN</td>\n",
       "      <td>NaN</td>\n",
       "      <td>NaN</td>\n",
       "      <td>NaN</td>\n",
       "      <td>NaN</td>\n",
       "    </tr>\n",
       "    <tr>\n",
       "      <th>11552</th>\n",
       "      <td>WIH3_2022</td>\n",
       "      <td>W10010_0358/LH244</td>\n",
       "      <td>NaN</td>\n",
       "      <td>NaN</td>\n",
       "      <td>NaN</td>\n",
       "      <td>NaN</td>\n",
       "      <td>NaN</td>\n",
       "      <td>NaN</td>\n",
       "      <td>NaN</td>\n",
       "      <td>NaN</td>\n",
       "      <td>...</td>\n",
       "      <td>NaN</td>\n",
       "      <td>NaN</td>\n",
       "      <td>NaN</td>\n",
       "      <td>NaN</td>\n",
       "      <td>NaN</td>\n",
       "      <td>NaN</td>\n",
       "      <td>NaN</td>\n",
       "      <td>NaN</td>\n",
       "      <td>NaN</td>\n",
       "      <td>NaN</td>\n",
       "    </tr>\n",
       "    <tr>\n",
       "      <th>11553</th>\n",
       "      <td>WIH3_2022</td>\n",
       "      <td>W10010_0381/LH244</td>\n",
       "      <td>NaN</td>\n",
       "      <td>NaN</td>\n",
       "      <td>NaN</td>\n",
       "      <td>NaN</td>\n",
       "      <td>NaN</td>\n",
       "      <td>NaN</td>\n",
       "      <td>NaN</td>\n",
       "      <td>NaN</td>\n",
       "      <td>...</td>\n",
       "      <td>NaN</td>\n",
       "      <td>NaN</td>\n",
       "      <td>NaN</td>\n",
       "      <td>NaN</td>\n",
       "      <td>NaN</td>\n",
       "      <td>NaN</td>\n",
       "      <td>NaN</td>\n",
       "      <td>NaN</td>\n",
       "      <td>NaN</td>\n",
       "      <td>NaN</td>\n",
       "    </tr>\n",
       "    <tr>\n",
       "      <th>11554</th>\n",
       "      <td>WIH3_2022</td>\n",
       "      <td>W10010_0452/LH244</td>\n",
       "      <td>NaN</td>\n",
       "      <td>NaN</td>\n",
       "      <td>NaN</td>\n",
       "      <td>NaN</td>\n",
       "      <td>NaN</td>\n",
       "      <td>NaN</td>\n",
       "      <td>NaN</td>\n",
       "      <td>NaN</td>\n",
       "      <td>...</td>\n",
       "      <td>NaN</td>\n",
       "      <td>NaN</td>\n",
       "      <td>NaN</td>\n",
       "      <td>NaN</td>\n",
       "      <td>NaN</td>\n",
       "      <td>NaN</td>\n",
       "      <td>NaN</td>\n",
       "      <td>NaN</td>\n",
       "      <td>NaN</td>\n",
       "      <td>NaN</td>\n",
       "    </tr>\n",
       "  </tbody>\n",
       "</table>\n",
       "<p>5 rows × 26 columns</p>\n",
       "</div>"
      ],
      "text/plain": [
       "             Env             Hybrid  Yield_Mg_ha  Year Field_Location  \\\n",
       "11550  WIH3_2022  W10010_0337/LH244          NaN   NaN            NaN   \n",
       "11551  WIH3_2022  W10010_0346/LH244          NaN   NaN            NaN   \n",
       "11552  WIH3_2022  W10010_0358/LH244          NaN   NaN            NaN   \n",
       "11553  WIH3_2022  W10010_0381/LH244          NaN   NaN            NaN   \n",
       "11554  WIH3_2022  W10010_0452/LH244          NaN   NaN            NaN   \n",
       "\n",
       "      Experiment  Replicate  Block  Plot  Range  ...  Date_Harvested  \\\n",
       "11550        NaN        NaN    NaN   NaN    NaN  ...             NaN   \n",
       "11551        NaN        NaN    NaN   NaN    NaN  ...             NaN   \n",
       "11552        NaN        NaN    NaN   NaN    NaN  ...             NaN   \n",
       "11553        NaN        NaN    NaN   NaN    NaN  ...             NaN   \n",
       "11554        NaN        NaN    NaN   NaN    NaN  ...             NaN   \n",
       "\n",
       "      Stand_Count_plants Pollen_DAP_days Silk_DAP_days  Plant_Height_cm  \\\n",
       "11550                NaN             NaN           NaN              NaN   \n",
       "11551                NaN             NaN           NaN              NaN   \n",
       "11552                NaN             NaN           NaN              NaN   \n",
       "11553                NaN             NaN           NaN              NaN   \n",
       "11554                NaN             NaN           NaN              NaN   \n",
       "\n",
       "      Ear_Height_cm Root_Lodging_plants  Stalk_Lodging_plants  Grain_Moisture  \\\n",
       "11550           NaN                 NaN                   NaN             NaN   \n",
       "11551           NaN                 NaN                   NaN             NaN   \n",
       "11552           NaN                 NaN                   NaN             NaN   \n",
       "11553           NaN                 NaN                   NaN             NaN   \n",
       "11554           NaN                 NaN                   NaN             NaN   \n",
       "\n",
       "       Twt_kg_m3  \n",
       "11550        NaN  \n",
       "11551        NaN  \n",
       "11552        NaN  \n",
       "11553        NaN  \n",
       "11554        NaN  \n",
       "\n",
       "[5 rows x 26 columns]"
      ]
     },
     "execution_count": 47,
     "metadata": {},
     "output_type": "execute_result"
    }
   ],
   "source": [
    "sub_all.tail()"
   ]
  },
  {
   "cell_type": "code",
   "execution_count": 48,
   "id": "95320a57",
   "metadata": {},
   "outputs": [],
   "source": [
    "# import meta data\n",
    "test_meta_data = pd.read_csv(r\"Testing_Data\\2_Testing_Meta_Data_2022.csv\")"
   ]
  },
  {
   "cell_type": "code",
   "execution_count": 49,
   "id": "0f3c6e9a",
   "metadata": {
    "scrolled": true
   },
   "outputs": [
    {
     "data": {
      "text/html": [
       "<div>\n",
       "<style scoped>\n",
       "    .dataframe tbody tr th:only-of-type {\n",
       "        vertical-align: middle;\n",
       "    }\n",
       "\n",
       "    .dataframe tbody tr th {\n",
       "        vertical-align: top;\n",
       "    }\n",
       "\n",
       "    .dataframe thead th {\n",
       "        text-align: right;\n",
       "    }\n",
       "</style>\n",
       "<table border=\"1\" class=\"dataframe\">\n",
       "  <thead>\n",
       "    <tr style=\"text-align: right;\">\n",
       "      <th></th>\n",
       "      <th>Year</th>\n",
       "      <th>Env</th>\n",
       "      <th>Experiment_Code</th>\n",
       "      <th>Treatment</th>\n",
       "      <th>City</th>\n",
       "      <th>Farm</th>\n",
       "      <th>Field</th>\n",
       "      <th>Trial_ID (Assigned by collaborator for internal reference)</th>\n",
       "      <th>Soil_Taxonomic_ID and horizon description, if known</th>\n",
       "      <th>Weather_Station_Serial_Number (Last four digits, e.g. m2700s#####)</th>\n",
       "      <th>...</th>\n",
       "      <th>Issue/comment_#1</th>\n",
       "      <th>Issue/comment_#2</th>\n",
       "      <th>Issue/comment_#3</th>\n",
       "      <th>Issue/comment_#4</th>\n",
       "      <th>Issue/comment_#5</th>\n",
       "      <th>Issue/comment_#6</th>\n",
       "      <th>Irrigated</th>\n",
       "      <th>Date_Planted</th>\n",
       "      <th>Plot_Area_ha</th>\n",
       "      <th>Comments</th>\n",
       "    </tr>\n",
       "  </thead>\n",
       "  <tbody>\n",
       "    <tr>\n",
       "      <th>0</th>\n",
       "      <td>2022</td>\n",
       "      <td>DEH1_2022</td>\n",
       "      <td>DEH1</td>\n",
       "      <td>Standard</td>\n",
       "      <td>Georgetown</td>\n",
       "      <td>Caraval Research &amp; Education Center</td>\n",
       "      <td>19 AB</td>\n",
       "      <td>NaN</td>\n",
       "      <td>NaN</td>\n",
       "      <td>22053.0</td>\n",
       "      <td>...</td>\n",
       "      <td>Deer damage on the early hybrids</td>\n",
       "      <td>Link to additional weather source available on...</td>\n",
       "      <td>NaN</td>\n",
       "      <td>NaN</td>\n",
       "      <td>NaN</td>\n",
       "      <td>NaN</td>\n",
       "      <td>yes</td>\n",
       "      <td>4/25/22</td>\n",
       "      <td>0.000697</td>\n",
       "      <td>NaN</td>\n",
       "    </tr>\n",
       "    <tr>\n",
       "      <th>1</th>\n",
       "      <td>2022</td>\n",
       "      <td>GAH1_2022</td>\n",
       "      <td>GAH1</td>\n",
       "      <td>Standard</td>\n",
       "      <td>Tifton</td>\n",
       "      <td>USDA Belflower</td>\n",
       "      <td>24</td>\n",
       "      <td>NaN</td>\n",
       "      <td>Tifton loamy sand</td>\n",
       "      <td>8427.0</td>\n",
       "      <td>...</td>\n",
       "      <td>Link to additional weather source available on...</td>\n",
       "      <td>NaN</td>\n",
       "      <td>NaN</td>\n",
       "      <td>NaN</td>\n",
       "      <td>NaN</td>\n",
       "      <td>NaN</td>\n",
       "      <td>yes</td>\n",
       "      <td>4/4/22</td>\n",
       "      <td>0.000780</td>\n",
       "      <td>NaN</td>\n",
       "    </tr>\n",
       "    <tr>\n",
       "      <th>2</th>\n",
       "      <td>2022</td>\n",
       "      <td>GAH2_2022</td>\n",
       "      <td>GAH2</td>\n",
       "      <td>Standard</td>\n",
       "      <td>Watkinsville</td>\n",
       "      <td>Iron Horse Farm</td>\n",
       "      <td>F / GAH2</td>\n",
       "      <td>NaN</td>\n",
       "      <td>NaN</td>\n",
       "      <td>8631.0</td>\n",
       "      <td>...</td>\n",
       "      <td>Local_Check from John Patrick Chemical</td>\n",
       "      <td>Plot 77 and 261 are local check and have same ...</td>\n",
       "      <td>6-2-22 realized side border corn wasn't plante...</td>\n",
       "      <td>Hog damaged noticed on 6/28/22; affected plots...</td>\n",
       "      <td>NaN</td>\n",
       "      <td>NaN</td>\n",
       "      <td>yes</td>\n",
       "      <td>4/14/22</td>\n",
       "      <td>0.000883</td>\n",
       "      <td>NaN</td>\n",
       "    </tr>\n",
       "    <tr>\n",
       "      <th>3</th>\n",
       "      <td>2022</td>\n",
       "      <td>IAH1_2022</td>\n",
       "      <td>IAH1</td>\n",
       "      <td>Standard</td>\n",
       "      <td>Crawfordsville</td>\n",
       "      <td>Southeast Research Farm</td>\n",
       "      <td>14</td>\n",
       "      <td>IAH1</td>\n",
       "      <td>NaN</td>\n",
       "      <td>NaN</td>\n",
       "      <td>...</td>\n",
       "      <td>NaN</td>\n",
       "      <td>NaN</td>\n",
       "      <td>NaN</td>\n",
       "      <td>NaN</td>\n",
       "      <td>NaN</td>\n",
       "      <td>NaN</td>\n",
       "      <td>no</td>\n",
       "      <td>NaN</td>\n",
       "      <td>0.000813</td>\n",
       "      <td>NaN</td>\n",
       "    </tr>\n",
       "    <tr>\n",
       "      <th>4</th>\n",
       "      <td>2022</td>\n",
       "      <td>IAH2_2022</td>\n",
       "      <td>IAH2</td>\n",
       "      <td>Standard</td>\n",
       "      <td>Carroll</td>\n",
       "      <td>Thielen</td>\n",
       "      <td>Field 06</td>\n",
       "      <td>IAH2</td>\n",
       "      <td>NaN</td>\n",
       "      <td>NaN</td>\n",
       "      <td>...</td>\n",
       "      <td>Thunderstorm caused very high level of root lo...</td>\n",
       "      <td>Root lodging not recroded because of high perc...</td>\n",
       "      <td>Greensnap not counted separately, so stalk lod...</td>\n",
       "      <td>Some very low yields caused by greensnap\\n</td>\n",
       "      <td>NaN</td>\n",
       "      <td>NaN</td>\n",
       "      <td>no</td>\n",
       "      <td>NaN</td>\n",
       "      <td>0.000813</td>\n",
       "      <td>NaN</td>\n",
       "    </tr>\n",
       "  </tbody>\n",
       "</table>\n",
       "<p>5 rows × 39 columns</p>\n",
       "</div>"
      ],
      "text/plain": [
       "   Year        Env Experiment_Code Treatment            City  \\\n",
       "0  2022  DEH1_2022            DEH1  Standard      Georgetown   \n",
       "1  2022  GAH1_2022            GAH1  Standard          Tifton   \n",
       "2  2022  GAH2_2022            GAH2  Standard    Watkinsville   \n",
       "3  2022  IAH1_2022            IAH1  Standard  Crawfordsville   \n",
       "4  2022  IAH2_2022            IAH2  Standard         Carroll   \n",
       "\n",
       "                                  Farm     Field  \\\n",
       "0  Caraval Research & Education Center     19 AB   \n",
       "1                       USDA Belflower        24   \n",
       "2                      Iron Horse Farm  F / GAH2   \n",
       "3              Southeast Research Farm        14   \n",
       "4                              Thielen  Field 06   \n",
       "\n",
       "  Trial_ID (Assigned by collaborator for internal reference)  \\\n",
       "0                                                NaN           \n",
       "1                                                NaN           \n",
       "2                                                NaN           \n",
       "3                                               IAH1           \n",
       "4                                               IAH2           \n",
       "\n",
       "  Soil_Taxonomic_ID and horizon description, if known  \\\n",
       "0                                                NaN    \n",
       "1                                  Tifton loamy sand    \n",
       "2                                                NaN    \n",
       "3                                                NaN    \n",
       "4                                                NaN    \n",
       "\n",
       "   Weather_Station_Serial_Number (Last four digits, e.g. m2700s#####)  ...  \\\n",
       "0                                            22053.0                   ...   \n",
       "1                                             8427.0                   ...   \n",
       "2                                             8631.0                   ...   \n",
       "3                                                NaN                   ...   \n",
       "4                                                NaN                   ...   \n",
       "\n",
       "                                    Issue/comment_#1  \\\n",
       "0                   Deer damage on the early hybrids   \n",
       "1  Link to additional weather source available on...   \n",
       "2             Local_Check from John Patrick Chemical   \n",
       "3                                                NaN   \n",
       "4  Thunderstorm caused very high level of root lo...   \n",
       "\n",
       "                                    Issue/comment_#2  \\\n",
       "0  Link to additional weather source available on...   \n",
       "1                                                NaN   \n",
       "2  Plot 77 and 261 are local check and have same ...   \n",
       "3                                                NaN   \n",
       "4  Root lodging not recroded because of high perc...   \n",
       "\n",
       "                                    Issue/comment_#3  \\\n",
       "0                                                NaN   \n",
       "1                                                NaN   \n",
       "2  6-2-22 realized side border corn wasn't plante...   \n",
       "3                                                NaN   \n",
       "4  Greensnap not counted separately, so stalk lod...   \n",
       "\n",
       "                                    Issue/comment_#4 Issue/comment_#5  \\\n",
       "0                                                NaN              NaN   \n",
       "1                                                NaN              NaN   \n",
       "2  Hog damaged noticed on 6/28/22; affected plots...              NaN   \n",
       "3                                                NaN              NaN   \n",
       "4         Some very low yields caused by greensnap\\n              NaN   \n",
       "\n",
       "  Issue/comment_#6 Irrigated Date_Planted Plot_Area_ha Comments  \n",
       "0              NaN       yes      4/25/22     0.000697      NaN  \n",
       "1              NaN       yes       4/4/22     0.000780      NaN  \n",
       "2              NaN       yes      4/14/22     0.000883      NaN  \n",
       "3              NaN        no          NaN     0.000813      NaN  \n",
       "4              NaN        no          NaN     0.000813      NaN  \n",
       "\n",
       "[5 rows x 39 columns]"
      ]
     },
     "execution_count": 49,
     "metadata": {},
     "output_type": "execute_result"
    }
   ],
   "source": [
    "test_meta_data.head()"
   ]
  },
  {
   "cell_type": "code",
   "execution_count": 50,
   "id": "2024d456",
   "metadata": {
    "scrolled": true
   },
   "outputs": [
    {
     "data": {
      "text/plain": [
       "(26, 39)"
      ]
     },
     "execution_count": 50,
     "metadata": {},
     "output_type": "execute_result"
    }
   ],
   "source": [
    "test_meta_data.shape"
   ]
  },
  {
   "cell_type": "code",
   "execution_count": 51,
   "id": "f0eb8b46",
   "metadata": {},
   "outputs": [],
   "source": [
    "test_meta_cols = list(test_meta_data.columns)"
   ]
  },
  {
   "cell_type": "code",
   "execution_count": 52,
   "id": "af464df9",
   "metadata": {},
   "outputs": [
    {
     "data": {
      "text/plain": [
       "['Year',\n",
       " 'Env',\n",
       " 'Experiment_Code',\n",
       " 'Treatment',\n",
       " 'City',\n",
       " 'Farm',\n",
       " 'Field',\n",
       " 'Trial_ID (Assigned by collaborator for internal reference)',\n",
       " 'Soil_Taxonomic_ID and horizon description, if known',\n",
       " 'Weather_Station_Serial_Number (Last four digits, e.g. m2700s#####)',\n",
       " 'Weather_Station_Latitude (in decimal numbers NOT DMS)',\n",
       " 'Weather_Station_Longitude (in decimal numbers NOT DMS)',\n",
       " 'Date_weather_station_placed',\n",
       " 'Date_weather_station_removed',\n",
       " 'Previous_Crop',\n",
       " 'Pre-plant_tillage_method(s)',\n",
       " 'In-season_tillage_method(s)',\n",
       " 'Type_of_planter (fluted cone; belt cone; air planter)',\n",
       " 'System_Determining_Moisture',\n",
       " 'Pounds_Needed_Soil_Moisture',\n",
       " 'Latitude_of_Field_Corner_#1 (lower left)',\n",
       " 'Longitude_of_Field_Corner_#1 (lower left)',\n",
       " 'Latitude_of_Field_Corner_#2 (lower right)',\n",
       " 'Longitude_of_Field_Corner_#2 (lower right)',\n",
       " 'Latitude_of_Field_Corner_#3 (upper right)',\n",
       " 'Longitude_of_Field_Corner_#3 (upper right)',\n",
       " 'Latitude_of_Field_Corner_#4 (upper left)',\n",
       " 'Longitude_of_Field_Corner_#4 (upper left)',\n",
       " 'Cardinal_Heading_Pass_1',\n",
       " 'Issue/comment_#1',\n",
       " 'Issue/comment_#2',\n",
       " 'Issue/comment_#3',\n",
       " 'Issue/comment_#4',\n",
       " 'Issue/comment_#5',\n",
       " 'Issue/comment_#6',\n",
       " 'Irrigated',\n",
       " 'Date_Planted',\n",
       " 'Plot_Area_ha',\n",
       " 'Comments']"
      ]
     },
     "execution_count": 52,
     "metadata": {},
     "output_type": "execute_result"
    }
   ],
   "source": [
    "test_meta_cols"
   ]
  },
  {
   "cell_type": "code",
   "execution_count": 53,
   "id": "bf354ec1",
   "metadata": {},
   "outputs": [
    {
     "data": {
      "text/plain": [
       "39"
      ]
     },
     "execution_count": 53,
     "metadata": {},
     "output_type": "execute_result"
    }
   ],
   "source": [
    "len(test_meta_cols)"
   ]
  },
  {
   "cell_type": "code",
   "execution_count": 54,
   "id": "14c9e6ac",
   "metadata": {
    "scrolled": false
   },
   "outputs": [
    {
     "data": {
      "text/plain": [
       "(217, 36)"
      ]
     },
     "execution_count": 54,
     "metadata": {},
     "output_type": "execute_result"
    }
   ],
   "source": [
    "Meta_data.shape"
   ]
  },
  {
   "cell_type": "code",
   "execution_count": 55,
   "id": "cebc7b81",
   "metadata": {},
   "outputs": [
    {
     "data": {
      "text/plain": [
       "270"
      ]
     },
     "execution_count": 55,
     "metadata": {},
     "output_type": "execute_result"
    }
   ],
   "source": [
    "# missing values\n",
    "missing_meta_test = test_meta_data.isna().sum()\n",
    "missing_meta_test.sum()"
   ]
  },
  {
   "cell_type": "code",
   "execution_count": 56,
   "id": "53394120",
   "metadata": {},
   "outputs": [],
   "source": [
    "meta_cols = list(Meta_data.columns)"
   ]
  },
  {
   "cell_type": "code",
   "execution_count": 57,
   "id": "e226d10f",
   "metadata": {
    "scrolled": false
   },
   "outputs": [],
   "source": [
    "# meta_cols"
   ]
  },
  {
   "cell_type": "code",
   "execution_count": 58,
   "id": "c034b1e6",
   "metadata": {},
   "outputs": [],
   "source": [
    "# intersecting columns for stacking\n",
    "meta_intersecting = list(set(meta_cols) & set(test_meta_cols))"
   ]
  },
  {
   "cell_type": "code",
   "execution_count": 59,
   "id": "3a980de7",
   "metadata": {},
   "outputs": [],
   "source": [
    "# meta_intersecting"
   ]
  },
  {
   "cell_type": "code",
   "execution_count": 60,
   "id": "ba729a4d",
   "metadata": {},
   "outputs": [
    {
     "data": {
      "text/plain": [
       "36"
      ]
     },
     "execution_count": 60,
     "metadata": {},
     "output_type": "execute_result"
    }
   ],
   "source": [
    "len(meta_cols)"
   ]
  },
  {
   "cell_type": "code",
   "execution_count": 61,
   "id": "6d9ac04f",
   "metadata": {},
   "outputs": [],
   "source": [
    "# meta_cols"
   ]
  },
  {
   "cell_type": "code",
   "execution_count": 62,
   "id": "46f8e74d",
   "metadata": {},
   "outputs": [
    {
     "data": {
      "text/plain": [
       "False"
      ]
     },
     "execution_count": 62,
     "metadata": {},
     "output_type": "execute_result"
    }
   ],
   "source": [
    "# are these the same as train columns of meta sanity check\n",
    "meta_intersecting == meta_cols"
   ]
  },
  {
   "cell_type": "code",
   "execution_count": 63,
   "id": "561f7b81",
   "metadata": {},
   "outputs": [],
   "source": [
    "# extract the data from both datasets that intersect\n",
    "test_meta_ext = test_meta_data[meta_intersecting]"
   ]
  },
  {
   "cell_type": "code",
   "execution_count": 64,
   "id": "49dcdf45",
   "metadata": {},
   "outputs": [
    {
     "data": {
      "text/html": [
       "<div>\n",
       "<style scoped>\n",
       "    .dataframe tbody tr th:only-of-type {\n",
       "        vertical-align: middle;\n",
       "    }\n",
       "\n",
       "    .dataframe tbody tr th {\n",
       "        vertical-align: top;\n",
       "    }\n",
       "\n",
       "    .dataframe thead th {\n",
       "        text-align: right;\n",
       "    }\n",
       "</style>\n",
       "<table border=\"1\" class=\"dataframe\">\n",
       "  <thead>\n",
       "    <tr style=\"text-align: right;\">\n",
       "      <th></th>\n",
       "      <th>Comments</th>\n",
       "      <th>City</th>\n",
       "      <th>Pre-plant_tillage_method(s)</th>\n",
       "      <th>Issue/comment_#6</th>\n",
       "      <th>Env</th>\n",
       "      <th>In-season_tillage_method(s)</th>\n",
       "      <th>Farm</th>\n",
       "      <th>Experiment_Code</th>\n",
       "      <th>Previous_Crop</th>\n",
       "      <th>Date_weather_station_removed</th>\n",
       "      <th>...</th>\n",
       "      <th>Weather_Station_Longitude (in decimal numbers NOT DMS)</th>\n",
       "      <th>Pounds_Needed_Soil_Moisture</th>\n",
       "      <th>Issue/comment_#5</th>\n",
       "      <th>Longitude_of_Field_Corner_#2 (lower right)</th>\n",
       "      <th>Issue/comment_#3</th>\n",
       "      <th>Date_weather_station_placed</th>\n",
       "      <th>Year</th>\n",
       "      <th>Issue/comment_#1</th>\n",
       "      <th>Treatment</th>\n",
       "      <th>Weather_Station_Latitude (in decimal numbers NOT DMS)</th>\n",
       "    </tr>\n",
       "  </thead>\n",
       "  <tbody>\n",
       "    <tr>\n",
       "      <th>0</th>\n",
       "      <td>NaN</td>\n",
       "      <td>Georgetown</td>\n",
       "      <td>NaN</td>\n",
       "      <td>NaN</td>\n",
       "      <td>DEH1_2022</td>\n",
       "      <td>NaN</td>\n",
       "      <td>Caraval Research &amp; Education Center</td>\n",
       "      <td>DEH1</td>\n",
       "      <td>soybean</td>\n",
       "      <td>9/19/22</td>\n",
       "      <td>...</td>\n",
       "      <td>-75.458000</td>\n",
       "      <td>NaN</td>\n",
       "      <td>NaN</td>\n",
       "      <td>-75.458000</td>\n",
       "      <td>NaN</td>\n",
       "      <td>4/29/22</td>\n",
       "      <td>2022</td>\n",
       "      <td>Deer damage on the early hybrids</td>\n",
       "      <td>Standard</td>\n",
       "      <td>38.637000</td>\n",
       "    </tr>\n",
       "    <tr>\n",
       "      <th>1</th>\n",
       "      <td>NaN</td>\n",
       "      <td>Tifton</td>\n",
       "      <td>ripper bed, rototill</td>\n",
       "      <td>NaN</td>\n",
       "      <td>GAH1_2022</td>\n",
       "      <td>none</td>\n",
       "      <td>USDA Belflower</td>\n",
       "      <td>GAH1</td>\n",
       "      <td>peanut</td>\n",
       "      <td>8/25/22</td>\n",
       "      <td>...</td>\n",
       "      <td>-83.557290</td>\n",
       "      <td>2</td>\n",
       "      <td>NaN</td>\n",
       "      <td>-83.558720</td>\n",
       "      <td>NaN</td>\n",
       "      <td>4/5/22</td>\n",
       "      <td>2022</td>\n",
       "      <td>Link to additional weather source available on...</td>\n",
       "      <td>Standard</td>\n",
       "      <td>31.506330</td>\n",
       "    </tr>\n",
       "    <tr>\n",
       "      <th>2</th>\n",
       "      <td>NaN</td>\n",
       "      <td>Watkinsville</td>\n",
       "      <td>Strip tillage</td>\n",
       "      <td>NaN</td>\n",
       "      <td>GAH2_2022</td>\n",
       "      <td>none</td>\n",
       "      <td>Iron Horse Farm</td>\n",
       "      <td>GAH2</td>\n",
       "      <td>soybeans with fall cereal rye cover</td>\n",
       "      <td>9/22/22</td>\n",
       "      <td>...</td>\n",
       "      <td>-83.304912</td>\n",
       "      <td>NaN</td>\n",
       "      <td>NaN</td>\n",
       "      <td>-83.304913</td>\n",
       "      <td>6-2-22 realized side border corn wasn't plante...</td>\n",
       "      <td>4/14/22</td>\n",
       "      <td>2022</td>\n",
       "      <td>Local_Check from John Patrick Chemical</td>\n",
       "      <td>Standard</td>\n",
       "      <td>33.726022</td>\n",
       "    </tr>\n",
       "    <tr>\n",
       "      <th>3</th>\n",
       "      <td>NaN</td>\n",
       "      <td>Crawfordsville</td>\n",
       "      <td>NaN</td>\n",
       "      <td>NaN</td>\n",
       "      <td>IAH1_2022</td>\n",
       "      <td>none</td>\n",
       "      <td>Southeast Research Farm</td>\n",
       "      <td>IAH1</td>\n",
       "      <td>soybean</td>\n",
       "      <td>NaN</td>\n",
       "      <td>...</td>\n",
       "      <td>NaN</td>\n",
       "      <td>4</td>\n",
       "      <td>NaN</td>\n",
       "      <td>-91.487440</td>\n",
       "      <td>NaN</td>\n",
       "      <td>NaN</td>\n",
       "      <td>2022</td>\n",
       "      <td>NaN</td>\n",
       "      <td>Standard</td>\n",
       "      <td>NaN</td>\n",
       "    </tr>\n",
       "    <tr>\n",
       "      <th>4</th>\n",
       "      <td>NaN</td>\n",
       "      <td>Carroll</td>\n",
       "      <td>NaN</td>\n",
       "      <td>NaN</td>\n",
       "      <td>IAH2_2022</td>\n",
       "      <td>none</td>\n",
       "      <td>Thielen</td>\n",
       "      <td>IAH2</td>\n",
       "      <td>soybean</td>\n",
       "      <td>NaN</td>\n",
       "      <td>...</td>\n",
       "      <td>NaN</td>\n",
       "      <td>4</td>\n",
       "      <td>NaN</td>\n",
       "      <td>-94.728794</td>\n",
       "      <td>Greensnap not counted separately, so stalk lod...</td>\n",
       "      <td>NaN</td>\n",
       "      <td>2022</td>\n",
       "      <td>Thunderstorm caused very high level of root lo...</td>\n",
       "      <td>Standard</td>\n",
       "      <td>NaN</td>\n",
       "    </tr>\n",
       "  </tbody>\n",
       "</table>\n",
       "<p>5 rows × 36 columns</p>\n",
       "</div>"
      ],
      "text/plain": [
       "   Comments            City Pre-plant_tillage_method(s)  Issue/comment_#6  \\\n",
       "0       NaN      Georgetown                         NaN               NaN   \n",
       "1       NaN          Tifton        ripper bed, rototill               NaN   \n",
       "2       NaN    Watkinsville               Strip tillage               NaN   \n",
       "3       NaN  Crawfordsville                         NaN               NaN   \n",
       "4       NaN         Carroll                         NaN               NaN   \n",
       "\n",
       "         Env In-season_tillage_method(s)                                 Farm  \\\n",
       "0  DEH1_2022                         NaN  Caraval Research & Education Center   \n",
       "1  GAH1_2022                        none                       USDA Belflower   \n",
       "2  GAH2_2022                        none                      Iron Horse Farm   \n",
       "3  IAH1_2022                        none              Southeast Research Farm   \n",
       "4  IAH2_2022                        none                              Thielen   \n",
       "\n",
       "  Experiment_Code                        Previous_Crop  \\\n",
       "0            DEH1                              soybean   \n",
       "1            GAH1                               peanut   \n",
       "2            GAH2  soybeans with fall cereal rye cover   \n",
       "3            IAH1                              soybean   \n",
       "4            IAH2                              soybean   \n",
       "\n",
       "  Date_weather_station_removed  ...  \\\n",
       "0                      9/19/22  ...   \n",
       "1                      8/25/22  ...   \n",
       "2                      9/22/22  ...   \n",
       "3                          NaN  ...   \n",
       "4                          NaN  ...   \n",
       "\n",
       "   Weather_Station_Longitude (in decimal numbers NOT DMS)  \\\n",
       "0                                         -75.458000        \n",
       "1                                         -83.557290        \n",
       "2                                         -83.304912        \n",
       "3                                                NaN        \n",
       "4                                                NaN        \n",
       "\n",
       "  Pounds_Needed_Soil_Moisture Issue/comment_#5  \\\n",
       "0                         NaN              NaN   \n",
       "1                           2              NaN   \n",
       "2                         NaN              NaN   \n",
       "3                           4              NaN   \n",
       "4                           4              NaN   \n",
       "\n",
       "   Longitude_of_Field_Corner_#2 (lower right)  \\\n",
       "0                                  -75.458000   \n",
       "1                                  -83.558720   \n",
       "2                                  -83.304913   \n",
       "3                                  -91.487440   \n",
       "4                                  -94.728794   \n",
       "\n",
       "                                    Issue/comment_#3  \\\n",
       "0                                                NaN   \n",
       "1                                                NaN   \n",
       "2  6-2-22 realized side border corn wasn't plante...   \n",
       "3                                                NaN   \n",
       "4  Greensnap not counted separately, so stalk lod...   \n",
       "\n",
       "  Date_weather_station_placed  Year  \\\n",
       "0                     4/29/22  2022   \n",
       "1                      4/5/22  2022   \n",
       "2                     4/14/22  2022   \n",
       "3                         NaN  2022   \n",
       "4                         NaN  2022   \n",
       "\n",
       "                                    Issue/comment_#1  Treatment  \\\n",
       "0                   Deer damage on the early hybrids   Standard   \n",
       "1  Link to additional weather source available on...   Standard   \n",
       "2             Local_Check from John Patrick Chemical   Standard   \n",
       "3                                                NaN   Standard   \n",
       "4  Thunderstorm caused very high level of root lo...   Standard   \n",
       "\n",
       "   Weather_Station_Latitude (in decimal numbers NOT DMS)  \n",
       "0                                          38.637000      \n",
       "1                                          31.506330      \n",
       "2                                          33.726022      \n",
       "3                                                NaN      \n",
       "4                                                NaN      \n",
       "\n",
       "[5 rows x 36 columns]"
      ]
     },
     "execution_count": 64,
     "metadata": {},
     "output_type": "execute_result"
    }
   ],
   "source": [
    "test_meta_ext.head()"
   ]
  },
  {
   "cell_type": "code",
   "execution_count": 65,
   "id": "ff580617",
   "metadata": {},
   "outputs": [],
   "source": [
    "train_meta_ext = Meta_data[meta_intersecting]"
   ]
  },
  {
   "cell_type": "code",
   "execution_count": 66,
   "id": "8b02086d",
   "metadata": {},
   "outputs": [
    {
     "data": {
      "text/html": [
       "<div>\n",
       "<style scoped>\n",
       "    .dataframe tbody tr th:only-of-type {\n",
       "        vertical-align: middle;\n",
       "    }\n",
       "\n",
       "    .dataframe tbody tr th {\n",
       "        vertical-align: top;\n",
       "    }\n",
       "\n",
       "    .dataframe thead th {\n",
       "        text-align: right;\n",
       "    }\n",
       "</style>\n",
       "<table border=\"1\" class=\"dataframe\">\n",
       "  <thead>\n",
       "    <tr style=\"text-align: right;\">\n",
       "      <th></th>\n",
       "      <th>Comments</th>\n",
       "      <th>City</th>\n",
       "      <th>Pre-plant_tillage_method(s)</th>\n",
       "      <th>Issue/comment_#6</th>\n",
       "      <th>Env</th>\n",
       "      <th>In-season_tillage_method(s)</th>\n",
       "      <th>Farm</th>\n",
       "      <th>Experiment_Code</th>\n",
       "      <th>Previous_Crop</th>\n",
       "      <th>Date_weather_station_removed</th>\n",
       "      <th>...</th>\n",
       "      <th>Weather_Station_Longitude (in decimal numbers NOT DMS)</th>\n",
       "      <th>Pounds_Needed_Soil_Moisture</th>\n",
       "      <th>Issue/comment_#5</th>\n",
       "      <th>Longitude_of_Field_Corner_#2 (lower right)</th>\n",
       "      <th>Issue/comment_#3</th>\n",
       "      <th>Date_weather_station_placed</th>\n",
       "      <th>Year</th>\n",
       "      <th>Issue/comment_#1</th>\n",
       "      <th>Treatment</th>\n",
       "      <th>Weather_Station_Latitude (in decimal numbers NOT DMS)</th>\n",
       "    </tr>\n",
       "  </thead>\n",
       "  <tbody>\n",
       "    <tr>\n",
       "      <th>0</th>\n",
       "      <td>Information for TXH1-Dry_2017, TXH1-Early_2017...</td>\n",
       "      <td>College Station</td>\n",
       "      <td>NaN</td>\n",
       "      <td>NaN</td>\n",
       "      <td>TXH1-Early_2017</td>\n",
       "      <td>NaN</td>\n",
       "      <td>University Field Lab</td>\n",
       "      <td>TXH1</td>\n",
       "      <td>NaN</td>\n",
       "      <td>8/10/17</td>\n",
       "      <td>...</td>\n",
       "      <td>-96.432581</td>\n",
       "      <td>NaN</td>\n",
       "      <td>NaN</td>\n",
       "      <td>NaN</td>\n",
       "      <td>NaN</td>\n",
       "      <td>3/8/17</td>\n",
       "      <td>2017</td>\n",
       "      <td>NaN</td>\n",
       "      <td>Standard</td>\n",
       "      <td>30.545350</td>\n",
       "    </tr>\n",
       "    <tr>\n",
       "      <th>1</th>\n",
       "      <td>Information for TXH1-Dry_2017, TXH1-Early_2017...</td>\n",
       "      <td>College Station</td>\n",
       "      <td>NaN</td>\n",
       "      <td>NaN</td>\n",
       "      <td>TXH1-Late_2017</td>\n",
       "      <td>NaN</td>\n",
       "      <td>University Field Lab</td>\n",
       "      <td>TXH1</td>\n",
       "      <td>NaN</td>\n",
       "      <td>8/10/17</td>\n",
       "      <td>...</td>\n",
       "      <td>-96.432581</td>\n",
       "      <td>NaN</td>\n",
       "      <td>NaN</td>\n",
       "      <td>NaN</td>\n",
       "      <td>NaN</td>\n",
       "      <td>3/8/17</td>\n",
       "      <td>2017</td>\n",
       "      <td>NaN</td>\n",
       "      <td>Standard</td>\n",
       "      <td>30.545350</td>\n",
       "    </tr>\n",
       "    <tr>\n",
       "      <th>2</th>\n",
       "      <td>Information for IAH1a_2014, IAH1b_2014,and IAH...</td>\n",
       "      <td>Ames</td>\n",
       "      <td>field cultivator</td>\n",
       "      <td>NaN</td>\n",
       "      <td>IAH1b_2014</td>\n",
       "      <td>NaN</td>\n",
       "      <td>Worle</td>\n",
       "      <td>IAH1</td>\n",
       "      <td>soybean</td>\n",
       "      <td>NaN</td>\n",
       "      <td>...</td>\n",
       "      <td>-93.696188</td>\n",
       "      <td>NaN</td>\n",
       "      <td>NaN</td>\n",
       "      <td>NaN</td>\n",
       "      <td>NaN</td>\n",
       "      <td>NaN</td>\n",
       "      <td>2014</td>\n",
       "      <td>NaN</td>\n",
       "      <td>NaN</td>\n",
       "      <td>41.996530</td>\n",
       "    </tr>\n",
       "    <tr>\n",
       "      <th>3</th>\n",
       "      <td>Information for IAH1a_2014, IAH1b_2014,and IAH...</td>\n",
       "      <td>Ames</td>\n",
       "      <td>field cultivator</td>\n",
       "      <td>NaN</td>\n",
       "      <td>IAH1c_2014</td>\n",
       "      <td>NaN</td>\n",
       "      <td>Worle</td>\n",
       "      <td>IAH1</td>\n",
       "      <td>soybean</td>\n",
       "      <td>NaN</td>\n",
       "      <td>...</td>\n",
       "      <td>-93.696188</td>\n",
       "      <td>NaN</td>\n",
       "      <td>NaN</td>\n",
       "      <td>NaN</td>\n",
       "      <td>NaN</td>\n",
       "      <td>NaN</td>\n",
       "      <td>2014</td>\n",
       "      <td>NaN</td>\n",
       "      <td>NaN</td>\n",
       "      <td>41.996530</td>\n",
       "    </tr>\n",
       "    <tr>\n",
       "      <th>4</th>\n",
       "      <td>NaN</td>\n",
       "      <td>Marianna</td>\n",
       "      <td>Cultivate, hip and row</td>\n",
       "      <td>NaN</td>\n",
       "      <td>ARH1_2016</td>\n",
       "      <td>none</td>\n",
       "      <td>NaN</td>\n",
       "      <td>ARH1</td>\n",
       "      <td>corn</td>\n",
       "      <td>9/1/16</td>\n",
       "      <td>...</td>\n",
       "      <td>-90.760278</td>\n",
       "      <td>NaN</td>\n",
       "      <td>NaN</td>\n",
       "      <td>-90.76094</td>\n",
       "      <td>NaN</td>\n",
       "      <td>4/22/16</td>\n",
       "      <td>2016</td>\n",
       "      <td>Large pigweed in field at harvest August 30 an...</td>\n",
       "      <td>NaN</td>\n",
       "      <td>34.728333</td>\n",
       "    </tr>\n",
       "  </tbody>\n",
       "</table>\n",
       "<p>5 rows × 36 columns</p>\n",
       "</div>"
      ],
      "text/plain": [
       "                                            Comments             City  \\\n",
       "0  Information for TXH1-Dry_2017, TXH1-Early_2017...  College Station   \n",
       "1  Information for TXH1-Dry_2017, TXH1-Early_2017...  College Station   \n",
       "2  Information for IAH1a_2014, IAH1b_2014,and IAH...             Ames   \n",
       "3  Information for IAH1a_2014, IAH1b_2014,and IAH...             Ames   \n",
       "4                                                NaN         Marianna   \n",
       "\n",
       "  Pre-plant_tillage_method(s) Issue/comment_#6              Env  \\\n",
       "0                         NaN              NaN  TXH1-Early_2017   \n",
       "1                         NaN              NaN   TXH1-Late_2017   \n",
       "2            field cultivator              NaN       IAH1b_2014   \n",
       "3            field cultivator              NaN       IAH1c_2014   \n",
       "4      Cultivate, hip and row              NaN        ARH1_2016   \n",
       "\n",
       "  In-season_tillage_method(s)                  Farm Experiment_Code  \\\n",
       "0                         NaN  University Field Lab            TXH1   \n",
       "1                         NaN  University Field Lab            TXH1   \n",
       "2                         NaN                 Worle            IAH1   \n",
       "3                         NaN                 Worle            IAH1   \n",
       "4                        none                   NaN            ARH1   \n",
       "\n",
       "  Previous_Crop Date_weather_station_removed  ...  \\\n",
       "0           NaN                      8/10/17  ...   \n",
       "1           NaN                      8/10/17  ...   \n",
       "2       soybean                          NaN  ...   \n",
       "3       soybean                          NaN  ...   \n",
       "4          corn                       9/1/16  ...   \n",
       "\n",
       "   Weather_Station_Longitude (in decimal numbers NOT DMS)  \\\n",
       "0                                         -96.432581        \n",
       "1                                         -96.432581        \n",
       "2                                         -93.696188        \n",
       "3                                         -93.696188        \n",
       "4                                         -90.760278        \n",
       "\n",
       "  Pounds_Needed_Soil_Moisture Issue/comment_#5  \\\n",
       "0                         NaN              NaN   \n",
       "1                         NaN              NaN   \n",
       "2                         NaN              NaN   \n",
       "3                         NaN              NaN   \n",
       "4                         NaN              NaN   \n",
       "\n",
       "  Longitude_of_Field_Corner_#2 (lower right)  Issue/comment_#3  \\\n",
       "0                                        NaN               NaN   \n",
       "1                                        NaN               NaN   \n",
       "2                                        NaN               NaN   \n",
       "3                                        NaN               NaN   \n",
       "4                                  -90.76094               NaN   \n",
       "\n",
       "  Date_weather_station_placed  Year  \\\n",
       "0                      3/8/17  2017   \n",
       "1                      3/8/17  2017   \n",
       "2                         NaN  2014   \n",
       "3                         NaN  2014   \n",
       "4                     4/22/16  2016   \n",
       "\n",
       "                                    Issue/comment_#1  Treatment  \\\n",
       "0                                                NaN   Standard   \n",
       "1                                                NaN   Standard   \n",
       "2                                                NaN        NaN   \n",
       "3                                                NaN        NaN   \n",
       "4  Large pigweed in field at harvest August 30 an...        NaN   \n",
       "\n",
       "   Weather_Station_Latitude (in decimal numbers NOT DMS)  \n",
       "0                                          30.545350      \n",
       "1                                          30.545350      \n",
       "2                                          41.996530      \n",
       "3                                          41.996530      \n",
       "4                                          34.728333      \n",
       "\n",
       "[5 rows x 36 columns]"
      ]
     },
     "execution_count": 66,
     "metadata": {},
     "output_type": "execute_result"
    }
   ],
   "source": [
    "train_meta_ext.head()"
   ]
  },
  {
   "cell_type": "code",
   "execution_count": 67,
   "id": "df78206a",
   "metadata": {},
   "outputs": [
    {
     "data": {
      "text/plain": [
       "True"
      ]
     },
     "execution_count": 67,
     "metadata": {},
     "output_type": "execute_result"
    }
   ],
   "source": [
    "list(train_meta_ext.columns) == list(test_meta_ext.columns)"
   ]
  },
  {
   "cell_type": "code",
   "execution_count": 68,
   "id": "431d27d7",
   "metadata": {},
   "outputs": [],
   "source": [
    "# now stack the two datasets together\n",
    "meta_all = pd.concat([train_meta_ext, test_meta_ext], axis = 0)"
   ]
  },
  {
   "cell_type": "code",
   "execution_count": 69,
   "id": "9a90db90",
   "metadata": {},
   "outputs": [
    {
     "data": {
      "text/plain": [
       "(243, 36)"
      ]
     },
     "execution_count": 69,
     "metadata": {},
     "output_type": "execute_result"
    }
   ],
   "source": [
    "meta_all.shape"
   ]
  },
  {
   "cell_type": "code",
   "execution_count": 70,
   "id": "c17a3ee0",
   "metadata": {},
   "outputs": [],
   "source": [
    "# meta_all.tail()"
   ]
  },
  {
   "cell_type": "markdown",
   "id": "bf803965",
   "metadata": {},
   "source": [
    "#### Stack soil data"
   ]
  },
  {
   "cell_type": "code",
   "execution_count": 71,
   "id": "3e2f0cf1",
   "metadata": {},
   "outputs": [],
   "source": [
    "# soil data \n",
    "test_soil_data = pd.read_csv(r\"Testing_Data\\3_Testing_Soil_Data_2022.csv\")"
   ]
  },
  {
   "cell_type": "code",
   "execution_count": 72,
   "id": "0c28ff38",
   "metadata": {},
   "outputs": [
    {
     "data": {
      "text/html": [
       "<div>\n",
       "<style scoped>\n",
       "    .dataframe tbody tr th:only-of-type {\n",
       "        vertical-align: middle;\n",
       "    }\n",
       "\n",
       "    .dataframe tbody tr th {\n",
       "        vertical-align: top;\n",
       "    }\n",
       "\n",
       "    .dataframe thead th {\n",
       "        text-align: right;\n",
       "    }\n",
       "</style>\n",
       "<table border=\"1\" class=\"dataframe\">\n",
       "  <thead>\n",
       "    <tr style=\"text-align: right;\">\n",
       "      <th></th>\n",
       "      <th>Year</th>\n",
       "      <th>Env</th>\n",
       "      <th>LabID</th>\n",
       "      <th>Date Received</th>\n",
       "      <th>Date Reported</th>\n",
       "      <th>E Depth</th>\n",
       "      <th>1:1 Soil pH</th>\n",
       "      <th>WDRF Buffer pH</th>\n",
       "      <th>1:1 S Salts mmho/cm</th>\n",
       "      <th>Texture No</th>\n",
       "      <th>...</th>\n",
       "      <th>%K Sat</th>\n",
       "      <th>%Ca Sat</th>\n",
       "      <th>%Mg Sat</th>\n",
       "      <th>%Na Sat</th>\n",
       "      <th>Mehlich P-III ppm P</th>\n",
       "      <th>% Sand</th>\n",
       "      <th>% Silt</th>\n",
       "      <th>% Clay</th>\n",
       "      <th>Texture</th>\n",
       "      <th>Comments</th>\n",
       "    </tr>\n",
       "  </thead>\n",
       "  <tbody>\n",
       "    <tr>\n",
       "      <th>0</th>\n",
       "      <td>2022</td>\n",
       "      <td>DEH1_2022</td>\n",
       "      <td>Ward Laboratories Inc</td>\n",
       "      <td>8/18/2022</td>\n",
       "      <td>8/22/2022</td>\n",
       "      <td>8</td>\n",
       "      <td>6.6</td>\n",
       "      <td>7.2</td>\n",
       "      <td>0.21</td>\n",
       "      <td>2.0</td>\n",
       "      <td>...</td>\n",
       "      <td>10</td>\n",
       "      <td>69</td>\n",
       "      <td>19</td>\n",
       "      <td>2</td>\n",
       "      <td>75</td>\n",
       "      <td>74.0</td>\n",
       "      <td>15.0</td>\n",
       "      <td>11.0</td>\n",
       "      <td>Sandy Loam</td>\n",
       "      <td>NaN</td>\n",
       "    </tr>\n",
       "    <tr>\n",
       "      <th>1</th>\n",
       "      <td>2022</td>\n",
       "      <td>GAH1_2022</td>\n",
       "      <td>Ward Laboratories Inc</td>\n",
       "      <td>5/12/2022</td>\n",
       "      <td>5/16/2022</td>\n",
       "      <td>12</td>\n",
       "      <td>6.2</td>\n",
       "      <td>6.9</td>\n",
       "      <td>0.52</td>\n",
       "      <td>2.0</td>\n",
       "      <td>...</td>\n",
       "      <td>13</td>\n",
       "      <td>44</td>\n",
       "      <td>13</td>\n",
       "      <td>1</td>\n",
       "      <td>137</td>\n",
       "      <td>83.0</td>\n",
       "      <td>10.0</td>\n",
       "      <td>7.0</td>\n",
       "      <td>Loamy Sand</td>\n",
       "      <td>NaN</td>\n",
       "    </tr>\n",
       "    <tr>\n",
       "      <th>2</th>\n",
       "      <td>2022</td>\n",
       "      <td>GAH2_2022</td>\n",
       "      <td>Ward Laboratories Inc</td>\n",
       "      <td>4/26/2022</td>\n",
       "      <td>4/28/2022</td>\n",
       "      <td>12</td>\n",
       "      <td>6.1</td>\n",
       "      <td>6.7</td>\n",
       "      <td>0.23</td>\n",
       "      <td>2.0</td>\n",
       "      <td>...</td>\n",
       "      <td>5</td>\n",
       "      <td>38</td>\n",
       "      <td>11</td>\n",
       "      <td>1</td>\n",
       "      <td>45</td>\n",
       "      <td>63.0</td>\n",
       "      <td>16.0</td>\n",
       "      <td>21.0</td>\n",
       "      <td>Sandy Clay Loam</td>\n",
       "      <td>NaN</td>\n",
       "    </tr>\n",
       "    <tr>\n",
       "      <th>3</th>\n",
       "      <td>2022</td>\n",
       "      <td>IAH1_2022</td>\n",
       "      <td>Ward Laboratories Inc</td>\n",
       "      <td>6/24/2022</td>\n",
       "      <td>6/28/2022</td>\n",
       "      <td>8</td>\n",
       "      <td>6.2</td>\n",
       "      <td>6.6</td>\n",
       "      <td>0.36</td>\n",
       "      <td>2.0</td>\n",
       "      <td>...</td>\n",
       "      <td>2</td>\n",
       "      <td>59</td>\n",
       "      <td>24</td>\n",
       "      <td>0</td>\n",
       "      <td>51</td>\n",
       "      <td>16.0</td>\n",
       "      <td>45.0</td>\n",
       "      <td>39.0</td>\n",
       "      <td>Silty Clay Loam</td>\n",
       "      <td>NaN</td>\n",
       "    </tr>\n",
       "    <tr>\n",
       "      <th>4</th>\n",
       "      <td>2022</td>\n",
       "      <td>IAH2_2022</td>\n",
       "      <td>Ward Laboratories Inc</td>\n",
       "      <td>6/24/2022</td>\n",
       "      <td>6/28/2022</td>\n",
       "      <td>8</td>\n",
       "      <td>5.9</td>\n",
       "      <td>6.4</td>\n",
       "      <td>0.17</td>\n",
       "      <td>2.0</td>\n",
       "      <td>...</td>\n",
       "      <td>3</td>\n",
       "      <td>55</td>\n",
       "      <td>12</td>\n",
       "      <td>0</td>\n",
       "      <td>59</td>\n",
       "      <td>44.0</td>\n",
       "      <td>29.0</td>\n",
       "      <td>27.0</td>\n",
       "      <td>Loam</td>\n",
       "      <td>NaN</td>\n",
       "    </tr>\n",
       "  </tbody>\n",
       "</table>\n",
       "<p>5 rows × 30 columns</p>\n",
       "</div>"
      ],
      "text/plain": [
       "   Year        Env                  LabID Date Received Date Reported  \\\n",
       "0  2022  DEH1_2022  Ward Laboratories Inc     8/18/2022     8/22/2022   \n",
       "1  2022  GAH1_2022  Ward Laboratories Inc     5/12/2022     5/16/2022   \n",
       "2  2022  GAH2_2022  Ward Laboratories Inc     4/26/2022     4/28/2022   \n",
       "3  2022  IAH1_2022  Ward Laboratories Inc     6/24/2022     6/28/2022   \n",
       "4  2022  IAH2_2022  Ward Laboratories Inc     6/24/2022     6/28/2022   \n",
       "\n",
       "   E Depth  1:1 Soil pH  WDRF Buffer pH  1:1 S Salts mmho/cm  Texture No  ...  \\\n",
       "0        8          6.6             7.2                 0.21         2.0  ...   \n",
       "1       12          6.2             6.9                 0.52         2.0  ...   \n",
       "2       12          6.1             6.7                 0.23         2.0  ...   \n",
       "3        8          6.2             6.6                 0.36         2.0  ...   \n",
       "4        8          5.9             6.4                 0.17         2.0  ...   \n",
       "\n",
       "   %K Sat  %Ca Sat  %Mg Sat  %Na Sat  Mehlich P-III ppm P  % Sand  % Silt  \\\n",
       "0      10       69       19        2                   75    74.0    15.0   \n",
       "1      13       44       13        1                  137    83.0    10.0   \n",
       "2       5       38       11        1                   45    63.0    16.0   \n",
       "3       2       59       24        0                   51    16.0    45.0   \n",
       "4       3       55       12        0                   59    44.0    29.0   \n",
       "\n",
       "   % Clay          Texture  Comments  \n",
       "0    11.0       Sandy Loam       NaN  \n",
       "1     7.0       Loamy Sand       NaN  \n",
       "2    21.0  Sandy Clay Loam       NaN  \n",
       "3    39.0  Silty Clay Loam       NaN  \n",
       "4    27.0             Loam       NaN  \n",
       "\n",
       "[5 rows x 30 columns]"
      ]
     },
     "execution_count": 72,
     "metadata": {},
     "output_type": "execute_result"
    }
   ],
   "source": [
    "test_soil_data.head()"
   ]
  },
  {
   "cell_type": "code",
   "execution_count": 73,
   "id": "3d0453d1",
   "metadata": {},
   "outputs": [
    {
     "data": {
      "text/plain": [
       "(21, 30)"
      ]
     },
     "execution_count": 73,
     "metadata": {},
     "output_type": "execute_result"
    }
   ],
   "source": [
    "test_soil_data.shape"
   ]
  },
  {
   "cell_type": "code",
   "execution_count": 74,
   "id": "f206d335",
   "metadata": {},
   "outputs": [
    {
     "data": {
      "text/plain": [
       "(21, 30)"
      ]
     },
     "execution_count": 74,
     "metadata": {},
     "output_type": "execute_result"
    }
   ],
   "source": [
    "test_soil_data = test_soil_data.drop_duplicates()\n",
    "test_soil_data.shape"
   ]
  },
  {
   "cell_type": "code",
   "execution_count": 75,
   "id": "acfcb37a",
   "metadata": {
    "scrolled": true
   },
   "outputs": [
    {
     "data": {
      "text/plain": [
       "(141, 36)"
      ]
     },
     "execution_count": 75,
     "metadata": {},
     "output_type": "execute_result"
    }
   ],
   "source": [
    "soil_data.shape"
   ]
  },
  {
   "cell_type": "code",
   "execution_count": 76,
   "id": "64251324",
   "metadata": {},
   "outputs": [],
   "source": [
    "soil_data = soil_data.drop_duplicates()"
   ]
  },
  {
   "cell_type": "code",
   "execution_count": 77,
   "id": "8ad8b991",
   "metadata": {},
   "outputs": [
    {
     "data": {
      "text/plain": [
       "(141, 36)"
      ]
     },
     "execution_count": 77,
     "metadata": {},
     "output_type": "execute_result"
    }
   ],
   "source": [
    "soil_data.shape"
   ]
  },
  {
   "cell_type": "code",
   "execution_count": 78,
   "id": "a4c55806",
   "metadata": {},
   "outputs": [
    {
     "data": {
      "text/plain": [
       "(141, 36)"
      ]
     },
     "execution_count": 78,
     "metadata": {},
     "output_type": "execute_result"
    }
   ],
   "source": [
    "soil_data.shape"
   ]
  },
  {
   "cell_type": "code",
   "execution_count": 79,
   "id": "972ecbac",
   "metadata": {},
   "outputs": [
    {
     "data": {
      "text/plain": [
       "1349"
      ]
     },
     "execution_count": 79,
     "metadata": {},
     "output_type": "execute_result"
    }
   ],
   "source": [
    "soil_data.isna().sum().sum()"
   ]
  },
  {
   "cell_type": "code",
   "execution_count": 80,
   "id": "007364b7",
   "metadata": {},
   "outputs": [
    {
     "data": {
      "text/plain": [
       "26"
      ]
     },
     "execution_count": 80,
     "metadata": {},
     "output_type": "execute_result"
    }
   ],
   "source": [
    "# missing values\n",
    "missing_soil_test = test_soil_data.isna().sum()\n",
    "missing_soil_test.sum()"
   ]
  },
  {
   "cell_type": "code",
   "execution_count": 81,
   "id": "e9482ffe",
   "metadata": {
    "scrolled": true
   },
   "outputs": [],
   "source": [
    "soil_int_cols = list(set(soil_data.columns) & set(test_soil_data.columns))"
   ]
  },
  {
   "cell_type": "code",
   "execution_count": 82,
   "id": "e63e83df",
   "metadata": {},
   "outputs": [
    {
     "data": {
      "text/plain": [
       "30"
      ]
     },
     "execution_count": 82,
     "metadata": {},
     "output_type": "execute_result"
    }
   ],
   "source": [
    "len(soil_int_cols)"
   ]
  },
  {
   "cell_type": "code",
   "execution_count": 83,
   "id": "0d55e10c",
   "metadata": {},
   "outputs": [],
   "source": [
    "# exract the intersecting columns from both datasets\n",
    "soil_train_final = soil_data[soil_int_cols]\n",
    "soil_test_final = test_soil_data[soil_int_cols]"
   ]
  },
  {
   "cell_type": "code",
   "execution_count": 84,
   "id": "6bbbb551",
   "metadata": {
    "scrolled": true
   },
   "outputs": [
    {
     "data": {
      "text/plain": [
       "529"
      ]
     },
     "execution_count": 84,
     "metadata": {},
     "output_type": "execute_result"
    }
   ],
   "source": [
    "soil_train_final.isna().sum().sum()"
   ]
  },
  {
   "cell_type": "code",
   "execution_count": 85,
   "id": "2adf7117",
   "metadata": {},
   "outputs": [
    {
     "data": {
      "text/plain": [
       "26"
      ]
     },
     "execution_count": 85,
     "metadata": {},
     "output_type": "execute_result"
    }
   ],
   "source": [
    "soil_test_final.isna().sum().sum()"
   ]
  },
  {
   "cell_type": "code",
   "execution_count": 86,
   "id": "7cf29cc4",
   "metadata": {},
   "outputs": [],
   "source": [
    "# stack these two vertically\n",
    "soil_final = pd.concat([soil_train_final, soil_test_final], axis = 0)"
   ]
  },
  {
   "cell_type": "code",
   "execution_count": 87,
   "id": "6171f332",
   "metadata": {},
   "outputs": [
    {
     "data": {
      "text/plain": [
       "(162, 30)"
      ]
     },
     "execution_count": 87,
     "metadata": {},
     "output_type": "execute_result"
    }
   ],
   "source": [
    "soil_final.shape"
   ]
  },
  {
   "cell_type": "code",
   "execution_count": 88,
   "id": "94c02da1",
   "metadata": {},
   "outputs": [
    {
     "data": {
      "text/plain": [
       "555"
      ]
     },
     "execution_count": 88,
     "metadata": {},
     "output_type": "execute_result"
    }
   ],
   "source": [
    "soil_final.isna().sum().sum()"
   ]
  },
  {
   "cell_type": "markdown",
   "id": "76b70a95",
   "metadata": {},
   "source": [
    "#### Stack weather dta together"
   ]
  },
  {
   "cell_type": "code",
   "execution_count": 89,
   "id": "376577d2",
   "metadata": {},
   "outputs": [],
   "source": [
    "# weather data\n",
    "test_weather_data = pd.read_csv(r\"Testing_Data\\4_Testing_Weather_Data_2022.csv\")"
   ]
  },
  {
   "cell_type": "code",
   "execution_count": 90,
   "id": "3b769878",
   "metadata": {
    "scrolled": true
   },
   "outputs": [
    {
     "data": {
      "text/html": [
       "<div>\n",
       "<style scoped>\n",
       "    .dataframe tbody tr th:only-of-type {\n",
       "        vertical-align: middle;\n",
       "    }\n",
       "\n",
       "    .dataframe tbody tr th {\n",
       "        vertical-align: top;\n",
       "    }\n",
       "\n",
       "    .dataframe thead th {\n",
       "        text-align: right;\n",
       "    }\n",
       "</style>\n",
       "<table border=\"1\" class=\"dataframe\">\n",
       "  <thead>\n",
       "    <tr style=\"text-align: right;\">\n",
       "      <th></th>\n",
       "      <th>Env</th>\n",
       "      <th>Date</th>\n",
       "      <th>QV2M</th>\n",
       "      <th>PS</th>\n",
       "      <th>WS2M</th>\n",
       "      <th>ALLSKY_SFC_SW_DWN</th>\n",
       "      <th>RH2M</th>\n",
       "      <th>GWETTOP</th>\n",
       "      <th>T2MWET</th>\n",
       "      <th>T2M_MAX</th>\n",
       "      <th>T2MDEW</th>\n",
       "      <th>GWETROOT</th>\n",
       "      <th>GWETPROF</th>\n",
       "      <th>T2M</th>\n",
       "      <th>T2M_MIN</th>\n",
       "      <th>ALLSKY_SFC_PAR_TOT</th>\n",
       "      <th>PRECTOTCORR</th>\n",
       "      <th>ALLSKY_SFC_SW_DNI</th>\n",
       "    </tr>\n",
       "  </thead>\n",
       "  <tbody>\n",
       "    <tr>\n",
       "      <th>0</th>\n",
       "      <td>DEH1_2022</td>\n",
       "      <td>20220101</td>\n",
       "      <td>9.70</td>\n",
       "      <td>100.62</td>\n",
       "      <td>3.25</td>\n",
       "      <td>1.89</td>\n",
       "      <td>97.00</td>\n",
       "      <td>0.61</td>\n",
       "      <td>13.69</td>\n",
       "      <td>17.08</td>\n",
       "      <td>13.51</td>\n",
       "      <td>0.62</td>\n",
       "      <td>0.61</td>\n",
       "      <td>13.89</td>\n",
       "      <td>10.15</td>\n",
       "      <td>10.18</td>\n",
       "      <td>4.59</td>\n",
       "      <td>1.30</td>\n",
       "    </tr>\n",
       "    <tr>\n",
       "      <th>1</th>\n",
       "      <td>DEH1_2022</td>\n",
       "      <td>20220102</td>\n",
       "      <td>9.70</td>\n",
       "      <td>100.44</td>\n",
       "      <td>3.66</td>\n",
       "      <td>2.45</td>\n",
       "      <td>93.00</td>\n",
       "      <td>0.66</td>\n",
       "      <td>13.93</td>\n",
       "      <td>16.78</td>\n",
       "      <td>13.37</td>\n",
       "      <td>0.65</td>\n",
       "      <td>0.63</td>\n",
       "      <td>14.49</td>\n",
       "      <td>8.79</td>\n",
       "      <td>13.28</td>\n",
       "      <td>14.32</td>\n",
       "      <td>1.43</td>\n",
       "    </tr>\n",
       "    <tr>\n",
       "      <th>2</th>\n",
       "      <td>DEH1_2022</td>\n",
       "      <td>20220103</td>\n",
       "      <td>3.30</td>\n",
       "      <td>101.48</td>\n",
       "      <td>6.94</td>\n",
       "      <td>2.30</td>\n",
       "      <td>84.56</td>\n",
       "      <td>0.67</td>\n",
       "      <td>-0.85</td>\n",
       "      <td>7.39</td>\n",
       "      <td>-2.04</td>\n",
       "      <td>0.66</td>\n",
       "      <td>0.65</td>\n",
       "      <td>0.33</td>\n",
       "      <td>-5.74</td>\n",
       "      <td>12.02</td>\n",
       "      <td>25.85</td>\n",
       "      <td>2.05</td>\n",
       "    </tr>\n",
       "    <tr>\n",
       "      <th>3</th>\n",
       "      <td>DEH1_2022</td>\n",
       "      <td>20220104</td>\n",
       "      <td>2.14</td>\n",
       "      <td>102.81</td>\n",
       "      <td>1.91</td>\n",
       "      <td>10.73</td>\n",
       "      <td>85.75</td>\n",
       "      <td>0.66</td>\n",
       "      <td>-6.02</td>\n",
       "      <td>1.01</td>\n",
       "      <td>-7.28</td>\n",
       "      <td>0.67</td>\n",
       "      <td>0.65</td>\n",
       "      <td>-4.77</td>\n",
       "      <td>-9.42</td>\n",
       "      <td>51.66</td>\n",
       "      <td>0.01</td>\n",
       "      <td>25.53</td>\n",
       "    </tr>\n",
       "    <tr>\n",
       "      <th>4</th>\n",
       "      <td>DEH1_2022</td>\n",
       "      <td>20220105</td>\n",
       "      <td>4.76</td>\n",
       "      <td>101.36</td>\n",
       "      <td>2.99</td>\n",
       "      <td>5.67</td>\n",
       "      <td>98.44</td>\n",
       "      <td>0.70</td>\n",
       "      <td>3.15</td>\n",
       "      <td>5.08</td>\n",
       "      <td>3.10</td>\n",
       "      <td>0.68</td>\n",
       "      <td>0.66</td>\n",
       "      <td>3.21</td>\n",
       "      <td>-4.70</td>\n",
       "      <td>28.96</td>\n",
       "      <td>2.93</td>\n",
       "      <td>2.68</td>\n",
       "    </tr>\n",
       "  </tbody>\n",
       "</table>\n",
       "</div>"
      ],
      "text/plain": [
       "         Env      Date  QV2M      PS  WS2M  ALLSKY_SFC_SW_DWN   RH2M  GWETTOP  \\\n",
       "0  DEH1_2022  20220101  9.70  100.62  3.25               1.89  97.00     0.61   \n",
       "1  DEH1_2022  20220102  9.70  100.44  3.66               2.45  93.00     0.66   \n",
       "2  DEH1_2022  20220103  3.30  101.48  6.94               2.30  84.56     0.67   \n",
       "3  DEH1_2022  20220104  2.14  102.81  1.91              10.73  85.75     0.66   \n",
       "4  DEH1_2022  20220105  4.76  101.36  2.99               5.67  98.44     0.70   \n",
       "\n",
       "   T2MWET  T2M_MAX  T2MDEW  GWETROOT  GWETPROF    T2M  T2M_MIN  \\\n",
       "0   13.69    17.08   13.51      0.62      0.61  13.89    10.15   \n",
       "1   13.93    16.78   13.37      0.65      0.63  14.49     8.79   \n",
       "2   -0.85     7.39   -2.04      0.66      0.65   0.33    -5.74   \n",
       "3   -6.02     1.01   -7.28      0.67      0.65  -4.77    -9.42   \n",
       "4    3.15     5.08    3.10      0.68      0.66   3.21    -4.70   \n",
       "\n",
       "   ALLSKY_SFC_PAR_TOT  PRECTOTCORR  ALLSKY_SFC_SW_DNI  \n",
       "0               10.18         4.59               1.30  \n",
       "1               13.28        14.32               1.43  \n",
       "2               12.02        25.85               2.05  \n",
       "3               51.66         0.01              25.53  \n",
       "4               28.96         2.93               2.68  "
      ]
     },
     "execution_count": 90,
     "metadata": {},
     "output_type": "execute_result"
    }
   ],
   "source": [
    "test_weather_data.head()"
   ]
  },
  {
   "cell_type": "code",
   "execution_count": 91,
   "id": "e5a78d36",
   "metadata": {},
   "outputs": [
    {
     "data": {
      "text/plain": [
       "34603"
      ]
     },
     "execution_count": 91,
     "metadata": {},
     "output_type": "execute_result"
    }
   ],
   "source": [
    "test_weather_data.isna().sum().sum()"
   ]
  },
  {
   "cell_type": "code",
   "execution_count": 92,
   "id": "6b947c39",
   "metadata": {
    "scrolled": true
   },
   "outputs": [
    {
     "data": {
      "text/plain": [
       "(8164, 18)"
      ]
     },
     "execution_count": 92,
     "metadata": {},
     "output_type": "execute_result"
    }
   ],
   "source": [
    "test_weather_data.shape"
   ]
  },
  {
   "cell_type": "code",
   "execution_count": 93,
   "id": "acbecfcc",
   "metadata": {},
   "outputs": [
    {
     "data": {
      "text/plain": [
       "(8164, 18)"
      ]
     },
     "execution_count": 93,
     "metadata": {},
     "output_type": "execute_result"
    }
   ],
   "source": [
    "test_weather_data = test_weather_data.drop_duplicates()\n",
    "test_weather_data.shape"
   ]
  },
  {
   "cell_type": "code",
   "execution_count": 94,
   "id": "505c8862",
   "metadata": {},
   "outputs": [
    {
     "data": {
      "text/plain": [
       "(77431, 18)"
      ]
     },
     "execution_count": 94,
     "metadata": {},
     "output_type": "execute_result"
    }
   ],
   "source": [
    "weather_data.shape"
   ]
  },
  {
   "cell_type": "code",
   "execution_count": 95,
   "id": "0a2d0590",
   "metadata": {},
   "outputs": [
    {
     "data": {
      "text/plain": [
       "(77431, 18)"
      ]
     },
     "execution_count": 95,
     "metadata": {},
     "output_type": "execute_result"
    }
   ],
   "source": [
    "weather_data = weather_data.drop_duplicates()\n",
    "weather_data.shape"
   ]
  },
  {
   "cell_type": "code",
   "execution_count": 96,
   "id": "91fd8871",
   "metadata": {},
   "outputs": [
    {
     "data": {
      "text/plain": [
       "array([ True,  True,  True, False, False, False, False,  True, False,\n",
       "       False, False, False, False, False, False, False, False, False])"
      ]
     },
     "execution_count": 96,
     "metadata": {},
     "output_type": "execute_result"
    }
   ],
   "source": [
    "\n",
    "# are the columns the same?\n",
    "test_weather_data.columns == weather_data.columns"
   ]
  },
  {
   "cell_type": "code",
   "execution_count": 97,
   "id": "1addc0ba",
   "metadata": {},
   "outputs": [],
   "source": [
    "# may be the order of appearance is incorrect, therefore, let's sort the dataframes according to columns and merge"
   ]
  },
  {
   "cell_type": "code",
   "execution_count": 98,
   "id": "0c7c59aa",
   "metadata": {},
   "outputs": [],
   "source": [
    "weather_data = weather_data.reindex(sorted(weather_data.columns), axis = 1)"
   ]
  },
  {
   "cell_type": "code",
   "execution_count": 99,
   "id": "9bfa5ba6",
   "metadata": {},
   "outputs": [],
   "source": [
    "test_weather_data = test_weather_data.reindex(sorted(weather_data.columns), axis = 1)"
   ]
  },
  {
   "cell_type": "code",
   "execution_count": 100,
   "id": "c1492b73",
   "metadata": {},
   "outputs": [
    {
     "data": {
      "text/plain": [
       "34603"
      ]
     },
     "execution_count": 100,
     "metadata": {},
     "output_type": "execute_result"
    }
   ],
   "source": [
    "test_weather_data.isna().sum().sum()"
   ]
  },
  {
   "cell_type": "code",
   "execution_count": 101,
   "id": "e76ad913",
   "metadata": {},
   "outputs": [
    {
     "data": {
      "text/plain": [
       "array([ True,  True,  True,  True,  True,  True,  True,  True,  True,\n",
       "        True,  True,  True,  True,  True,  True,  True,  True,  True])"
      ]
     },
     "execution_count": 101,
     "metadata": {},
     "output_type": "execute_result"
    }
   ],
   "source": [
    "# are the columns the same now?\n",
    "test_weather_data.columns == weather_data.columns"
   ]
  },
  {
   "cell_type": "code",
   "execution_count": 102,
   "id": "a9c4aba0",
   "metadata": {},
   "outputs": [],
   "source": [
    "# now can concatenate the two dataframes"
   ]
  },
  {
   "cell_type": "code",
   "execution_count": 103,
   "id": "73e97219",
   "metadata": {},
   "outputs": [],
   "source": [
    "weather_final = pd.concat([weather_data,test_weather_data ], axis = 0)"
   ]
  },
  {
   "cell_type": "code",
   "execution_count": 104,
   "id": "90b1e672",
   "metadata": {},
   "outputs": [
    {
     "data": {
      "text/plain": [
       "(85595, 18)"
      ]
     },
     "execution_count": 104,
     "metadata": {},
     "output_type": "execute_result"
    }
   ],
   "source": [
    "weather_final.shape"
   ]
  },
  {
   "cell_type": "code",
   "execution_count": 105,
   "id": "fd09877d",
   "metadata": {},
   "outputs": [
    {
     "data": {
      "text/plain": [
       "(8164, 18)"
      ]
     },
     "execution_count": 105,
     "metadata": {},
     "output_type": "execute_result"
    }
   ],
   "source": [
    "test_weather_data.shape"
   ]
  },
  {
   "cell_type": "code",
   "execution_count": 106,
   "id": "5ef7c100",
   "metadata": {},
   "outputs": [
    {
     "data": {
      "text/plain": [
       "(85595, 18)"
      ]
     },
     "execution_count": 106,
     "metadata": {},
     "output_type": "execute_result"
    }
   ],
   "source": [
    "weather_final.shape"
   ]
  },
  {
   "cell_type": "code",
   "execution_count": 107,
   "id": "63bce89d",
   "metadata": {},
   "outputs": [
    {
     "data": {
      "text/plain": [
       "34603"
      ]
     },
     "execution_count": 107,
     "metadata": {},
     "output_type": "execute_result"
    }
   ],
   "source": [
    "weather_final.isna().sum().sum()"
   ]
  },
  {
   "cell_type": "markdown",
   "id": "2787b6d1",
   "metadata": {},
   "source": [
    "Concatenate EC data"
   ]
  },
  {
   "cell_type": "code",
   "execution_count": 108,
   "id": "1bb310a4",
   "metadata": {},
   "outputs": [],
   "source": [
    "# EC data\n",
    "test_ec_data = pd.read_csv(r\"Testing_Data\\6_Testing_EC_Data_2022.csv\")"
   ]
  },
  {
   "cell_type": "code",
   "execution_count": 109,
   "id": "1145fa67",
   "metadata": {},
   "outputs": [
    {
     "data": {
      "text/html": [
       "<div>\n",
       "<style scoped>\n",
       "    .dataframe tbody tr th:only-of-type {\n",
       "        vertical-align: middle;\n",
       "    }\n",
       "\n",
       "    .dataframe tbody tr th {\n",
       "        vertical-align: top;\n",
       "    }\n",
       "\n",
       "    .dataframe thead th {\n",
       "        text-align: right;\n",
       "    }\n",
       "</style>\n",
       "<table border=\"1\" class=\"dataframe\">\n",
       "  <thead>\n",
       "    <tr style=\"text-align: right;\">\n",
       "      <th></th>\n",
       "      <th>Env</th>\n",
       "      <th>SDR_pGerEme_1</th>\n",
       "      <th>SDR_pEmeEnJ_1</th>\n",
       "      <th>SDR_pEnJFlo_1</th>\n",
       "      <th>SDR_pFloFla_1</th>\n",
       "      <th>SDR_pFlaFlw_1</th>\n",
       "      <th>SDR_pFlwStG_1</th>\n",
       "      <th>SDR_pStGEnG_1</th>\n",
       "      <th>SDR_pEnGMat_1</th>\n",
       "      <th>SDR_pMatHar_1</th>\n",
       "      <th>...</th>\n",
       "      <th>LAI_pMatHar</th>\n",
       "      <th>AccumulatedTT_pGerEme</th>\n",
       "      <th>AccumulatedTT_pEmeEnJ</th>\n",
       "      <th>AccumulatedTT_pEnJFlo</th>\n",
       "      <th>AccumulatedTT_pFloFla</th>\n",
       "      <th>AccumulatedTT_pFlaFlw</th>\n",
       "      <th>AccumulatedTT_pFlwStG</th>\n",
       "      <th>AccumulatedTT_pStGEnG</th>\n",
       "      <th>AccumulatedTT_pEnGMat</th>\n",
       "      <th>AccumulatedTT_pMatHar</th>\n",
       "    </tr>\n",
       "  </thead>\n",
       "  <tbody>\n",
       "    <tr>\n",
       "      <th>0</th>\n",
       "      <td>DEH1_2022</td>\n",
       "      <td>1.131076</td>\n",
       "      <td>2.358124</td>\n",
       "      <td>1.980978</td>\n",
       "      <td>0.733648</td>\n",
       "      <td>0.381055</td>\n",
       "      <td>1.418186</td>\n",
       "      <td>0.730341</td>\n",
       "      <td>0.651287</td>\n",
       "      <td>0.471904</td>\n",
       "      <td>...</td>\n",
       "      <td>0.538889</td>\n",
       "      <td>48.070816</td>\n",
       "      <td>166.008999</td>\n",
       "      <td>278.052122</td>\n",
       "      <td>551.051354</td>\n",
       "      <td>862.739941</td>\n",
       "      <td>956.408061</td>\n",
       "      <td>1259.351230</td>\n",
       "      <td>1510.362176</td>\n",
       "      <td>1520.367176</td>\n",
       "    </tr>\n",
       "    <tr>\n",
       "      <th>1</th>\n",
       "      <td>GAH1_2022</td>\n",
       "      <td>1.754471</td>\n",
       "      <td>-0.185824</td>\n",
       "      <td>0.324568</td>\n",
       "      <td>0.203035</td>\n",
       "      <td>-0.095668</td>\n",
       "      <td>-0.027668</td>\n",
       "      <td>0.180446</td>\n",
       "      <td>0.864418</td>\n",
       "      <td>0.670617</td>\n",
       "      <td>...</td>\n",
       "      <td>0.025638</td>\n",
       "      <td>56.099749</td>\n",
       "      <td>205.363931</td>\n",
       "      <td>328.551985</td>\n",
       "      <td>613.156450</td>\n",
       "      <td>954.857661</td>\n",
       "      <td>1044.227938</td>\n",
       "      <td>1367.658870</td>\n",
       "      <td>1644.471762</td>\n",
       "      <td>1654.521762</td>\n",
       "    </tr>\n",
       "    <tr>\n",
       "      <th>2</th>\n",
       "      <td>GAH2_2022</td>\n",
       "      <td>2.067374</td>\n",
       "      <td>0.625604</td>\n",
       "      <td>0.211157</td>\n",
       "      <td>0.608355</td>\n",
       "      <td>0.412352</td>\n",
       "      <td>0.092036</td>\n",
       "      <td>1.258845</td>\n",
       "      <td>0.644571</td>\n",
       "      <td>0.543398</td>\n",
       "      <td>...</td>\n",
       "      <td>0.041235</td>\n",
       "      <td>54.065761</td>\n",
       "      <td>205.846936</td>\n",
       "      <td>331.936362</td>\n",
       "      <td>624.394771</td>\n",
       "      <td>960.262507</td>\n",
       "      <td>1051.907378</td>\n",
       "      <td>1377.111405</td>\n",
       "      <td>1650.965597</td>\n",
       "      <td>1660.548208</td>\n",
       "    </tr>\n",
       "    <tr>\n",
       "      <th>3</th>\n",
       "      <td>IAH2_2022</td>\n",
       "      <td>7.459778</td>\n",
       "      <td>4.935754</td>\n",
       "      <td>2.289605</td>\n",
       "      <td>1.633580</td>\n",
       "      <td>1.294828</td>\n",
       "      <td>0.674776</td>\n",
       "      <td>1.201408</td>\n",
       "      <td>2.079899</td>\n",
       "      <td>2.322418</td>\n",
       "      <td>...</td>\n",
       "      <td>0.400715</td>\n",
       "      <td>42.872127</td>\n",
       "      <td>195.551707</td>\n",
       "      <td>286.116876</td>\n",
       "      <td>535.684510</td>\n",
       "      <td>848.433303</td>\n",
       "      <td>933.829790</td>\n",
       "      <td>1240.770200</td>\n",
       "      <td>1489.122031</td>\n",
       "      <td>1501.700752</td>\n",
       "    </tr>\n",
       "    <tr>\n",
       "      <th>4</th>\n",
       "      <td>IAH3_2022</td>\n",
       "      <td>11.508488</td>\n",
       "      <td>5.420591</td>\n",
       "      <td>3.548208</td>\n",
       "      <td>2.069801</td>\n",
       "      <td>1.468183</td>\n",
       "      <td>1.244563</td>\n",
       "      <td>1.383816</td>\n",
       "      <td>2.052714</td>\n",
       "      <td>1.942834</td>\n",
       "      <td>...</td>\n",
       "      <td>2.138018</td>\n",
       "      <td>39.483802</td>\n",
       "      <td>216.366246</td>\n",
       "      <td>336.132373</td>\n",
       "      <td>608.834695</td>\n",
       "      <td>946.986274</td>\n",
       "      <td>1035.111504</td>\n",
       "      <td>1372.242979</td>\n",
       "      <td>1646.983582</td>\n",
       "      <td>1653.978032</td>\n",
       "    </tr>\n",
       "  </tbody>\n",
       "</table>\n",
       "<p>5 rows × 766 columns</p>\n",
       "</div>"
      ],
      "text/plain": [
       "         Env  SDR_pGerEme_1  SDR_pEmeEnJ_1  SDR_pEnJFlo_1  SDR_pFloFla_1  \\\n",
       "0  DEH1_2022       1.131076       2.358124       1.980978       0.733648   \n",
       "1  GAH1_2022       1.754471      -0.185824       0.324568       0.203035   \n",
       "2  GAH2_2022       2.067374       0.625604       0.211157       0.608355   \n",
       "3  IAH2_2022       7.459778       4.935754       2.289605       1.633580   \n",
       "4  IAH3_2022      11.508488       5.420591       3.548208       2.069801   \n",
       "\n",
       "   SDR_pFlaFlw_1  SDR_pFlwStG_1  SDR_pStGEnG_1  SDR_pEnGMat_1  SDR_pMatHar_1  \\\n",
       "0       0.381055       1.418186       0.730341       0.651287       0.471904   \n",
       "1      -0.095668      -0.027668       0.180446       0.864418       0.670617   \n",
       "2       0.412352       0.092036       1.258845       0.644571       0.543398   \n",
       "3       1.294828       0.674776       1.201408       2.079899       2.322418   \n",
       "4       1.468183       1.244563       1.383816       2.052714       1.942834   \n",
       "\n",
       "   ...  LAI_pMatHar  AccumulatedTT_pGerEme  AccumulatedTT_pEmeEnJ  \\\n",
       "0  ...     0.538889              48.070816             166.008999   \n",
       "1  ...     0.025638              56.099749             205.363931   \n",
       "2  ...     0.041235              54.065761             205.846936   \n",
       "3  ...     0.400715              42.872127             195.551707   \n",
       "4  ...     2.138018              39.483802             216.366246   \n",
       "\n",
       "   AccumulatedTT_pEnJFlo  AccumulatedTT_pFloFla  AccumulatedTT_pFlaFlw  \\\n",
       "0             278.052122             551.051354             862.739941   \n",
       "1             328.551985             613.156450             954.857661   \n",
       "2             331.936362             624.394771             960.262507   \n",
       "3             286.116876             535.684510             848.433303   \n",
       "4             336.132373             608.834695             946.986274   \n",
       "\n",
       "   AccumulatedTT_pFlwStG  AccumulatedTT_pStGEnG  AccumulatedTT_pEnGMat  \\\n",
       "0             956.408061            1259.351230            1510.362176   \n",
       "1            1044.227938            1367.658870            1644.471762   \n",
       "2            1051.907378            1377.111405            1650.965597   \n",
       "3             933.829790            1240.770200            1489.122031   \n",
       "4            1035.111504            1372.242979            1646.983582   \n",
       "\n",
       "   AccumulatedTT_pMatHar  \n",
       "0            1520.367176  \n",
       "1            1654.521762  \n",
       "2            1660.548208  \n",
       "3            1501.700752  \n",
       "4            1653.978032  \n",
       "\n",
       "[5 rows x 766 columns]"
      ]
     },
     "execution_count": 109,
     "metadata": {},
     "output_type": "execute_result"
    }
   ],
   "source": [
    "test_ec_data.head()"
   ]
  },
  {
   "cell_type": "code",
   "execution_count": 110,
   "id": "33ba0fa6",
   "metadata": {},
   "outputs": [
    {
     "data": {
      "text/plain": [
       "(24, 766)"
      ]
     },
     "execution_count": 110,
     "metadata": {},
     "output_type": "execute_result"
    }
   ],
   "source": [
    "test_ec_data.shape"
   ]
  },
  {
   "cell_type": "code",
   "execution_count": 111,
   "id": "c529c4c2",
   "metadata": {},
   "outputs": [
    {
     "data": {
      "text/plain": [
       "0"
      ]
     },
     "execution_count": 111,
     "metadata": {},
     "output_type": "execute_result"
    }
   ],
   "source": [
    "test_ec_data.isna().sum().sum()"
   ]
  },
  {
   "cell_type": "code",
   "execution_count": 112,
   "id": "66b0222f",
   "metadata": {},
   "outputs": [
    {
     "data": {
      "text/plain": [
       "(24, 766)"
      ]
     },
     "execution_count": 112,
     "metadata": {},
     "output_type": "execute_result"
    }
   ],
   "source": [
    "test_ec_data = test_ec_data.drop_duplicates()\n",
    "test_ec_data.shape"
   ]
  },
  {
   "cell_type": "code",
   "execution_count": 113,
   "id": "e99d087c",
   "metadata": {},
   "outputs": [
    {
     "data": {
      "text/plain": [
       "0"
      ]
     },
     "execution_count": 113,
     "metadata": {},
     "output_type": "execute_result"
    }
   ],
   "source": [
    "test_ec_data.isna().sum().sum()"
   ]
  },
  {
   "cell_type": "code",
   "execution_count": 114,
   "id": "cef8c795",
   "metadata": {},
   "outputs": [
    {
     "data": {
      "text/plain": [
       "(165, 766)"
      ]
     },
     "execution_count": 114,
     "metadata": {},
     "output_type": "execute_result"
    }
   ],
   "source": [
    "EC_data.shape"
   ]
  },
  {
   "cell_type": "code",
   "execution_count": 115,
   "id": "6afc6a9d",
   "metadata": {},
   "outputs": [
    {
     "data": {
      "text/plain": [
       "(165, 766)"
      ]
     },
     "execution_count": 115,
     "metadata": {},
     "output_type": "execute_result"
    }
   ],
   "source": [
    "EC_data = EC_data.drop_duplicates()\n",
    "EC_data.shape"
   ]
  },
  {
   "cell_type": "code",
   "execution_count": 116,
   "id": "3a27955b",
   "metadata": {},
   "outputs": [
    {
     "data": {
      "text/plain": [
       "0"
      ]
     },
     "execution_count": 116,
     "metadata": {},
     "output_type": "execute_result"
    }
   ],
   "source": [
    "EC_data.isna().sum().sum()"
   ]
  },
  {
   "cell_type": "code",
   "execution_count": 117,
   "id": "ce85aeba",
   "metadata": {},
   "outputs": [],
   "source": [
    "test_EC_columns = list(test_ec_data.columns)\n",
    "# test_EC_columns"
   ]
  },
  {
   "cell_type": "code",
   "execution_count": 118,
   "id": "fcacde68",
   "metadata": {},
   "outputs": [],
   "source": [
    "EC_columns = list(EC_data.columns)\n",
    "# EC_columns"
   ]
  },
  {
   "cell_type": "code",
   "execution_count": 119,
   "id": "e54a51a1",
   "metadata": {
    "scrolled": true
   },
   "outputs": [
    {
     "data": {
      "text/plain": [
       "766"
      ]
     },
     "execution_count": 119,
     "metadata": {},
     "output_type": "execute_result"
    }
   ],
   "source": [
    "# are the columns the same for EC train and test sets?\n",
    "sum(test_ec_data.columns == EC_data.columns)\n",
    "# They are the same, so stack together"
   ]
  },
  {
   "cell_type": "code",
   "execution_count": 120,
   "id": "e5752bfe",
   "metadata": {},
   "outputs": [
    {
     "data": {
      "text/plain": [
       "(189, 766)"
      ]
     },
     "execution_count": 120,
     "metadata": {},
     "output_type": "execute_result"
    }
   ],
   "source": [
    "# Since the columns are all same, we can vertically stack the two data sets together\n",
    "EC_all = pd.concat([EC_data, test_ec_data], axis=0)\n",
    "EC_all.shape"
   ]
  },
  {
   "cell_type": "code",
   "execution_count": 121,
   "id": "b255c7aa",
   "metadata": {},
   "outputs": [
    {
     "data": {
      "text/html": [
       "<div>\n",
       "<style scoped>\n",
       "    .dataframe tbody tr th:only-of-type {\n",
       "        vertical-align: middle;\n",
       "    }\n",
       "\n",
       "    .dataframe tbody tr th {\n",
       "        vertical-align: top;\n",
       "    }\n",
       "\n",
       "    .dataframe thead th {\n",
       "        text-align: right;\n",
       "    }\n",
       "</style>\n",
       "<table border=\"1\" class=\"dataframe\">\n",
       "  <thead>\n",
       "    <tr style=\"text-align: right;\">\n",
       "      <th></th>\n",
       "      <th>Env</th>\n",
       "      <th>SDR_pGerEme_1</th>\n",
       "      <th>SDR_pEmeEnJ_1</th>\n",
       "      <th>SDR_pEnJFlo_1</th>\n",
       "      <th>SDR_pFloFla_1</th>\n",
       "      <th>SDR_pFlaFlw_1</th>\n",
       "      <th>SDR_pFlwStG_1</th>\n",
       "      <th>SDR_pStGEnG_1</th>\n",
       "      <th>SDR_pEnGMat_1</th>\n",
       "      <th>SDR_pMatHar_1</th>\n",
       "      <th>...</th>\n",
       "      <th>LAI_pMatHar</th>\n",
       "      <th>AccumulatedTT_pGerEme</th>\n",
       "      <th>AccumulatedTT_pEmeEnJ</th>\n",
       "      <th>AccumulatedTT_pEnJFlo</th>\n",
       "      <th>AccumulatedTT_pFloFla</th>\n",
       "      <th>AccumulatedTT_pFlaFlw</th>\n",
       "      <th>AccumulatedTT_pFlwStG</th>\n",
       "      <th>AccumulatedTT_pStGEnG</th>\n",
       "      <th>AccumulatedTT_pEnGMat</th>\n",
       "      <th>AccumulatedTT_pMatHar</th>\n",
       "    </tr>\n",
       "  </thead>\n",
       "  <tbody>\n",
       "    <tr>\n",
       "      <th>0</th>\n",
       "      <td>DEH1_2014</td>\n",
       "      <td>0.966035</td>\n",
       "      <td>1.615324</td>\n",
       "      <td>0.542019</td>\n",
       "      <td>0.317045</td>\n",
       "      <td>0.617058</td>\n",
       "      <td>0.773524</td>\n",
       "      <td>0.983128</td>\n",
       "      <td>0.407474</td>\n",
       "      <td>0.350057</td>\n",
       "      <td>...</td>\n",
       "      <td>0.205764</td>\n",
       "      <td>49.504228</td>\n",
       "      <td>193.031359</td>\n",
       "      <td>298.945606</td>\n",
       "      <td>568.505726</td>\n",
       "      <td>901.267505</td>\n",
       "      <td>991.957052</td>\n",
       "      <td>1310.703432</td>\n",
       "      <td>1568.706763</td>\n",
       "      <td>1576.874263</td>\n",
       "    </tr>\n",
       "    <tr>\n",
       "      <th>1</th>\n",
       "      <td>GAH1_2014</td>\n",
       "      <td>5.193014</td>\n",
       "      <td>4.045844</td>\n",
       "      <td>7.391888</td>\n",
       "      <td>0.906985</td>\n",
       "      <td>0.416992</td>\n",
       "      <td>0.271526</td>\n",
       "      <td>0.319996</td>\n",
       "      <td>0.842299</td>\n",
       "      <td>1.299659</td>\n",
       "      <td>...</td>\n",
       "      <td>0.055241</td>\n",
       "      <td>58.476261</td>\n",
       "      <td>188.937888</td>\n",
       "      <td>301.295911</td>\n",
       "      <td>578.477880</td>\n",
       "      <td>923.290662</td>\n",
       "      <td>1008.783376</td>\n",
       "      <td>1316.817879</td>\n",
       "      <td>1582.773261</td>\n",
       "      <td>1591.640761</td>\n",
       "    </tr>\n",
       "    <tr>\n",
       "      <th>2</th>\n",
       "      <td>IAH1a_2014</td>\n",
       "      <td>2.737199</td>\n",
       "      <td>2.600896</td>\n",
       "      <td>5.387700</td>\n",
       "      <td>2.758684</td>\n",
       "      <td>0.652613</td>\n",
       "      <td>0.604745</td>\n",
       "      <td>2.120976</td>\n",
       "      <td>1.945856</td>\n",
       "      <td>1.805435</td>\n",
       "      <td>...</td>\n",
       "      <td>1.684233</td>\n",
       "      <td>44.833797</td>\n",
       "      <td>176.274597</td>\n",
       "      <td>270.018175</td>\n",
       "      <td>547.970301</td>\n",
       "      <td>844.619071</td>\n",
       "      <td>937.820486</td>\n",
       "      <td>1236.469643</td>\n",
       "      <td>1490.937025</td>\n",
       "      <td>1499.509525</td>\n",
       "    </tr>\n",
       "    <tr>\n",
       "      <th>3</th>\n",
       "      <td>ILH1_2014</td>\n",
       "      <td>2.912543</td>\n",
       "      <td>4.779256</td>\n",
       "      <td>2.055311</td>\n",
       "      <td>2.728058</td>\n",
       "      <td>1.798698</td>\n",
       "      <td>1.831869</td>\n",
       "      <td>1.252356</td>\n",
       "      <td>1.720705</td>\n",
       "      <td>1.947210</td>\n",
       "      <td>...</td>\n",
       "      <td>1.983900</td>\n",
       "      <td>55.717746</td>\n",
       "      <td>168.526560</td>\n",
       "      <td>280.489645</td>\n",
       "      <td>558.097862</td>\n",
       "      <td>873.502307</td>\n",
       "      <td>964.280829</td>\n",
       "      <td>1258.346008</td>\n",
       "      <td>1527.124520</td>\n",
       "      <td>1536.317020</td>\n",
       "    </tr>\n",
       "    <tr>\n",
       "      <th>4</th>\n",
       "      <td>INH1_2014</td>\n",
       "      <td>2.420657</td>\n",
       "      <td>3.594260</td>\n",
       "      <td>4.747529</td>\n",
       "      <td>1.513581</td>\n",
       "      <td>1.163567</td>\n",
       "      <td>2.107868</td>\n",
       "      <td>5.232937</td>\n",
       "      <td>18.253280</td>\n",
       "      <td>31.352579</td>\n",
       "      <td>...</td>\n",
       "      <td>0.000000</td>\n",
       "      <td>62.757189</td>\n",
       "      <td>259.279147</td>\n",
       "      <td>435.528791</td>\n",
       "      <td>785.039009</td>\n",
       "      <td>1152.276580</td>\n",
       "      <td>1240.862791</td>\n",
       "      <td>1687.130584</td>\n",
       "      <td>1943.904924</td>\n",
       "      <td>1953.957060</td>\n",
       "    </tr>\n",
       "  </tbody>\n",
       "</table>\n",
       "<p>5 rows × 766 columns</p>\n",
       "</div>"
      ],
      "text/plain": [
       "          Env  SDR_pGerEme_1  SDR_pEmeEnJ_1  SDR_pEnJFlo_1  SDR_pFloFla_1  \\\n",
       "0   DEH1_2014       0.966035       1.615324       0.542019       0.317045   \n",
       "1   GAH1_2014       5.193014       4.045844       7.391888       0.906985   \n",
       "2  IAH1a_2014       2.737199       2.600896       5.387700       2.758684   \n",
       "3   ILH1_2014       2.912543       4.779256       2.055311       2.728058   \n",
       "4   INH1_2014       2.420657       3.594260       4.747529       1.513581   \n",
       "\n",
       "   SDR_pFlaFlw_1  SDR_pFlwStG_1  SDR_pStGEnG_1  SDR_pEnGMat_1  SDR_pMatHar_1  \\\n",
       "0       0.617058       0.773524       0.983128       0.407474       0.350057   \n",
       "1       0.416992       0.271526       0.319996       0.842299       1.299659   \n",
       "2       0.652613       0.604745       2.120976       1.945856       1.805435   \n",
       "3       1.798698       1.831869       1.252356       1.720705       1.947210   \n",
       "4       1.163567       2.107868       5.232937      18.253280      31.352579   \n",
       "\n",
       "   ...  LAI_pMatHar  AccumulatedTT_pGerEme  AccumulatedTT_pEmeEnJ  \\\n",
       "0  ...     0.205764              49.504228             193.031359   \n",
       "1  ...     0.055241              58.476261             188.937888   \n",
       "2  ...     1.684233              44.833797             176.274597   \n",
       "3  ...     1.983900              55.717746             168.526560   \n",
       "4  ...     0.000000              62.757189             259.279147   \n",
       "\n",
       "   AccumulatedTT_pEnJFlo  AccumulatedTT_pFloFla  AccumulatedTT_pFlaFlw  \\\n",
       "0             298.945606             568.505726             901.267505   \n",
       "1             301.295911             578.477880             923.290662   \n",
       "2             270.018175             547.970301             844.619071   \n",
       "3             280.489645             558.097862             873.502307   \n",
       "4             435.528791             785.039009            1152.276580   \n",
       "\n",
       "   AccumulatedTT_pFlwStG  AccumulatedTT_pStGEnG  AccumulatedTT_pEnGMat  \\\n",
       "0             991.957052            1310.703432            1568.706763   \n",
       "1            1008.783376            1316.817879            1582.773261   \n",
       "2             937.820486            1236.469643            1490.937025   \n",
       "3             964.280829            1258.346008            1527.124520   \n",
       "4            1240.862791            1687.130584            1943.904924   \n",
       "\n",
       "   AccumulatedTT_pMatHar  \n",
       "0            1576.874263  \n",
       "1            1591.640761  \n",
       "2            1499.509525  \n",
       "3            1536.317020  \n",
       "4            1953.957060  \n",
       "\n",
       "[5 rows x 766 columns]"
      ]
     },
     "execution_count": 121,
     "metadata": {},
     "output_type": "execute_result"
    }
   ],
   "source": [
    "EC_all.head()"
   ]
  },
  {
   "cell_type": "code",
   "execution_count": 122,
   "id": "5bcb2d59",
   "metadata": {},
   "outputs": [
    {
     "data": {
      "text/plain": [
       "0"
      ]
     },
     "execution_count": 122,
     "metadata": {},
     "output_type": "execute_result"
    }
   ],
   "source": [
    "# any missing values?\n",
    "EC_all.isna().sum().sum()\n",
    "\n",
    "# no missing values"
   ]
  },
  {
   "cell_type": "markdown",
   "id": "ba5da3dd",
   "metadata": {},
   "source": [
    "#### Getting rid of columns"
   ]
  },
  {
   "cell_type": "markdown",
   "id": "2aff0411",
   "metadata": {},
   "source": [
    "#### Trait data"
   ]
  },
  {
   "cell_type": "code",
   "execution_count": 123,
   "id": "69862fab",
   "metadata": {},
   "outputs": [],
   "source": [
    "# Note these almost all columns here are not available in the test data, therefore, \n",
    "# let's only consider the dataset with the required three columns."
   ]
  },
  {
   "cell_type": "code",
   "execution_count": 124,
   "id": "9060b227",
   "metadata": {},
   "outputs": [
    {
     "data": {
      "text/plain": [
       "(136012, 26)"
      ]
     },
     "execution_count": 124,
     "metadata": {},
     "output_type": "execute_result"
    }
   ],
   "source": [
    "# Train only data\n",
    "train_sub_data.shape"
   ]
  },
  {
   "cell_type": "code",
   "execution_count": 125,
   "id": "7f814c21",
   "metadata": {},
   "outputs": [
    {
     "data": {
      "text/plain": [
       "(147567, 26)"
      ]
     },
     "execution_count": 125,
     "metadata": {},
     "output_type": "execute_result"
    }
   ],
   "source": [
    "# all data\n",
    "sub_all.shape"
   ]
  },
  {
   "cell_type": "code",
   "execution_count": 126,
   "id": "e8c0d0ce",
   "metadata": {},
   "outputs": [],
   "source": [
    "# sanity check: To see if there are 136012 obs when we concatenate the first two columns in the specific train dataset."
   ]
  },
  {
   "cell_type": "code",
   "execution_count": 127,
   "id": "fdc7e9e8",
   "metadata": {},
   "outputs": [],
   "source": [
    "train_sub_data['concat_term'] = train_sub_data['Env'] + train_sub_data['Hybrid']"
   ]
  },
  {
   "cell_type": "code",
   "execution_count": 128,
   "id": "26d21108",
   "metadata": {},
   "outputs": [
    {
     "data": {
      "text/plain": [
       "Index(['Env', 'Hybrid', 'Yield_Mg_ha', 'Year', 'Field_Location', 'Experiment',\n",
       "       'Replicate', 'Block', 'Plot', 'Range', 'Pass', 'Hybrid_orig_name',\n",
       "       'Hybrid_Parent1', 'Hybrid_Parent2', 'Plot_Area_ha', 'Date_Planted',\n",
       "       'Date_Harvested', 'Stand_Count_plants', 'Pollen_DAP_days',\n",
       "       'Silk_DAP_days', 'Plant_Height_cm', 'Ear_Height_cm',\n",
       "       'Root_Lodging_plants', 'Stalk_Lodging_plants', 'Grain_Moisture',\n",
       "       'Twt_kg_m3', 'concat_term'],\n",
       "      dtype='object')"
      ]
     },
     "execution_count": 128,
     "metadata": {},
     "output_type": "execute_result"
    }
   ],
   "source": [
    "train_sub_data.columns"
   ]
  },
  {
   "cell_type": "code",
   "execution_count": 129,
   "id": "103a1990",
   "metadata": {},
   "outputs": [],
   "source": [
    "unique_items = list(train_sub_data['concat_term'].unique())"
   ]
  },
  {
   "cell_type": "code",
   "execution_count": 130,
   "id": "c5a2a738",
   "metadata": {},
   "outputs": [
    {
     "data": {
      "text/plain": [
       "87412"
      ]
     },
     "execution_count": 130,
     "metadata": {},
     "output_type": "execute_result"
    }
   ],
   "source": [
    "len(unique_items)"
   ]
  },
  {
   "cell_type": "code",
   "execution_count": 131,
   "id": "c31f28ef",
   "metadata": {},
   "outputs": [
    {
     "data": {
      "text/plain": [
       "IAH1a_2014MBS2747_MBS9508               37\n",
       "IAH2_2021MBS3755GTCBLL_MBS8488DC RIB    36\n",
       "IAH3_2021MBS3755GTCBLL_MBS8488DC RIB    30\n",
       "IAH4_2021MBS3755GTCBLL_MBS8488DC RIB    30\n",
       "INH1_2014P1221AMXT                      25\n",
       "                                        ..\n",
       "IAH3_2016PHB47/PHG83                     2\n",
       "IAH3_2016PHN66/PHN82                     2\n",
       "IAH3_2016PHW52/PHG29                     2\n",
       "IAH3_2016PHN66/Q381                      2\n",
       "IAH3_2016LH198/LH82                      2\n",
       "Name: concat_term, Length: 35000, dtype: int64"
      ]
     },
     "execution_count": 131,
     "metadata": {},
     "output_type": "execute_result"
    }
   ],
   "source": [
    "# so, how many per non unique categories?\n",
    "train_sub_data['concat_term'].value_counts().head(35000)"
   ]
  },
  {
   "cell_type": "code",
   "execution_count": 132,
   "id": "8739d93e",
   "metadata": {},
   "outputs": [],
   "source": [
    "# meaning around 39000 combinations have atleast two lines each"
   ]
  },
  {
   "cell_type": "code",
   "execution_count": 133,
   "id": "c6ee85fb",
   "metadata": {},
   "outputs": [
    {
     "data": {
      "text/plain": [
       "(11555, 3)"
      ]
     },
     "execution_count": 133,
     "metadata": {},
     "output_type": "execute_result"
    }
   ],
   "source": [
    "# how many unique combinations in test set?\n",
    "submission_test.shape"
   ]
  },
  {
   "cell_type": "code",
   "execution_count": 134,
   "id": "91534408",
   "metadata": {},
   "outputs": [],
   "source": [
    "unique_combos = list(submission_test['Env'] + submission_test[\"Hybrid\"])"
   ]
  },
  {
   "cell_type": "code",
   "execution_count": 135,
   "id": "cd163dca",
   "metadata": {},
   "outputs": [
    {
     "data": {
      "text/plain": [
       "11555"
      ]
     },
     "execution_count": 135,
     "metadata": {},
     "output_type": "execute_result"
    }
   ],
   "source": [
    "# how many uniquecombos here?\n",
    "len(unique_combos)"
   ]
  },
  {
   "cell_type": "code",
   "execution_count": 136,
   "id": "b8406ba1",
   "metadata": {},
   "outputs": [],
   "source": [
    "# as expected we have 11555"
   ]
  },
  {
   "cell_type": "code",
   "execution_count": 137,
   "id": "d9a7af65",
   "metadata": {},
   "outputs": [],
   "source": [
    "# Since trait data is not available for test data, we ignore all these columns"
   ]
  },
  {
   "cell_type": "markdown",
   "id": "77392488",
   "metadata": {},
   "source": [
    "Meta data"
   ]
  },
  {
   "cell_type": "code",
   "execution_count": 138,
   "id": "fb2e62db",
   "metadata": {},
   "outputs": [
    {
     "data": {
      "text/plain": [
       "(243, 36)"
      ]
     },
     "execution_count": 138,
     "metadata": {},
     "output_type": "execute_result"
    }
   ],
   "source": [
    "meta_all.shape"
   ]
  },
  {
   "cell_type": "code",
   "execution_count": 139,
   "id": "58428fc4",
   "metadata": {
    "scrolled": true
   },
   "outputs": [
    {
     "data": {
      "text/plain": [
       "['Comments',\n",
       " 'City',\n",
       " 'Pre-plant_tillage_method(s)',\n",
       " 'Issue/comment_#6',\n",
       " 'Env',\n",
       " 'In-season_tillage_method(s)',\n",
       " 'Farm',\n",
       " 'Experiment_Code',\n",
       " 'Previous_Crop',\n",
       " 'Date_weather_station_removed',\n",
       " 'Longitude_of_Field_Corner_#1 (lower left)',\n",
       " 'Type_of_planter (fluted cone; belt cone; air planter)',\n",
       " 'Issue/comment_#2',\n",
       " 'Weather_Station_Serial_Number (Last four digits, e.g. m2700s#####)',\n",
       " 'Longitude_of_Field_Corner_#3 (upper right)',\n",
       " 'Issue/comment_#4',\n",
       " 'Trial_ID (Assigned by collaborator for internal reference)',\n",
       " 'Latitude_of_Field_Corner_#3 (upper right)',\n",
       " 'Longitude_of_Field_Corner_#4 (upper left)',\n",
       " 'Latitude_of_Field_Corner_#2 (lower right)',\n",
       " 'System_Determining_Moisture',\n",
       " 'Latitude_of_Field_Corner_#4 (upper left)',\n",
       " 'Field',\n",
       " 'Cardinal_Heading_Pass_1',\n",
       " 'Soil_Taxonomic_ID and horizon description, if known',\n",
       " 'Latitude_of_Field_Corner_#1 (lower left)',\n",
       " 'Weather_Station_Longitude (in decimal numbers NOT DMS)',\n",
       " 'Pounds_Needed_Soil_Moisture',\n",
       " 'Issue/comment_#5',\n",
       " 'Longitude_of_Field_Corner_#2 (lower right)',\n",
       " 'Issue/comment_#3',\n",
       " 'Date_weather_station_placed',\n",
       " 'Year',\n",
       " 'Issue/comment_#1',\n",
       " 'Treatment',\n",
       " 'Weather_Station_Latitude (in decimal numbers NOT DMS)']"
      ]
     },
     "execution_count": 139,
     "metadata": {},
     "output_type": "execute_result"
    }
   ],
   "source": [
    "meta_cols_all = list(meta_all.columns)\n",
    "meta_cols_all"
   ]
  },
  {
   "cell_type": "markdown",
   "id": "05f1c788",
   "metadata": {},
   "source": [
    "Previous_Crop"
   ]
  },
  {
   "cell_type": "code",
   "execution_count": 140,
   "id": "25f4c286",
   "metadata": {
    "scrolled": true
   },
   "outputs": [
    {
     "data": {
      "text/plain": [
       "soybean                                                                                                                               142\n",
       "corn                                                                                                                                   29\n",
       "wheat                                                                                                                                  14\n",
       "peanut                                                                                                                                  6\n",
       "Winter wheat                                                                                                                            4\n",
       "sorghum                                                                                                                                 3\n",
       "cotton                                                                                                                                  2\n",
       "wheat/double crop soybean                                                                                                               2\n",
       "2019/20 wheat                                                                                                                           1\n",
       "Lima beans followed by rye cover crop                                                                                                   1\n",
       "wheat and Double Crop soybean                                                                                                           1\n",
       "Small Grains and Double Crop soybean                                                                                                    1\n",
       "wheat/soybean                                                                                                                           1\n",
       "soybean/pumpkin                                                                                                                         1\n",
       "sugar beet                                                                                                                              1\n",
       "Fallow most of 2014 winter planted in fall of 2014 then sprayed with Glystar 24 floz/a on 5/3/15  and killed spring of 2015 spray       1\n",
       "soybeans with fall cereal rye cover                                                                                                     1\n",
       "Name: Previous_Crop, dtype: int64"
      ]
     },
     "execution_count": 140,
     "metadata": {},
     "output_type": "execute_result"
    }
   ],
   "source": [
    "meta_all['Previous_Crop'].value_counts()"
   ]
  },
  {
   "cell_type": "code",
   "execution_count": 141,
   "id": "00687d5f",
   "metadata": {},
   "outputs": [],
   "source": [
    "meta_all['Previous_Crop'] = meta_all['Previous_Crop'].fillna(\"not_avail\")"
   ]
  },
  {
   "cell_type": "code",
   "execution_count": 142,
   "id": "79b94af0",
   "metadata": {},
   "outputs": [
    {
     "data": {
      "text/plain": [
       "32"
      ]
     },
     "execution_count": 142,
     "metadata": {},
     "output_type": "execute_result"
    }
   ],
   "source": [
    "prev_crop_list = list(meta_all['Previous_Crop'])\n",
    "# prev_crop_list = [x.lower() for x in prev_crop_list]\n",
    "(meta_all['Previous_Crop'] == 'not_avail').value_counts()[1]"
   ]
  },
  {
   "cell_type": "code",
   "execution_count": 143,
   "id": "67e5f504",
   "metadata": {},
   "outputs": [],
   "source": [
    "# prev_crop_list"
   ]
  },
  {
   "cell_type": "code",
   "execution_count": 144,
   "id": "ff4076e0",
   "metadata": {},
   "outputs": [],
   "source": [
    "new_crop_col = []\n",
    "for i in prev_crop_list:\n",
    "    if ((meta_all['Previous_Crop'] == i).value_counts()[1])/meta_all.shape[0] >= 0.05:\n",
    "        i = i\n",
    "    else:\n",
    "        i = 'other'\n",
    "    new_crop_col.append(i)"
   ]
  },
  {
   "cell_type": "code",
   "execution_count": 145,
   "id": "570315f1",
   "metadata": {},
   "outputs": [],
   "source": [
    "meta_all['Previous_Crop'] = new_crop_col"
   ]
  },
  {
   "cell_type": "code",
   "execution_count": 146,
   "id": "b6895c03",
   "metadata": {},
   "outputs": [
    {
     "data": {
      "text/plain": [
       "soybean      142\n",
       "not_avail     32\n",
       "corn          29\n",
       "other         26\n",
       "wheat         14\n",
       "Name: Previous_Crop, dtype: int64"
      ]
     },
     "execution_count": 146,
     "metadata": {},
     "output_type": "execute_result"
    }
   ],
   "source": [
    "meta_all['Previous_Crop'].value_counts()"
   ]
  },
  {
   "cell_type": "code",
   "execution_count": 147,
   "id": "db6672aa",
   "metadata": {},
   "outputs": [],
   "source": [
    "# meta_all['Previous_Crop'].value_counts()"
   ]
  },
  {
   "cell_type": "markdown",
   "id": "c89ca4fa",
   "metadata": {},
   "source": [
    "Type_of_planter"
   ]
  },
  {
   "cell_type": "code",
   "execution_count": 148,
   "id": "b98552c6",
   "metadata": {},
   "outputs": [
    {
     "data": {
      "text/plain": [
       "air planter                                       130\n",
       "fluted cone                                        34\n",
       "belt cone                                          22\n",
       "Air planter                                         7\n",
       "SRES Air                                            3\n",
       "vacuum precision planter                            3\n",
       "4 row almaco GPS Drop precision vacuum planter      2\n",
       "air                                                 2\n",
       "Fluted cone                                         2\n",
       "Almaco TP2                                          2\n",
       "Almaco 4-row air planter                            2\n",
       "air (Seedpro)                                       1\n",
       "Vacum                                               1\n",
       "Fluted Cone                                         1\n",
       "sres packing planter                                1\n",
       "Vacuum                                              1\n",
       "vacuum planter                                      1\n",
       "John Deere 71 cone planter                          1\n",
       "John Deere 7300                                     1\n",
       "Almaco Seed Pro 360                                 1\n",
       "Name: Type_of_planter (fluted cone; belt cone; air planter), dtype: int64"
      ]
     },
     "execution_count": 148,
     "metadata": {},
     "output_type": "execute_result"
    }
   ],
   "source": [
    "meta_all['Type_of_planter (fluted cone; belt cone; air planter)'].value_counts()"
   ]
  },
  {
   "cell_type": "code",
   "execution_count": 149,
   "id": "252bf01e",
   "metadata": {},
   "outputs": [],
   "source": [
    "make_list = list(meta_all['Type_of_planter (fluted cone; belt cone; air planter)'])"
   ]
  },
  {
   "cell_type": "code",
   "execution_count": 150,
   "id": "7e784f26",
   "metadata": {},
   "outputs": [],
   "source": [
    "meta_all['Type_of_planter (fluted cone; belt cone; air planter)'] = meta_all['Type_of_planter (fluted cone; belt cone; air planter)'].fillna(\"not_avail\")"
   ]
  },
  {
   "cell_type": "code",
   "execution_count": 151,
   "id": "ff9bbdee",
   "metadata": {},
   "outputs": [
    {
     "data": {
      "text/plain": [
       "air planter                                       130\n",
       "fluted cone                                        34\n",
       "not_avail                                          25\n",
       "belt cone                                          22\n",
       "Air planter                                         7\n",
       "SRES Air                                            3\n",
       "vacuum precision planter                            3\n",
       "4 row almaco GPS Drop precision vacuum planter      2\n",
       "air                                                 2\n",
       "Fluted cone                                         2\n",
       "Almaco TP2                                          2\n",
       "Almaco 4-row air planter                            2\n",
       "air (Seedpro)                                       1\n",
       "Vacum                                               1\n",
       "Fluted Cone                                         1\n",
       "vacuum planter                                      1\n",
       "Vacuum                                              1\n",
       "sres packing planter                                1\n",
       "John Deere 71 cone planter                          1\n",
       "John Deere 7300                                     1\n",
       "Almaco Seed Pro 360                                 1\n",
       "Name: Type_of_planter (fluted cone; belt cone; air planter), dtype: int64"
      ]
     },
     "execution_count": 151,
     "metadata": {},
     "output_type": "execute_result"
    }
   ],
   "source": [
    "meta_all['Type_of_planter (fluted cone; belt cone; air planter)'].value_counts()"
   ]
  },
  {
   "cell_type": "code",
   "execution_count": 152,
   "id": "75aab8dc",
   "metadata": {},
   "outputs": [
    {
     "name": "stderr",
     "output_type": "stream",
     "text": [
      "C:\\Users\\vedpi\\AppData\\Local\\Temp\\ipykernel_13696\\2655681009.py:2: FutureWarning: The default value of regex will change from True to False in a future version.\n",
      "  meta_all['Type_of_planter (fluted cone; belt cone; air planter)'] = meta_all['Type_of_planter (fluted cone; belt cone; air planter)'].str.replace('\\d+', '')\n"
     ]
    }
   ],
   "source": [
    "# get rid of numbers in the categories of this column\n",
    "meta_all['Type_of_planter (fluted cone; belt cone; air planter)'] = meta_all['Type_of_planter (fluted cone; belt cone; air planter)'].str.replace('\\d+', '')"
   ]
  },
  {
   "cell_type": "code",
   "execution_count": 153,
   "id": "3e1822ff",
   "metadata": {
    "scrolled": true
   },
   "outputs": [
    {
     "data": {
      "text/plain": [
       "air planter                                      130\n",
       "fluted cone                                       34\n",
       "not_avail                                         25\n",
       "belt cone                                         22\n",
       "Air planter                                        7\n",
       "SRES Air                                           3\n",
       "vacuum precision planter                           3\n",
       " row almaco GPS Drop precision vacuum planter      2\n",
       "air                                                2\n",
       "Fluted cone                                        2\n",
       "Almaco TP                                          2\n",
       "Almaco -row air planter                            2\n",
       "air (Seedpro)                                      1\n",
       "Vacum                                              1\n",
       "Fluted Cone                                        1\n",
       "vacuum planter                                     1\n",
       "Vacuum                                             1\n",
       "sres packing planter                               1\n",
       "John Deere  cone planter                           1\n",
       "John Deere                                         1\n",
       "Almaco Seed Pro                                    1\n",
       "Name: Type_of_planter (fluted cone; belt cone; air planter), dtype: int64"
      ]
     },
     "execution_count": 153,
     "metadata": {},
     "output_type": "execute_result"
    }
   ],
   "source": [
    "# see if this worked\n",
    "meta_all['Type_of_planter (fluted cone; belt cone; air planter)'].value_counts()"
   ]
  },
  {
   "cell_type": "code",
   "execution_count": 154,
   "id": "614f847f",
   "metadata": {},
   "outputs": [],
   "source": [
    "# now make all these lower case\n",
    "\n",
    "# lower\n",
    "meta_all['Type_of_planter (fluted cone; belt cone; air planter)'] = meta_all['Type_of_planter (fluted cone; belt cone; air planter)'].str.lower()\n"
   ]
  },
  {
   "cell_type": "code",
   "execution_count": 155,
   "id": "b9aaebc5",
   "metadata": {
    "scrolled": true
   },
   "outputs": [
    {
     "data": {
      "text/plain": [
       "air planter                                      137\n",
       "fluted cone                                       37\n",
       "not_avail                                         25\n",
       "belt cone                                         22\n",
       "sres air                                           3\n",
       "vacuum precision planter                           3\n",
       " row almaco gps drop precision vacuum planter      2\n",
       "air                                                2\n",
       "almaco tp                                          2\n",
       "almaco -row air planter                            2\n",
       "vacuum                                             1\n",
       "vacum                                              1\n",
       "air (seedpro)                                      1\n",
       "sres packing planter                               1\n",
       "vacuum planter                                     1\n",
       "john deere  cone planter                           1\n",
       "john deere                                         1\n",
       "almaco seed pro                                    1\n",
       "Name: Type_of_planter (fluted cone; belt cone; air planter), dtype: int64"
      ]
     },
     "execution_count": 155,
     "metadata": {},
     "output_type": "execute_result"
    }
   ],
   "source": [
    "meta_all['Type_of_planter (fluted cone; belt cone; air planter)'].value_counts()"
   ]
  },
  {
   "cell_type": "code",
   "execution_count": 156,
   "id": "7f282c13",
   "metadata": {},
   "outputs": [],
   "source": [
    "planter_list = list(meta_all['Type_of_planter (fluted cone; belt cone; air planter)'])"
   ]
  },
  {
   "cell_type": "code",
   "execution_count": 157,
   "id": "61d73c2e",
   "metadata": {
    "scrolled": true
   },
   "outputs": [],
   "source": [
    "new_planter_col = []\n",
    "for i in planter_list:\n",
    "    if ((meta_all['Type_of_planter (fluted cone; belt cone; air planter)'] == i).value_counts()[1])/meta_all.shape[0] >= 0.05:\n",
    "        i = i\n",
    "    else:\n",
    "        i = 'other'\n",
    "    new_planter_col.append(i)"
   ]
  },
  {
   "cell_type": "code",
   "execution_count": 158,
   "id": "5110c605",
   "metadata": {},
   "outputs": [],
   "source": [
    "meta_all['Type_of_planter (fluted cone; belt cone; air planter)'] = new_planter_col"
   ]
  },
  {
   "cell_type": "code",
   "execution_count": 159,
   "id": "351de2d9",
   "metadata": {},
   "outputs": [
    {
     "data": {
      "text/plain": [
       "air planter    137\n",
       "fluted cone     37\n",
       "not_avail       25\n",
       "other           22\n",
       "belt cone       22\n",
       "Name: Type_of_planter (fluted cone; belt cone; air planter), dtype: int64"
      ]
     },
     "execution_count": 159,
     "metadata": {},
     "output_type": "execute_result"
    }
   ],
   "source": [
    "meta_all['Type_of_planter (fluted cone; belt cone; air planter)'].value_counts()"
   ]
  },
  {
   "cell_type": "code",
   "execution_count": 160,
   "id": "88694d57",
   "metadata": {},
   "outputs": [],
   "source": [
    "# not including any comment columns"
   ]
  },
  {
   "cell_type": "code",
   "execution_count": 161,
   "id": "670596b3",
   "metadata": {},
   "outputs": [],
   "source": [
    "# meta_all['Issue/comment_#3'].value_counts()"
   ]
  },
  {
   "cell_type": "code",
   "execution_count": 162,
   "id": "a50ff91f",
   "metadata": {},
   "outputs": [],
   "source": [
    "# meta_all['Issue/comment_#3'].isna().sum()"
   ]
  },
  {
   "cell_type": "markdown",
   "id": "8dae12ee",
   "metadata": {},
   "source": [
    "Year"
   ]
  },
  {
   "cell_type": "code",
   "execution_count": 163,
   "id": "43de6955",
   "metadata": {},
   "outputs": [],
   "source": [
    "# meta_all['Year'].value_counts()"
   ]
  },
  {
   "cell_type": "markdown",
   "id": "ee473d8e",
   "metadata": {},
   "source": [
    "Env"
   ]
  },
  {
   "cell_type": "code",
   "execution_count": 164,
   "id": "54394b2e",
   "metadata": {},
   "outputs": [
    {
     "data": {
      "text/plain": [
       "TXH1-Early_2017    1\n",
       "TXH1-Dry_2017      1\n",
       "NYH3_2019          1\n",
       "NYH3_2020          1\n",
       "NYH3_2021          1\n",
       "                  ..\n",
       "MIH1_2017          1\n",
       "MIH1_2018          1\n",
       "MIH1_2019          1\n",
       "MIH1_2020          1\n",
       "WIH3_2022          1\n",
       "Name: Env, Length: 243, dtype: int64"
      ]
     },
     "execution_count": 164,
     "metadata": {},
     "output_type": "execute_result"
    }
   ],
   "source": [
    "meta_all['Env'].value_counts()"
   ]
  },
  {
   "cell_type": "markdown",
   "id": "7f36f52f",
   "metadata": {},
   "source": [
    "We will include this, but let's count the unique environments as the year is different in envs and this information needs t be taken into account."
   ]
  },
  {
   "cell_type": "code",
   "execution_count": 165,
   "id": "e2e5a5e9",
   "metadata": {},
   "outputs": [],
   "source": [
    "list_envs = list(meta_all['Env'])"
   ]
  },
  {
   "cell_type": "code",
   "execution_count": 166,
   "id": "b1668721",
   "metadata": {},
   "outputs": [],
   "source": [
    "env_only = []\n",
    "for i in list_envs:\n",
    "    env = i.split('_')[0]\n",
    "    env_only.append(env)"
   ]
  },
  {
   "cell_type": "code",
   "execution_count": 167,
   "id": "0044f329",
   "metadata": {},
   "outputs": [
    {
     "data": {
      "text/plain": [
       "45"
      ]
     },
     "execution_count": 167,
     "metadata": {},
     "output_type": "execute_result"
    }
   ],
   "source": [
    "num_envs = len(set(env_only))\n",
    "num_envs"
   ]
  },
  {
   "cell_type": "markdown",
   "id": "a4aad73b",
   "metadata": {},
   "source": [
    "Experiment_Code"
   ]
  },
  {
   "cell_type": "code",
   "execution_count": 168,
   "id": "1f241b49",
   "metadata": {},
   "outputs": [],
   "source": [
    "# meta_all['Experiment_Code'].value_counts()"
   ]
  },
  {
   "cell_type": "code",
   "execution_count": 169,
   "id": "bf6a1529",
   "metadata": {},
   "outputs": [],
   "source": [
    "# This is basically the code in the env"
   ]
  },
  {
   "cell_type": "markdown",
   "id": "44b9e278",
   "metadata": {},
   "source": [
    "Treatment"
   ]
  },
  {
   "cell_type": "code",
   "execution_count": 170,
   "id": "9e5797c0",
   "metadata": {},
   "outputs": [
    {
     "data": {
      "text/plain": [
       "56"
      ]
     },
     "execution_count": 170,
     "metadata": {},
     "output_type": "execute_result"
    }
   ],
   "source": [
    "meta_all['Treatment'].isna().sum()"
   ]
  },
  {
   "cell_type": "code",
   "execution_count": 171,
   "id": "b2231bf4",
   "metadata": {},
   "outputs": [],
   "source": [
    "meta_all['Treatment'] = meta_all['Treatment'].fillna('not_avail')"
   ]
  },
  {
   "cell_type": "code",
   "execution_count": 172,
   "id": "08a1cb8c",
   "metadata": {},
   "outputs": [
    {
     "data": {
      "text/plain": [
       "Standard                        166\n",
       "not_avail                        56\n",
       "Drought                           6\n",
       "Disease trial                     4\n",
       "Dry Land                          2\n",
       "Irrigated                         1\n",
       "Dryland                           1\n",
       "Standard - Irrigated Optimal      1\n",
       "Early Planting                    1\n",
       "Late Planting                     1\n",
       "Dryland optimal                   1\n",
       "Late Stressed                     1\n",
       "Late Planted Irrigated            1\n",
       "Late planting                     1\n",
       "Name: Treatment, dtype: int64"
      ]
     },
     "execution_count": 172,
     "metadata": {},
     "output_type": "execute_result"
    }
   ],
   "source": [
    "meta_all['Treatment'].value_counts()"
   ]
  },
  {
   "cell_type": "code",
   "execution_count": 173,
   "id": "c1f2aa4e",
   "metadata": {},
   "outputs": [],
   "source": [
    "# remove the unnecessary categories\n",
    "\n",
    "# not doing anything as lower case or removing spaces as not worth it - not adding more values to existing categories\n",
    "trt_list = meta_all['Treatment']\n",
    "new_trt_col = []\n",
    "for i in trt_list:\n",
    "    if ((meta_all['Treatment'] == i).value_counts()[1])/meta_all.shape[0] >= 0.05:\n",
    "        i = i\n",
    "    else:\n",
    "        i = 'other'\n",
    "    new_trt_col.append(i)"
   ]
  },
  {
   "cell_type": "code",
   "execution_count": 174,
   "id": "48660e37",
   "metadata": {},
   "outputs": [],
   "source": [
    "meta_all['Treatment'] = new_trt_col"
   ]
  },
  {
   "cell_type": "code",
   "execution_count": 175,
   "id": "de425927",
   "metadata": {},
   "outputs": [
    {
     "data": {
      "text/plain": [
       "Standard     166\n",
       "not_avail     56\n",
       "other         21\n",
       "Name: Treatment, dtype: int64"
      ]
     },
     "execution_count": 175,
     "metadata": {},
     "output_type": "execute_result"
    }
   ],
   "source": [
    "meta_all['Treatment'].value_counts()"
   ]
  },
  {
   "cell_type": "markdown",
   "id": "5d9aef14",
   "metadata": {},
   "source": [
    "City"
   ]
  },
  {
   "cell_type": "code",
   "execution_count": 176,
   "id": "4886cb60",
   "metadata": {
    "scrolled": true
   },
   "outputs": [],
   "source": [
    "# meta_all['City'].value_counts() - mostly equally distributed"
   ]
  },
  {
   "cell_type": "code",
   "execution_count": 177,
   "id": "a53c9843",
   "metadata": {},
   "outputs": [],
   "source": [
    "# meta_all['Farm'].value_counts() - mostly equally distributed"
   ]
  },
  {
   "cell_type": "code",
   "execution_count": 178,
   "id": "300b7916",
   "metadata": {},
   "outputs": [],
   "source": [
    "# meta_all['Field'].value_counts()  - mostly equally distributed"
   ]
  },
  {
   "cell_type": "code",
   "execution_count": 179,
   "id": "a330e137",
   "metadata": {},
   "outputs": [],
   "source": [
    "# meta_all['Trial_ID (Assigned by collaborator for internal reference)'].value_counts() \n",
    "# -not using,too many categories"
   ]
  },
  {
   "cell_type": "code",
   "execution_count": 180,
   "id": "6c676bbe",
   "metadata": {},
   "outputs": [],
   "source": [
    "# meta_all['Soil_Taxonomic_ID and horizon description, if known'].value_counts()\n",
    "# .isna().sum() \n",
    "# - too many missing values"
   ]
  },
  {
   "cell_type": "code",
   "execution_count": 181,
   "id": "0eeb9c5e",
   "metadata": {},
   "outputs": [],
   "source": [
    "# meta_all['Weather_Station_Serial_Number (Last four digits, e.g. m2700s#####)'].value_counts() \n",
    "# - too many cats"
   ]
  },
  {
   "cell_type": "markdown",
   "id": "f35bc204",
   "metadata": {},
   "source": [
    "meta_all['Weather_Station_Latitude (in decimal numbers NOT DMS)'].isna().sum() - include"
   ]
  },
  {
   "cell_type": "code",
   "execution_count": 182,
   "id": "f0589d70",
   "metadata": {},
   "outputs": [],
   "source": [
    "# and longitude"
   ]
  },
  {
   "cell_type": "code",
   "execution_count": 183,
   "id": "53112cb9",
   "metadata": {},
   "outputs": [],
   "source": [
    "# dates excluded as they are not useful in row form"
   ]
  },
  {
   "cell_type": "code",
   "execution_count": 184,
   "id": "7e6d8992",
   "metadata": {},
   "outputs": [],
   "source": [
    "# meta_all['Pre-plant_tillage_method(s)'].value_counts() \n",
    "# - too many cats"
   ]
  },
  {
   "cell_type": "code",
   "execution_count": 185,
   "id": "117c38dc",
   "metadata": {},
   "outputs": [],
   "source": [
    "# meta_all['In-season_tillage_method(s)'].value_counts() \n",
    "# - too many missing values"
   ]
  },
  {
   "cell_type": "code",
   "execution_count": 186,
   "id": "429933d4",
   "metadata": {},
   "outputs": [],
   "source": [
    "# meta_all['Cardinal_Heading_Pass_1'].value_counts()\n",
    "# - ignore for now - 104 missing"
   ]
  },
  {
   "cell_type": "code",
   "execution_count": 187,
   "id": "d3d1f0dd",
   "metadata": {},
   "outputs": [],
   "source": [
    "# all lat and longtude data included"
   ]
  },
  {
   "cell_type": "code",
   "execution_count": 188,
   "id": "d9330d1e",
   "metadata": {},
   "outputs": [],
   "source": [
    "# Irrigated*, Date_Planted**, Plot_Area_ha** not found in the test dataset"
   ]
  },
  {
   "cell_type": "code",
   "execution_count": 189,
   "id": "8ca416ac",
   "metadata": {},
   "outputs": [
    {
     "data": {
      "text/plain": [
       "88"
      ]
     },
     "execution_count": 189,
     "metadata": {},
     "output_type": "execute_result"
    }
   ],
   "source": [
    "meta_all['Pounds_Needed_Soil_Moisture'].isna().sum() \n",
    "# - many missing but seems important"
   ]
  },
  {
   "cell_type": "code",
   "execution_count": 190,
   "id": "4e090d28",
   "metadata": {},
   "outputs": [],
   "source": [
    "# meta_all['Pounds_Needed_Soil_Moisture'].value_counts()"
   ]
  },
  {
   "cell_type": "code",
   "execution_count": 191,
   "id": "0c921d42",
   "metadata": {},
   "outputs": [],
   "source": [
    "# meta_all['System_Determining_Moisture'].value_counts() \n",
    "# - too mays cats"
   ]
  },
  {
   "cell_type": "code",
   "execution_count": 192,
   "id": "9c138655",
   "metadata": {},
   "outputs": [],
   "source": [
    "final_cols = ['Previous_Crop',\n",
    " 'Type_of_planter (fluted cone; belt cone; air planter)',\n",
    " 'Pounds_Needed_Soil_Moisture',\n",
    " 'Experiment_Code',\n",
    " 'Weather_Station_Latitude (in decimal numbers NOT DMS)',\n",
    " 'Year',\n",
    " 'Latitude_of_Field_Corner_#2 (lower right)',\n",
    " 'Longitude_of_Field_Corner_#4 (upper left)',\n",
    " 'Latitude_of_Field_Corner_#4 (upper left)',\n",
    " 'Longitude_of_Field_Corner_#2 (lower right)',\n",
    " 'Latitude_of_Field_Corner_#1 (lower left)',\n",
    " 'Weather_Station_Longitude (in decimal numbers NOT DMS)',\n",
    " 'Longitude_of_Field_Corner_#1 (lower left)',\n",
    " 'Env',\n",
    " 'Longitude_of_Field_Corner_#3 (upper right)',\n",
    " 'Latitude_of_Field_Corner_#3 (upper right)',\n",
    " 'City',\n",
    " 'Treatment']"
   ]
  },
  {
   "cell_type": "code",
   "execution_count": 193,
   "id": "9cc6cab4",
   "metadata": {},
   "outputs": [
    {
     "data": {
      "text/plain": [
       "(243, 18)"
      ]
     },
     "execution_count": 193,
     "metadata": {},
     "output_type": "execute_result"
    }
   ],
   "source": [
    "# final meta data\n",
    "meta_all_reqs = meta_all[final_cols]\n",
    "meta_all_reqs.shape"
   ]
  },
  {
   "cell_type": "code",
   "execution_count": 194,
   "id": "e45ebbe4",
   "metadata": {},
   "outputs": [
    {
     "data": {
      "text/html": [
       "<div>\n",
       "<style scoped>\n",
       "    .dataframe tbody tr th:only-of-type {\n",
       "        vertical-align: middle;\n",
       "    }\n",
       "\n",
       "    .dataframe tbody tr th {\n",
       "        vertical-align: top;\n",
       "    }\n",
       "\n",
       "    .dataframe thead th {\n",
       "        text-align: right;\n",
       "    }\n",
       "</style>\n",
       "<table border=\"1\" class=\"dataframe\">\n",
       "  <thead>\n",
       "    <tr style=\"text-align: right;\">\n",
       "      <th></th>\n",
       "      <th>Previous_Crop</th>\n",
       "      <th>Type_of_planter (fluted cone; belt cone; air planter)</th>\n",
       "      <th>Pounds_Needed_Soil_Moisture</th>\n",
       "      <th>Experiment_Code</th>\n",
       "      <th>Weather_Station_Latitude (in decimal numbers NOT DMS)</th>\n",
       "      <th>Year</th>\n",
       "      <th>Latitude_of_Field_Corner_#2 (lower right)</th>\n",
       "      <th>Longitude_of_Field_Corner_#4 (upper left)</th>\n",
       "      <th>Latitude_of_Field_Corner_#4 (upper left)</th>\n",
       "      <th>Longitude_of_Field_Corner_#2 (lower right)</th>\n",
       "      <th>Latitude_of_Field_Corner_#1 (lower left)</th>\n",
       "      <th>Weather_Station_Longitude (in decimal numbers NOT DMS)</th>\n",
       "      <th>Longitude_of_Field_Corner_#1 (lower left)</th>\n",
       "      <th>Env</th>\n",
       "      <th>Longitude_of_Field_Corner_#3 (upper right)</th>\n",
       "      <th>Latitude_of_Field_Corner_#3 (upper right)</th>\n",
       "      <th>City</th>\n",
       "      <th>Treatment</th>\n",
       "    </tr>\n",
       "  </thead>\n",
       "  <tbody>\n",
       "    <tr>\n",
       "      <th>0</th>\n",
       "      <td>not_avail</td>\n",
       "      <td>not_avail</td>\n",
       "      <td>NaN</td>\n",
       "      <td>TXH1</td>\n",
       "      <td>30.545350</td>\n",
       "      <td>2017</td>\n",
       "      <td>NaN</td>\n",
       "      <td>NaN</td>\n",
       "      <td>NaN</td>\n",
       "      <td>NaN</td>\n",
       "      <td>NaN</td>\n",
       "      <td>-96.432581</td>\n",
       "      <td>NaN</td>\n",
       "      <td>TXH1-Early_2017</td>\n",
       "      <td>NaN</td>\n",
       "      <td>NaN</td>\n",
       "      <td>College Station</td>\n",
       "      <td>Standard</td>\n",
       "    </tr>\n",
       "    <tr>\n",
       "      <th>1</th>\n",
       "      <td>not_avail</td>\n",
       "      <td>not_avail</td>\n",
       "      <td>NaN</td>\n",
       "      <td>TXH1</td>\n",
       "      <td>30.545350</td>\n",
       "      <td>2017</td>\n",
       "      <td>NaN</td>\n",
       "      <td>NaN</td>\n",
       "      <td>NaN</td>\n",
       "      <td>NaN</td>\n",
       "      <td>NaN</td>\n",
       "      <td>-96.432581</td>\n",
       "      <td>NaN</td>\n",
       "      <td>TXH1-Late_2017</td>\n",
       "      <td>NaN</td>\n",
       "      <td>NaN</td>\n",
       "      <td>College Station</td>\n",
       "      <td>Standard</td>\n",
       "    </tr>\n",
       "    <tr>\n",
       "      <th>2</th>\n",
       "      <td>soybean</td>\n",
       "      <td>air planter</td>\n",
       "      <td>NaN</td>\n",
       "      <td>IAH1</td>\n",
       "      <td>41.996530</td>\n",
       "      <td>2014</td>\n",
       "      <td>NaN</td>\n",
       "      <td>NaN</td>\n",
       "      <td>NaN</td>\n",
       "      <td>NaN</td>\n",
       "      <td>NaN</td>\n",
       "      <td>-93.696188</td>\n",
       "      <td>NaN</td>\n",
       "      <td>IAH1b_2014</td>\n",
       "      <td>NaN</td>\n",
       "      <td>NaN</td>\n",
       "      <td>Ames</td>\n",
       "      <td>not_avail</td>\n",
       "    </tr>\n",
       "    <tr>\n",
       "      <th>3</th>\n",
       "      <td>soybean</td>\n",
       "      <td>air planter</td>\n",
       "      <td>NaN</td>\n",
       "      <td>IAH1</td>\n",
       "      <td>41.996530</td>\n",
       "      <td>2014</td>\n",
       "      <td>NaN</td>\n",
       "      <td>NaN</td>\n",
       "      <td>NaN</td>\n",
       "      <td>NaN</td>\n",
       "      <td>NaN</td>\n",
       "      <td>-93.696188</td>\n",
       "      <td>NaN</td>\n",
       "      <td>IAH1c_2014</td>\n",
       "      <td>NaN</td>\n",
       "      <td>NaN</td>\n",
       "      <td>Ames</td>\n",
       "      <td>not_avail</td>\n",
       "    </tr>\n",
       "    <tr>\n",
       "      <th>4</th>\n",
       "      <td>corn</td>\n",
       "      <td>fluted cone</td>\n",
       "      <td>NaN</td>\n",
       "      <td>ARH1</td>\n",
       "      <td>34.728333</td>\n",
       "      <td>2016</td>\n",
       "      <td>34.729894</td>\n",
       "      <td>-90.760916</td>\n",
       "      <td>34.729151</td>\n",
       "      <td>-90.76094</td>\n",
       "      <td>34.729884</td>\n",
       "      <td>-90.760278</td>\n",
       "      <td>-90.759742</td>\n",
       "      <td>ARH1_2016</td>\n",
       "      <td>-90.759824</td>\n",
       "      <td>34.729151</td>\n",
       "      <td>Marianna</td>\n",
       "      <td>not_avail</td>\n",
       "    </tr>\n",
       "  </tbody>\n",
       "</table>\n",
       "</div>"
      ],
      "text/plain": [
       "  Previous_Crop Type_of_planter (fluted cone; belt cone; air planter)  \\\n",
       "0     not_avail                                          not_avail      \n",
       "1     not_avail                                          not_avail      \n",
       "2       soybean                                        air planter      \n",
       "3       soybean                                        air planter      \n",
       "4          corn                                        fluted cone      \n",
       "\n",
       "  Pounds_Needed_Soil_Moisture Experiment_Code  \\\n",
       "0                         NaN            TXH1   \n",
       "1                         NaN            TXH1   \n",
       "2                         NaN            IAH1   \n",
       "3                         NaN            IAH1   \n",
       "4                         NaN            ARH1   \n",
       "\n",
       "   Weather_Station_Latitude (in decimal numbers NOT DMS)  Year  \\\n",
       "0                                          30.545350      2017   \n",
       "1                                          30.545350      2017   \n",
       "2                                          41.996530      2014   \n",
       "3                                          41.996530      2014   \n",
       "4                                          34.728333      2016   \n",
       "\n",
       "   Latitude_of_Field_Corner_#2 (lower right)  \\\n",
       "0                                        NaN   \n",
       "1                                        NaN   \n",
       "2                                        NaN   \n",
       "3                                        NaN   \n",
       "4                                  34.729894   \n",
       "\n",
       "   Longitude_of_Field_Corner_#4 (upper left)  \\\n",
       "0                                        NaN   \n",
       "1                                        NaN   \n",
       "2                                        NaN   \n",
       "3                                        NaN   \n",
       "4                                 -90.760916   \n",
       "\n",
       "   Latitude_of_Field_Corner_#4 (upper left)  \\\n",
       "0                                       NaN   \n",
       "1                                       NaN   \n",
       "2                                       NaN   \n",
       "3                                       NaN   \n",
       "4                                 34.729151   \n",
       "\n",
       "   Longitude_of_Field_Corner_#2 (lower right)  \\\n",
       "0                                         NaN   \n",
       "1                                         NaN   \n",
       "2                                         NaN   \n",
       "3                                         NaN   \n",
       "4                                   -90.76094   \n",
       "\n",
       "   Latitude_of_Field_Corner_#1 (lower left)  \\\n",
       "0                                       NaN   \n",
       "1                                       NaN   \n",
       "2                                       NaN   \n",
       "3                                       NaN   \n",
       "4                                 34.729884   \n",
       "\n",
       "   Weather_Station_Longitude (in decimal numbers NOT DMS)  \\\n",
       "0                                         -96.432581        \n",
       "1                                         -96.432581        \n",
       "2                                         -93.696188        \n",
       "3                                         -93.696188        \n",
       "4                                         -90.760278        \n",
       "\n",
       "   Longitude_of_Field_Corner_#1 (lower left)              Env  \\\n",
       "0                                        NaN  TXH1-Early_2017   \n",
       "1                                        NaN   TXH1-Late_2017   \n",
       "2                                        NaN       IAH1b_2014   \n",
       "3                                        NaN       IAH1c_2014   \n",
       "4                                 -90.759742        ARH1_2016   \n",
       "\n",
       "   Longitude_of_Field_Corner_#3 (upper right)  \\\n",
       "0                                         NaN   \n",
       "1                                         NaN   \n",
       "2                                         NaN   \n",
       "3                                         NaN   \n",
       "4                                  -90.759824   \n",
       "\n",
       "   Latitude_of_Field_Corner_#3 (upper right)             City  Treatment  \n",
       "0                                        NaN  College Station   Standard  \n",
       "1                                        NaN  College Station   Standard  \n",
       "2                                        NaN             Ames  not_avail  \n",
       "3                                        NaN             Ames  not_avail  \n",
       "4                                  34.729151         Marianna  not_avail  "
      ]
     },
     "execution_count": 194,
     "metadata": {},
     "output_type": "execute_result"
    }
   ],
   "source": [
    "meta_all_reqs.head()"
   ]
  },
  {
   "cell_type": "markdown",
   "id": "eb553491",
   "metadata": {},
   "source": [
    "#### Soil data"
   ]
  },
  {
   "cell_type": "code",
   "execution_count": 195,
   "id": "be35efcb",
   "metadata": {},
   "outputs": [
    {
     "data": {
      "text/plain": [
       "(162, 30)"
      ]
     },
     "execution_count": 195,
     "metadata": {},
     "output_type": "execute_result"
    }
   ],
   "source": [
    "soil_final.shape"
   ]
  },
  {
   "cell_type": "code",
   "execution_count": 196,
   "id": "615e0093",
   "metadata": {},
   "outputs": [],
   "source": [
    "soil_cols = list(soil_final.columns)"
   ]
  },
  {
   "cell_type": "code",
   "execution_count": 197,
   "id": "34b8b49e",
   "metadata": {
    "scrolled": true
   },
   "outputs": [
    {
     "name": "stdout",
     "output_type": "stream",
     "text": [
      "<class 'pandas.core.frame.DataFrame'>\n",
      "Int64Index: 162 entries, 0 to 20\n",
      "Data columns (total 30 columns):\n",
      " #   Column                      Non-Null Count  Dtype  \n",
      "---  ------                      --------------  -----  \n",
      " 0   Comments                    5 non-null      object \n",
      " 1   %K Sat                      145 non-null    float64\n",
      " 2   Calcium ppm Ca              147 non-null    float64\n",
      " 3   Env                         162 non-null    object \n",
      " 4   %Ca Sat                     145 non-null    float64\n",
      " 5   %Na Sat                     145 non-null    float64\n",
      " 6   Sulfate-S ppm S             143 non-null    float64\n",
      " 7   Date Reported               162 non-null    object \n",
      " 8   Date Received               145 non-null    object \n",
      " 9   E Depth                     147 non-null    float64\n",
      " 10  %H Sat                      143 non-null    float64\n",
      " 11  1:1 S Salts mmho/cm         143 non-null    float64\n",
      " 12  Organic Matter LOI %        154 non-null    float64\n",
      " 13  % Clay                      138 non-null    float64\n",
      " 14  lbs N/A                     143 non-null    float64\n",
      " 15  WDRF Buffer pH              143 non-null    float64\n",
      " 16  % Silt                      138 non-null    float64\n",
      " 17  Nitrate-N ppm N             145 non-null    float64\n",
      " 18  Magnesium ppm Mg            147 non-null    float64\n",
      " 19  %Mg Sat                     145 non-null    float64\n",
      " 20  Potassium ppm K             162 non-null    float64\n",
      " 21  1:1 Soil pH                 160 non-null    float64\n",
      " 22  Year                        162 non-null    int64  \n",
      " 23  Mehlich P-III ppm P         162 non-null    float64\n",
      " 24  % Sand                      138 non-null    float64\n",
      " 25  Texture                     140 non-null    object \n",
      " 26  Texture No                  146 non-null    float64\n",
      " 27  LabID                       162 non-null    object \n",
      " 28  CEC/Sum of Cations me/100g  143 non-null    float64\n",
      " 29  Sodium ppm Na               145 non-null    float64\n",
      "dtypes: float64(23), int64(1), object(6)\n",
      "memory usage: 39.2+ KB\n"
     ]
    }
   ],
   "source": [
    "soil_final.info()"
   ]
  },
  {
   "cell_type": "code",
   "execution_count": 198,
   "id": "dd41051f",
   "metadata": {},
   "outputs": [],
   "source": [
    "# soil_final['Comments']"
   ]
  },
  {
   "cell_type": "code",
   "execution_count": 199,
   "id": "f9ea8ece",
   "metadata": {},
   "outputs": [],
   "source": [
    "# ignored the date columns and comments, but retained everything else"
   ]
  },
  {
   "cell_type": "code",
   "execution_count": 200,
   "id": "917823d6",
   "metadata": {},
   "outputs": [],
   "source": [
    "soil_all_reqs = soil_final.drop(['Date Received', 'Date Reported', 'Comments'], axis = 1)"
   ]
  },
  {
   "cell_type": "code",
   "execution_count": 201,
   "id": "5d6c2d3f",
   "metadata": {
    "scrolled": true
   },
   "outputs": [
    {
     "data": {
      "text/plain": [
       "(162, 27)"
      ]
     },
     "execution_count": 201,
     "metadata": {},
     "output_type": "execute_result"
    }
   ],
   "source": [
    "soil_all_reqs.shape"
   ]
  },
  {
   "cell_type": "code",
   "execution_count": 202,
   "id": "3bc35084",
   "metadata": {},
   "outputs": [
    {
     "data": {
      "text/plain": [
       "381"
      ]
     },
     "execution_count": 202,
     "metadata": {},
     "output_type": "execute_result"
    }
   ],
   "source": [
    "soil_all_reqs.isna().sum().sum()"
   ]
  },
  {
   "cell_type": "markdown",
   "id": "8ce554c2",
   "metadata": {},
   "source": [
    "#### Weather"
   ]
  },
  {
   "cell_type": "code",
   "execution_count": 203,
   "id": "6cfc625e",
   "metadata": {},
   "outputs": [
    {
     "data": {
      "text/plain": [
       "(85595, 18)"
      ]
     },
     "execution_count": 203,
     "metadata": {},
     "output_type": "execute_result"
    }
   ],
   "source": [
    "weather_final.shape"
   ]
  },
  {
   "cell_type": "code",
   "execution_count": 204,
   "id": "551d92f1",
   "metadata": {},
   "outputs": [],
   "source": [
    "weather_cols = list(weather_final.columns)"
   ]
  },
  {
   "cell_type": "code",
   "execution_count": 205,
   "id": "5df13843",
   "metadata": {},
   "outputs": [
    {
     "data": {
      "text/plain": [
       "['ALLSKY_SFC_PAR_TOT',\n",
       " 'ALLSKY_SFC_SW_DNI',\n",
       " 'ALLSKY_SFC_SW_DWN',\n",
       " 'Date',\n",
       " 'Env',\n",
       " 'GWETPROF',\n",
       " 'GWETROOT',\n",
       " 'GWETTOP',\n",
       " 'PRECTOTCORR',\n",
       " 'PS',\n",
       " 'QV2M',\n",
       " 'RH2M',\n",
       " 'T2M',\n",
       " 'T2MDEW',\n",
       " 'T2MWET',\n",
       " 'T2M_MAX',\n",
       " 'T2M_MIN',\n",
       " 'WS2M']"
      ]
     },
     "execution_count": 205,
     "metadata": {},
     "output_type": "execute_result"
    }
   ],
   "source": [
    "weather_cols"
   ]
  },
  {
   "cell_type": "code",
   "execution_count": 206,
   "id": "d00db321",
   "metadata": {},
   "outputs": [
    {
     "data": {
      "text/plain": [
       "34603"
      ]
     },
     "execution_count": 206,
     "metadata": {},
     "output_type": "execute_result"
    }
   ],
   "source": [
    "weather_final.isna().sum().sum()"
   ]
  },
  {
   "cell_type": "code",
   "execution_count": 207,
   "id": "e9fc72a3",
   "metadata": {},
   "outputs": [],
   "source": [
    "# not dropping anything here"
   ]
  },
  {
   "cell_type": "markdown",
   "id": "f1900fe7",
   "metadata": {},
   "source": [
    "#### EC"
   ]
  },
  {
   "cell_type": "code",
   "execution_count": 208,
   "id": "91fc9819",
   "metadata": {},
   "outputs": [
    {
     "data": {
      "text/plain": [
       "(189, 766)"
      ]
     },
     "execution_count": 208,
     "metadata": {},
     "output_type": "execute_result"
    }
   ],
   "source": [
    "EC_all.shape"
   ]
  },
  {
   "cell_type": "code",
   "execution_count": 209,
   "id": "fa079d69",
   "metadata": {},
   "outputs": [
    {
     "data": {
      "text/plain": [
       "0"
      ]
     },
     "execution_count": 209,
     "metadata": {},
     "output_type": "execute_result"
    }
   ],
   "source": [
    "# any missing values? - nope\n",
    "EC_all.isna().sum().sum()"
   ]
  },
  {
   "cell_type": "code",
   "execution_count": 210,
   "id": "c096d856",
   "metadata": {},
   "outputs": [
    {
     "data": {
      "text/html": [
       "<div>\n",
       "<style scoped>\n",
       "    .dataframe tbody tr th:only-of-type {\n",
       "        vertical-align: middle;\n",
       "    }\n",
       "\n",
       "    .dataframe tbody tr th {\n",
       "        vertical-align: top;\n",
       "    }\n",
       "\n",
       "    .dataframe thead th {\n",
       "        text-align: right;\n",
       "    }\n",
       "</style>\n",
       "<table border=\"1\" class=\"dataframe\">\n",
       "  <thead>\n",
       "    <tr style=\"text-align: right;\">\n",
       "      <th></th>\n",
       "      <th>SDR_pGerEme_1</th>\n",
       "      <th>SDR_pEmeEnJ_1</th>\n",
       "      <th>SDR_pEnJFlo_1</th>\n",
       "      <th>SDR_pFloFla_1</th>\n",
       "      <th>SDR_pFlaFlw_1</th>\n",
       "      <th>SDR_pFlwStG_1</th>\n",
       "      <th>SDR_pStGEnG_1</th>\n",
       "      <th>SDR_pEnGMat_1</th>\n",
       "      <th>SDR_pMatHar_1</th>\n",
       "      <th>SDR_pGerEme_2</th>\n",
       "      <th>...</th>\n",
       "      <th>LAI_pMatHar</th>\n",
       "      <th>AccumulatedTT_pGerEme</th>\n",
       "      <th>AccumulatedTT_pEmeEnJ</th>\n",
       "      <th>AccumulatedTT_pEnJFlo</th>\n",
       "      <th>AccumulatedTT_pFloFla</th>\n",
       "      <th>AccumulatedTT_pFlaFlw</th>\n",
       "      <th>AccumulatedTT_pFlwStG</th>\n",
       "      <th>AccumulatedTT_pStGEnG</th>\n",
       "      <th>AccumulatedTT_pEnGMat</th>\n",
       "      <th>AccumulatedTT_pMatHar</th>\n",
       "    </tr>\n",
       "  </thead>\n",
       "  <tbody>\n",
       "    <tr>\n",
       "      <th>count</th>\n",
       "      <td>189.000000</td>\n",
       "      <td>189.000000</td>\n",
       "      <td>189.000000</td>\n",
       "      <td>189.000000</td>\n",
       "      <td>189.000000</td>\n",
       "      <td>189.000000</td>\n",
       "      <td>189.000000</td>\n",
       "      <td>189.000000</td>\n",
       "      <td>189.000000</td>\n",
       "      <td>189.000000</td>\n",
       "      <td>...</td>\n",
       "      <td>189.000000</td>\n",
       "      <td>189.000000</td>\n",
       "      <td>189.000000</td>\n",
       "      <td>189.000000</td>\n",
       "      <td>189.000000</td>\n",
       "      <td>189.000000</td>\n",
       "      <td>189.000000</td>\n",
       "      <td>189.000000</td>\n",
       "      <td>189.000000</td>\n",
       "      <td>189.000000</td>\n",
       "    </tr>\n",
       "    <tr>\n",
       "      <th>mean</th>\n",
       "      <td>3.664677</td>\n",
       "      <td>3.194397</td>\n",
       "      <td>2.539925</td>\n",
       "      <td>1.793942</td>\n",
       "      <td>1.111110</td>\n",
       "      <td>1.173365</td>\n",
       "      <td>1.403835</td>\n",
       "      <td>1.972903</td>\n",
       "      <td>2.001531</td>\n",
       "      <td>4.058431</td>\n",
       "      <td>...</td>\n",
       "      <td>0.949530</td>\n",
       "      <td>59.342099</td>\n",
       "      <td>195.655218</td>\n",
       "      <td>306.060253</td>\n",
       "      <td>580.735258</td>\n",
       "      <td>900.385028</td>\n",
       "      <td>989.213536</td>\n",
       "      <td>1306.737791</td>\n",
       "      <td>1563.456363</td>\n",
       "      <td>1573.453044</td>\n",
       "    </tr>\n",
       "    <tr>\n",
       "      <th>std</th>\n",
       "      <td>2.439544</td>\n",
       "      <td>1.615596</td>\n",
       "      <td>2.649596</td>\n",
       "      <td>0.887649</td>\n",
       "      <td>0.848760</td>\n",
       "      <td>0.814779</td>\n",
       "      <td>0.893686</td>\n",
       "      <td>2.531352</td>\n",
       "      <td>2.865657</td>\n",
       "      <td>2.104736</td>\n",
       "      <td>...</td>\n",
       "      <td>0.750376</td>\n",
       "      <td>33.325778</td>\n",
       "      <td>38.621089</td>\n",
       "      <td>54.486098</td>\n",
       "      <td>75.225761</td>\n",
       "      <td>96.225263</td>\n",
       "      <td>97.016169</td>\n",
       "      <td>121.164648</td>\n",
       "      <td>141.417090</td>\n",
       "      <td>141.023831</td>\n",
       "    </tr>\n",
       "    <tr>\n",
       "      <th>min</th>\n",
       "      <td>-0.055653</td>\n",
       "      <td>-0.185824</td>\n",
       "      <td>-0.501223</td>\n",
       "      <td>0.196330</td>\n",
       "      <td>-0.137841</td>\n",
       "      <td>-0.135943</td>\n",
       "      <td>-0.719383</td>\n",
       "      <td>-1.211387</td>\n",
       "      <td>-1.562756</td>\n",
       "      <td>0.812787</td>\n",
       "      <td>...</td>\n",
       "      <td>0.000000</td>\n",
       "      <td>39.483802</td>\n",
       "      <td>129.787786</td>\n",
       "      <td>190.526612</td>\n",
       "      <td>413.630625</td>\n",
       "      <td>701.271766</td>\n",
       "      <td>788.129253</td>\n",
       "      <td>1049.118036</td>\n",
       "      <td>1250.820536</td>\n",
       "      <td>1259.603036</td>\n",
       "    </tr>\n",
       "    <tr>\n",
       "      <th>25%</th>\n",
       "      <td>1.969966</td>\n",
       "      <td>2.032368</td>\n",
       "      <td>1.270599</td>\n",
       "      <td>1.076572</td>\n",
       "      <td>0.529318</td>\n",
       "      <td>0.544720</td>\n",
       "      <td>0.730987</td>\n",
       "      <td>0.516223</td>\n",
       "      <td>0.564778</td>\n",
       "      <td>2.636394</td>\n",
       "      <td>...</td>\n",
       "      <td>0.199814</td>\n",
       "      <td>49.317217</td>\n",
       "      <td>176.274597</td>\n",
       "      <td>274.206008</td>\n",
       "      <td>535.962970</td>\n",
       "      <td>841.180391</td>\n",
       "      <td>928.083250</td>\n",
       "      <td>1228.899656</td>\n",
       "      <td>1480.760397</td>\n",
       "      <td>1489.743331</td>\n",
       "    </tr>\n",
       "    <tr>\n",
       "      <th>50%</th>\n",
       "      <td>3.273684</td>\n",
       "      <td>3.271231</td>\n",
       "      <td>2.041081</td>\n",
       "      <td>1.688318</td>\n",
       "      <td>1.028006</td>\n",
       "      <td>1.048677</td>\n",
       "      <td>1.305110</td>\n",
       "      <td>1.553835</td>\n",
       "      <td>1.594714</td>\n",
       "      <td>3.570991</td>\n",
       "      <td>...</td>\n",
       "      <td>0.796466</td>\n",
       "      <td>55.079749</td>\n",
       "      <td>189.846242</td>\n",
       "      <td>296.322610</td>\n",
       "      <td>569.432373</td>\n",
       "      <td>888.332253</td>\n",
       "      <td>978.107900</td>\n",
       "      <td>1293.313201</td>\n",
       "      <td>1548.173936</td>\n",
       "      <td>1557.166436</td>\n",
       "    </tr>\n",
       "    <tr>\n",
       "      <th>75%</th>\n",
       "      <td>4.934672</td>\n",
       "      <td>4.235441</td>\n",
       "      <td>2.909179</td>\n",
       "      <td>2.494383</td>\n",
       "      <td>1.481212</td>\n",
       "      <td>1.636561</td>\n",
       "      <td>1.993813</td>\n",
       "      <td>2.395286</td>\n",
       "      <td>2.374700</td>\n",
       "      <td>4.860020</td>\n",
       "      <td>...</td>\n",
       "      <td>1.684233</td>\n",
       "      <td>60.300227</td>\n",
       "      <td>204.605496</td>\n",
       "      <td>322.750866</td>\n",
       "      <td>605.006524</td>\n",
       "      <td>932.574673</td>\n",
       "      <td>1020.559274</td>\n",
       "      <td>1345.434522</td>\n",
       "      <td>1615.024639</td>\n",
       "      <td>1626.072418</td>\n",
       "    </tr>\n",
       "    <tr>\n",
       "      <th>max</th>\n",
       "      <td>11.508488</td>\n",
       "      <td>7.759216</td>\n",
       "      <td>22.558409</td>\n",
       "      <td>4.189615</td>\n",
       "      <td>4.958616</td>\n",
       "      <td>3.683131</td>\n",
       "      <td>5.232937</td>\n",
       "      <td>18.253280</td>\n",
       "      <td>31.352579</td>\n",
       "      <td>12.205156</td>\n",
       "      <td>...</td>\n",
       "      <td>2.242068</td>\n",
       "      <td>425.366108</td>\n",
       "      <td>534.931928</td>\n",
       "      <td>616.377754</td>\n",
       "      <td>875.913355</td>\n",
       "      <td>1269.177229</td>\n",
       "      <td>1356.226335</td>\n",
       "      <td>1765.707260</td>\n",
       "      <td>2117.984330</td>\n",
       "      <td>2126.854330</td>\n",
       "    </tr>\n",
       "  </tbody>\n",
       "</table>\n",
       "<p>8 rows × 765 columns</p>\n",
       "</div>"
      ],
      "text/plain": [
       "       SDR_pGerEme_1  SDR_pEmeEnJ_1  SDR_pEnJFlo_1  SDR_pFloFla_1  \\\n",
       "count     189.000000     189.000000     189.000000     189.000000   \n",
       "mean        3.664677       3.194397       2.539925       1.793942   \n",
       "std         2.439544       1.615596       2.649596       0.887649   \n",
       "min        -0.055653      -0.185824      -0.501223       0.196330   \n",
       "25%         1.969966       2.032368       1.270599       1.076572   \n",
       "50%         3.273684       3.271231       2.041081       1.688318   \n",
       "75%         4.934672       4.235441       2.909179       2.494383   \n",
       "max        11.508488       7.759216      22.558409       4.189615   \n",
       "\n",
       "       SDR_pFlaFlw_1  SDR_pFlwStG_1  SDR_pStGEnG_1  SDR_pEnGMat_1  \\\n",
       "count     189.000000     189.000000     189.000000     189.000000   \n",
       "mean        1.111110       1.173365       1.403835       1.972903   \n",
       "std         0.848760       0.814779       0.893686       2.531352   \n",
       "min        -0.137841      -0.135943      -0.719383      -1.211387   \n",
       "25%         0.529318       0.544720       0.730987       0.516223   \n",
       "50%         1.028006       1.048677       1.305110       1.553835   \n",
       "75%         1.481212       1.636561       1.993813       2.395286   \n",
       "max         4.958616       3.683131       5.232937      18.253280   \n",
       "\n",
       "       SDR_pMatHar_1  SDR_pGerEme_2  ...  LAI_pMatHar  AccumulatedTT_pGerEme  \\\n",
       "count     189.000000     189.000000  ...   189.000000             189.000000   \n",
       "mean        2.001531       4.058431  ...     0.949530              59.342099   \n",
       "std         2.865657       2.104736  ...     0.750376              33.325778   \n",
       "min        -1.562756       0.812787  ...     0.000000              39.483802   \n",
       "25%         0.564778       2.636394  ...     0.199814              49.317217   \n",
       "50%         1.594714       3.570991  ...     0.796466              55.079749   \n",
       "75%         2.374700       4.860020  ...     1.684233              60.300227   \n",
       "max        31.352579      12.205156  ...     2.242068             425.366108   \n",
       "\n",
       "       AccumulatedTT_pEmeEnJ  AccumulatedTT_pEnJFlo  AccumulatedTT_pFloFla  \\\n",
       "count             189.000000             189.000000             189.000000   \n",
       "mean              195.655218             306.060253             580.735258   \n",
       "std                38.621089              54.486098              75.225761   \n",
       "min               129.787786             190.526612             413.630625   \n",
       "25%               176.274597             274.206008             535.962970   \n",
       "50%               189.846242             296.322610             569.432373   \n",
       "75%               204.605496             322.750866             605.006524   \n",
       "max               534.931928             616.377754             875.913355   \n",
       "\n",
       "       AccumulatedTT_pFlaFlw  AccumulatedTT_pFlwStG  AccumulatedTT_pStGEnG  \\\n",
       "count             189.000000             189.000000             189.000000   \n",
       "mean              900.385028             989.213536            1306.737791   \n",
       "std                96.225263              97.016169             121.164648   \n",
       "min               701.271766             788.129253            1049.118036   \n",
       "25%               841.180391             928.083250            1228.899656   \n",
       "50%               888.332253             978.107900            1293.313201   \n",
       "75%               932.574673            1020.559274            1345.434522   \n",
       "max              1269.177229            1356.226335            1765.707260   \n",
       "\n",
       "       AccumulatedTT_pEnGMat  AccumulatedTT_pMatHar  \n",
       "count             189.000000             189.000000  \n",
       "mean             1563.456363            1573.453044  \n",
       "std               141.417090             141.023831  \n",
       "min              1250.820536            1259.603036  \n",
       "25%              1480.760397            1489.743331  \n",
       "50%              1548.173936            1557.166436  \n",
       "75%              1615.024639            1626.072418  \n",
       "max              2117.984330            2126.854330  \n",
       "\n",
       "[8 rows x 765 columns]"
      ]
     },
     "execution_count": 210,
     "metadata": {},
     "output_type": "execute_result"
    }
   ],
   "source": [
    "# type of data\n",
    "EC_all.describe()"
   ]
  },
  {
   "cell_type": "code",
   "execution_count": 211,
   "id": "1abb81ce",
   "metadata": {},
   "outputs": [],
   "source": [
    "num_cols_EC = EC_all.select_dtypes(include=np.number)"
   ]
  },
  {
   "cell_type": "code",
   "execution_count": 212,
   "id": "7a13eac4",
   "metadata": {},
   "outputs": [
    {
     "data": {
      "text/plain": [
       "(189, 765)"
      ]
     },
     "execution_count": 212,
     "metadata": {},
     "output_type": "execute_result"
    }
   ],
   "source": [
    "num_cols_EC.shape"
   ]
  },
  {
   "cell_type": "code",
   "execution_count": 213,
   "id": "bd2bdcd8",
   "metadata": {},
   "outputs": [],
   "source": [
    "# all data are numeric apart from the Env - include all data"
   ]
  },
  {
   "cell_type": "markdown",
   "id": "4b7cebd4",
   "metadata": {},
   "source": [
    "#### Okay, now we can merge all the data"
   ]
  },
  {
   "cell_type": "code",
   "execution_count": 214,
   "id": "ace35555",
   "metadata": {},
   "outputs": [],
   "source": [
    "# sub data and meta data first"
   ]
  },
  {
   "cell_type": "code",
   "execution_count": 215,
   "id": "5cd72743",
   "metadata": {
    "scrolled": false
   },
   "outputs": [
    {
     "data": {
      "text/html": [
       "<div>\n",
       "<style scoped>\n",
       "    .dataframe tbody tr th:only-of-type {\n",
       "        vertical-align: middle;\n",
       "    }\n",
       "\n",
       "    .dataframe tbody tr th {\n",
       "        vertical-align: top;\n",
       "    }\n",
       "\n",
       "    .dataframe thead th {\n",
       "        text-align: right;\n",
       "    }\n",
       "</style>\n",
       "<table border=\"1\" class=\"dataframe\">\n",
       "  <thead>\n",
       "    <tr style=\"text-align: right;\">\n",
       "      <th></th>\n",
       "      <th>Env</th>\n",
       "      <th>Hybrid</th>\n",
       "      <th>Yield_Mg_ha</th>\n",
       "      <th>Year</th>\n",
       "      <th>Field_Location</th>\n",
       "      <th>Experiment</th>\n",
       "      <th>Replicate</th>\n",
       "      <th>Block</th>\n",
       "      <th>Plot</th>\n",
       "      <th>Range</th>\n",
       "      <th>...</th>\n",
       "      <th>Date_Harvested</th>\n",
       "      <th>Stand_Count_plants</th>\n",
       "      <th>Pollen_DAP_days</th>\n",
       "      <th>Silk_DAP_days</th>\n",
       "      <th>Plant_Height_cm</th>\n",
       "      <th>Ear_Height_cm</th>\n",
       "      <th>Root_Lodging_plants</th>\n",
       "      <th>Stalk_Lodging_plants</th>\n",
       "      <th>Grain_Moisture</th>\n",
       "      <th>Twt_kg_m3</th>\n",
       "    </tr>\n",
       "  </thead>\n",
       "  <tbody>\n",
       "    <tr>\n",
       "      <th>0</th>\n",
       "      <td>DEH1_2014</td>\n",
       "      <td>M0088/LH185</td>\n",
       "      <td>5.721725</td>\n",
       "      <td>2014.0</td>\n",
       "      <td>DEH1</td>\n",
       "      <td>G2F_2014_15</td>\n",
       "      <td>1.0</td>\n",
       "      <td>1.0</td>\n",
       "      <td>1.0</td>\n",
       "      <td>1.0</td>\n",
       "      <td>...</td>\n",
       "      <td>9/29/14</td>\n",
       "      <td>56.0</td>\n",
       "      <td>63.0</td>\n",
       "      <td>67.0</td>\n",
       "      <td>213.0</td>\n",
       "      <td>79.0</td>\n",
       "      <td>0.0</td>\n",
       "      <td>0.0</td>\n",
       "      <td>20.8</td>\n",
       "      <td>706.664693</td>\n",
       "    </tr>\n",
       "    <tr>\n",
       "      <th>1</th>\n",
       "      <td>DEH1_2014</td>\n",
       "      <td>M0143/LH185</td>\n",
       "      <td>11.338246</td>\n",
       "      <td>2014.0</td>\n",
       "      <td>DEH1</td>\n",
       "      <td>G2F_2014_15</td>\n",
       "      <td>1.0</td>\n",
       "      <td>1.0</td>\n",
       "      <td>2.0</td>\n",
       "      <td>1.0</td>\n",
       "      <td>...</td>\n",
       "      <td>9/29/14</td>\n",
       "      <td>54.0</td>\n",
       "      <td>61.0</td>\n",
       "      <td>63.0</td>\n",
       "      <td>286.0</td>\n",
       "      <td>172.0</td>\n",
       "      <td>0.0</td>\n",
       "      <td>0.0</td>\n",
       "      <td>25.8</td>\n",
       "      <td>693.792841</td>\n",
       "    </tr>\n",
       "    <tr>\n",
       "      <th>2</th>\n",
       "      <td>DEH1_2014</td>\n",
       "      <td>M0003/LH185</td>\n",
       "      <td>6.540810</td>\n",
       "      <td>2014.0</td>\n",
       "      <td>DEH1</td>\n",
       "      <td>G2F_2014_15</td>\n",
       "      <td>1.0</td>\n",
       "      <td>1.0</td>\n",
       "      <td>3.0</td>\n",
       "      <td>1.0</td>\n",
       "      <td>...</td>\n",
       "      <td>9/29/14</td>\n",
       "      <td>60.0</td>\n",
       "      <td>63.0</td>\n",
       "      <td>65.0</td>\n",
       "      <td>239.0</td>\n",
       "      <td>92.0</td>\n",
       "      <td>0.0</td>\n",
       "      <td>4.0</td>\n",
       "      <td>20.8</td>\n",
       "      <td>698.941582</td>\n",
       "    </tr>\n",
       "    <tr>\n",
       "      <th>3</th>\n",
       "      <td>DEH1_2014</td>\n",
       "      <td>M0035/LH185</td>\n",
       "      <td>10.366857</td>\n",
       "      <td>2014.0</td>\n",
       "      <td>DEH1</td>\n",
       "      <td>G2F_2014_15</td>\n",
       "      <td>1.0</td>\n",
       "      <td>1.0</td>\n",
       "      <td>4.0</td>\n",
       "      <td>1.0</td>\n",
       "      <td>...</td>\n",
       "      <td>9/29/14</td>\n",
       "      <td>59.0</td>\n",
       "      <td>61.0</td>\n",
       "      <td>63.0</td>\n",
       "      <td>242.0</td>\n",
       "      <td>118.0</td>\n",
       "      <td>0.0</td>\n",
       "      <td>0.0</td>\n",
       "      <td>23.7</td>\n",
       "      <td>711.813434</td>\n",
       "    </tr>\n",
       "    <tr>\n",
       "      <th>4</th>\n",
       "      <td>DEH1_2014</td>\n",
       "      <td>M0052/LH185</td>\n",
       "      <td>10.908814</td>\n",
       "      <td>2014.0</td>\n",
       "      <td>DEH1</td>\n",
       "      <td>G2F_2014_15</td>\n",
       "      <td>1.0</td>\n",
       "      <td>1.0</td>\n",
       "      <td>5.0</td>\n",
       "      <td>1.0</td>\n",
       "      <td>...</td>\n",
       "      <td>9/29/14</td>\n",
       "      <td>58.0</td>\n",
       "      <td>63.0</td>\n",
       "      <td>65.0</td>\n",
       "      <td>211.0</td>\n",
       "      <td>92.0</td>\n",
       "      <td>0.0</td>\n",
       "      <td>0.0</td>\n",
       "      <td>19.4</td>\n",
       "      <td>743.993065</td>\n",
       "    </tr>\n",
       "  </tbody>\n",
       "</table>\n",
       "<p>5 rows × 26 columns</p>\n",
       "</div>"
      ],
      "text/plain": [
       "         Env       Hybrid  Yield_Mg_ha    Year Field_Location   Experiment  \\\n",
       "0  DEH1_2014  M0088/LH185     5.721725  2014.0           DEH1  G2F_2014_15   \n",
       "1  DEH1_2014  M0143/LH185    11.338246  2014.0           DEH1  G2F_2014_15   \n",
       "2  DEH1_2014  M0003/LH185     6.540810  2014.0           DEH1  G2F_2014_15   \n",
       "3  DEH1_2014  M0035/LH185    10.366857  2014.0           DEH1  G2F_2014_15   \n",
       "4  DEH1_2014  M0052/LH185    10.908814  2014.0           DEH1  G2F_2014_15   \n",
       "\n",
       "   Replicate  Block  Plot  Range  ...  Date_Harvested Stand_Count_plants  \\\n",
       "0        1.0    1.0   1.0    1.0  ...         9/29/14               56.0   \n",
       "1        1.0    1.0   2.0    1.0  ...         9/29/14               54.0   \n",
       "2        1.0    1.0   3.0    1.0  ...         9/29/14               60.0   \n",
       "3        1.0    1.0   4.0    1.0  ...         9/29/14               59.0   \n",
       "4        1.0    1.0   5.0    1.0  ...         9/29/14               58.0   \n",
       "\n",
       "  Pollen_DAP_days Silk_DAP_days  Plant_Height_cm Ear_Height_cm  \\\n",
       "0            63.0          67.0            213.0          79.0   \n",
       "1            61.0          63.0            286.0         172.0   \n",
       "2            63.0          65.0            239.0          92.0   \n",
       "3            61.0          63.0            242.0         118.0   \n",
       "4            63.0          65.0            211.0          92.0   \n",
       "\n",
       "  Root_Lodging_plants  Stalk_Lodging_plants  Grain_Moisture   Twt_kg_m3  \n",
       "0                 0.0                   0.0            20.8  706.664693  \n",
       "1                 0.0                   0.0            25.8  693.792841  \n",
       "2                 0.0                   4.0            20.8  698.941582  \n",
       "3                 0.0                   0.0            23.7  711.813434  \n",
       "4                 0.0                   0.0            19.4  743.993065  \n",
       "\n",
       "[5 rows x 26 columns]"
      ]
     },
     "execution_count": 215,
     "metadata": {},
     "output_type": "execute_result"
    }
   ],
   "source": [
    "sub_all.head()"
   ]
  },
  {
   "cell_type": "code",
   "execution_count": 216,
   "id": "a452df70",
   "metadata": {},
   "outputs": [],
   "source": [
    "sub_all['Year'] = sub_all['Year'].fillna(2022)"
   ]
  },
  {
   "cell_type": "code",
   "execution_count": 217,
   "id": "09f02974",
   "metadata": {},
   "outputs": [
    {
     "data": {
      "text/plain": [
       "0"
      ]
     },
     "execution_count": 217,
     "metadata": {},
     "output_type": "execute_result"
    }
   ],
   "source": [
    "sub_all['Year'].isna().sum()"
   ]
  },
  {
   "cell_type": "code",
   "execution_count": 218,
   "id": "bff37f16",
   "metadata": {},
   "outputs": [],
   "source": [
    "sub_all['Year'] = sub_all['Year'].astype('int64')"
   ]
  },
  {
   "cell_type": "code",
   "execution_count": 219,
   "id": "20012952",
   "metadata": {},
   "outputs": [],
   "source": [
    "# sub_all['Year'].isna().sum()"
   ]
  },
  {
   "cell_type": "code",
   "execution_count": 220,
   "id": "14fc9788",
   "metadata": {
    "scrolled": true
   },
   "outputs": [
    {
     "name": "stdout",
     "output_type": "stream",
     "text": [
      "<class 'pandas.core.frame.DataFrame'>\n",
      "Int64Index: 147567 entries, 0 to 11554\n",
      "Data columns (total 26 columns):\n",
      " #   Column                Non-Null Count   Dtype  \n",
      "---  ------                --------------   -----  \n",
      " 0   Env                   147567 non-null  object \n",
      " 1   Hybrid                147567 non-null  object \n",
      " 2   Yield_Mg_ha           128167 non-null  float64\n",
      " 3   Year                  147567 non-null  int64  \n",
      " 4   Field_Location        136012 non-null  object \n",
      " 5   Experiment            136012 non-null  object \n",
      " 6   Replicate             136012 non-null  float64\n",
      " 7   Block                 136012 non-null  float64\n",
      " 8   Plot                  136012 non-null  float64\n",
      " 9   Range                 117287 non-null  float64\n",
      " 10  Pass                  117697 non-null  float64\n",
      " 11  Hybrid_orig_name      136012 non-null  object \n",
      " 12  Hybrid_Parent1        134393 non-null  object \n",
      " 13  Hybrid_Parent2        134393 non-null  object \n",
      " 14  Plot_Area_ha          136011 non-null  float64\n",
      " 15  Date_Planted          135650 non-null  object \n",
      " 16  Date_Harvested        134887 non-null  object \n",
      " 17  Stand_Count_plants    124359 non-null  float64\n",
      " 18  Pollen_DAP_days       105515 non-null  float64\n",
      " 19  Silk_DAP_days         103132 non-null  float64\n",
      " 20  Plant_Height_cm       120451 non-null  float64\n",
      " 21  Ear_Height_cm         120468 non-null  float64\n",
      " 22  Root_Lodging_plants   76371 non-null   float64\n",
      " 23  Stalk_Lodging_plants  87824 non-null   float64\n",
      " 24  Grain_Moisture        128242 non-null  float64\n",
      " 25  Twt_kg_m3             108060 non-null  float64\n",
      "dtypes: float64(16), int64(1), object(9)\n",
      "memory usage: 30.4+ MB\n"
     ]
    }
   ],
   "source": [
    "sub_all.info()"
   ]
  },
  {
   "cell_type": "code",
   "execution_count": 221,
   "id": "02c340dc",
   "metadata": {},
   "outputs": [
    {
     "data": {
      "text/plain": [
       "(243, 18)"
      ]
     },
     "execution_count": 221,
     "metadata": {},
     "output_type": "execute_result"
    }
   ],
   "source": [
    "meta_all_reqs.shape"
   ]
  },
  {
   "cell_type": "code",
   "execution_count": 222,
   "id": "2df21b17",
   "metadata": {},
   "outputs": [
    {
     "data": {
      "text/html": [
       "<div>\n",
       "<style scoped>\n",
       "    .dataframe tbody tr th:only-of-type {\n",
       "        vertical-align: middle;\n",
       "    }\n",
       "\n",
       "    .dataframe tbody tr th {\n",
       "        vertical-align: top;\n",
       "    }\n",
       "\n",
       "    .dataframe thead th {\n",
       "        text-align: right;\n",
       "    }\n",
       "</style>\n",
       "<table border=\"1\" class=\"dataframe\">\n",
       "  <thead>\n",
       "    <tr style=\"text-align: right;\">\n",
       "      <th></th>\n",
       "      <th>Env</th>\n",
       "      <th>Hybrid</th>\n",
       "      <th>Yield_Mg_ha</th>\n",
       "      <th>Year</th>\n",
       "      <th>Field_Location</th>\n",
       "      <th>Experiment</th>\n",
       "      <th>Replicate</th>\n",
       "      <th>Block</th>\n",
       "      <th>Plot</th>\n",
       "      <th>Range</th>\n",
       "      <th>...</th>\n",
       "      <th>Date_Harvested</th>\n",
       "      <th>Stand_Count_plants</th>\n",
       "      <th>Pollen_DAP_days</th>\n",
       "      <th>Silk_DAP_days</th>\n",
       "      <th>Plant_Height_cm</th>\n",
       "      <th>Ear_Height_cm</th>\n",
       "      <th>Root_Lodging_plants</th>\n",
       "      <th>Stalk_Lodging_plants</th>\n",
       "      <th>Grain_Moisture</th>\n",
       "      <th>Twt_kg_m3</th>\n",
       "    </tr>\n",
       "  </thead>\n",
       "  <tbody>\n",
       "    <tr>\n",
       "      <th>0</th>\n",
       "      <td>DEH1_2022</td>\n",
       "      <td>B14A/OH43</td>\n",
       "      <td>NaN</td>\n",
       "      <td>2022</td>\n",
       "      <td>NaN</td>\n",
       "      <td>NaN</td>\n",
       "      <td>NaN</td>\n",
       "      <td>NaN</td>\n",
       "      <td>NaN</td>\n",
       "      <td>NaN</td>\n",
       "      <td>...</td>\n",
       "      <td>NaN</td>\n",
       "      <td>NaN</td>\n",
       "      <td>NaN</td>\n",
       "      <td>NaN</td>\n",
       "      <td>NaN</td>\n",
       "      <td>NaN</td>\n",
       "      <td>NaN</td>\n",
       "      <td>NaN</td>\n",
       "      <td>NaN</td>\n",
       "      <td>NaN</td>\n",
       "    </tr>\n",
       "    <tr>\n",
       "      <th>1</th>\n",
       "      <td>DEH1_2022</td>\n",
       "      <td>B37/H95</td>\n",
       "      <td>NaN</td>\n",
       "      <td>2022</td>\n",
       "      <td>NaN</td>\n",
       "      <td>NaN</td>\n",
       "      <td>NaN</td>\n",
       "      <td>NaN</td>\n",
       "      <td>NaN</td>\n",
       "      <td>NaN</td>\n",
       "      <td>...</td>\n",
       "      <td>NaN</td>\n",
       "      <td>NaN</td>\n",
       "      <td>NaN</td>\n",
       "      <td>NaN</td>\n",
       "      <td>NaN</td>\n",
       "      <td>NaN</td>\n",
       "      <td>NaN</td>\n",
       "      <td>NaN</td>\n",
       "      <td>NaN</td>\n",
       "      <td>NaN</td>\n",
       "    </tr>\n",
       "    <tr>\n",
       "      <th>2</th>\n",
       "      <td>DEH1_2022</td>\n",
       "      <td>B73/MO17</td>\n",
       "      <td>NaN</td>\n",
       "      <td>2022</td>\n",
       "      <td>NaN</td>\n",
       "      <td>NaN</td>\n",
       "      <td>NaN</td>\n",
       "      <td>NaN</td>\n",
       "      <td>NaN</td>\n",
       "      <td>NaN</td>\n",
       "      <td>...</td>\n",
       "      <td>NaN</td>\n",
       "      <td>NaN</td>\n",
       "      <td>NaN</td>\n",
       "      <td>NaN</td>\n",
       "      <td>NaN</td>\n",
       "      <td>NaN</td>\n",
       "      <td>NaN</td>\n",
       "      <td>NaN</td>\n",
       "      <td>NaN</td>\n",
       "      <td>NaN</td>\n",
       "    </tr>\n",
       "    <tr>\n",
       "      <th>3</th>\n",
       "      <td>DEH1_2022</td>\n",
       "      <td>B73/PHN82</td>\n",
       "      <td>NaN</td>\n",
       "      <td>2022</td>\n",
       "      <td>NaN</td>\n",
       "      <td>NaN</td>\n",
       "      <td>NaN</td>\n",
       "      <td>NaN</td>\n",
       "      <td>NaN</td>\n",
       "      <td>NaN</td>\n",
       "      <td>...</td>\n",
       "      <td>NaN</td>\n",
       "      <td>NaN</td>\n",
       "      <td>NaN</td>\n",
       "      <td>NaN</td>\n",
       "      <td>NaN</td>\n",
       "      <td>NaN</td>\n",
       "      <td>NaN</td>\n",
       "      <td>NaN</td>\n",
       "      <td>NaN</td>\n",
       "      <td>NaN</td>\n",
       "    </tr>\n",
       "    <tr>\n",
       "      <th>4</th>\n",
       "      <td>DEH1_2022</td>\n",
       "      <td>B73/TX779</td>\n",
       "      <td>NaN</td>\n",
       "      <td>2022</td>\n",
       "      <td>NaN</td>\n",
       "      <td>NaN</td>\n",
       "      <td>NaN</td>\n",
       "      <td>NaN</td>\n",
       "      <td>NaN</td>\n",
       "      <td>NaN</td>\n",
       "      <td>...</td>\n",
       "      <td>NaN</td>\n",
       "      <td>NaN</td>\n",
       "      <td>NaN</td>\n",
       "      <td>NaN</td>\n",
       "      <td>NaN</td>\n",
       "      <td>NaN</td>\n",
       "      <td>NaN</td>\n",
       "      <td>NaN</td>\n",
       "      <td>NaN</td>\n",
       "      <td>NaN</td>\n",
       "    </tr>\n",
       "    <tr>\n",
       "      <th>...</th>\n",
       "      <td>...</td>\n",
       "      <td>...</td>\n",
       "      <td>...</td>\n",
       "      <td>...</td>\n",
       "      <td>...</td>\n",
       "      <td>...</td>\n",
       "      <td>...</td>\n",
       "      <td>...</td>\n",
       "      <td>...</td>\n",
       "      <td>...</td>\n",
       "      <td>...</td>\n",
       "      <td>...</td>\n",
       "      <td>...</td>\n",
       "      <td>...</td>\n",
       "      <td>...</td>\n",
       "      <td>...</td>\n",
       "      <td>...</td>\n",
       "      <td>...</td>\n",
       "      <td>...</td>\n",
       "      <td>...</td>\n",
       "      <td>...</td>\n",
       "    </tr>\n",
       "    <tr>\n",
       "      <th>11550</th>\n",
       "      <td>WIH3_2022</td>\n",
       "      <td>W10010_0337/LH244</td>\n",
       "      <td>NaN</td>\n",
       "      <td>2022</td>\n",
       "      <td>NaN</td>\n",
       "      <td>NaN</td>\n",
       "      <td>NaN</td>\n",
       "      <td>NaN</td>\n",
       "      <td>NaN</td>\n",
       "      <td>NaN</td>\n",
       "      <td>...</td>\n",
       "      <td>NaN</td>\n",
       "      <td>NaN</td>\n",
       "      <td>NaN</td>\n",
       "      <td>NaN</td>\n",
       "      <td>NaN</td>\n",
       "      <td>NaN</td>\n",
       "      <td>NaN</td>\n",
       "      <td>NaN</td>\n",
       "      <td>NaN</td>\n",
       "      <td>NaN</td>\n",
       "    </tr>\n",
       "    <tr>\n",
       "      <th>11551</th>\n",
       "      <td>WIH3_2022</td>\n",
       "      <td>W10010_0346/LH244</td>\n",
       "      <td>NaN</td>\n",
       "      <td>2022</td>\n",
       "      <td>NaN</td>\n",
       "      <td>NaN</td>\n",
       "      <td>NaN</td>\n",
       "      <td>NaN</td>\n",
       "      <td>NaN</td>\n",
       "      <td>NaN</td>\n",
       "      <td>...</td>\n",
       "      <td>NaN</td>\n",
       "      <td>NaN</td>\n",
       "      <td>NaN</td>\n",
       "      <td>NaN</td>\n",
       "      <td>NaN</td>\n",
       "      <td>NaN</td>\n",
       "      <td>NaN</td>\n",
       "      <td>NaN</td>\n",
       "      <td>NaN</td>\n",
       "      <td>NaN</td>\n",
       "    </tr>\n",
       "    <tr>\n",
       "      <th>11552</th>\n",
       "      <td>WIH3_2022</td>\n",
       "      <td>W10010_0358/LH244</td>\n",
       "      <td>NaN</td>\n",
       "      <td>2022</td>\n",
       "      <td>NaN</td>\n",
       "      <td>NaN</td>\n",
       "      <td>NaN</td>\n",
       "      <td>NaN</td>\n",
       "      <td>NaN</td>\n",
       "      <td>NaN</td>\n",
       "      <td>...</td>\n",
       "      <td>NaN</td>\n",
       "      <td>NaN</td>\n",
       "      <td>NaN</td>\n",
       "      <td>NaN</td>\n",
       "      <td>NaN</td>\n",
       "      <td>NaN</td>\n",
       "      <td>NaN</td>\n",
       "      <td>NaN</td>\n",
       "      <td>NaN</td>\n",
       "      <td>NaN</td>\n",
       "    </tr>\n",
       "    <tr>\n",
       "      <th>11553</th>\n",
       "      <td>WIH3_2022</td>\n",
       "      <td>W10010_0381/LH244</td>\n",
       "      <td>NaN</td>\n",
       "      <td>2022</td>\n",
       "      <td>NaN</td>\n",
       "      <td>NaN</td>\n",
       "      <td>NaN</td>\n",
       "      <td>NaN</td>\n",
       "      <td>NaN</td>\n",
       "      <td>NaN</td>\n",
       "      <td>...</td>\n",
       "      <td>NaN</td>\n",
       "      <td>NaN</td>\n",
       "      <td>NaN</td>\n",
       "      <td>NaN</td>\n",
       "      <td>NaN</td>\n",
       "      <td>NaN</td>\n",
       "      <td>NaN</td>\n",
       "      <td>NaN</td>\n",
       "      <td>NaN</td>\n",
       "      <td>NaN</td>\n",
       "    </tr>\n",
       "    <tr>\n",
       "      <th>11554</th>\n",
       "      <td>WIH3_2022</td>\n",
       "      <td>W10010_0452/LH244</td>\n",
       "      <td>NaN</td>\n",
       "      <td>2022</td>\n",
       "      <td>NaN</td>\n",
       "      <td>NaN</td>\n",
       "      <td>NaN</td>\n",
       "      <td>NaN</td>\n",
       "      <td>NaN</td>\n",
       "      <td>NaN</td>\n",
       "      <td>...</td>\n",
       "      <td>NaN</td>\n",
       "      <td>NaN</td>\n",
       "      <td>NaN</td>\n",
       "      <td>NaN</td>\n",
       "      <td>NaN</td>\n",
       "      <td>NaN</td>\n",
       "      <td>NaN</td>\n",
       "      <td>NaN</td>\n",
       "      <td>NaN</td>\n",
       "      <td>NaN</td>\n",
       "    </tr>\n",
       "  </tbody>\n",
       "</table>\n",
       "<p>11555 rows × 26 columns</p>\n",
       "</div>"
      ],
      "text/plain": [
       "             Env             Hybrid  Yield_Mg_ha  Year Field_Location  \\\n",
       "0      DEH1_2022          B14A/OH43          NaN  2022            NaN   \n",
       "1      DEH1_2022            B37/H95          NaN  2022            NaN   \n",
       "2      DEH1_2022           B73/MO17          NaN  2022            NaN   \n",
       "3      DEH1_2022          B73/PHN82          NaN  2022            NaN   \n",
       "4      DEH1_2022          B73/TX779          NaN  2022            NaN   \n",
       "...          ...                ...          ...   ...            ...   \n",
       "11550  WIH3_2022  W10010_0337/LH244          NaN  2022            NaN   \n",
       "11551  WIH3_2022  W10010_0346/LH244          NaN  2022            NaN   \n",
       "11552  WIH3_2022  W10010_0358/LH244          NaN  2022            NaN   \n",
       "11553  WIH3_2022  W10010_0381/LH244          NaN  2022            NaN   \n",
       "11554  WIH3_2022  W10010_0452/LH244          NaN  2022            NaN   \n",
       "\n",
       "      Experiment  Replicate  Block  Plot  Range  ...  Date_Harvested  \\\n",
       "0            NaN        NaN    NaN   NaN    NaN  ...             NaN   \n",
       "1            NaN        NaN    NaN   NaN    NaN  ...             NaN   \n",
       "2            NaN        NaN    NaN   NaN    NaN  ...             NaN   \n",
       "3            NaN        NaN    NaN   NaN    NaN  ...             NaN   \n",
       "4            NaN        NaN    NaN   NaN    NaN  ...             NaN   \n",
       "...          ...        ...    ...   ...    ...  ...             ...   \n",
       "11550        NaN        NaN    NaN   NaN    NaN  ...             NaN   \n",
       "11551        NaN        NaN    NaN   NaN    NaN  ...             NaN   \n",
       "11552        NaN        NaN    NaN   NaN    NaN  ...             NaN   \n",
       "11553        NaN        NaN    NaN   NaN    NaN  ...             NaN   \n",
       "11554        NaN        NaN    NaN   NaN    NaN  ...             NaN   \n",
       "\n",
       "      Stand_Count_plants Pollen_DAP_days Silk_DAP_days  Plant_Height_cm  \\\n",
       "0                    NaN             NaN           NaN              NaN   \n",
       "1                    NaN             NaN           NaN              NaN   \n",
       "2                    NaN             NaN           NaN              NaN   \n",
       "3                    NaN             NaN           NaN              NaN   \n",
       "4                    NaN             NaN           NaN              NaN   \n",
       "...                  ...             ...           ...              ...   \n",
       "11550                NaN             NaN           NaN              NaN   \n",
       "11551                NaN             NaN           NaN              NaN   \n",
       "11552                NaN             NaN           NaN              NaN   \n",
       "11553                NaN             NaN           NaN              NaN   \n",
       "11554                NaN             NaN           NaN              NaN   \n",
       "\n",
       "      Ear_Height_cm Root_Lodging_plants  Stalk_Lodging_plants  Grain_Moisture  \\\n",
       "0               NaN                 NaN                   NaN             NaN   \n",
       "1               NaN                 NaN                   NaN             NaN   \n",
       "2               NaN                 NaN                   NaN             NaN   \n",
       "3               NaN                 NaN                   NaN             NaN   \n",
       "4               NaN                 NaN                   NaN             NaN   \n",
       "...             ...                 ...                   ...             ...   \n",
       "11550           NaN                 NaN                   NaN             NaN   \n",
       "11551           NaN                 NaN                   NaN             NaN   \n",
       "11552           NaN                 NaN                   NaN             NaN   \n",
       "11553           NaN                 NaN                   NaN             NaN   \n",
       "11554           NaN                 NaN                   NaN             NaN   \n",
       "\n",
       "       Twt_kg_m3  \n",
       "0            NaN  \n",
       "1            NaN  \n",
       "2            NaN  \n",
       "3            NaN  \n",
       "4            NaN  \n",
       "...          ...  \n",
       "11550        NaN  \n",
       "11551        NaN  \n",
       "11552        NaN  \n",
       "11553        NaN  \n",
       "11554        NaN  \n",
       "\n",
       "[11555 rows x 26 columns]"
      ]
     },
     "execution_count": 222,
     "metadata": {},
     "output_type": "execute_result"
    }
   ],
   "source": [
    "sub_all[sub_all['Year'] == 2022]"
   ]
  },
  {
   "cell_type": "code",
   "execution_count": 223,
   "id": "3c8a7a3f",
   "metadata": {},
   "outputs": [],
   "source": [
    "# meta_all_reqs['Env'].value_counts()\n",
    "\n",
    "# primary key in RHS is unique"
   ]
  },
  {
   "cell_type": "code",
   "execution_count": 224,
   "id": "16e3fe5a",
   "metadata": {
    "scrolled": true
   },
   "outputs": [
    {
     "data": {
      "text/plain": [
       "(147567, 26)"
      ]
     },
     "execution_count": 224,
     "metadata": {},
     "output_type": "execute_result"
    }
   ],
   "source": [
    "sub_all.shape"
   ]
  },
  {
   "cell_type": "code",
   "execution_count": 225,
   "id": "cf1e59fb",
   "metadata": {},
   "outputs": [],
   "source": [
    "# sub_all = sub_all[['Env', 'Hybrid', 'Yield_Mg_ha']]"
   ]
  },
  {
   "cell_type": "code",
   "execution_count": 226,
   "id": "657334ea",
   "metadata": {},
   "outputs": [
    {
     "data": {
      "text/plain": [
       "(147567, 26)"
      ]
     },
     "execution_count": 226,
     "metadata": {},
     "output_type": "execute_result"
    }
   ],
   "source": [
    "sub_all.shape"
   ]
  },
  {
   "cell_type": "code",
   "execution_count": 227,
   "id": "d75524d8",
   "metadata": {},
   "outputs": [],
   "source": [
    "# see if there are any duplicate rows\n",
    "sub_all_final = sub_all.drop_duplicates()"
   ]
  },
  {
   "cell_type": "code",
   "execution_count": 228,
   "id": "716cde7a",
   "metadata": {},
   "outputs": [
    {
     "data": {
      "text/plain": [
       "(147567, 26)"
      ]
     },
     "execution_count": 228,
     "metadata": {},
     "output_type": "execute_result"
    }
   ],
   "source": [
    "sub_all_final.shape"
   ]
  },
  {
   "cell_type": "code",
   "execution_count": 229,
   "id": "619098e6",
   "metadata": {},
   "outputs": [],
   "source": [
    "# Let's see the intersecting columns\n",
    "intersecting_sub = list(set(sub_all.columns) & set(meta_all_reqs.columns))"
   ]
  },
  {
   "cell_type": "code",
   "execution_count": 230,
   "id": "efdd8d82",
   "metadata": {
    "scrolled": true
   },
   "outputs": [
    {
     "data": {
      "text/plain": [
       "['Year', 'Env']"
      ]
     },
     "execution_count": 230,
     "metadata": {},
     "output_type": "execute_result"
    }
   ],
   "source": [
    "intersecting_sub"
   ]
  },
  {
   "cell_type": "code",
   "execution_count": 231,
   "id": "58324711",
   "metadata": {},
   "outputs": [],
   "source": [
    "# since the year is changing, only merge by Env"
   ]
  },
  {
   "cell_type": "code",
   "execution_count": 232,
   "id": "fc9c7c40",
   "metadata": {},
   "outputs": [],
   "source": [
    "# Okay, I think it should be a left join\n",
    "sub_and_meta = sub_all.merge(meta_all_reqs, on = [\"Env\", 'Year'], how = 'left')"
   ]
  },
  {
   "cell_type": "code",
   "execution_count": 233,
   "id": "037d1cac",
   "metadata": {
    "scrolled": false
   },
   "outputs": [
    {
     "data": {
      "text/plain": [
       "(147567, 42)"
      ]
     },
     "execution_count": 233,
     "metadata": {},
     "output_type": "execute_result"
    }
   ],
   "source": [
    "sub_and_meta.shape"
   ]
  },
  {
   "cell_type": "code",
   "execution_count": 234,
   "id": "be30f305",
   "metadata": {},
   "outputs": [
    {
     "data": {
      "text/plain": [
       "874247"
      ]
     },
     "execution_count": 234,
     "metadata": {},
     "output_type": "execute_result"
    }
   ],
   "source": [
    "sub_and_meta.isna().sum().sum()"
   ]
  },
  {
   "cell_type": "code",
   "execution_count": 235,
   "id": "fc73b970",
   "metadata": {},
   "outputs": [],
   "source": [
    "sub_and_meta = sub_and_meta.reset_index(drop = True)"
   ]
  },
  {
   "cell_type": "code",
   "execution_count": 236,
   "id": "5ec2d2db",
   "metadata": {
    "scrolled": true
   },
   "outputs": [
    {
     "data": {
      "text/plain": [
       "(147567, 42)"
      ]
     },
     "execution_count": 236,
     "metadata": {},
     "output_type": "execute_result"
    }
   ],
   "source": [
    "sub_and_meta.shape"
   ]
  },
  {
   "cell_type": "code",
   "execution_count": 237,
   "id": "8586d42c",
   "metadata": {
    "scrolled": true
   },
   "outputs": [
    {
     "data": {
      "text/plain": [
       "0         2014\n",
       "1         2014\n",
       "2         2014\n",
       "3         2014\n",
       "4         2014\n",
       "          ... \n",
       "147562    2022\n",
       "147563    2022\n",
       "147564    2022\n",
       "147565    2022\n",
       "147566    2022\n",
       "Name: Year, Length: 147567, dtype: int64"
      ]
     },
     "execution_count": 237,
     "metadata": {},
     "output_type": "execute_result"
    }
   ],
   "source": [
    "sub_and_meta['Year']"
   ]
  },
  {
   "cell_type": "code",
   "execution_count": 238,
   "id": "71467021",
   "metadata": {
    "scrolled": true
   },
   "outputs": [],
   "source": [
    "# sanity check\n",
    "# meta_all_reqs.head()"
   ]
  },
  {
   "cell_type": "code",
   "execution_count": 239,
   "id": "e7163c7a",
   "metadata": {},
   "outputs": [],
   "source": [
    "# DEH1_2014_meta = meta_all_reqs[meta_all_reqs['Env'] == 'DEH1_2014']\n",
    "# DEH1_2014_meta"
   ]
  },
  {
   "cell_type": "code",
   "execution_count": 240,
   "id": "3079df4b",
   "metadata": {},
   "outputs": [],
   "source": [
    "# DEH1_2014_all = sub_all[sub_all['Env'] == 'DEH1_2014']\n",
    "# DEH1_2014_all.head()"
   ]
  },
  {
   "cell_type": "markdown",
   "id": "971cc08a",
   "metadata": {},
   "source": [
    "#### now mege soil\n"
   ]
  },
  {
   "cell_type": "code",
   "execution_count": 241,
   "id": "88ebc848",
   "metadata": {},
   "outputs": [
    {
     "data": {
      "text/plain": [
       "['Env', 'Year']"
      ]
     },
     "execution_count": 241,
     "metadata": {},
     "output_type": "execute_result"
    }
   ],
   "source": [
    "# get the intersecting columns\n",
    "int_cols_soil = list(set(soil_all_reqs.columns) & set(sub_and_meta.columns))\n",
    "int_cols_soil"
   ]
  },
  {
   "cell_type": "code",
   "execution_count": 242,
   "id": "d577f031",
   "metadata": {
    "scrolled": true
   },
   "outputs": [
    {
     "data": {
      "text/plain": [
       "(162, 27)"
      ]
     },
     "execution_count": 242,
     "metadata": {},
     "output_type": "execute_result"
    }
   ],
   "source": [
    "soil_all_reqs.shape"
   ]
  },
  {
   "cell_type": "code",
   "execution_count": 243,
   "id": "7b8c382b",
   "metadata": {},
   "outputs": [
    {
     "data": {
      "text/plain": [
       "%K Sat                        17\n",
       "Calcium ppm Ca                15\n",
       "Env                            0\n",
       "%Ca Sat                       17\n",
       "%Na Sat                       17\n",
       "Sulfate-S ppm S               19\n",
       "E Depth                       15\n",
       "%H Sat                        19\n",
       "1:1 S Salts mmho/cm           19\n",
       "Organic Matter LOI %           8\n",
       "% Clay                        24\n",
       "lbs N/A                       19\n",
       "WDRF Buffer pH                19\n",
       "% Silt                        24\n",
       "Nitrate-N ppm N               17\n",
       "Magnesium ppm Mg              15\n",
       "%Mg Sat                       17\n",
       "Potassium ppm K                0\n",
       "1:1 Soil pH                    2\n",
       "Year                           0\n",
       "Mehlich P-III ppm P            0\n",
       "% Sand                        24\n",
       "Texture                       22\n",
       "Texture No                    16\n",
       "LabID                          0\n",
       "CEC/Sum of Cations me/100g    19\n",
       "Sodium ppm Na                 17\n",
       "dtype: int64"
      ]
     },
     "execution_count": 243,
     "metadata": {},
     "output_type": "execute_result"
    }
   ],
   "source": [
    "soil_all_reqs.isna().sum()"
   ]
  },
  {
   "cell_type": "code",
   "execution_count": 244,
   "id": "42928f6f",
   "metadata": {},
   "outputs": [
    {
     "data": {
      "text/plain": [
       "Env        Year\n",
       "ARH1_2016  2016    1\n",
       "ARH2_2016  2016    1\n",
       "COH1_2017  2017    1\n",
       "DEH1_2016  2016    1\n",
       "DEH1_2017  2017    1\n",
       "                  ..\n",
       "WIH2_2021  2021    1\n",
       "WIH2_2022  2022    1\n",
       "WIH3_2020  2020    1\n",
       "WIH3_2021  2021    1\n",
       "WIH3_2022  2022    1\n",
       "Length: 162, dtype: int64"
      ]
     },
     "execution_count": 244,
     "metadata": {},
     "output_type": "execute_result"
    }
   ],
   "source": [
    "soil_all_reqs.groupby(['Env', 'Year']).size()"
   ]
  },
  {
   "cell_type": "code",
   "execution_count": 245,
   "id": "cb1b3fad",
   "metadata": {},
   "outputs": [],
   "source": [
    "soil_all_reqs = soil_all_reqs.reset_index(drop = True)"
   ]
  },
  {
   "cell_type": "code",
   "execution_count": 246,
   "id": "1b150b08",
   "metadata": {},
   "outputs": [],
   "source": [
    "# let's merge on Env, and year\n",
    "sub_meta_soil = pd.merge(sub_and_meta, soil_all_reqs, left_on = [\"Env\", \"Year\"], right_on = [\"Env\", \"Year\"], how = 'left')"
   ]
  },
  {
   "cell_type": "code",
   "execution_count": 247,
   "id": "24b566e5",
   "metadata": {
    "scrolled": true
   },
   "outputs": [
    {
     "data": {
      "text/plain": [
       "(147567, 67)"
      ]
     },
     "execution_count": 247,
     "metadata": {},
     "output_type": "execute_result"
    }
   ],
   "source": [
    "sub_meta_soil.shape"
   ]
  },
  {
   "cell_type": "code",
   "execution_count": 248,
   "id": "e0b2d816",
   "metadata": {},
   "outputs": [
    {
     "data": {
      "text/plain": [
       "(147567, 67)"
      ]
     },
     "execution_count": 248,
     "metadata": {},
     "output_type": "execute_result"
    }
   ],
   "source": [
    "sub_meta_soil = sub_meta_soil.drop_duplicates()\n",
    "sub_meta_soil.shape"
   ]
  },
  {
   "cell_type": "code",
   "execution_count": 249,
   "id": "94ea6d49",
   "metadata": {},
   "outputs": [
    {
     "data": {
      "text/plain": [
       "Env                               0\n",
       "Hybrid                            0\n",
       "Yield_Mg_ha                   19400\n",
       "Year                              0\n",
       "Field_Location                11555\n",
       "                              ...  \n",
       "Texture                       55741\n",
       "Texture No                    51606\n",
       "LabID                         43423\n",
       "CEC/Sum of Cations me/100g    53096\n",
       "Sodium ppm Na                 52098\n",
       "Length: 67, dtype: int64"
      ]
     },
     "execution_count": 249,
     "metadata": {},
     "output_type": "execute_result"
    }
   ],
   "source": [
    "sub_meta_soil.isna().sum()"
   ]
  },
  {
   "cell_type": "markdown",
   "id": "8eabc633",
   "metadata": {},
   "source": [
    "#### merge weather"
   ]
  },
  {
   "cell_type": "code",
   "execution_count": 250,
   "id": "01d4ade1",
   "metadata": {},
   "outputs": [
    {
     "data": {
      "text/plain": [
       "['Env']"
      ]
     },
     "execution_count": 250,
     "metadata": {},
     "output_type": "execute_result"
    }
   ],
   "source": [
    "# get the intersecting columns\n",
    "int_cols_wea = list(set(weather_final.columns) & set(sub_meta_soil.columns))\n",
    "int_cols_wea"
   ]
  },
  {
   "cell_type": "code",
   "execution_count": 251,
   "id": "8950b0c9",
   "metadata": {
    "scrolled": false
   },
   "outputs": [
    {
     "data": {
      "text/plain": [
       "ARH1_2016      366\n",
       "WIH3_2020      366\n",
       "MOH1_1_2020    366\n",
       "WIH2_2016      366\n",
       "MOH1_2016      366\n",
       "              ... \n",
       "IAH2_2022      314\n",
       "IAH1_2022      314\n",
       "GAH1_2022      314\n",
       "DEH1_2022      314\n",
       "WIH3_2022      314\n",
       "Name: Env, Length: 238, dtype: int64"
      ]
     },
     "execution_count": 251,
     "metadata": {},
     "output_type": "execute_result"
    }
   ],
   "source": [
    "weather_final['Env'].value_counts()"
   ]
  },
  {
   "cell_type": "code",
   "execution_count": 252,
   "id": "7b580efa",
   "metadata": {},
   "outputs": [],
   "source": [
    "# drop variable \"Date\", and average across each env\n",
    "weather_final = weather_final.drop([\"Date\"], axis = 1)"
   ]
  },
  {
   "cell_type": "code",
   "execution_count": 253,
   "id": "7330e196",
   "metadata": {
    "scrolled": true
   },
   "outputs": [
    {
     "data": {
      "text/html": [
       "<div>\n",
       "<style scoped>\n",
       "    .dataframe tbody tr th:only-of-type {\n",
       "        vertical-align: middle;\n",
       "    }\n",
       "\n",
       "    .dataframe tbody tr th {\n",
       "        vertical-align: top;\n",
       "    }\n",
       "\n",
       "    .dataframe thead th {\n",
       "        text-align: right;\n",
       "    }\n",
       "</style>\n",
       "<table border=\"1\" class=\"dataframe\">\n",
       "  <thead>\n",
       "    <tr style=\"text-align: right;\">\n",
       "      <th></th>\n",
       "      <th>ALLSKY_SFC_PAR_TOT</th>\n",
       "      <th>ALLSKY_SFC_SW_DNI</th>\n",
       "      <th>ALLSKY_SFC_SW_DWN</th>\n",
       "      <th>Env</th>\n",
       "      <th>GWETPROF</th>\n",
       "      <th>GWETROOT</th>\n",
       "      <th>GWETTOP</th>\n",
       "      <th>PRECTOTCORR</th>\n",
       "      <th>PS</th>\n",
       "      <th>QV2M</th>\n",
       "      <th>RH2M</th>\n",
       "      <th>T2M</th>\n",
       "      <th>T2MDEW</th>\n",
       "      <th>T2MWET</th>\n",
       "      <th>T2M_MAX</th>\n",
       "      <th>T2M_MIN</th>\n",
       "      <th>WS2M</th>\n",
       "    </tr>\n",
       "  </thead>\n",
       "  <tbody>\n",
       "    <tr>\n",
       "      <th>0</th>\n",
       "      <td>41.96</td>\n",
       "      <td>5.96</td>\n",
       "      <td>8.21</td>\n",
       "      <td>ARH1_2016</td>\n",
       "      <td>0.8</td>\n",
       "      <td>0.83</td>\n",
       "      <td>0.84</td>\n",
       "      <td>0.0</td>\n",
       "      <td>102.34</td>\n",
       "      <td>3.54</td>\n",
       "      <td>77.00</td>\n",
       "      <td>3.08</td>\n",
       "      <td>-0.78</td>\n",
       "      <td>1.15</td>\n",
       "      <td>7.80</td>\n",
       "      <td>-0.70</td>\n",
       "      <td>2.15</td>\n",
       "    </tr>\n",
       "    <tr>\n",
       "      <th>1</th>\n",
       "      <td>55.13</td>\n",
       "      <td>16.13</td>\n",
       "      <td>11.28</td>\n",
       "      <td>ARH1_2016</td>\n",
       "      <td>0.8</td>\n",
       "      <td>0.83</td>\n",
       "      <td>0.84</td>\n",
       "      <td>0.0</td>\n",
       "      <td>102.04</td>\n",
       "      <td>3.23</td>\n",
       "      <td>74.62</td>\n",
       "      <td>2.74</td>\n",
       "      <td>-1.91</td>\n",
       "      <td>0.42</td>\n",
       "      <td>10.15</td>\n",
       "      <td>-3.10</td>\n",
       "      <td>1.49</td>\n",
       "    </tr>\n",
       "    <tr>\n",
       "      <th>2</th>\n",
       "      <td>49.21</td>\n",
       "      <td>18.36</td>\n",
       "      <td>9.78</td>\n",
       "      <td>ARH1_2016</td>\n",
       "      <td>0.8</td>\n",
       "      <td>0.83</td>\n",
       "      <td>0.84</td>\n",
       "      <td>0.0</td>\n",
       "      <td>101.59</td>\n",
       "      <td>4.09</td>\n",
       "      <td>80.69</td>\n",
       "      <td>4.38</td>\n",
       "      <td>1.05</td>\n",
       "      <td>2.72</td>\n",
       "      <td>12.39</td>\n",
       "      <td>-1.29</td>\n",
       "      <td>1.95</td>\n",
       "    </tr>\n",
       "    <tr>\n",
       "      <th>3</th>\n",
       "      <td>35.66</td>\n",
       "      <td>10.87</td>\n",
       "      <td>7.35</td>\n",
       "      <td>ARH1_2016</td>\n",
       "      <td>0.8</td>\n",
       "      <td>0.83</td>\n",
       "      <td>0.84</td>\n",
       "      <td>0.0</td>\n",
       "      <td>102.24</td>\n",
       "      <td>2.87</td>\n",
       "      <td>79.88</td>\n",
       "      <td>-0.09</td>\n",
       "      <td>-3.49</td>\n",
       "      <td>-1.79</td>\n",
       "      <td>4.56</td>\n",
       "      <td>-4.00</td>\n",
       "      <td>3.45</td>\n",
       "    </tr>\n",
       "    <tr>\n",
       "      <th>4</th>\n",
       "      <td>62.04</td>\n",
       "      <td>27.02</td>\n",
       "      <td>13.00</td>\n",
       "      <td>ARH1_2016</td>\n",
       "      <td>0.8</td>\n",
       "      <td>0.82</td>\n",
       "      <td>0.84</td>\n",
       "      <td>0.0</td>\n",
       "      <td>102.37</td>\n",
       "      <td>2.81</td>\n",
       "      <td>78.81</td>\n",
       "      <td>0.16</td>\n",
       "      <td>-3.64</td>\n",
       "      <td>-1.74</td>\n",
       "      <td>6.94</td>\n",
       "      <td>-4.59</td>\n",
       "      <td>1.95</td>\n",
       "    </tr>\n",
       "  </tbody>\n",
       "</table>\n",
       "</div>"
      ],
      "text/plain": [
       "   ALLSKY_SFC_PAR_TOT  ALLSKY_SFC_SW_DNI  ALLSKY_SFC_SW_DWN        Env  \\\n",
       "0               41.96               5.96               8.21  ARH1_2016   \n",
       "1               55.13              16.13              11.28  ARH1_2016   \n",
       "2               49.21              18.36               9.78  ARH1_2016   \n",
       "3               35.66              10.87               7.35  ARH1_2016   \n",
       "4               62.04              27.02              13.00  ARH1_2016   \n",
       "\n",
       "   GWETPROF  GWETROOT  GWETTOP  PRECTOTCORR      PS  QV2M   RH2M   T2M  \\\n",
       "0       0.8      0.83     0.84          0.0  102.34  3.54  77.00  3.08   \n",
       "1       0.8      0.83     0.84          0.0  102.04  3.23  74.62  2.74   \n",
       "2       0.8      0.83     0.84          0.0  101.59  4.09  80.69  4.38   \n",
       "3       0.8      0.83     0.84          0.0  102.24  2.87  79.88 -0.09   \n",
       "4       0.8      0.82     0.84          0.0  102.37  2.81  78.81  0.16   \n",
       "\n",
       "   T2MDEW  T2MWET  T2M_MAX  T2M_MIN  WS2M  \n",
       "0   -0.78    1.15     7.80    -0.70  2.15  \n",
       "1   -1.91    0.42    10.15    -3.10  1.49  \n",
       "2    1.05    2.72    12.39    -1.29  1.95  \n",
       "3   -3.49   -1.79     4.56    -4.00  3.45  \n",
       "4   -3.64   -1.74     6.94    -4.59  1.95  "
      ]
     },
     "execution_count": 253,
     "metadata": {},
     "output_type": "execute_result"
    }
   ],
   "source": [
    "weather_final.head()"
   ]
  },
  {
   "cell_type": "code",
   "execution_count": 254,
   "id": "a8914676",
   "metadata": {},
   "outputs": [],
   "source": [
    "weather_final = weather_final.groupby(['Env'], as_index=False).mean()"
   ]
  },
  {
   "cell_type": "code",
   "execution_count": 255,
   "id": "c1d91bb4",
   "metadata": {},
   "outputs": [
    {
     "data": {
      "text/html": [
       "<div>\n",
       "<style scoped>\n",
       "    .dataframe tbody tr th:only-of-type {\n",
       "        vertical-align: middle;\n",
       "    }\n",
       "\n",
       "    .dataframe tbody tr th {\n",
       "        vertical-align: top;\n",
       "    }\n",
       "\n",
       "    .dataframe thead th {\n",
       "        text-align: right;\n",
       "    }\n",
       "</style>\n",
       "<table border=\"1\" class=\"dataframe\">\n",
       "  <thead>\n",
       "    <tr style=\"text-align: right;\">\n",
       "      <th></th>\n",
       "      <th>Env</th>\n",
       "      <th>ALLSKY_SFC_PAR_TOT</th>\n",
       "      <th>ALLSKY_SFC_SW_DNI</th>\n",
       "      <th>ALLSKY_SFC_SW_DWN</th>\n",
       "      <th>GWETPROF</th>\n",
       "      <th>GWETROOT</th>\n",
       "      <th>GWETTOP</th>\n",
       "      <th>PRECTOTCORR</th>\n",
       "      <th>PS</th>\n",
       "      <th>QV2M</th>\n",
       "      <th>RH2M</th>\n",
       "      <th>T2M</th>\n",
       "      <th>T2MDEW</th>\n",
       "      <th>T2MWET</th>\n",
       "      <th>T2M_MAX</th>\n",
       "      <th>T2M_MIN</th>\n",
       "      <th>WS2M</th>\n",
       "    </tr>\n",
       "  </thead>\n",
       "  <tbody>\n",
       "    <tr>\n",
       "      <th>0</th>\n",
       "      <td>ARH1_2016</td>\n",
       "      <td>88.951940</td>\n",
       "      <td>18.742459</td>\n",
       "      <td>16.773798</td>\n",
       "      <td>0.693169</td>\n",
       "      <td>0.708087</td>\n",
       "      <td>0.690055</td>\n",
       "      <td>3.164372</td>\n",
       "      <td>101.113087</td>\n",
       "      <td>10.201530</td>\n",
       "      <td>72.506803</td>\n",
       "      <td>18.089563</td>\n",
       "      <td>12.322404</td>\n",
       "      <td>15.205847</td>\n",
       "      <td>24.030000</td>\n",
       "      <td>12.695929</td>\n",
       "      <td>2.387951</td>\n",
       "    </tr>\n",
       "    <tr>\n",
       "      <th>1</th>\n",
       "      <td>ARH1_2017</td>\n",
       "      <td>86.509096</td>\n",
       "      <td>17.611753</td>\n",
       "      <td>16.343205</td>\n",
       "      <td>0.674986</td>\n",
       "      <td>0.687808</td>\n",
       "      <td>0.685315</td>\n",
       "      <td>3.232986</td>\n",
       "      <td>101.038055</td>\n",
       "      <td>10.172603</td>\n",
       "      <td>73.081370</td>\n",
       "      <td>17.978959</td>\n",
       "      <td>12.471123</td>\n",
       "      <td>15.225041</td>\n",
       "      <td>23.951863</td>\n",
       "      <td>12.424740</td>\n",
       "      <td>2.464301</td>\n",
       "    </tr>\n",
       "    <tr>\n",
       "      <th>2</th>\n",
       "      <td>ARH1_2018</td>\n",
       "      <td>85.175562</td>\n",
       "      <td>16.547452</td>\n",
       "      <td>16.047233</td>\n",
       "      <td>0.745096</td>\n",
       "      <td>0.764384</td>\n",
       "      <td>0.758384</td>\n",
       "      <td>4.260356</td>\n",
       "      <td>101.132192</td>\n",
       "      <td>10.388438</td>\n",
       "      <td>77.356384</td>\n",
       "      <td>17.045096</td>\n",
       "      <td>12.515068</td>\n",
       "      <td>14.780329</td>\n",
       "      <td>22.591671</td>\n",
       "      <td>11.842904</td>\n",
       "      <td>2.383370</td>\n",
       "    </tr>\n",
       "    <tr>\n",
       "      <th>3</th>\n",
       "      <td>ARH2_2016</td>\n",
       "      <td>87.544481</td>\n",
       "      <td>18.502568</td>\n",
       "      <td>16.533169</td>\n",
       "      <td>0.693907</td>\n",
       "      <td>0.673470</td>\n",
       "      <td>0.694235</td>\n",
       "      <td>3.120656</td>\n",
       "      <td>100.774727</td>\n",
       "      <td>10.095628</td>\n",
       "      <td>76.529481</td>\n",
       "      <td>16.262268</td>\n",
       "      <td>11.687650</td>\n",
       "      <td>13.974672</td>\n",
       "      <td>21.911475</td>\n",
       "      <td>11.160546</td>\n",
       "      <td>2.270137</td>\n",
       "    </tr>\n",
       "    <tr>\n",
       "      <th>4</th>\n",
       "      <td>ARH2_2017</td>\n",
       "      <td>85.497808</td>\n",
       "      <td>17.679836</td>\n",
       "      <td>16.202986</td>\n",
       "      <td>0.611452</td>\n",
       "      <td>0.615836</td>\n",
       "      <td>0.630712</td>\n",
       "      <td>3.345342</td>\n",
       "      <td>100.729178</td>\n",
       "      <td>9.722849</td>\n",
       "      <td>73.320904</td>\n",
       "      <td>16.922603</td>\n",
       "      <td>11.584110</td>\n",
       "      <td>14.253014</td>\n",
       "      <td>22.645644</td>\n",
       "      <td>11.389425</td>\n",
       "      <td>2.708932</td>\n",
       "    </tr>\n",
       "    <tr>\n",
       "      <th>...</th>\n",
       "      <td>...</td>\n",
       "      <td>...</td>\n",
       "      <td>...</td>\n",
       "      <td>...</td>\n",
       "      <td>...</td>\n",
       "      <td>...</td>\n",
       "      <td>...</td>\n",
       "      <td>...</td>\n",
       "      <td>...</td>\n",
       "      <td>...</td>\n",
       "      <td>...</td>\n",
       "      <td>...</td>\n",
       "      <td>...</td>\n",
       "      <td>...</td>\n",
       "      <td>...</td>\n",
       "      <td>...</td>\n",
       "      <td>...</td>\n",
       "    </tr>\n",
       "    <tr>\n",
       "      <th>233</th>\n",
       "      <td>WIH2_2021</td>\n",
       "      <td>72.587178</td>\n",
       "      <td>14.480192</td>\n",
       "      <td>14.085315</td>\n",
       "      <td>0.491507</td>\n",
       "      <td>0.482466</td>\n",
       "      <td>0.530877</td>\n",
       "      <td>1.917151</td>\n",
       "      <td>98.286521</td>\n",
       "      <td>6.830575</td>\n",
       "      <td>77.108904</td>\n",
       "      <td>8.852740</td>\n",
       "      <td>4.495096</td>\n",
       "      <td>6.674055</td>\n",
       "      <td>14.130658</td>\n",
       "      <td>3.569562</td>\n",
       "      <td>3.121863</td>\n",
       "    </tr>\n",
       "    <tr>\n",
       "      <th>234</th>\n",
       "      <td>WIH2_2022</td>\n",
       "      <td>45.180500</td>\n",
       "      <td>12.740500</td>\n",
       "      <td>14.972895</td>\n",
       "      <td>0.450000</td>\n",
       "      <td>0.445667</td>\n",
       "      <td>0.492833</td>\n",
       "      <td>4.025016</td>\n",
       "      <td>98.231133</td>\n",
       "      <td>7.451294</td>\n",
       "      <td>80.712298</td>\n",
       "      <td>8.900227</td>\n",
       "      <td>5.503916</td>\n",
       "      <td>7.202136</td>\n",
       "      <td>14.027087</td>\n",
       "      <td>3.624693</td>\n",
       "      <td>3.386181</td>\n",
       "    </tr>\n",
       "    <tr>\n",
       "      <th>235</th>\n",
       "      <td>WIH3_2020</td>\n",
       "      <td>72.552678</td>\n",
       "      <td>15.854945</td>\n",
       "      <td>14.062814</td>\n",
       "      <td>0.608852</td>\n",
       "      <td>0.539399</td>\n",
       "      <td>0.594372</td>\n",
       "      <td>2.538852</td>\n",
       "      <td>98.296639</td>\n",
       "      <td>6.639781</td>\n",
       "      <td>82.977842</td>\n",
       "      <td>7.292705</td>\n",
       "      <td>4.266667</td>\n",
       "      <td>5.780082</td>\n",
       "      <td>12.129836</td>\n",
       "      <td>2.401639</td>\n",
       "      <td>3.253661</td>\n",
       "    </tr>\n",
       "    <tr>\n",
       "      <th>236</th>\n",
       "      <td>WIH3_2021</td>\n",
       "      <td>72.502658</td>\n",
       "      <td>15.157096</td>\n",
       "      <td>14.081151</td>\n",
       "      <td>0.485699</td>\n",
       "      <td>0.440247</td>\n",
       "      <td>0.497918</td>\n",
       "      <td>2.171616</td>\n",
       "      <td>98.289205</td>\n",
       "      <td>6.834247</td>\n",
       "      <td>78.812630</td>\n",
       "      <td>8.311425</td>\n",
       "      <td>4.419945</td>\n",
       "      <td>6.366055</td>\n",
       "      <td>13.342740</td>\n",
       "      <td>3.208000</td>\n",
       "      <td>3.103836</td>\n",
       "    </tr>\n",
       "    <tr>\n",
       "      <th>237</th>\n",
       "      <td>WIH3_2022</td>\n",
       "      <td>45.460500</td>\n",
       "      <td>13.162833</td>\n",
       "      <td>15.023411</td>\n",
       "      <td>0.430833</td>\n",
       "      <td>0.396000</td>\n",
       "      <td>0.455833</td>\n",
       "      <td>3.331359</td>\n",
       "      <td>98.230032</td>\n",
       "      <td>7.198447</td>\n",
       "      <td>80.056343</td>\n",
       "      <td>8.520032</td>\n",
       "      <td>4.971715</td>\n",
       "      <td>6.745987</td>\n",
       "      <td>13.620809</td>\n",
       "      <td>3.220485</td>\n",
       "      <td>3.425599</td>\n",
       "    </tr>\n",
       "  </tbody>\n",
       "</table>\n",
       "<p>238 rows × 17 columns</p>\n",
       "</div>"
      ],
      "text/plain": [
       "           Env  ALLSKY_SFC_PAR_TOT  ALLSKY_SFC_SW_DNI  ALLSKY_SFC_SW_DWN  \\\n",
       "0    ARH1_2016           88.951940          18.742459          16.773798   \n",
       "1    ARH1_2017           86.509096          17.611753          16.343205   \n",
       "2    ARH1_2018           85.175562          16.547452          16.047233   \n",
       "3    ARH2_2016           87.544481          18.502568          16.533169   \n",
       "4    ARH2_2017           85.497808          17.679836          16.202986   \n",
       "..         ...                 ...                ...                ...   \n",
       "233  WIH2_2021           72.587178          14.480192          14.085315   \n",
       "234  WIH2_2022           45.180500          12.740500          14.972895   \n",
       "235  WIH3_2020           72.552678          15.854945          14.062814   \n",
       "236  WIH3_2021           72.502658          15.157096          14.081151   \n",
       "237  WIH3_2022           45.460500          13.162833          15.023411   \n",
       "\n",
       "     GWETPROF  GWETROOT   GWETTOP  PRECTOTCORR          PS       QV2M  \\\n",
       "0    0.693169  0.708087  0.690055     3.164372  101.113087  10.201530   \n",
       "1    0.674986  0.687808  0.685315     3.232986  101.038055  10.172603   \n",
       "2    0.745096  0.764384  0.758384     4.260356  101.132192  10.388438   \n",
       "3    0.693907  0.673470  0.694235     3.120656  100.774727  10.095628   \n",
       "4    0.611452  0.615836  0.630712     3.345342  100.729178   9.722849   \n",
       "..        ...       ...       ...          ...         ...        ...   \n",
       "233  0.491507  0.482466  0.530877     1.917151   98.286521   6.830575   \n",
       "234  0.450000  0.445667  0.492833     4.025016   98.231133   7.451294   \n",
       "235  0.608852  0.539399  0.594372     2.538852   98.296639   6.639781   \n",
       "236  0.485699  0.440247  0.497918     2.171616   98.289205   6.834247   \n",
       "237  0.430833  0.396000  0.455833     3.331359   98.230032   7.198447   \n",
       "\n",
       "          RH2M        T2M     T2MDEW     T2MWET    T2M_MAX    T2M_MIN  \\\n",
       "0    72.506803  18.089563  12.322404  15.205847  24.030000  12.695929   \n",
       "1    73.081370  17.978959  12.471123  15.225041  23.951863  12.424740   \n",
       "2    77.356384  17.045096  12.515068  14.780329  22.591671  11.842904   \n",
       "3    76.529481  16.262268  11.687650  13.974672  21.911475  11.160546   \n",
       "4    73.320904  16.922603  11.584110  14.253014  22.645644  11.389425   \n",
       "..         ...        ...        ...        ...        ...        ...   \n",
       "233  77.108904   8.852740   4.495096   6.674055  14.130658   3.569562   \n",
       "234  80.712298   8.900227   5.503916   7.202136  14.027087   3.624693   \n",
       "235  82.977842   7.292705   4.266667   5.780082  12.129836   2.401639   \n",
       "236  78.812630   8.311425   4.419945   6.366055  13.342740   3.208000   \n",
       "237  80.056343   8.520032   4.971715   6.745987  13.620809   3.220485   \n",
       "\n",
       "         WS2M  \n",
       "0    2.387951  \n",
       "1    2.464301  \n",
       "2    2.383370  \n",
       "3    2.270137  \n",
       "4    2.708932  \n",
       "..        ...  \n",
       "233  3.121863  \n",
       "234  3.386181  \n",
       "235  3.253661  \n",
       "236  3.103836  \n",
       "237  3.425599  \n",
       "\n",
       "[238 rows x 17 columns]"
      ]
     },
     "execution_count": 255,
     "metadata": {},
     "output_type": "execute_result"
    }
   ],
   "source": [
    "weather_final"
   ]
  },
  {
   "cell_type": "code",
   "execution_count": 256,
   "id": "2020ba9a",
   "metadata": {},
   "outputs": [
    {
     "data": {
      "text/plain": [
       "(238, 17)"
      ]
     },
     "execution_count": 256,
     "metadata": {},
     "output_type": "execute_result"
    }
   ],
   "source": [
    "weather_final.shape"
   ]
  },
  {
   "cell_type": "code",
   "execution_count": 257,
   "id": "516f5edf",
   "metadata": {},
   "outputs": [],
   "source": [
    "# merge on this\n",
    "sub_meta_soil_wea = sub_meta_soil.merge(weather_final, how = 'left', on = \"Env\")"
   ]
  },
  {
   "cell_type": "code",
   "execution_count": 258,
   "id": "661db8cf",
   "metadata": {
    "scrolled": true
   },
   "outputs": [
    {
     "data": {
      "text/plain": [
       "(147567, 83)"
      ]
     },
     "execution_count": 258,
     "metadata": {},
     "output_type": "execute_result"
    }
   ],
   "source": [
    "sub_meta_soil_wea.shape"
   ]
  },
  {
   "cell_type": "markdown",
   "id": "29be0a52",
   "metadata": {},
   "source": [
    "#### merge the EC data"
   ]
  },
  {
   "cell_type": "code",
   "execution_count": 259,
   "id": "92f407f8",
   "metadata": {},
   "outputs": [
    {
     "data": {
      "text/plain": [
       "['Env']"
      ]
     },
     "execution_count": 259,
     "metadata": {},
     "output_type": "execute_result"
    }
   ],
   "source": [
    "# get the intersecting columns\n",
    "int_cols_EC = list(set(EC_all.columns) & set(sub_meta_soil_wea.columns))\n",
    "int_cols_EC"
   ]
  },
  {
   "cell_type": "code",
   "execution_count": 260,
   "id": "04ca1c89",
   "metadata": {},
   "outputs": [
    {
     "data": {
      "text/plain": [
       "DEH1_2014          1\n",
       "NYH3_2020          1\n",
       "INH1_2020          1\n",
       "MIH1_2020          1\n",
       "MNH1_2020          1\n",
       "                  ..\n",
       "NYH3_2017          1\n",
       "TXH1-Dry_2017      1\n",
       "TXH1-Early_2017    1\n",
       "TXH1-Late_2017     1\n",
       "WIH3_2022          1\n",
       "Name: Env, Length: 189, dtype: int64"
      ]
     },
     "execution_count": 260,
     "metadata": {},
     "output_type": "execute_result"
    }
   ],
   "source": [
    "# any duplicate values?\n",
    "EC_all['Env'].value_counts()"
   ]
  },
  {
   "cell_type": "code",
   "execution_count": 261,
   "id": "e35c6f7b",
   "metadata": {},
   "outputs": [],
   "source": [
    "# nope - do a left merge\n",
    "data_all_final = sub_meta_soil_wea.merge(EC_all, how = 'left', on = \"Env\")"
   ]
  },
  {
   "cell_type": "code",
   "execution_count": 262,
   "id": "1d672a26",
   "metadata": {},
   "outputs": [
    {
     "data": {
      "text/plain": [
       "(147567, 848)"
      ]
     },
     "execution_count": 262,
     "metadata": {},
     "output_type": "execute_result"
    }
   ],
   "source": [
    "data_all_final.shape"
   ]
  },
  {
   "cell_type": "code",
   "execution_count": 263,
   "id": "13cf482e",
   "metadata": {},
   "outputs": [],
   "source": [
    "# Now, split the train and test datasets\n",
    "train_ID = list(train_sub_data['Env'].unique())"
   ]
  },
  {
   "cell_type": "code",
   "execution_count": 264,
   "id": "ffcda4e5",
   "metadata": {},
   "outputs": [
    {
     "data": {
      "text/plain": [
       "217"
      ]
     },
     "execution_count": 264,
     "metadata": {},
     "output_type": "execute_result"
    }
   ],
   "source": [
    "len(train_ID)"
   ]
  },
  {
   "cell_type": "code",
   "execution_count": 265,
   "id": "1fc5c957",
   "metadata": {},
   "outputs": [],
   "source": [
    "train_true = []\n",
    "for i in data_all_final['Env']:\n",
    "    if i in train_ID:\n",
    "        train_true.append(True)\n",
    "    else:\n",
    "        train_true.append(False)\n",
    "        "
   ]
  },
  {
   "cell_type": "code",
   "execution_count": 266,
   "id": "f2f0aea3",
   "metadata": {},
   "outputs": [
    {
     "data": {
      "text/plain": [
       "147567"
      ]
     },
     "execution_count": 266,
     "metadata": {},
     "output_type": "execute_result"
    }
   ],
   "source": [
    "len(train_true)"
   ]
  },
  {
   "cell_type": "code",
   "execution_count": 267,
   "id": "53a5fa30",
   "metadata": {},
   "outputs": [],
   "source": [
    "data_all_final['train_true'] = train_true"
   ]
  },
  {
   "cell_type": "code",
   "execution_count": 268,
   "id": "14ecb510",
   "metadata": {},
   "outputs": [],
   "source": [
    "train_data = data_all_final[data_all_final['train_true'] == True]"
   ]
  },
  {
   "cell_type": "code",
   "execution_count": 269,
   "id": "5f99427e",
   "metadata": {},
   "outputs": [
    {
     "data": {
      "text/plain": [
       "(136012, 849)"
      ]
     },
     "execution_count": 269,
     "metadata": {},
     "output_type": "execute_result"
    }
   ],
   "source": [
    "train_data.shape"
   ]
  },
  {
   "cell_type": "code",
   "execution_count": 270,
   "id": "df737adb",
   "metadata": {},
   "outputs": [],
   "source": [
    "test_data = data_all_final[data_all_final['train_true'] == False]"
   ]
  },
  {
   "cell_type": "code",
   "execution_count": 271,
   "id": "9ca6addd",
   "metadata": {},
   "outputs": [
    {
     "data": {
      "text/plain": [
       "(11555, 849)"
      ]
     },
     "execution_count": 271,
     "metadata": {},
     "output_type": "execute_result"
    }
   ],
   "source": [
    "test_data.shape"
   ]
  },
  {
   "cell_type": "code",
   "execution_count": 292,
   "id": "0179c49b",
   "metadata": {},
   "outputs": [],
   "source": [
    "# store all these files\n",
    "data_all_final.to_csv(r\"output_data//final_data_all_with_traits.csv\", index = False)"
   ]
  },
  {
   "cell_type": "code",
   "execution_count": 273,
   "id": "53ef3647",
   "metadata": {},
   "outputs": [],
   "source": [
    "# train data\n",
    "# train_data.to_csv(r\"train_data_with_traits.csv\")"
   ]
  },
  {
   "cell_type": "code",
   "execution_count": 274,
   "id": "7684854c",
   "metadata": {},
   "outputs": [],
   "source": [
    "# test data\n",
    "# test_data.to_csv(r\"test_data_with_traits.csv\")"
   ]
  },
  {
   "cell_type": "code",
   "execution_count": null,
   "id": "c333cf92",
   "metadata": {},
   "outputs": [],
   "source": []
  },
  {
   "cell_type": "code",
   "execution_count": 275,
   "id": "cb937143",
   "metadata": {},
   "outputs": [],
   "source": [
    "# import all data\n",
    "# all_data = pd.read_csv(r\"merged_data\\final_data_all.csv\")"
   ]
  },
  {
   "cell_type": "code",
   "execution_count": 276,
   "id": "1f5df964",
   "metadata": {
    "scrolled": true
   },
   "outputs": [],
   "source": [
    "# all_data_traits = pd.read_csv(r\"merged_data\\final_data_all_with_traits.csv\")"
   ]
  },
  {
   "cell_type": "code",
   "execution_count": 278,
   "id": "a69d387d",
   "metadata": {
    "scrolled": true
   },
   "outputs": [],
   "source": [
    "# all_data['%H Sat'].isna().sum()"
   ]
  },
  {
   "cell_type": "code",
   "execution_count": 279,
   "id": "cab3e8eb",
   "metadata": {},
   "outputs": [],
   "source": [
    "# all_data.columns"
   ]
  },
  {
   "cell_type": "code",
   "execution_count": 280,
   "id": "0bfc36f6",
   "metadata": {},
   "outputs": [],
   "source": [
    "# all_data_traits['%H Sat'].isna().sum()"
   ]
  },
  {
   "cell_type": "code",
   "execution_count": 281,
   "id": "d032c8a2",
   "metadata": {},
   "outputs": [],
   "source": [
    "# all_data_test = all_data[all_data['train_true'] == False]"
   ]
  },
  {
   "cell_type": "code",
   "execution_count": 282,
   "id": "ad4b30db",
   "metadata": {},
   "outputs": [],
   "source": [
    "# all_data_test['%H Sat'].isna().sum()"
   ]
  },
  {
   "cell_type": "code",
   "execution_count": 283,
   "id": "ecb8c4c7",
   "metadata": {},
   "outputs": [],
   "source": [
    "# all_data_test.shape"
   ]
  },
  {
   "cell_type": "code",
   "execution_count": 284,
   "id": "6bb49454",
   "metadata": {},
   "outputs": [],
   "source": [
    "# all_data_traits_test = all_data_traits[all_data_traits['train_true'] == False]"
   ]
  },
  {
   "cell_type": "code",
   "execution_count": 285,
   "id": "f28ac0fc",
   "metadata": {},
   "outputs": [],
   "source": [
    "# all_data_traits_test['%H Sat'].isna().sum()"
   ]
  },
  {
   "cell_type": "code",
   "execution_count": 286,
   "id": "dab32d1e",
   "metadata": {},
   "outputs": [],
   "source": [
    "# all_data_test.columns"
   ]
  },
  {
   "cell_type": "code",
   "execution_count": 287,
   "id": "58dd0814",
   "metadata": {},
   "outputs": [],
   "source": [
    "# all_data_test['%Mg Sat'].isna().sum()"
   ]
  },
  {
   "cell_type": "code",
   "execution_count": 288,
   "id": "96fbdad3",
   "metadata": {},
   "outputs": [],
   "source": [
    "# all_data_traits_test['%Mg Sat'].isna().sum()"
   ]
  },
  {
   "cell_type": "code",
   "execution_count": null,
   "id": "f138749e",
   "metadata": {},
   "outputs": [],
   "source": [
    "# # for traits\n",
    "# trait_cols = list(sub_all_final.columns)\n",
    "# trait_cols"
   ]
  },
  {
   "cell_type": "code",
   "execution_count": 289,
   "id": "65b9b406",
   "metadata": {},
   "outputs": [],
   "source": [
    "# len(trait_cols)"
   ]
  },
  {
   "cell_type": "code",
   "execution_count": null,
   "id": "92468c07",
   "metadata": {},
   "outputs": [],
   "source": [
    "# # meta columns\n",
    "# meta_cols = list(meta_all_reqs.columns)\n",
    "# len(meta_cols)"
   ]
  },
  {
   "cell_type": "code",
   "execution_count": null,
   "id": "2f2229c8",
   "metadata": {},
   "outputs": [],
   "source": [
    "# meta_cols"
   ]
  },
  {
   "cell_type": "code",
   "execution_count": null,
   "id": "3271b908",
   "metadata": {},
   "outputs": [],
   "source": [
    "# soil columns\n",
    "# soil_columns = list(soil_all_reqs.columns)"
   ]
  },
  {
   "cell_type": "code",
   "execution_count": null,
   "id": "f1ea8cbe",
   "metadata": {},
   "outputs": [],
   "source": [
    "# soil_columns"
   ]
  },
  {
   "cell_type": "code",
   "execution_count": null,
   "id": "d3e225c9",
   "metadata": {},
   "outputs": [],
   "source": [
    "# weather columns\n",
    "# weather_cols = list(weather_final.columns)"
   ]
  },
  {
   "cell_type": "code",
   "execution_count": null,
   "id": "630ab7be",
   "metadata": {},
   "outputs": [],
   "source": [
    "# len(weather_cols)"
   ]
  },
  {
   "cell_type": "code",
   "execution_count": null,
   "id": "3c3cdd19",
   "metadata": {},
   "outputs": [],
   "source": [
    "# weather_cols"
   ]
  },
  {
   "cell_type": "code",
   "execution_count": null,
   "id": "fc6943bb",
   "metadata": {},
   "outputs": [],
   "source": [
    "# EC columns\n",
    "# EC_cols = list(EC_all.columns)"
   ]
  },
  {
   "cell_type": "code",
   "execution_count": null,
   "id": "9cee5dc3",
   "metadata": {},
   "outputs": [],
   "source": [
    "# len(EC_cols)"
   ]
  },
  {
   "cell_type": "code",
   "execution_count": null,
   "id": "c4333212",
   "metadata": {},
   "outputs": [],
   "source": [
    "# EC_cols"
   ]
  },
  {
   "cell_type": "code",
   "execution_count": null,
   "id": "e4bf8992",
   "metadata": {},
   "outputs": [],
   "source": []
  }
 ],
 "metadata": {
  "kernelspec": {
   "display_name": "newone1",
   "language": "python",
   "name": "newone1"
  },
  "language_info": {
   "codemirror_mode": {
    "name": "ipython",
    "version": 3
   },
   "file_extension": ".py",
   "mimetype": "text/x-python",
   "name": "python",
   "nbconvert_exporter": "python",
   "pygments_lexer": "ipython3",
   "version": "3.9.12"
  }
 },
 "nbformat": 4,
 "nbformat_minor": 5
}
