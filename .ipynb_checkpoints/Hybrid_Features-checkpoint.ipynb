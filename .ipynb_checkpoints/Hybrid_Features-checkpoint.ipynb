{
 "cells": [
  {
   "cell_type": "code",
   "execution_count": null,
   "id": "09950f7a",
   "metadata": {},
   "outputs": [],
   "source": [
    "# import scikit-allel\n",
    "import allel\n",
    "# check which version is installed\n",
    "print(allel.__version__)"
   ]
  },
  {
   "cell_type": "code",
   "execution_count": null,
   "id": "f9b497eb",
   "metadata": {},
   "outputs": [],
   "source": [
    "## This data is in some weird vcf format\n",
    "## Found a package above to deal with this"
   ]
  },
  {
   "cell_type": "code",
   "execution_count": null,
   "id": "1e63515c",
   "metadata": {},
   "outputs": [],
   "source": [
    "callset = allel.read_vcf(r\"D:\\Maize_Comp\\Training_Data\\5_Genotype_Data_All_Years.vcf\")"
   ]
  },
  {
   "cell_type": "code",
   "execution_count": null,
   "id": "0c9323c5",
   "metadata": {},
   "outputs": [],
   "source": [
    "# These are the keys\n",
    "sorted(callset.keys())"
   ]
  },
  {
   "cell_type": "code",
   "execution_count": null,
   "id": "b2b2768a",
   "metadata": {},
   "outputs": [],
   "source": [
    "# basically these samples are the Hybrids that we see in train and test\n",
    "callset['samples']"
   ]
  },
  {
   "cell_type": "code",
   "execution_count": null,
   "id": "b521e3ce",
   "metadata": {},
   "outputs": [],
   "source": [
    "# How many such Hybrids?\n",
    "len(callset['samples'])"
   ]
  },
  {
   "cell_type": "code",
   "execution_count": null,
   "id": "df951052",
   "metadata": {},
   "outputs": [],
   "source": [
    "# These is where the features of the Hybrids will come from\n",
    "# So basically you can see we have 437214 x 2 dimensional features\n",
    "# for all these 4928 Hybrids\n",
    "callset['calldata/GT'].shape"
   ]
  },
  {
   "cell_type": "code",
   "execution_count": null,
   "id": "00819322",
   "metadata": {},
   "outputs": [],
   "source": [
    "first_col = callset['calldata/GT'][:,:,0].T"
   ]
  },
  {
   "cell_type": "code",
   "execution_count": null,
   "id": "43b74a3e",
   "metadata": {},
   "outputs": [],
   "source": [
    "second_col = callset['calldata/GT'][:,:,1].T"
   ]
  },
  {
   "cell_type": "code",
   "execution_count": null,
   "id": "ff7588da",
   "metadata": {},
   "outputs": [],
   "source": [
    "import numpy as np"
   ]
  },
  {
   "cell_type": "code",
   "execution_count": null,
   "id": "41fd4ae7",
   "metadata": {},
   "outputs": [],
   "source": [
    "np.save(\"first_col.npy\", first_col)"
   ]
  },
  {
   "cell_type": "code",
   "execution_count": null,
   "id": "72bb8449",
   "metadata": {},
   "outputs": [],
   "source": [
    "np.save(\"second_col.npy\", second_col)"
   ]
  },
  {
   "cell_type": "code",
   "execution_count": null,
   "id": "4c417f47",
   "metadata": {},
   "outputs": [],
   "source": [
    "np.save(\"hybrid_order.npy\", callset['samples'])"
   ]
  },
  {
   "cell_type": "code",
   "execution_count": null,
   "id": "9a3f72b4",
   "metadata": {},
   "outputs": [],
   "source": [
    "from scipy.sparse import csr_matrix"
   ]
  },
  {
   "cell_type": "code",
   "execution_count": null,
   "id": "1e7686e4",
   "metadata": {},
   "outputs": [],
   "source": [
    "# first_col = csr_matrix(first_col)"
   ]
  },
  {
   "cell_type": "code",
   "execution_count": null,
   "id": "b05a4ba5",
   "metadata": {},
   "outputs": [],
   "source": [
    "# second_col = csr_matrix(second_col)"
   ]
  },
  {
   "cell_type": "code",
   "execution_count": null,
   "id": "409c122d",
   "metadata": {},
   "outputs": [],
   "source": [
    "from sklearn.decomposition import PCA"
   ]
  },
  {
   "cell_type": "code",
   "execution_count": null,
   "id": "42a93c95",
   "metadata": {},
   "outputs": [],
   "source": [
    "second_col.shape"
   ]
  },
  {
   "cell_type": "code",
   "execution_count": null,
   "id": "bd96dcc8",
   "metadata": {},
   "outputs": [],
   "source": [
    "first_col.shape"
   ]
  },
  {
   "cell_type": "code",
   "execution_count": null,
   "id": "fffe19b8",
   "metadata": {},
   "outputs": [],
   "source": [
    "pca_size = 200"
   ]
  },
  {
   "cell_type": "code",
   "execution_count": null,
   "id": "a4d860cc",
   "metadata": {},
   "outputs": [],
   "source": [
    "mds_1 = PCA(n_components=pca_size)"
   ]
  },
  {
   "cell_type": "code",
   "execution_count": null,
   "id": "1a744005",
   "metadata": {},
   "outputs": [],
   "source": [
    "first_col_mds = mds_1.fit_transform(first_col)"
   ]
  },
  {
   "cell_type": "code",
   "execution_count": null,
   "id": "3c465461",
   "metadata": {},
   "outputs": [],
   "source": [
    "mds_2 = PCA(n_components=pca_size)"
   ]
  },
  {
   "cell_type": "code",
   "execution_count": null,
   "id": "caa311b5",
   "metadata": {},
   "outputs": [],
   "source": [
    "second_col_mds = mds_2.fit_transform(second_col)"
   ]
  },
  {
   "cell_type": "code",
   "execution_count": null,
   "id": "c7768b30",
   "metadata": {},
   "outputs": [],
   "source": [
    "first_col_mds.shape"
   ]
  },
  {
   "cell_type": "code",
   "execution_count": null,
   "id": "1987e1c8",
   "metadata": {},
   "outputs": [],
   "source": [
    "second_col_mds.shape"
   ]
  },
  {
   "cell_type": "code",
   "execution_count": null,
   "id": "2a02e612",
   "metadata": {},
   "outputs": [],
   "source": [
    "np.save(\"first_col_pca_\" + str(pca_size) + \".npy\", first_col_mds)"
   ]
  },
  {
   "cell_type": "code",
   "execution_count": null,
   "id": "3113657a",
   "metadata": {},
   "outputs": [],
   "source": [
    "np.save(\"second_col_pca_\" + str(pca_size) + \".npy\", second_col_mds)"
   ]
  },
  {
   "cell_type": "code",
   "execution_count": null,
   "id": "e396c7c9",
   "metadata": {},
   "outputs": [],
   "source": [
    "import tensorflow as tf"
   ]
  },
  {
   "cell_type": "code",
   "execution_count": null,
   "id": "8b56b880",
   "metadata": {},
   "outputs": [],
   "source": [
    "padding_vector = np.zeros((1, pca_size))\n",
    "unknown_vector = np.zeros((1, pca_size))\n",
    "weight_vectors = np.vstack((padding_vector, unknown_vector))\n",
    "weight_vectors = np.vstack((weight_vectors, first_col_mds))\n",
    "embedding_layer_first_col = tf.keras.layers.Embedding(len(weight_vectors),\n",
    "                            weight_vectors.shape[1],\n",
    "                            weights=[weight_vectors],\n",
    "                            mask_zero = False,\n",
    "                            trainable=False)"
   ]
  },
  {
   "cell_type": "code",
   "execution_count": null,
   "id": "6d65df94",
   "metadata": {},
   "outputs": [],
   "source": [
    "vectorize_layer_first_col = tf.keras.layers.TextVectorization(\n",
    "                     output_mode='int',\n",
    "                     vocabulary=callset['samples'], \n",
    "                     standardize = None)"
   ]
  },
  {
   "cell_type": "code",
   "execution_count": null,
   "id": "14c95677",
   "metadata": {},
   "outputs": [],
   "source": [
    "input_layer = tf.keras.layers.Input(shape = (1,), dtype = tf.string)\n",
    "\n",
    "vectorize = vectorize_layer_first_col(input_layer)\n",
    "\n",
    "vectorize.shape\n"
   ]
  },
  {
   "cell_type": "code",
   "execution_count": null,
   "id": "32ee7770",
   "metadata": {},
   "outputs": [],
   "source": [
    "emb_output = embedding_layer_first_col(vectorize)"
   ]
  },
  {
   "cell_type": "code",
   "execution_count": null,
   "id": "a8577bbb",
   "metadata": {},
   "outputs": [],
   "source": [
    "emb_output"
   ]
  },
  {
   "cell_type": "code",
   "execution_count": null,
   "id": "5bd78f9b",
   "metadata": {},
   "outputs": [],
   "source": [
    "first_col_pca_model = tf.keras.models.Model(input_layer, emb_output)"
   ]
  },
  {
   "cell_type": "code",
   "execution_count": null,
   "id": "717c3cc1",
   "metadata": {},
   "outputs": [],
   "source": [
    "first_col_pca_model.summary()"
   ]
  },
  {
   "cell_type": "code",
   "execution_count": null,
   "id": "bd1ae3e9",
   "metadata": {},
   "outputs": [],
   "source": [
    "first_col_pca_model.save(\"first_col_pca_\" + str(pca_size))"
   ]
  },
  {
   "cell_type": "code",
   "execution_count": null,
   "id": "afe3a67a",
   "metadata": {},
   "outputs": [],
   "source": [
    "first_col_pca_model = tf.keras.models.load_model(\"first_col_pca_\" + str(pca_size))"
   ]
  },
  {
   "cell_type": "code",
   "execution_count": null,
   "id": "f721220e",
   "metadata": {},
   "outputs": [],
   "source": [
    "# first_col_mds"
   ]
  },
  {
   "cell_type": "code",
   "execution_count": null,
   "id": "791e3ef0",
   "metadata": {},
   "outputs": [],
   "source": [
    "padding_vector = np.zeros((1, pca_size))\n",
    "unknown_vector = np.zeros((1, pca_size))\n",
    "weight_vectors = np.vstack((padding_vector, unknown_vector))\n",
    "weight_vectors = np.vstack((weight_vectors, second_col_mds))\n",
    "embedding_layer_second_col = tf.keras.layers.Embedding(len(weight_vectors),\n",
    "                            weight_vectors.shape[1],\n",
    "                            weights=[weight_vectors],\n",
    "                            mask_zero = False,\n",
    "                            trainable=False)"
   ]
  },
  {
   "cell_type": "code",
   "execution_count": null,
   "id": "10e39cc2",
   "metadata": {},
   "outputs": [],
   "source": [
    "vectorize_layer_second_col = tf.keras.layers.TextVectorization(\n",
    "                     output_mode='int',\n",
    "                     vocabulary=callset['samples'], \n",
    "                     standardize = None)"
   ]
  },
  {
   "cell_type": "code",
   "execution_count": null,
   "id": "c2a69ba9",
   "metadata": {},
   "outputs": [],
   "source": [
    "callset[\"samples\"]"
   ]
  },
  {
   "cell_type": "code",
   "execution_count": null,
   "id": "dab50f0c",
   "metadata": {},
   "outputs": [],
   "source": [
    "input_layer = tf.keras.layers.Input(shape = (1,), dtype = tf.string)\n",
    "\n",
    "vectorize = vectorize_layer_second_col(input_layer)\n",
    "\n",
    "vectorize.shape\n"
   ]
  },
  {
   "cell_type": "code",
   "execution_count": null,
   "id": "a8120676",
   "metadata": {},
   "outputs": [],
   "source": [
    "emb_output = embedding_layer_second_col(vectorize)"
   ]
  },
  {
   "cell_type": "code",
   "execution_count": null,
   "id": "31d030a4",
   "metadata": {},
   "outputs": [],
   "source": [
    "emb_output"
   ]
  },
  {
   "cell_type": "code",
   "execution_count": null,
   "id": "06c16a54",
   "metadata": {},
   "outputs": [],
   "source": [
    "second_col_pca_model = tf.keras.models.Model(input_layer, emb_output)"
   ]
  },
  {
   "cell_type": "code",
   "execution_count": null,
   "id": "8955cef8",
   "metadata": {},
   "outputs": [],
   "source": [
    "second_col_pca_model.summary()"
   ]
  },
  {
   "cell_type": "code",
   "execution_count": null,
   "id": "3a7ec25d",
   "metadata": {},
   "outputs": [],
   "source": [
    "second_col_pca_model.save(\"second_col_pca_\" + str(pca_size))"
   ]
  },
  {
   "cell_type": "code",
   "execution_count": null,
   "id": "379e0267",
   "metadata": {},
   "outputs": [],
   "source": []
  }
 ],
 "metadata": {
  "kernelspec": {
   "display_name": "newone1",
   "language": "python",
   "name": "newone1"
  },
  "language_info": {
   "codemirror_mode": {
    "name": "ipython",
    "version": 3
   },
   "file_extension": ".py",
   "mimetype": "text/x-python",
   "name": "python",
   "nbconvert_exporter": "python",
   "pygments_lexer": "ipython3",
   "version": "3.9.12"
  }
 },
 "nbformat": 4,
 "nbformat_minor": 5
}
