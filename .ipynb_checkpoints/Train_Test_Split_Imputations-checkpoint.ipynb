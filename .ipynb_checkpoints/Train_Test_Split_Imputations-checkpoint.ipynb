{
 "cells": [
  {
   "cell_type": "code",
   "execution_count": null,
   "id": "5f2bd2eb",
   "metadata": {},
   "outputs": [],
   "source": [
    "import pandas as pd\n",
    "pd.set_option('display.max_columns', None)"
   ]
  },
  {
   "cell_type": "code",
   "execution_count": null,
   "id": "3be457d9",
   "metadata": {},
   "outputs": [],
   "source": [
    "all_data = pd.read_csv(r\"output_data//final_data_all_with_traits.csv\")"
   ]
  },
  {
   "cell_type": "code",
   "execution_count": null,
   "id": "44136b32",
   "metadata": {},
   "outputs": [],
   "source": [
    "all_data.shape"
   ]
  },
  {
   "cell_type": "code",
   "execution_count": null,
   "id": "1f267751",
   "metadata": {},
   "outputs": [],
   "source": [
    "all_data.head()"
   ]
  },
  {
   "cell_type": "code",
   "execution_count": null,
   "id": "03ad457f",
   "metadata": {},
   "outputs": [],
   "source": [
    "import numpy as np"
   ]
  },
  {
   "cell_type": "code",
   "execution_count": null,
   "id": "aa7c4a87",
   "metadata": {},
   "outputs": [],
   "source": [
    "all_data[all_data == \"not_avail\"] = np.nan"
   ]
  },
  {
   "cell_type": "code",
   "execution_count": null,
   "id": "c8b74b54",
   "metadata": {},
   "outputs": [],
   "source": [
    "all_data[\"Date_Planted\"] = pd.to_datetime(all_data[\"Date_Planted\"].values)"
   ]
  },
  {
   "cell_type": "code",
   "execution_count": null,
   "id": "afcfcceb",
   "metadata": {},
   "outputs": [],
   "source": [
    "all_data[\"Date_Harvested\"] = pd.to_datetime(all_data[\"Date_Harvested\"].values)"
   ]
  },
  {
   "cell_type": "code",
   "execution_count": null,
   "id": "96988937",
   "metadata": {},
   "outputs": [],
   "source": [
    "all_data[\"Date_Planted_Month\"] = all_data[\"Date_Planted\"].dt.month"
   ]
  },
  {
   "cell_type": "code",
   "execution_count": null,
   "id": "209e9856",
   "metadata": {},
   "outputs": [],
   "source": [
    "all_data[\"Date_Harvested_Month\"] = all_data[\"Date_Harvested\"].dt.month"
   ]
  },
  {
   "cell_type": "code",
   "execution_count": null,
   "id": "3d4d5cb4",
   "metadata": {},
   "outputs": [],
   "source": [
    "all_data[\"Time_Planted\"] = all_data[\"Date_Harvested\"] - all_data[\"Date_Planted\"]"
   ]
  },
  {
   "cell_type": "code",
   "execution_count": null,
   "id": "cf17ccbb",
   "metadata": {},
   "outputs": [],
   "source": [
    "all_data[\"Time_Planted\"] = all_data[\"Time_Planted\"]/np.timedelta64(1, 'D')"
   ]
  },
  {
   "cell_type": "code",
   "execution_count": null,
   "id": "a5893cc4",
   "metadata": {},
   "outputs": [],
   "source": [
    "trait_cols = ['Env',\n",
    " 'Hybrid',\n",
    " 'Yield_Mg_ha',\n",
    " 'Year',\n",
    " 'Field_Location',\n",
    " 'Experiment',\n",
    " 'Replicate',\n",
    " 'Block',\n",
    " 'Plot',\n",
    " 'Range',\n",
    " 'Pass',\n",
    " 'Hybrid_orig_name',\n",
    " 'Hybrid_Parent1',\n",
    " 'Hybrid_Parent2',\n",
    " 'Plot_Area_ha',\n",
    " 'Date_Planted',\n",
    " 'Date_Harvested',\n",
    " 'Stand_Count_plants',\n",
    " 'Pollen_DAP_days',\n",
    " 'Silk_DAP_days',\n",
    " 'Plant_Height_cm',\n",
    " 'Ear_Height_cm',\n",
    " 'Root_Lodging_plants',\n",
    " 'Stalk_Lodging_plants',\n",
    " 'Grain_Moisture',\n",
    " 'Twt_kg_m3', \n",
    "  'Date_Planted_Month', \n",
    "   'Date_Harvested_Month', \n",
    "    'Time_Planted'\n",
    "             ]"
   ]
  },
  {
   "cell_type": "code",
   "execution_count": null,
   "id": "c9d805c0",
   "metadata": {},
   "outputs": [],
   "source": [
    "meta_cols = ['Previous_Crop',\n",
    " 'Type_of_planter (fluted cone; belt cone; air planter)',\n",
    " 'Pounds_Needed_Soil_Moisture',\n",
    " 'Experiment_Code',\n",
    " 'Weather_Station_Latitude (in decimal numbers NOT DMS)',\n",
    " 'Year',\n",
    " 'Latitude_of_Field_Corner_#2 (lower right)',\n",
    " 'Longitude_of_Field_Corner_#4 (upper left)',\n",
    " 'Latitude_of_Field_Corner_#4 (upper left)',\n",
    " 'Longitude_of_Field_Corner_#2 (lower right)',\n",
    " 'Latitude_of_Field_Corner_#1 (lower left)',\n",
    " 'Weather_Station_Longitude (in decimal numbers NOT DMS)',\n",
    " 'Longitude_of_Field_Corner_#1 (lower left)',\n",
    " 'Env',\n",
    " 'Longitude_of_Field_Corner_#3 (upper right)',\n",
    " 'Latitude_of_Field_Corner_#3 (upper right)',\n",
    " 'City',\n",
    " 'Treatment']"
   ]
  },
  {
   "cell_type": "code",
   "execution_count": null,
   "id": "35465ba7",
   "metadata": {},
   "outputs": [],
   "source": [
    "soil_columns = ['%H Sat',\n",
    " '%Ca Sat',\n",
    " 'WDRF Buffer pH',\n",
    " 'Organic Matter LOI %',\n",
    " 'Texture No',\n",
    " 'Texture',\n",
    " 'Nitrate-N ppm N',\n",
    " 'LabID',\n",
    " 'Magnesium ppm Mg',\n",
    " 'lbs N/A',\n",
    " '%Na Sat',\n",
    " 'Calcium ppm Ca',\n",
    " 'E Depth',\n",
    " 'Mehlich P-III ppm P',\n",
    " 'Sulfate-S ppm S',\n",
    " '% Silt',\n",
    " '% Sand',\n",
    " '%K Sat',\n",
    " 'Potassium ppm K',\n",
    " '% Clay',\n",
    " 'CEC/Sum of Cations me/100g',\n",
    " 'Env',\n",
    " 'Year',\n",
    " '1:1 Soil pH',\n",
    " '%Mg Sat',\n",
    " '1:1 S Salts mmho/cm',\n",
    " 'Sodium ppm Na']\n"
   ]
  },
  {
   "cell_type": "code",
   "execution_count": null,
   "id": "661f9ddf",
   "metadata": {},
   "outputs": [],
   "source": [
    "weather_cols = ['Env',\n",
    " 'ALLSKY_SFC_PAR_TOT',\n",
    " 'ALLSKY_SFC_SW_DNI',\n",
    " 'ALLSKY_SFC_SW_DWN',\n",
    " 'GWETPROF',\n",
    " 'GWETROOT',\n",
    " 'GWETTOP',\n",
    " 'PRECTOTCORR',\n",
    " 'PS',\n",
    " 'QV2M',\n",
    " 'RH2M',\n",
    " 'T2M',\n",
    " 'T2MDEW',\n",
    " 'T2MWET',\n",
    " 'T2M_MAX',\n",
    " 'T2M_MIN',\n",
    " 'WS2M']\n"
   ]
  },
  {
   "cell_type": "code",
   "execution_count": null,
   "id": "fdfad5bf",
   "metadata": {},
   "outputs": [],
   "source": [
    "EC_cols = ['Env',\n",
    " 'SDR_pGerEme_1',\n",
    " 'SDR_pEmeEnJ_1',\n",
    " 'SDR_pEnJFlo_1',\n",
    " 'SDR_pFloFla_1',\n",
    " 'SDR_pFlaFlw_1',\n",
    " 'SDR_pFlwStG_1',\n",
    " 'SDR_pStGEnG_1',\n",
    " 'SDR_pEnGMat_1',\n",
    " 'SDR_pMatHar_1',\n",
    " 'SDR_pGerEme_2',\n",
    " 'SDR_pEmeEnJ_2',\n",
    " 'SDR_pEnJFlo_2',\n",
    " 'SDR_pFloFla_2',\n",
    " 'SDR_pFlaFlw_2',\n",
    " 'SDR_pFlwStG_2',\n",
    " 'SDR_pStGEnG_2',\n",
    " 'SDR_pEnGMat_2',\n",
    " 'SDR_pMatHar_2',\n",
    " 'SDR_pGerEme_3',\n",
    " 'SDR_pEmeEnJ_3',\n",
    " 'SDR_pEnJFlo_3',\n",
    " 'SDR_pFloFla_3',\n",
    " 'SDR_pFlaFlw_3',\n",
    " 'SDR_pFlwStG_3',\n",
    " 'SDR_pStGEnG_3',\n",
    " 'SDR_pEnGMat_3',\n",
    " 'SDR_pMatHar_3',\n",
    " 'SDR_pGerEme_4',\n",
    " 'SDR_pEmeEnJ_4',\n",
    " 'SDR_pEnJFlo_4',\n",
    " 'SDR_pFloFla_4',\n",
    " 'SDR_pFlaFlw_4',\n",
    " 'SDR_pFlwStG_4',\n",
    " 'SDR_pStGEnG_4',\n",
    " 'SDR_pEnGMat_4',\n",
    " 'SDR_pMatHar_4',\n",
    " 'SDR_pGerEme_5',\n",
    " 'SDR_pEmeEnJ_5',\n",
    " 'SDR_pEnJFlo_5',\n",
    " 'SDR_pFloFla_5',\n",
    " 'SDR_pFlaFlw_5',\n",
    " 'SDR_pFlwStG_5',\n",
    " 'SDR_pStGEnG_5',\n",
    " 'SDR_pEnGMat_5',\n",
    " 'SDR_pMatHar_5',\n",
    " 'SDR_pGerEme_6',\n",
    " 'SDR_pEmeEnJ_6',\n",
    " 'SDR_pEnJFlo_6',\n",
    " 'SDR_pFloFla_6',\n",
    " 'SDR_pFlaFlw_6',\n",
    " 'SDR_pFlwStG_6',\n",
    " 'SDR_pStGEnG_6',\n",
    " 'SDR_pEnGMat_6',\n",
    " 'SDR_pMatHar_6',\n",
    " 'SDR_pGerEme_7',\n",
    " 'SDR_pEmeEnJ_7',\n",
    " 'SDR_pEnJFlo_7',\n",
    " 'SDR_pFloFla_7',\n",
    " 'SDR_pFlaFlw_7',\n",
    " 'SDR_pFlwStG_7',\n",
    " 'SDR_pStGEnG_7',\n",
    " 'SDR_pEnGMat_7',\n",
    " 'SDR_pMatHar_7',\n",
    " 'SDR_pGerEme_8',\n",
    " 'SDR_pEmeEnJ_8',\n",
    " 'SDR_pEnJFlo_8',\n",
    " 'SDR_pFloFla_8',\n",
    " 'SDR_pFlaFlw_8',\n",
    " 'SDR_pFlwStG_8',\n",
    " 'SDR_pStGEnG_8',\n",
    " 'SDR_pEnGMat_8',\n",
    " 'SDR_pMatHar_8',\n",
    " 'SDR_pGerEme_9',\n",
    " 'SDR_pEmeEnJ_9',\n",
    " 'SDR_pEnJFlo_9',\n",
    " 'SDR_pFloFla_9',\n",
    " 'SDR_pFlaFlw_9',\n",
    " 'SDR_pFlwStG_9',\n",
    " 'SDR_pStGEnG_9',\n",
    " 'SDR_pEnGMat_9',\n",
    " 'SDR_pMatHar_9',\n",
    " 'SDR_pGerEme_10',\n",
    " 'SDR_pEmeEnJ_10',\n",
    " 'SDR_pEnJFlo_10',\n",
    " 'SDR_pFloFla_10',\n",
    " 'SDR_pFlaFlw_10',\n",
    " 'SDR_pFlwStG_10',\n",
    " 'SDR_pStGEnG_10',\n",
    " 'SDR_pEnGMat_10',\n",
    " 'SDR_pMatHar_10',\n",
    " 'TT_pGerEme',\n",
    " 'TT_pEmeEnJ',\n",
    " 'TT_pEnJFlo',\n",
    " 'TT_pFloFla',\n",
    " 'TT_pFlaFlw',\n",
    " 'TT_pFlwStG',\n",
    " 'TT_pStGEnG',\n",
    " 'TT_pEnGMat',\n",
    " 'TT_pMatHar',\n",
    " 'biomass_pGerEme',\n",
    " 'biomass_pEmeEnJ',\n",
    " 'biomass_pEnJFlo',\n",
    " 'biomass_pFloFla',\n",
    " 'biomass_pFlaFlw',\n",
    " 'biomass_pFlwStG',\n",
    " 'biomass_pStGEnG',\n",
    " 'biomass_pEnGMat',\n",
    " 'biomass_pMatHar',\n",
    " 'yield_pGerEme',\n",
    " 'yield_pEmeEnJ',\n",
    " 'yield_pEnJFlo',\n",
    " 'yield_pFloFla',\n",
    " 'yield_pFlaFlw',\n",
    " 'yield_pFlwStG',\n",
    " 'yield_pStGEnG',\n",
    " 'yield_pEnGMat',\n",
    " 'yield_pMatHar',\n",
    " 'Eo_pGerEme',\n",
    " 'Eo_pEmeEnJ',\n",
    " 'Eo_pEnJFlo',\n",
    " 'Eo_pFloFla',\n",
    " 'Eo_pFlaFlw',\n",
    " 'Eo_pFlwStG',\n",
    " 'Eo_pStGEnG',\n",
    " 'Eo_pEnGMat',\n",
    " 'Eo_pMatHar',\n",
    " 'Eos_pGerEme',\n",
    " 'Eos_pEmeEnJ',\n",
    " 'Eos_pEnJFlo',\n",
    " 'Eos_pFloFla',\n",
    " 'Eos_pFlaFlw',\n",
    " 'Eos_pFlwStG',\n",
    " 'Eos_pStGEnG',\n",
    " 'Eos_pEnGMat',\n",
    " 'Eos_pMatHar',\n",
    " 'Es_pGerEme',\n",
    " 'Es_pEmeEnJ',\n",
    " 'Es_pEnJFlo',\n",
    " 'Es_pFloFla',\n",
    " 'Es_pFlaFlw',\n",
    " 'Es_pFlwStG',\n",
    " 'Es_pStGEnG',\n",
    " 'Es_pEnGMat',\n",
    " 'Es_pMatHar',\n",
    " 'ESW_pGerEme_1',\n",
    " 'ESW_pEmeEnJ_1',\n",
    " 'ESW_pEnJFlo_1',\n",
    " 'ESW_pFloFla_1',\n",
    " 'ESW_pFlaFlw_1',\n",
    " 'ESW_pFlwStG_1',\n",
    " 'ESW_pStGEnG_1',\n",
    " 'ESW_pEnGMat_1',\n",
    " 'ESW_pMatHar_1',\n",
    " 'ESW_pGerEme_2',\n",
    " 'ESW_pEmeEnJ_2',\n",
    " 'ESW_pEnJFlo_2',\n",
    " 'ESW_pFloFla_2',\n",
    " 'ESW_pFlaFlw_2',\n",
    " 'ESW_pFlwStG_2',\n",
    " 'ESW_pStGEnG_2',\n",
    " 'ESW_pEnGMat_2',\n",
    " 'ESW_pMatHar_2',\n",
    " 'ESW_pGerEme_3',\n",
    " 'ESW_pEmeEnJ_3',\n",
    " 'ESW_pEnJFlo_3',\n",
    " 'ESW_pFloFla_3',\n",
    " 'ESW_pFlaFlw_3',\n",
    " 'ESW_pFlwStG_3',\n",
    " 'ESW_pStGEnG_3',\n",
    " 'ESW_pEnGMat_3',\n",
    " 'ESW_pMatHar_3',\n",
    " 'ESW_pGerEme_4',\n",
    " 'ESW_pEmeEnJ_4',\n",
    " 'ESW_pEnJFlo_4',\n",
    " 'ESW_pFloFla_4',\n",
    " 'ESW_pFlaFlw_4',\n",
    " 'ESW_pFlwStG_4',\n",
    " 'ESW_pStGEnG_4',\n",
    " 'ESW_pEnGMat_4',\n",
    " 'ESW_pMatHar_4',\n",
    " 'ESW_pGerEme_5',\n",
    " 'ESW_pEmeEnJ_5',\n",
    " 'ESW_pEnJFlo_5',\n",
    " 'ESW_pFloFla_5',\n",
    " 'ESW_pFlaFlw_5',\n",
    " 'ESW_pFlwStG_5',\n",
    " 'ESW_pStGEnG_5',\n",
    " 'ESW_pEnGMat_5',\n",
    " 'ESW_pMatHar_5',\n",
    " 'ESW_pGerEme_6',\n",
    " 'ESW_pEmeEnJ_6',\n",
    " 'ESW_pEnJFlo_6',\n",
    " 'ESW_pFloFla_6',\n",
    " 'ESW_pFlaFlw_6',\n",
    " 'ESW_pFlwStG_6',\n",
    " 'ESW_pStGEnG_6',\n",
    " 'ESW_pEnGMat_6',\n",
    " 'ESW_pMatHar_6',\n",
    " 'ESW_pGerEme_7',\n",
    " 'ESW_pEmeEnJ_7',\n",
    " 'ESW_pEnJFlo_7',\n",
    " 'ESW_pFloFla_7',\n",
    " 'ESW_pFlaFlw_7',\n",
    " 'ESW_pFlwStG_7',\n",
    " 'ESW_pStGEnG_7',\n",
    " 'ESW_pEnGMat_7',\n",
    " 'ESW_pMatHar_7',\n",
    " 'ESW_pGerEme_8',\n",
    " 'ESW_pEmeEnJ_8',\n",
    " 'ESW_pEnJFlo_8',\n",
    " 'ESW_pFloFla_8',\n",
    " 'ESW_pFlaFlw_8',\n",
    " 'ESW_pFlwStG_8',\n",
    " 'ESW_pStGEnG_8',\n",
    " 'ESW_pEnGMat_8',\n",
    " 'ESW_pMatHar_8',\n",
    " 'ESW_pGerEme_9',\n",
    " 'ESW_pEmeEnJ_9',\n",
    " 'ESW_pEnJFlo_9',\n",
    " 'ESW_pFloFla_9',\n",
    " 'ESW_pFlaFlw_9',\n",
    " 'ESW_pFlwStG_9',\n",
    " 'ESW_pStGEnG_9',\n",
    " 'ESW_pEnGMat_9',\n",
    " 'ESW_pMatHar_9',\n",
    " 'ESW_pGerEme_10',\n",
    " 'ESW_pEmeEnJ_10',\n",
    " 'ESW_pEnJFlo_10',\n",
    " 'ESW_pFloFla_10',\n",
    " 'ESW_pFlaFlw_10',\n",
    " 'ESW_pFlwStG_10',\n",
    " 'ESW_pStGEnG_10',\n",
    " 'ESW_pEnGMat_10',\n",
    " 'ESW_pMatHar_10',\n",
    " 'Flow_pGerEme_1',\n",
    " 'Flow_pEmeEnJ_1',\n",
    " 'Flow_pEnJFlo_1',\n",
    " 'Flow_pFloFla_1',\n",
    " 'Flow_pFlaFlw_1',\n",
    " 'Flow_pFlwStG_1',\n",
    " 'Flow_pStGEnG_1',\n",
    " 'Flow_pEnGMat_1',\n",
    " 'Flow_pMatHar_1',\n",
    " 'Flow_pGerEme_2',\n",
    " 'Flow_pEmeEnJ_2',\n",
    " 'Flow_pEnJFlo_2',\n",
    " 'Flow_pFloFla_2',\n",
    " 'Flow_pFlaFlw_2',\n",
    " 'Flow_pFlwStG_2',\n",
    " 'Flow_pStGEnG_2',\n",
    " 'Flow_pEnGMat_2',\n",
    " 'Flow_pMatHar_2',\n",
    " 'Flow_pGerEme_3',\n",
    " 'Flow_pEmeEnJ_3',\n",
    " 'Flow_pEnJFlo_3',\n",
    " 'Flow_pFloFla_3',\n",
    " 'Flow_pFlaFlw_3',\n",
    " 'Flow_pFlwStG_3',\n",
    " 'Flow_pStGEnG_3',\n",
    " 'Flow_pEnGMat_3',\n",
    " 'Flow_pMatHar_3',\n",
    " 'Flow_pGerEme_4',\n",
    " 'Flow_pEmeEnJ_4',\n",
    " 'Flow_pEnJFlo_4',\n",
    " 'Flow_pFloFla_4',\n",
    " 'Flow_pFlaFlw_4',\n",
    " 'Flow_pFlwStG_4',\n",
    " 'Flow_pStGEnG_4',\n",
    " 'Flow_pEnGMat_4',\n",
    " 'Flow_pMatHar_4',\n",
    " 'Flow_pGerEme_5',\n",
    " 'Flow_pEmeEnJ_5',\n",
    " 'Flow_pEnJFlo_5',\n",
    " 'Flow_pFloFla_5',\n",
    " 'Flow_pFlaFlw_5',\n",
    " 'Flow_pFlwStG_5',\n",
    " 'Flow_pStGEnG_5',\n",
    " 'Flow_pEnGMat_5',\n",
    " 'Flow_pMatHar_5',\n",
    " 'Flow_pGerEme_6',\n",
    " 'Flow_pEmeEnJ_6',\n",
    " 'Flow_pEnJFlo_6',\n",
    " 'Flow_pFloFla_6',\n",
    " 'Flow_pFlaFlw_6',\n",
    " 'Flow_pFlwStG_6',\n",
    " 'Flow_pStGEnG_6',\n",
    " 'Flow_pEnGMat_6',\n",
    " 'Flow_pMatHar_6',\n",
    " 'Flow_pGerEme_7',\n",
    " 'Flow_pEmeEnJ_7',\n",
    " 'Flow_pEnJFlo_7',\n",
    " 'Flow_pFloFla_7',\n",
    " 'Flow_pFlaFlw_7',\n",
    " 'Flow_pFlwStG_7',\n",
    " 'Flow_pStGEnG_7',\n",
    " 'Flow_pEnGMat_7',\n",
    " 'Flow_pMatHar_7',\n",
    " 'Flow_pGerEme_8',\n",
    " 'Flow_pEmeEnJ_8',\n",
    " 'Flow_pEnJFlo_8',\n",
    " 'Flow_pFloFla_8',\n",
    " 'Flow_pFlaFlw_8',\n",
    " 'Flow_pFlwStG_8',\n",
    " 'Flow_pStGEnG_8',\n",
    " 'Flow_pEnGMat_8',\n",
    " 'Flow_pMatHar_8',\n",
    " 'Flow_pGerEme_9',\n",
    " 'Flow_pEmeEnJ_9',\n",
    " 'Flow_pEnJFlo_9',\n",
    " 'Flow_pFloFla_9',\n",
    " 'Flow_pFlaFlw_9',\n",
    " 'Flow_pFlwStG_9',\n",
    " 'Flow_pStGEnG_9',\n",
    " 'Flow_pEnGMat_9',\n",
    " 'Flow_pMatHar_9',\n",
    " 'FlowNO3_pGerEme_1',\n",
    " 'FlowNO3_pEmeEnJ_1',\n",
    " 'FlowNO3_pEnJFlo_1',\n",
    " 'FlowNO3_pFloFla_1',\n",
    " 'FlowNO3_pFlaFlw_1',\n",
    " 'FlowNO3_pFlwStG_1',\n",
    " 'FlowNO3_pStGEnG_1',\n",
    " 'FlowNO3_pEnGMat_1',\n",
    " 'FlowNO3_pMatHar_1',\n",
    " 'FlowNO3_pGerEme_2',\n",
    " 'FlowNO3_pEmeEnJ_2',\n",
    " 'FlowNO3_pEnJFlo_2',\n",
    " 'FlowNO3_pFloFla_2',\n",
    " 'FlowNO3_pFlaFlw_2',\n",
    " 'FlowNO3_pFlwStG_2',\n",
    " 'FlowNO3_pStGEnG_2',\n",
    " 'FlowNO3_pEnGMat_2',\n",
    " 'FlowNO3_pMatHar_2',\n",
    " 'FlowNO3_pGerEme_3',\n",
    " 'FlowNO3_pEmeEnJ_3',\n",
    " 'FlowNO3_pEnJFlo_3',\n",
    " 'FlowNO3_pFloFla_3',\n",
    " 'FlowNO3_pFlaFlw_3',\n",
    " 'FlowNO3_pFlwStG_3',\n",
    " 'FlowNO3_pStGEnG_3',\n",
    " 'FlowNO3_pEnGMat_3',\n",
    " 'FlowNO3_pMatHar_3',\n",
    " 'FlowNO3_pGerEme_4',\n",
    " 'FlowNO3_pEmeEnJ_4',\n",
    " 'FlowNO3_pEnJFlo_4',\n",
    " 'FlowNO3_pFloFla_4',\n",
    " 'FlowNO3_pFlaFlw_4',\n",
    " 'FlowNO3_pFlwStG_4',\n",
    " 'FlowNO3_pStGEnG_4',\n",
    " 'FlowNO3_pEnGMat_4',\n",
    " 'FlowNO3_pMatHar_4',\n",
    " 'FlowNO3_pGerEme_5',\n",
    " 'FlowNO3_pEmeEnJ_5',\n",
    " 'FlowNO3_pEnJFlo_5',\n",
    " 'FlowNO3_pFloFla_5',\n",
    " 'FlowNO3_pFlaFlw_5',\n",
    " 'FlowNO3_pFlwStG_5',\n",
    " 'FlowNO3_pStGEnG_5',\n",
    " 'FlowNO3_pEnGMat_5',\n",
    " 'FlowNO3_pMatHar_5',\n",
    " 'FlowNO3_pGerEme_6',\n",
    " 'FlowNO3_pEmeEnJ_6',\n",
    " 'FlowNO3_pEnJFlo_6',\n",
    " 'FlowNO3_pFloFla_6',\n",
    " 'FlowNO3_pFlaFlw_6',\n",
    " 'FlowNO3_pFlwStG_6',\n",
    " 'FlowNO3_pStGEnG_6',\n",
    " 'FlowNO3_pEnGMat_6',\n",
    " 'FlowNO3_pMatHar_6',\n",
    " 'FlowNO3_pGerEme_7',\n",
    " 'FlowNO3_pEmeEnJ_7',\n",
    " 'FlowNO3_pEnJFlo_7',\n",
    " 'FlowNO3_pFloFla_7',\n",
    " 'FlowNO3_pFlaFlw_7',\n",
    " 'FlowNO3_pFlwStG_7',\n",
    " 'FlowNO3_pStGEnG_7',\n",
    " 'FlowNO3_pEnGMat_7',\n",
    " 'FlowNO3_pMatHar_7',\n",
    " 'FlowNO3_pGerEme_8',\n",
    " 'FlowNO3_pEmeEnJ_8',\n",
    " 'FlowNO3_pEnJFlo_8',\n",
    " 'FlowNO3_pFloFla_8',\n",
    " 'FlowNO3_pFlaFlw_8',\n",
    " 'FlowNO3_pFlwStG_8',\n",
    " 'FlowNO3_pStGEnG_8',\n",
    " 'FlowNO3_pEnGMat_8',\n",
    " 'FlowNO3_pMatHar_8',\n",
    " 'FlowNO3_pGerEme_9',\n",
    " 'FlowNO3_pEmeEnJ_9',\n",
    " 'FlowNO3_pEnJFlo_9',\n",
    " 'FlowNO3_pFloFla_9',\n",
    " 'FlowNO3_pFlaFlw_9',\n",
    " 'FlowNO3_pFlwStG_9',\n",
    " 'FlowNO3_pStGEnG_9',\n",
    " 'FlowNO3_pEnGMat_9',\n",
    " 'FlowNO3_pMatHar_9',\n",
    " 'FlowNO3_pGerEme_10',\n",
    " 'FlowNO3_pEmeEnJ_10',\n",
    " 'FlowNO3_pEnJFlo_10',\n",
    " 'FlowNO3_pFloFla_10',\n",
    " 'FlowNO3_pFlaFlw_10',\n",
    " 'FlowNO3_pFlwStG_10',\n",
    " 'FlowNO3_pStGEnG_10',\n",
    " 'FlowNO3_pEnGMat_10',\n",
    " 'FlowNO3_pMatHar_10',\n",
    " 'Flux_pGerEme_1',\n",
    " 'Flux_pEmeEnJ_1',\n",
    " 'Flux_pEnJFlo_1',\n",
    " 'Flux_pFloFla_1',\n",
    " 'Flux_pFlaFlw_1',\n",
    " 'Flux_pFlwStG_1',\n",
    " 'Flux_pStGEnG_1',\n",
    " 'Flux_pEnGMat_1',\n",
    " 'Flux_pMatHar_1',\n",
    " 'Flux_pGerEme_2',\n",
    " 'Flux_pEmeEnJ_2',\n",
    " 'Flux_pEnJFlo_2',\n",
    " 'Flux_pFloFla_2',\n",
    " 'Flux_pFlaFlw_2',\n",
    " 'Flux_pFlwStG_2',\n",
    " 'Flux_pStGEnG_2',\n",
    " 'Flux_pEnGMat_2',\n",
    " 'Flux_pMatHar_2',\n",
    " 'Flux_pGerEme_3',\n",
    " 'Flux_pEmeEnJ_3',\n",
    " 'Flux_pEnJFlo_3',\n",
    " 'Flux_pFloFla_3',\n",
    " 'Flux_pFlaFlw_3',\n",
    " 'Flux_pFlwStG_3',\n",
    " 'Flux_pStGEnG_3',\n",
    " 'Flux_pEnGMat_3',\n",
    " 'Flux_pMatHar_3',\n",
    " 'Flux_pGerEme_4',\n",
    " 'Flux_pEmeEnJ_4',\n",
    " 'Flux_pEnJFlo_4',\n",
    " 'Flux_pFloFla_4',\n",
    " 'Flux_pFlaFlw_4',\n",
    " 'Flux_pFlwStG_4',\n",
    " 'Flux_pStGEnG_4',\n",
    " 'Flux_pEnGMat_4',\n",
    " 'Flux_pMatHar_4',\n",
    " 'Flux_pGerEme_5',\n",
    " 'Flux_pEmeEnJ_5',\n",
    " 'Flux_pEnJFlo_5',\n",
    " 'Flux_pFloFla_5',\n",
    " 'Flux_pFlaFlw_5',\n",
    " 'Flux_pFlwStG_5',\n",
    " 'Flux_pStGEnG_5',\n",
    " 'Flux_pEnGMat_5',\n",
    " 'Flux_pMatHar_5',\n",
    " 'Flux_pGerEme_6',\n",
    " 'Flux_pEmeEnJ_6',\n",
    " 'Flux_pEnJFlo_6',\n",
    " 'Flux_pFloFla_6',\n",
    " 'Flux_pFlaFlw_6',\n",
    " 'Flux_pFlwStG_6',\n",
    " 'Flux_pStGEnG_6',\n",
    " 'Flux_pEnGMat_6',\n",
    " 'Flux_pMatHar_6',\n",
    " 'Flux_pGerEme_7',\n",
    " 'Flux_pEmeEnJ_7',\n",
    " 'Flux_pEnJFlo_7',\n",
    " 'Flux_pFloFla_7',\n",
    " 'Flux_pFlaFlw_7',\n",
    " 'Flux_pFlwStG_7',\n",
    " 'Flux_pStGEnG_7',\n",
    " 'Flux_pEnGMat_7',\n",
    " 'Flux_pMatHar_7',\n",
    " 'Flux_pGerEme_8',\n",
    " 'Flux_pEmeEnJ_8',\n",
    " 'Flux_pEnJFlo_8',\n",
    " 'Flux_pFloFla_8',\n",
    " 'Flux_pFlaFlw_8',\n",
    " 'Flux_pFlwStG_8',\n",
    " 'Flux_pStGEnG_8',\n",
    " 'Flux_pEnGMat_8',\n",
    " 'Flux_pMatHar_8',\n",
    " 'Flux_pGerEme_9',\n",
    " 'Flux_pEmeEnJ_9',\n",
    " 'Flux_pEnJFlo_9',\n",
    " 'Flux_pFloFla_9',\n",
    " 'Flux_pFlaFlw_9',\n",
    " 'Flux_pFlwStG_9',\n",
    " 'Flux_pStGEnG_9',\n",
    " 'Flux_pEnGMat_9',\n",
    " 'Flux_pMatHar_9',\n",
    " 'Flux_pGerEme_10',\n",
    " 'Flux_pEmeEnJ_10',\n",
    " 'Flux_pEnJFlo_10',\n",
    " 'Flux_pFloFla_10',\n",
    " 'Flux_pFlaFlw_10',\n",
    " 'Flux_pFlwStG_10',\n",
    " 'Flux_pStGEnG_10',\n",
    " 'Flux_pEnGMat_10',\n",
    " 'Flux_pMatHar_10',\n",
    " 'Infiltration_pGerEme',\n",
    " 'Infiltration_pEmeEnJ',\n",
    " 'Infiltration_pEnJFlo',\n",
    " 'Infiltration_pFloFla',\n",
    " 'Infiltration_pFlaFlw',\n",
    " 'Infiltration_pFlwStG',\n",
    " 'Infiltration_pStGEnG',\n",
    " 'Infiltration_pEnGMat',\n",
    " 'Infiltration_pMatHar',\n",
    " 'PAWmm_pGerEme_1',\n",
    " 'PAWmm_pEmeEnJ_1',\n",
    " 'PAWmm_pEnJFlo_1',\n",
    " 'PAWmm_pFloFla_1',\n",
    " 'PAWmm_pFlaFlw_1',\n",
    " 'PAWmm_pFlwStG_1',\n",
    " 'PAWmm_pStGEnG_1',\n",
    " 'PAWmm_pEnGMat_1',\n",
    " 'PAWmm_pMatHar_1',\n",
    " 'PAWmm_pGerEme_2',\n",
    " 'PAWmm_pEmeEnJ_2',\n",
    " 'PAWmm_pEnJFlo_2',\n",
    " 'PAWmm_pFloFla_2',\n",
    " 'PAWmm_pFlaFlw_2',\n",
    " 'PAWmm_pFlwStG_2',\n",
    " 'PAWmm_pStGEnG_2',\n",
    " 'PAWmm_pEnGMat_2',\n",
    " 'PAWmm_pMatHar_2',\n",
    " 'PAWmm_pGerEme_3',\n",
    " 'PAWmm_pEmeEnJ_3',\n",
    " 'PAWmm_pEnJFlo_3',\n",
    " 'PAWmm_pFloFla_3',\n",
    " 'PAWmm_pFlaFlw_3',\n",
    " 'PAWmm_pFlwStG_3',\n",
    " 'PAWmm_pStGEnG_3',\n",
    " 'PAWmm_pEnGMat_3',\n",
    " 'PAWmm_pMatHar_3',\n",
    " 'PAWmm_pGerEme_4',\n",
    " 'PAWmm_pEmeEnJ_4',\n",
    " 'PAWmm_pEnJFlo_4',\n",
    " 'PAWmm_pFloFla_4',\n",
    " 'PAWmm_pFlaFlw_4',\n",
    " 'PAWmm_pFlwStG_4',\n",
    " 'PAWmm_pStGEnG_4',\n",
    " 'PAWmm_pEnGMat_4',\n",
    " 'PAWmm_pMatHar_4',\n",
    " 'PAWmm_pGerEme_5',\n",
    " 'PAWmm_pEmeEnJ_5',\n",
    " 'PAWmm_pEnJFlo_5',\n",
    " 'PAWmm_pFloFla_5',\n",
    " 'PAWmm_pFlaFlw_5',\n",
    " 'PAWmm_pFlwStG_5',\n",
    " 'PAWmm_pStGEnG_5',\n",
    " 'PAWmm_pEnGMat_5',\n",
    " 'PAWmm_pMatHar_5',\n",
    " 'PAWmm_pGerEme_6',\n",
    " 'PAWmm_pEmeEnJ_6',\n",
    " 'PAWmm_pEnJFlo_6',\n",
    " 'PAWmm_pFloFla_6',\n",
    " 'PAWmm_pFlaFlw_6',\n",
    " 'PAWmm_pFlwStG_6',\n",
    " 'PAWmm_pStGEnG_6',\n",
    " 'PAWmm_pEnGMat_6',\n",
    " 'PAWmm_pMatHar_6',\n",
    " 'PAWmm_pGerEme_7',\n",
    " 'PAWmm_pEmeEnJ_7',\n",
    " 'PAWmm_pEnJFlo_7',\n",
    " 'PAWmm_pFloFla_7',\n",
    " 'PAWmm_pFlaFlw_7',\n",
    " 'PAWmm_pFlwStG_7',\n",
    " 'PAWmm_pStGEnG_7',\n",
    " 'PAWmm_pEnGMat_7',\n",
    " 'PAWmm_pMatHar_7',\n",
    " 'PAWmm_pGerEme_8',\n",
    " 'PAWmm_pEmeEnJ_8',\n",
    " 'PAWmm_pEnJFlo_8',\n",
    " 'PAWmm_pFloFla_8',\n",
    " 'PAWmm_pFlaFlw_8',\n",
    " 'PAWmm_pFlwStG_8',\n",
    " 'PAWmm_pStGEnG_8',\n",
    " 'PAWmm_pEnGMat_8',\n",
    " 'PAWmm_pMatHar_8',\n",
    " 'PAWmm_pGerEme_9',\n",
    " 'PAWmm_pEmeEnJ_9',\n",
    " 'PAWmm_pEnJFlo_9',\n",
    " 'PAWmm_pFloFla_9',\n",
    " 'PAWmm_pFlaFlw_9',\n",
    " 'PAWmm_pFlwStG_9',\n",
    " 'PAWmm_pStGEnG_9',\n",
    " 'PAWmm_pEnGMat_9',\n",
    " 'PAWmm_pMatHar_9',\n",
    " 'PAWmm_pGerEme_10',\n",
    " 'PAWmm_pEmeEnJ_10',\n",
    " 'PAWmm_pEnJFlo_10',\n",
    " 'PAWmm_pFloFla_10',\n",
    " 'PAWmm_pFlaFlw_10',\n",
    " 'PAWmm_pFlwStG_10',\n",
    " 'PAWmm_pStGEnG_10',\n",
    " 'PAWmm_pEnGMat_10',\n",
    " 'PAWmm_pMatHar_10',\n",
    " 'PotInf_pGerEme',\n",
    " 'PotInf_pEmeEnJ',\n",
    " 'PotInf_pEnJFlo',\n",
    " 'PotInf_pFloFla',\n",
    " 'PotInf_pFlaFlw',\n",
    " 'PotInf_pFlwStG',\n",
    " 'PotInf_pStGEnG',\n",
    " 'PotInf_pEnGMat',\n",
    " 'PotInf_pMatHar',\n",
    " 'PotRunoff_pGerEme',\n",
    " 'PotRunoff_pEmeEnJ',\n",
    " 'PotRunoff_pEnJFlo',\n",
    " 'PotRunoff_pFloFla',\n",
    " 'PotRunoff_pFlaFlw',\n",
    " 'PotRunoff_pFlwStG',\n",
    " 'PotRunoff_pStGEnG',\n",
    " 'PotRunoff_pEnGMat',\n",
    " 'PotRunoff_pMatHar',\n",
    " 'Runoff_pGerEme',\n",
    " 'Runoff_pEmeEnJ',\n",
    " 'Runoff_pEnJFlo',\n",
    " 'Runoff_pFloFla',\n",
    " 'Runoff_pFlaFlw',\n",
    " 'Runoff_pFlwStG',\n",
    " 'Runoff_pStGEnG',\n",
    " 'Runoff_pEnGMat',\n",
    " 'Runoff_pMatHar',\n",
    " 'SWmm_pGerEme_1',\n",
    " 'SWmm_pEmeEnJ_1',\n",
    " 'SWmm_pEnJFlo_1',\n",
    " 'SWmm_pFloFla_1',\n",
    " 'SWmm_pFlaFlw_1',\n",
    " 'SWmm_pFlwStG_1',\n",
    " 'SWmm_pStGEnG_1',\n",
    " 'SWmm_pEnGMat_1',\n",
    " 'SWmm_pMatHar_1',\n",
    " 'SWmm_pGerEme_2',\n",
    " 'SWmm_pEmeEnJ_2',\n",
    " 'SWmm_pEnJFlo_2',\n",
    " 'SWmm_pFloFla_2',\n",
    " 'SWmm_pFlaFlw_2',\n",
    " 'SWmm_pFlwStG_2',\n",
    " 'SWmm_pStGEnG_2',\n",
    " 'SWmm_pEnGMat_2',\n",
    " 'SWmm_pMatHar_2',\n",
    " 'SWmm_pGerEme_3',\n",
    " 'SWmm_pEmeEnJ_3',\n",
    " 'SWmm_pEnJFlo_3',\n",
    " 'SWmm_pFloFla_3',\n",
    " 'SWmm_pFlaFlw_3',\n",
    " 'SWmm_pFlwStG_3',\n",
    " 'SWmm_pStGEnG_3',\n",
    " 'SWmm_pEnGMat_3',\n",
    " 'SWmm_pMatHar_3',\n",
    " 'SWmm_pGerEme_4',\n",
    " 'SWmm_pEmeEnJ_4',\n",
    " 'SWmm_pEnJFlo_4',\n",
    " 'SWmm_pFloFla_4',\n",
    " 'SWmm_pFlaFlw_4',\n",
    " 'SWmm_pFlwStG_4',\n",
    " 'SWmm_pStGEnG_4',\n",
    " 'SWmm_pEnGMat_4',\n",
    " 'SWmm_pMatHar_4',\n",
    " 'SWmm_pGerEme_5',\n",
    " 'SWmm_pEmeEnJ_5',\n",
    " 'SWmm_pEnJFlo_5',\n",
    " 'SWmm_pFloFla_5',\n",
    " 'SWmm_pFlaFlw_5',\n",
    " 'SWmm_pFlwStG_5',\n",
    " 'SWmm_pStGEnG_5',\n",
    " 'SWmm_pEnGMat_5',\n",
    " 'SWmm_pMatHar_5',\n",
    " 'SWmm_pGerEme_6',\n",
    " 'SWmm_pEmeEnJ_6',\n",
    " 'SWmm_pEnJFlo_6',\n",
    " 'SWmm_pFloFla_6',\n",
    " 'SWmm_pFlaFlw_6',\n",
    " 'SWmm_pFlwStG_6',\n",
    " 'SWmm_pStGEnG_6',\n",
    " 'SWmm_pEnGMat_6',\n",
    " 'SWmm_pMatHar_6',\n",
    " 'SWmm_pGerEme_7',\n",
    " 'SWmm_pEmeEnJ_7',\n",
    " 'SWmm_pEnJFlo_7',\n",
    " 'SWmm_pFloFla_7',\n",
    " 'SWmm_pFlaFlw_7',\n",
    " 'SWmm_pFlwStG_7',\n",
    " 'SWmm_pStGEnG_7',\n",
    " 'SWmm_pEnGMat_7',\n",
    " 'SWmm_pMatHar_7',\n",
    " 'SWmm_pGerEme_8',\n",
    " 'SWmm_pEmeEnJ_8',\n",
    " 'SWmm_pEnJFlo_8',\n",
    " 'SWmm_pFloFla_8',\n",
    " 'SWmm_pFlaFlw_8',\n",
    " 'SWmm_pFlwStG_8',\n",
    " 'SWmm_pStGEnG_8',\n",
    " 'SWmm_pEnGMat_8',\n",
    " 'SWmm_pMatHar_8',\n",
    " 'SWmm_pGerEme_9',\n",
    " 'SWmm_pEmeEnJ_9',\n",
    " 'SWmm_pEnJFlo_9',\n",
    " 'SWmm_pFloFla_9',\n",
    " 'SWmm_pFlaFlw_9',\n",
    " 'SWmm_pFlwStG_9',\n",
    " 'SWmm_pStGEnG_9',\n",
    " 'SWmm_pEnGMat_9',\n",
    " 'SWmm_pMatHar_9',\n",
    " 'SWmm_pGerEme_10',\n",
    " 'SWmm_pEmeEnJ_10',\n",
    " 'SWmm_pEnJFlo_10',\n",
    " 'SWmm_pFloFla_10',\n",
    " 'SWmm_pFlaFlw_10',\n",
    " 'SWmm_pFlwStG_10',\n",
    " 'SWmm_pStGEnG_10',\n",
    " 'SWmm_pEnGMat_10',\n",
    " 'SWmm_pMatHar_10',\n",
    " 'T_pGerEme',\n",
    " 'T_pEmeEnJ',\n",
    " 'T_pEnJFlo',\n",
    " 'T_pFloFla',\n",
    " 'T_pFlaFlw',\n",
    " 'T_pFlwStG',\n",
    " 'T_pStGEnG',\n",
    " 'T_pEnGMat',\n",
    " 'T_pMatHar',\n",
    " 'WaterTable_pGerEme',\n",
    " 'WaterTable_pEmeEnJ',\n",
    " 'WaterTable_pEnJFlo',\n",
    " 'WaterTable_pFloFla',\n",
    " 'WaterTable_pFlaFlw',\n",
    " 'WaterTable_pFlwStG',\n",
    " 'WaterTable_pStGEnG',\n",
    " 'WaterTable_pEnGMat',\n",
    " 'WaterTable_pMatHar',\n",
    " 'CoverGreen_pGerEme',\n",
    " 'CoverGreen_pEmeEnJ',\n",
    " 'CoverGreen_pEnJFlo',\n",
    " 'CoverGreen_pFloFla',\n",
    " 'CoverGreen_pFlaFlw',\n",
    " 'CoverGreen_pFlwStG',\n",
    " 'CoverGreen_pStGEnG',\n",
    " 'CoverGreen_pEnGMat',\n",
    " 'CoverGreen_pMatHar',\n",
    " 'CoverTotal_pGerEme',\n",
    " 'CoverTotal_pEmeEnJ',\n",
    " 'CoverTotal_pEnJFlo',\n",
    " 'CoverTotal_pFloFla',\n",
    " 'CoverTotal_pFlaFlw',\n",
    " 'CoverTotal_pFlwStG',\n",
    " 'CoverTotal_pStGEnG',\n",
    " 'CoverTotal_pEnGMat',\n",
    " 'CoverTotal_pMatHar',\n",
    " 'LAI_pGerEme',\n",
    " 'LAI_pEmeEnJ',\n",
    " 'LAI_pEnJFlo',\n",
    " 'LAI_pFloFla',\n",
    " 'LAI_pFlaFlw',\n",
    " 'LAI_pFlwStG',\n",
    " 'LAI_pStGEnG',\n",
    " 'LAI_pEnGMat',\n",
    " 'LAI_pMatHar',\n",
    " 'AccumulatedTT_pGerEme',\n",
    " 'AccumulatedTT_pEmeEnJ',\n",
    " 'AccumulatedTT_pEnJFlo',\n",
    " 'AccumulatedTT_pFloFla',\n",
    " 'AccumulatedTT_pFlaFlw',\n",
    " 'AccumulatedTT_pFlwStG',\n",
    " 'AccumulatedTT_pStGEnG',\n",
    " 'AccumulatedTT_pEnGMat',\n",
    " 'AccumulatedTT_pMatHar']"
   ]
  },
  {
   "cell_type": "code",
   "execution_count": null,
   "id": "5ea82c01",
   "metadata": {},
   "outputs": [],
   "source": [
    "# all_data = all_data.drop([\"Unnamed: 0\"],1)"
   ]
  },
  {
   "cell_type": "code",
   "execution_count": null,
   "id": "63e1ae79",
   "metadata": {},
   "outputs": [],
   "source": [
    "all_data.head()"
   ]
  },
  {
   "cell_type": "code",
   "execution_count": null,
   "id": "04446eaf",
   "metadata": {},
   "outputs": [],
   "source": [
    "missing_df = all_data.isnull().sum()/all_data.isnull().shape[0]"
   ]
  },
  {
   "cell_type": "code",
   "execution_count": null,
   "id": "056f5537",
   "metadata": {},
   "outputs": [],
   "source": [
    "missing_df = missing_df.reset_index()"
   ]
  },
  {
   "cell_type": "code",
   "execution_count": null,
   "id": "c474a46a",
   "metadata": {},
   "outputs": [],
   "source": [
    "missing_df = missing_df.sort_values(0, ascending = False)"
   ]
  },
  {
   "cell_type": "code",
   "execution_count": null,
   "id": "2dd427a9",
   "metadata": {},
   "outputs": [],
   "source": [
    "missing_df.columns = [\"feature\", \"percentage_missing\"]"
   ]
  },
  {
   "cell_type": "code",
   "execution_count": null,
   "id": "ce64e530",
   "metadata": {},
   "outputs": [],
   "source": [
    "missing_df"
   ]
  },
  {
   "cell_type": "code",
   "execution_count": null,
   "id": "01a1c231",
   "metadata": {},
   "outputs": [],
   "source": [
    "import matplotlib.pyplot as plt\n",
    "import seaborn as sns"
   ]
  },
  {
   "cell_type": "code",
   "execution_count": null,
   "id": "bbe424f0",
   "metadata": {},
   "outputs": [],
   "source": [
    "plt.figure(figsize = (10, 5))\n",
    "sns.histplot(data=missing_df, x=\"percentage_missing\")\n",
    "plt.xticks(rotation = 90)\n",
    "plt.show()"
   ]
  },
  {
   "cell_type": "code",
   "execution_count": null,
   "id": "64a379d6",
   "metadata": {},
   "outputs": [],
   "source": [
    "all_data_test = all_data[all_data[\"train_true\"] == False]"
   ]
  },
  {
   "cell_type": "code",
   "execution_count": null,
   "id": "2d5ad1ad",
   "metadata": {},
   "outputs": [],
   "source": [
    "test_files = all_data_test.isnull().sum()/all_data_test.shape[0]\n",
    "\n",
    "test_files = test_files.reset_index()\n",
    "\n",
    "test_files.columns = [\"feature\", \"missing\"]\n",
    "\n",
    "fiends = test_files[test_files[\"missing\"] == 1][\"feature\"].values\n",
    "\n",
    "fiends"
   ]
  },
  {
   "cell_type": "code",
   "execution_count": null,
   "id": "caa3ffe9",
   "metadata": {},
   "outputs": [],
   "source": [
    "all_data[\"Hybrid\"][0].split(\"/\")[1]"
   ]
  },
  {
   "cell_type": "code",
   "execution_count": null,
   "id": "31273794",
   "metadata": {},
   "outputs": [],
   "source": [
    "all_data[\"Hybrid_Parent1\"] = all_data[\"Hybrid\"].map(lambda x: x.split(\"/\")[0] if len(x.split(\"/\")) > 1 else \"NA\")"
   ]
  },
  {
   "cell_type": "code",
   "execution_count": null,
   "id": "db3c763e",
   "metadata": {},
   "outputs": [],
   "source": [
    "all_data[\"Hybrid_Parent1\"].nunique()"
   ]
  },
  {
   "cell_type": "code",
   "execution_count": null,
   "id": "0359522b",
   "metadata": {},
   "outputs": [],
   "source": [
    "import numpy as np"
   ]
  },
  {
   "cell_type": "code",
   "execution_count": null,
   "id": "a443743d",
   "metadata": {},
   "outputs": [],
   "source": [
    "all_data[\"Hybrid_Parent2\"] = all_data[\"Hybrid\"].map(lambda x: x.split(\"/\")[1] if len(x.split(\"/\")) > 1 else \"NA\")"
   ]
  },
  {
   "cell_type": "code",
   "execution_count": null,
   "id": "117facb3",
   "metadata": {},
   "outputs": [],
   "source": [
    "all_data[\"Hybrid_Parent2\"].nunique()"
   ]
  },
  {
   "cell_type": "code",
   "execution_count": null,
   "id": "4e54c56d",
   "metadata": {},
   "outputs": [],
   "source": [
    "all_data[\"Env\"].nunique()"
   ]
  },
  {
   "cell_type": "code",
   "execution_count": null,
   "id": "6515f292",
   "metadata": {},
   "outputs": [],
   "source": [
    "all_data[\"Hybrid\"].nunique()"
   ]
  },
  {
   "cell_type": "code",
   "execution_count": null,
   "id": "ade698b7",
   "metadata": {},
   "outputs": [],
   "source": [
    "all_data.dtypes.value_counts()"
   ]
  },
  {
   "cell_type": "code",
   "execution_count": null,
   "id": "2b9d92bf",
   "metadata": {},
   "outputs": [],
   "source": [
    "all_data[\"Year\"].value_counts()"
   ]
  },
  {
   "cell_type": "code",
   "execution_count": null,
   "id": "b65efa12",
   "metadata": {},
   "outputs": [],
   "source": [
    "all_data.dtypes[all_data.dtypes == \"int64\"]"
   ]
  },
  {
   "cell_type": "code",
   "execution_count": null,
   "id": "0f345fb1",
   "metadata": {},
   "outputs": [],
   "source": [
    "all_data[all_data.columns[all_data.dtypes == \"object\"]].nunique()"
   ]
  },
  {
   "cell_type": "code",
   "execution_count": null,
   "id": "d5387821",
   "metadata": {},
   "outputs": [],
   "source": [
    "## Hybrid and Hybrid_P1 have too many unique values\n",
    "## get the PCA embeddings for those two\n",
    "## can retain Hybrid_P2"
   ]
  },
  {
   "cell_type": "code",
   "execution_count": null,
   "id": "8627a52b",
   "metadata": {},
   "outputs": [],
   "source": [
    "## Some ideas - maybe PCA/MDS to do dimension reduction on both of the above columns separately\n",
    "## That is reshape in the form of Hybrids, Features_first_col and do PCA/MDS\n",
    "## We might even be able to create some features like counts/means etc.\n",
    "## Or might use the features themselves"
   ]
  },
  {
   "cell_type": "code",
   "execution_count": null,
   "id": "4454eaa8",
   "metadata": {},
   "outputs": [],
   "source": [
    "## read the embedding models"
   ]
  },
  {
   "cell_type": "code",
   "execution_count": null,
   "id": "7061a520",
   "metadata": {},
   "outputs": [],
   "source": [
    "import tensorflow as tf"
   ]
  },
  {
   "cell_type": "code",
   "execution_count": null,
   "id": "c0446f9f",
   "metadata": {},
   "outputs": [],
   "source": [
    "first_col_pca_model = tf.keras.models.load_model(\"first_col_pca_200\")"
   ]
  },
  {
   "cell_type": "code",
   "execution_count": null,
   "id": "22cdb2fb",
   "metadata": {},
   "outputs": [],
   "source": [
    "# first_col_pca_model.summary()"
   ]
  },
  {
   "cell_type": "code",
   "execution_count": null,
   "id": "548d193b",
   "metadata": {},
   "outputs": [],
   "source": [
    "second_col_pca_model = tf.keras.models.load_model(\"second_col_pca_200\")"
   ]
  },
  {
   "cell_type": "code",
   "execution_count": null,
   "id": "c821ce09",
   "metadata": {},
   "outputs": [],
   "source": [
    "# order of Hybrids"
   ]
  },
  {
   "cell_type": "code",
   "execution_count": null,
   "id": "8c5313db",
   "metadata": {},
   "outputs": [],
   "source": [
    "hybrid_order = np.load(\"hybrid_order.npy\",allow_pickle=True)"
   ]
  },
  {
   "cell_type": "code",
   "execution_count": null,
   "id": "8a6ec7e6",
   "metadata": {},
   "outputs": [],
   "source": [
    "hybrid_order"
   ]
  },
  {
   "cell_type": "code",
   "execution_count": null,
   "id": "6c4a8391",
   "metadata": {},
   "outputs": [],
   "source": [
    "hybrid_first_pca_features = first_col_pca_model(hybrid_order)"
   ]
  },
  {
   "cell_type": "code",
   "execution_count": null,
   "id": "e399ff2f",
   "metadata": {},
   "outputs": [],
   "source": [
    "hybrid_first_pca_features.shape"
   ]
  },
  {
   "cell_type": "code",
   "execution_count": null,
   "id": "9a2627c8",
   "metadata": {},
   "outputs": [],
   "source": [
    "hybrid_first_pca_features = hybrid_first_pca_features.numpy()"
   ]
  },
  {
   "cell_type": "code",
   "execution_count": null,
   "id": "c24497ac",
   "metadata": {},
   "outputs": [],
   "source": [
    "hybrid_first_pca_features = hybrid_first_pca_features.reshape(hybrid_first_pca_features.shape[0], hybrid_first_pca_features.shape[2])"
   ]
  },
  {
   "cell_type": "code",
   "execution_count": null,
   "id": "c46f99e6",
   "metadata": {},
   "outputs": [],
   "source": [
    "hybrid_first_pca_features_df = pd.DataFrame(hybrid_first_pca_features)"
   ]
  },
  {
   "cell_type": "code",
   "execution_count": null,
   "id": "534dfd03",
   "metadata": {},
   "outputs": [],
   "source": [
    "hybrid_first_pca_features_df[\"Hybrid\"] = hybrid_order"
   ]
  },
  {
   "cell_type": "code",
   "execution_count": null,
   "id": "3e41fed3",
   "metadata": {},
   "outputs": [],
   "source": [
    "hybrid_first_pca_features_df = hybrid_first_pca_features_df.sort_values([\"Hybrid\"]).reset_index(drop = True)"
   ]
  },
  {
   "cell_type": "code",
   "execution_count": null,
   "id": "f46b1c3e",
   "metadata": {},
   "outputs": [],
   "source": [
    "hybrid_second_pca_features = second_col_pca_model(hybrid_order)"
   ]
  },
  {
   "cell_type": "code",
   "execution_count": null,
   "id": "593a9d5a",
   "metadata": {},
   "outputs": [],
   "source": [
    "hybrid_second_pca_features.shape"
   ]
  },
  {
   "cell_type": "code",
   "execution_count": null,
   "id": "3055a0bb",
   "metadata": {},
   "outputs": [],
   "source": [
    "hybrid_second_pca_features = hybrid_second_pca_features.numpy()"
   ]
  },
  {
   "cell_type": "code",
   "execution_count": null,
   "id": "b93549ce",
   "metadata": {},
   "outputs": [],
   "source": [
    "hybrid_second_pca_features = hybrid_second_pca_features.reshape(hybrid_second_pca_features.shape[0], hybrid_second_pca_features.shape[2])"
   ]
  },
  {
   "cell_type": "code",
   "execution_count": null,
   "id": "c3753a71",
   "metadata": {},
   "outputs": [],
   "source": [
    "hybrid_second_pca_features_df = pd.DataFrame(hybrid_second_pca_features)"
   ]
  },
  {
   "cell_type": "code",
   "execution_count": null,
   "id": "db5e5906",
   "metadata": {},
   "outputs": [],
   "source": [
    "hybrid_second_pca_features_df[\"Hybrid\"] = hybrid_order"
   ]
  },
  {
   "cell_type": "code",
   "execution_count": null,
   "id": "0a7de1d0",
   "metadata": {},
   "outputs": [],
   "source": [
    "hybrid_second_pca_features_df = hybrid_second_pca_features_df.sort_values([\"Hybrid\"]).reset_index(drop = True)"
   ]
  },
  {
   "cell_type": "code",
   "execution_count": null,
   "id": "7c91f493",
   "metadata": {},
   "outputs": [],
   "source": [
    "hybrid_first_second = pd.concat([hybrid_first_pca_features_df.drop(\"Hybrid\",1), hybrid_second_pca_features_df], 1, ignore_index = True)"
   ]
  },
  {
   "cell_type": "code",
   "execution_count": null,
   "id": "45e6c06d",
   "metadata": {},
   "outputs": [],
   "source": [
    "hybrid_first_second.shape"
   ]
  },
  {
   "cell_type": "code",
   "execution_count": null,
   "id": "ab3f5540",
   "metadata": {},
   "outputs": [],
   "source": [
    "order = hybrid_first_second.iloc[:,-1].values"
   ]
  },
  {
   "cell_type": "code",
   "execution_count": null,
   "id": "bbaebd20",
   "metadata": {},
   "outputs": [],
   "source": [
    "hybrid_first_second = hybrid_first_second.iloc[:,:-1]"
   ]
  },
  {
   "cell_type": "code",
   "execution_count": null,
   "id": "ba67796c",
   "metadata": {},
   "outputs": [],
   "source": [
    "hybrid_first_second_cols = [\"Genome_Feature_\" + str(i+1) for i in range(0, hybrid_first_second.shape[1])]"
   ]
  },
  {
   "cell_type": "code",
   "execution_count": null,
   "id": "cac83193",
   "metadata": {},
   "outputs": [],
   "source": [
    "hybrid_first_second.columns = hybrid_first_second_cols"
   ]
  },
  {
   "cell_type": "code",
   "execution_count": null,
   "id": "c8157da2",
   "metadata": {},
   "outputs": [],
   "source": [
    "hybrid_first_second[\"Hybrid\"] = order"
   ]
  },
  {
   "cell_type": "code",
   "execution_count": null,
   "id": "6662e7fa",
   "metadata": {},
   "outputs": [],
   "source": [
    "hybrid_first_second"
   ]
  },
  {
   "cell_type": "code",
   "execution_count": null,
   "id": "134bf64f",
   "metadata": {},
   "outputs": [],
   "source": [
    "hybrid_cols = hybrid_first_second.columns[:-1].tolist()"
   ]
  },
  {
   "cell_type": "code",
   "execution_count": null,
   "id": "0414fe0e",
   "metadata": {},
   "outputs": [],
   "source": [
    "all_data.head()"
   ]
  },
  {
   "cell_type": "code",
   "execution_count": null,
   "id": "11571e7b",
   "metadata": {},
   "outputs": [],
   "source": [
    "all_data = all_data.merge(hybrid_first_second, how = \"left\", on = \"Hybrid\")"
   ]
  },
  {
   "cell_type": "code",
   "execution_count": null,
   "id": "481f3e01",
   "metadata": {},
   "outputs": [],
   "source": [
    "all_data.shape"
   ]
  },
  {
   "cell_type": "code",
   "execution_count": null,
   "id": "6a8add92",
   "metadata": {},
   "outputs": [],
   "source": [
    "all_data.head()"
   ]
  },
  {
   "cell_type": "code",
   "execution_count": null,
   "id": "99ac6844",
   "metadata": {},
   "outputs": [],
   "source": [
    "all_data.dtypes.value_counts()"
   ]
  },
  {
   "cell_type": "code",
   "execution_count": null,
   "id": "59d31d44",
   "metadata": {},
   "outputs": [],
   "source": [
    "cat_columns = all_data.columns[all_data.dtypes == object]"
   ]
  },
  {
   "cell_type": "code",
   "execution_count": null,
   "id": "943309b9",
   "metadata": {},
   "outputs": [],
   "source": [
    "# all_data[list(cat_columns)] = all_data[list(cat_columns)].fillna(\"not_avail\").astype(str).values"
   ]
  },
  {
   "cell_type": "code",
   "execution_count": null,
   "id": "80df0a38",
   "metadata": {},
   "outputs": [],
   "source": [
    "# to_drop_cat = [\"Hybrid\", \"Hybrid_Parent1\"]"
   ]
  },
  {
   "cell_type": "code",
   "execution_count": null,
   "id": "358ddf19",
   "metadata": {},
   "outputs": [],
   "source": [
    "to_drop_cat = [ \"Hybrid_Parent1\"]"
   ]
  },
  {
   "cell_type": "code",
   "execution_count": null,
   "id": "0cfc7183",
   "metadata": {},
   "outputs": [],
   "source": [
    "to_drop_id = [\"train_true\"]"
   ]
  },
  {
   "cell_type": "code",
   "execution_count": null,
   "id": "22f734a7",
   "metadata": {},
   "outputs": [],
   "source": [
    "target = [\"Yield_Mg_ha\"]"
   ]
  },
  {
   "cell_type": "code",
   "execution_count": null,
   "id": "af1ac70b",
   "metadata": {},
   "outputs": [],
   "source": [
    "all_data_test = all_data[all_data[\"train_true\"] == False]"
   ]
  },
  {
   "cell_type": "code",
   "execution_count": null,
   "id": "8b50ece7",
   "metadata": {},
   "outputs": [],
   "source": [
    "test_order = all_data_test[[\"Env\", \"Hybrid\"]].values"
   ]
  },
  {
   "cell_type": "code",
   "execution_count": null,
   "id": "c296a410",
   "metadata": {},
   "outputs": [],
   "source": [
    "all_data = all_data.drop(to_drop_cat,1)"
   ]
  },
  {
   "cell_type": "code",
   "execution_count": null,
   "id": "96e197df",
   "metadata": {},
   "outputs": [],
   "source": [
    "# all_data = all_data.dropna(subset = [\"Yield_Mg_ha\"])"
   ]
  },
  {
   "cell_type": "code",
   "execution_count": null,
   "id": "c26f6f8d",
   "metadata": {},
   "outputs": [],
   "source": [
    "# all_data"
   ]
  },
  {
   "cell_type": "code",
   "execution_count": null,
   "id": "debe811c",
   "metadata": {},
   "outputs": [],
   "source": [
    "all_data_train, all_data_test = all_data[all_data[\"train_true\"] == True], all_data[all_data[\"train_true\"] == False]"
   ]
  },
  {
   "cell_type": "code",
   "execution_count": null,
   "id": "ee4e1126",
   "metadata": {},
   "outputs": [],
   "source": [
    "all_data_train, all_data_test = all_data_train.drop([\"train_true\"],1), all_data_test.drop([\"train_true\"],1)"
   ]
  },
  {
   "cell_type": "code",
   "execution_count": null,
   "id": "1b5f0dba",
   "metadata": {},
   "outputs": [],
   "source": [
    "all_data_test.shape"
   ]
  },
  {
   "cell_type": "code",
   "execution_count": null,
   "id": "e1344970",
   "metadata": {},
   "outputs": [],
   "source": [
    "# train_trait[train_trait.columns[train_trait.dtypes == \"object\"]].nunique()"
   ]
  },
  {
   "cell_type": "code",
   "execution_count": null,
   "id": "8f6017fe",
   "metadata": {},
   "outputs": [],
   "source": [
    "# train_trait = train_trait.drop([\"Hybrid\", \"Hybrid_Parent1\" ,\"Hybrid_orig_name\", \"Hybrid_Parent2\", \"Date_Planted\", \"Date_Harvested\"],1)"
   ]
  },
  {
   "cell_type": "code",
   "execution_count": null,
   "id": "e132cabd",
   "metadata": {},
   "outputs": [],
   "source": [
    "# all_data_train = all_data_train.merge(train_trait, how = \"left\", on = [\"Env\", \"Yield_Mg_ha\"])"
   ]
  },
  {
   "cell_type": "code",
   "execution_count": null,
   "id": "0b3be543",
   "metadata": {},
   "outputs": [],
   "source": [
    "# all_data_train.shape"
   ]
  },
  {
   "cell_type": "code",
   "execution_count": null,
   "id": "7ff95deb",
   "metadata": {},
   "outputs": [],
   "source": [
    "# all_data_train = all_data_train.dropna(subset = [\"Yield_Mg_ha\"])"
   ]
  },
  {
   "cell_type": "code",
   "execution_count": null,
   "id": "bfaba6c1",
   "metadata": {},
   "outputs": [],
   "source": [
    "# all_data_train.shape"
   ]
  },
  {
   "cell_type": "code",
   "execution_count": null,
   "id": "4b217bf2",
   "metadata": {},
   "outputs": [],
   "source": [
    "# all_data_train"
   ]
  },
  {
   "cell_type": "code",
   "execution_count": null,
   "id": "5dc74ac6",
   "metadata": {},
   "outputs": [],
   "source": [
    "all_data_train, all_data_valid = all_data_train[all_data_train[\"Year\"] < 2021], all_data_train[all_data_train[\"Year\"] == 2021]"
   ]
  },
  {
   "cell_type": "code",
   "execution_count": null,
   "id": "9821e977",
   "metadata": {},
   "outputs": [],
   "source": [
    "all_data_train, all_data_valid = all_data_train.dropna(subset = [\"Yield_Mg_ha\"]), all_data_valid.dropna(subset = [\"Yield_Mg_ha\"])"
   ]
  },
  {
   "cell_type": "code",
   "execution_count": null,
   "id": "d05f27e7",
   "metadata": {},
   "outputs": [],
   "source": [
    "# all_data_train = all_data_train.drop([\"Year\"],1)"
   ]
  },
  {
   "cell_type": "code",
   "execution_count": null,
   "id": "84eda875",
   "metadata": {},
   "outputs": [],
   "source": [
    "all_data_train_x, all_data_test_x, all_data_valid_x = all_data_train.drop(target,1), all_data_test.drop(target,1), all_data_valid.drop(target,1)"
   ]
  },
  {
   "cell_type": "code",
   "execution_count": null,
   "id": "b9a8bb2b",
   "metadata": {},
   "outputs": [],
   "source": [
    "all_data_train_y, all_data_test_y, all_data_valid_y = all_data_train[target], all_data_test[target], all_data_valid[target]"
   ]
  },
  {
   "cell_type": "code",
   "execution_count": null,
   "id": "90662017",
   "metadata": {},
   "outputs": [],
   "source": [
    "all_data_train_x.shape, all_data_test_x.shape, all_data_valid_x.shape"
   ]
  },
  {
   "cell_type": "code",
   "execution_count": null,
   "id": "07ceccde",
   "metadata": {},
   "outputs": [],
   "source": [
    "# all_data_train_x[\"Year\"].value_counts()"
   ]
  },
  {
   "cell_type": "code",
   "execution_count": null,
   "id": "a6296693",
   "metadata": {},
   "outputs": [],
   "source": [
    "# all_data_train_x, all_data_valid_x = all_data_train_x[all_data_train_x[\"Year\"] < 2021], all_data_train_x[all_data_train_x[\"Year\"] == 2021]"
   ]
  },
  {
   "cell_type": "code",
   "execution_count": null,
   "id": "8950b94b",
   "metadata": {},
   "outputs": [],
   "source": [
    "all_data_train_y.shape, all_data_test_y.shape, all_data_valid_y.shape"
   ]
  },
  {
   "cell_type": "code",
   "execution_count": null,
   "id": "5fd8dbdc",
   "metadata": {},
   "outputs": [],
   "source": [
    "to_drop = [\"Hybrid_orig_name\", \"Hybrid_Parent1\", \"Date_Harvested\", \"Date_Planted\"]\n",
    "\n",
    "# all_data_train_valid_x = all_data_train_valid_x.drop(to_drop,1)"
   ]
  },
  {
   "cell_type": "code",
   "execution_count": null,
   "id": "883fe1e4",
   "metadata": {},
   "outputs": [],
   "source": [
    "# all_data_train_x, all_data_test_x, all_data_valid_x = all_data_train_x.drop(to_drop,1), all_data_test_x.drop(to_drop,1), all_data_valid_x.drop(to_drop,1)"
   ]
  },
  {
   "cell_type": "code",
   "execution_count": null,
   "id": "62407056",
   "metadata": {},
   "outputs": [],
   "source": [
    "cat_columns = all_data_train_x.columns[all_data_train_x.dtypes == \"object\"]"
   ]
  },
  {
   "cell_type": "code",
   "execution_count": null,
   "id": "f5b1adeb",
   "metadata": {},
   "outputs": [],
   "source": [
    "cat_columns = [col for col in cat_columns if col not in to_drop]"
   ]
  },
  {
   "cell_type": "code",
   "execution_count": null,
   "id": "1abc4bb1",
   "metadata": {},
   "outputs": [],
   "source": [
    "num_columns = all_data_train_x.columns[all_data_train_x.dtypes != \"object\"]"
   ]
  },
  {
   "cell_type": "code",
   "execution_count": null,
   "id": "f64e5341",
   "metadata": {},
   "outputs": [],
   "source": [
    "# all_data_train_x[num_columns] = all_data_train_x[num_columns].astype(\"float32\")"
   ]
  },
  {
   "cell_type": "code",
   "execution_count": null,
   "id": "97bf64c7",
   "metadata": {},
   "outputs": [],
   "source": [
    "# all_data_train_x[cat_columns] = all_data_train_x[cat_columns].astype(object)"
   ]
  },
  {
   "cell_type": "code",
   "execution_count": null,
   "id": "fc88b4af",
   "metadata": {},
   "outputs": [],
   "source": [
    "# all_data_test_x[num_columns] = all_data_test_x[num_columns].astype(\"float32\")"
   ]
  },
  {
   "cell_type": "code",
   "execution_count": null,
   "id": "57b79066",
   "metadata": {},
   "outputs": [],
   "source": [
    "# all_data_test_x[cat_columns] = all_data_test_x[cat_columns].astype(object)"
   ]
  },
  {
   "cell_type": "code",
   "execution_count": null,
   "id": "737fe1d3",
   "metadata": {},
   "outputs": [],
   "source": [
    "all_data_train_x.columns[all_data_train_x.dtypes == object]"
   ]
  },
  {
   "cell_type": "code",
   "execution_count": null,
   "id": "6ebd0779",
   "metadata": {},
   "outputs": [],
   "source": [
    "all_data_train_x[cat_columns].nunique()"
   ]
  },
  {
   "cell_type": "code",
   "execution_count": null,
   "id": "aa27d079",
   "metadata": {},
   "outputs": [],
   "source": [
    "all_data_valid_x.isnull().sum()/all_data_valid_x.shape[0]"
   ]
  },
  {
   "cell_type": "code",
   "execution_count": null,
   "id": "5a2fd047",
   "metadata": {},
   "outputs": [],
   "source": [
    "test_files = all_data_test.isnull().sum()/all_data_test.shape[0]"
   ]
  },
  {
   "cell_type": "code",
   "execution_count": null,
   "id": "6bc615ad",
   "metadata": {},
   "outputs": [],
   "source": [
    "test_files = test_files.reset_index()"
   ]
  },
  {
   "cell_type": "code",
   "execution_count": null,
   "id": "60e2a8af",
   "metadata": {},
   "outputs": [],
   "source": [
    "test_files.columns = [\"feature\", \"missing\"]"
   ]
  },
  {
   "cell_type": "code",
   "execution_count": null,
   "id": "c2bc57ed",
   "metadata": {},
   "outputs": [],
   "source": [
    "fiends = test_files[test_files[\"missing\"] == 1][\"feature\"].values"
   ]
  },
  {
   "cell_type": "code",
   "execution_count": null,
   "id": "496d3af6",
   "metadata": {},
   "outputs": [],
   "source": [
    "fiends"
   ]
  },
  {
   "cell_type": "code",
   "execution_count": null,
   "id": "17cefcb6",
   "metadata": {},
   "outputs": [],
   "source": [
    "all_data_train_x.shape"
   ]
  },
  {
   "cell_type": "code",
   "execution_count": null,
   "id": "02528897",
   "metadata": {},
   "outputs": [],
   "source": [
    "# all_data_train_x, all_data_test_x, all_data_valid_x"
   ]
  },
  {
   "cell_type": "code",
   "execution_count": null,
   "id": "2ea65fde",
   "metadata": {},
   "outputs": [],
   "source": [
    "all_data_train_y.shape, all_data_test_y.shape, all_data_valid_y.shape"
   ]
  },
  {
   "cell_type": "code",
   "execution_count": null,
   "id": "bfabea03",
   "metadata": {},
   "outputs": [],
   "source": [
    "import os"
   ]
  },
  {
   "cell_type": "code",
   "execution_count": null,
   "id": "64d0155d",
   "metadata": {},
   "outputs": [],
   "source": [
    "os.getcwd()"
   ]
  },
  {
   "cell_type": "code",
   "execution_count": null,
   "id": "25ac86a1",
   "metadata": {},
   "outputs": [],
   "source": [
    "all_data_train_x.to_csv(\"train_b1.csv\", index = False)"
   ]
  },
  {
   "cell_type": "code",
   "execution_count": null,
   "id": "585c2dcc",
   "metadata": {},
   "outputs": [],
   "source": [
    "all_data_test_x.to_csv(\"test_b1.csv\", index = False)"
   ]
  },
  {
   "cell_type": "code",
   "execution_count": null,
   "id": "0ed97914",
   "metadata": {},
   "outputs": [],
   "source": [
    "all_data_valid_x.to_csv(\"valid_b1.csv\", index = False)"
   ]
  },
  {
   "cell_type": "code",
   "execution_count": null,
   "id": "1f882abe",
   "metadata": {},
   "outputs": [],
   "source": [
    "all_data_train_y.to_csv(\"train_b1_target.csv\", index = False)"
   ]
  },
  {
   "cell_type": "code",
   "execution_count": null,
   "id": "7cc2dd2c",
   "metadata": {},
   "outputs": [],
   "source": [
    "all_data_test_y.to_csv(\"test_b1_target.csv\", index = False)"
   ]
  },
  {
   "cell_type": "code",
   "execution_count": null,
   "id": "72a4a323",
   "metadata": {},
   "outputs": [],
   "source": [
    "all_data_valid_y.to_csv(\"valid_b1_target.csv\", index = False)"
   ]
  },
  {
   "cell_type": "code",
   "execution_count": null,
   "id": "38f1eca9",
   "metadata": {},
   "outputs": [],
   "source": [
    "pd.DataFrame(trait_cols).to_csv(\"trait_cols.csv\", index = False)"
   ]
  },
  {
   "cell_type": "code",
   "execution_count": null,
   "id": "cc666c58",
   "metadata": {},
   "outputs": [],
   "source": [
    "pd.DataFrame(meta_cols).to_csv(\"meta_cols.csv\", index = False)"
   ]
  },
  {
   "cell_type": "code",
   "execution_count": null,
   "id": "d9c42bbc",
   "metadata": {},
   "outputs": [],
   "source": [
    "pd.DataFrame(soil_columns).to_csv(\"soil_columns.csv\", index = False)"
   ]
  },
  {
   "cell_type": "code",
   "execution_count": null,
   "id": "47176e51",
   "metadata": {},
   "outputs": [],
   "source": [
    "pd.DataFrame(weather_cols).to_csv(\"weather_cols.csv\", index = False)"
   ]
  },
  {
   "cell_type": "code",
   "execution_count": null,
   "id": "a3f52f74",
   "metadata": {},
   "outputs": [],
   "source": [
    "pd.DataFrame(EC_cols).to_csv(\"EC_cols.csv\", index = False)"
   ]
  },
  {
   "cell_type": "code",
   "execution_count": null,
   "id": "6aafbb7b",
   "metadata": {},
   "outputs": [],
   "source": [
    "pd.DataFrame(hybrid_cols).to_csv(\"hybrid_cols.csv\", index = False)"
   ]
  },
  {
   "cell_type": "code",
   "execution_count": null,
   "id": "0204d275",
   "metadata": {},
   "outputs": [],
   "source": [
    "# preprocessor.fit(all_data_train_x)"
   ]
  },
  {
   "cell_type": "code",
   "execution_count": null,
   "id": "063d0f4f",
   "metadata": {},
   "outputs": [],
   "source": [
    "# all_data_train_x = preprocessor.transform(all_data_train_x)"
   ]
  },
  {
   "cell_type": "code",
   "execution_count": null,
   "id": "93043b32",
   "metadata": {},
   "outputs": [],
   "source": [
    "# all_data_valid_x = preprocessor.transform(all_data_valid_x)"
   ]
  },
  {
   "cell_type": "code",
   "execution_count": null,
   "id": "8b9bb459",
   "metadata": {},
   "outputs": [],
   "source": [
    "# numeric_transformer.fit(all_data_train_x[list(num_columns)].values)"
   ]
  },
  {
   "cell_type": "code",
   "execution_count": null,
   "id": "c1de2902",
   "metadata": {},
   "outputs": [],
   "source": [
    "# reg = Pipeline(\n",
    "#     steps=[(\"regressor\", ElasticNet())]\n",
    "# )\n"
   ]
  },
  {
   "cell_type": "code",
   "execution_count": null,
   "id": "e9979dc8",
   "metadata": {},
   "outputs": [],
   "source": [
    "# all_data_train_x.shape"
   ]
  },
  {
   "cell_type": "code",
   "execution_count": null,
   "id": "155eeb53",
   "metadata": {},
   "outputs": [],
   "source": [
    "# from sklearn.decomposition import PCA"
   ]
  },
  {
   "cell_type": "code",
   "execution_count": null,
   "id": "750556d1",
   "metadata": {},
   "outputs": [],
   "source": [
    "# pca = PCA(n_components = 512)"
   ]
  },
  {
   "cell_type": "code",
   "execution_count": null,
   "id": "1cbadf88",
   "metadata": {},
   "outputs": [],
   "source": [
    "# all_data_train_x = pca.fit_transform(all_data_train_x)"
   ]
  },
  {
   "cell_type": "code",
   "execution_count": null,
   "id": "26a7a28f",
   "metadata": {},
   "outputs": [],
   "source": [
    "# all_data_valid_x = pca.transform(all_data_valid_x)"
   ]
  },
  {
   "cell_type": "code",
   "execution_count": null,
   "id": "b874e283",
   "metadata": {},
   "outputs": [],
   "source": [
    "# input_layer = tf.keras.layers.Input(shape = (all_data_train_x.shape[1],))\n",
    "# hidden_layer = tf.keras.layers.Dense(all_data_train_x.shape[1]//64)\n",
    "# hidden_output = hidden_layer(input_layer)\n",
    "# final_layer = tf.keras.layers.Dense(1, activation = \"relu\")\n",
    "# final_output = final_layer(hidden_output)\n",
    "# model = tf.keras.models.Model(input_layer, final_output)"
   ]
  },
  {
   "cell_type": "code",
   "execution_count": null,
   "id": "e3a18411",
   "metadata": {},
   "outputs": [],
   "source": [
    "# model.summary()"
   ]
  },
  {
   "cell_type": "code",
   "execution_count": null,
   "id": "1dd3efe4",
   "metadata": {},
   "outputs": [],
   "source": [
    "# model.compile(loss = \"mse\", optimizer = tf.keras.optimizers.Adam(1e-1), metrics = tf.keras.metrics.RootMeanSquaredError())"
   ]
  },
  {
   "cell_type": "code",
   "execution_count": null,
   "id": "b5cc03bf",
   "metadata": {
    "scrolled": false
   },
   "outputs": [],
   "source": [
    "# model.fit(all_data_train_x, all_data_train_y, epochs = 1000, batch_size = 32, \n",
    "#          callbacks=tf.keras.callbacks.EarlyStopping(monitor = \"val_loss\", patience = 30, restore_best_weights=True), \n",
    "#          validation_data=(all_data_valid_x, all_data_valid_y), shuffle = True, verbose = 1)"
   ]
  },
  {
   "cell_type": "code",
   "execution_count": null,
   "id": "f01aa8f5",
   "metadata": {},
   "outputs": [],
   "source": [
    "# all_data_test.shape"
   ]
  },
  {
   "cell_type": "code",
   "execution_count": null,
   "id": "d7a23cbb",
   "metadata": {},
   "outputs": [],
   "source": [
    "# all_data_test.drop_duplicates().shape"
   ]
  },
  {
   "cell_type": "code",
   "execution_count": null,
   "id": "e4ba6f3f",
   "metadata": {},
   "outputs": [],
   "source": [
    "# all_data_test.head(10)"
   ]
  }
 ],
 "metadata": {
  "kernelspec": {
   "display_name": "newone1",
   "language": "python",
   "name": "newone1"
  },
  "language_info": {
   "codemirror_mode": {
    "name": "ipython",
    "version": 3
   },
   "file_extension": ".py",
   "mimetype": "text/x-python",
   "name": "python",
   "nbconvert_exporter": "python",
   "pygments_lexer": "ipython3",
   "version": "3.9.12"
  }
 },
 "nbformat": 4,
 "nbformat_minor": 5
}
