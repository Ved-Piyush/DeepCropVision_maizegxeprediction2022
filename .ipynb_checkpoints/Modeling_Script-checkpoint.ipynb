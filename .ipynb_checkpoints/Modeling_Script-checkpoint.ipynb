{
 "cells": [
  {
   "cell_type": "code",
   "execution_count": null,
   "id": "126befd5",
   "metadata": {},
   "outputs": [],
   "source": [
    "import pandas as pd"
   ]
  },
  {
   "cell_type": "code",
   "execution_count": null,
   "id": "53241acd",
   "metadata": {},
   "outputs": [],
   "source": [
    "import pandas as pd\n",
    "pd.set_option('display.max_columns', None)"
   ]
  },
  {
   "cell_type": "code",
   "execution_count": null,
   "id": "054f1a5c",
   "metadata": {},
   "outputs": [],
   "source": [
    "train_data = pd.read_csv(\"train_b1.csv\")"
   ]
  },
  {
   "cell_type": "code",
   "execution_count": null,
   "id": "78ed05cd",
   "metadata": {},
   "outputs": [],
   "source": [
    "test_data = pd.read_csv(\"test_b1.csv\")"
   ]
  },
  {
   "cell_type": "code",
   "execution_count": null,
   "id": "48a8e0ce",
   "metadata": {},
   "outputs": [],
   "source": [
    "test_data.head()"
   ]
  },
  {
   "cell_type": "code",
   "execution_count": null,
   "id": "6829cd41",
   "metadata": {},
   "outputs": [],
   "source": [
    "test_data[\"Field_Location\"] = test_data[\"Env\"].map(lambda x: x.split(\"_\")[0])"
   ]
  },
  {
   "cell_type": "code",
   "execution_count": null,
   "id": "76b27a32",
   "metadata": {},
   "outputs": [],
   "source": [
    "valid_data = pd.read_csv(\"valid_b1.csv\")"
   ]
  },
  {
   "cell_type": "code",
   "execution_count": null,
   "id": "5f9eeb59",
   "metadata": {},
   "outputs": [],
   "source": [
    "train_target = pd.read_csv(\"train_b1_target.csv\")"
   ]
  },
  {
   "cell_type": "code",
   "execution_count": null,
   "id": "5e7cd14c",
   "metadata": {},
   "outputs": [],
   "source": [
    "valid_target = pd.read_csv(\"valid_b1_target.csv\")"
   ]
  },
  {
   "cell_type": "code",
   "execution_count": null,
   "id": "56efc357",
   "metadata": {},
   "outputs": [],
   "source": [
    "test_target = pd.read_csv(\"test_b1_target.csv\")"
   ]
  },
  {
   "cell_type": "code",
   "execution_count": null,
   "id": "1a872a3f",
   "metadata": {},
   "outputs": [],
   "source": [
    "trait_cols = pd.read_csv(\"trait_cols.csv\")"
   ]
  },
  {
   "cell_type": "code",
   "execution_count": null,
   "id": "f4ffad75",
   "metadata": {},
   "outputs": [],
   "source": [
    "meta_cols = pd.read_csv(\"meta_cols.csv\")"
   ]
  },
  {
   "cell_type": "code",
   "execution_count": null,
   "id": "603f17c6",
   "metadata": {},
   "outputs": [],
   "source": [
    "meta_cols = pd.DataFrame(list(set(meta_cols.iloc[:,0].values).difference([\"Year\", \"Env\"])))"
   ]
  },
  {
   "cell_type": "code",
   "execution_count": null,
   "id": "f74b57c1",
   "metadata": {},
   "outputs": [],
   "source": [
    "soil_columns = pd.read_csv(\"soil_columns.csv\")"
   ]
  },
  {
   "cell_type": "code",
   "execution_count": null,
   "id": "7bf8b536",
   "metadata": {},
   "outputs": [],
   "source": [
    "soil_columns = pd.DataFrame(list(set(soil_columns.iloc[:,0].values).difference([\"Year\", \"Env\"])))"
   ]
  },
  {
   "cell_type": "code",
   "execution_count": null,
   "id": "61620ae8",
   "metadata": {},
   "outputs": [],
   "source": [
    "weather_cols = pd.read_csv(\"weather_cols.csv\")"
   ]
  },
  {
   "cell_type": "code",
   "execution_count": null,
   "id": "40944811",
   "metadata": {},
   "outputs": [],
   "source": [
    "weather_cols = pd.DataFrame(list(set(weather_cols.iloc[:,0].values).difference([\"Year\", \"Env\"])))"
   ]
  },
  {
   "cell_type": "code",
   "execution_count": null,
   "id": "3f223490",
   "metadata": {},
   "outputs": [],
   "source": [
    "EC_cols = pd.read_csv(\"EC_cols.csv\")"
   ]
  },
  {
   "cell_type": "code",
   "execution_count": null,
   "id": "898818bf",
   "metadata": {},
   "outputs": [],
   "source": [
    "EC_cols = pd.DataFrame(list(set(EC_cols.iloc[:,0].values).difference([\"Year\", \"Env\"])))"
   ]
  },
  {
   "cell_type": "code",
   "execution_count": null,
   "id": "bdab3e81",
   "metadata": {},
   "outputs": [],
   "source": [
    "hybrid_cols = pd.read_csv(\"hybrid_cols.csv\")"
   ]
  },
  {
   "cell_type": "code",
   "execution_count": null,
   "id": "dcb41e02",
   "metadata": {},
   "outputs": [],
   "source": [
    "hybrid_cols = pd.DataFrame(list(set(hybrid_cols.iloc[:,0].values).difference([\"Year\", \"Env\"])))"
   ]
  },
  {
   "cell_type": "code",
   "execution_count": null,
   "id": "e10ff84d",
   "metadata": {},
   "outputs": [],
   "source": [
    "from sklearn.preprocessing import StandardScaler, OneHotEncoder, OrdinalEncoder"
   ]
  },
  {
   "cell_type": "code",
   "execution_count": null,
   "id": "d4c89621",
   "metadata": {},
   "outputs": [],
   "source": [
    "categorical_transformer = OneHotEncoder(handle_unknown=\"ignore\")"
   ]
  },
  {
   "cell_type": "code",
   "execution_count": null,
   "id": "e9aceeab",
   "metadata": {},
   "outputs": [],
   "source": [
    "cat_cols = train_data.columns[train_data.dtypes == object].tolist()"
   ]
  },
  {
   "cell_type": "code",
   "execution_count": null,
   "id": "3352ebf2",
   "metadata": {},
   "outputs": [],
   "source": [
    "num_cols = train_data.columns[train_data.dtypes != object].tolist()"
   ]
  },
  {
   "cell_type": "code",
   "execution_count": null,
   "id": "d4a18784",
   "metadata": {},
   "outputs": [],
   "source": [
    "num_cols = [col for col in num_cols if col != \"Year\"]"
   ]
  },
  {
   "cell_type": "code",
   "execution_count": null,
   "id": "0e371f2c",
   "metadata": {},
   "outputs": [],
   "source": [
    "train_data.head()"
   ]
  },
  {
   "cell_type": "code",
   "execution_count": null,
   "id": "e937bc7a",
   "metadata": {},
   "outputs": [],
   "source": [
    "train_data[cat_cols].nunique()"
   ]
  },
  {
   "cell_type": "code",
   "execution_count": null,
   "id": "646de22e",
   "metadata": {},
   "outputs": [],
   "source": [
    "not_these_cat = [\"Hybrid_orig_name\", \"Hybrid_Parent1\", \"Date_Planted\", \"Date_Harvested\", \"Hybrid\", \"Env\"]"
   ]
  },
  {
   "cell_type": "code",
   "execution_count": null,
   "id": "ceffbecc",
   "metadata": {},
   "outputs": [],
   "source": [
    "cat_cols = list(set(cat_cols).difference(not_these_cat))"
   ]
  },
  {
   "cell_type": "code",
   "execution_count": null,
   "id": "c94d56b5",
   "metadata": {},
   "outputs": [],
   "source": [
    "categorical_transformer.fit(train_data[cat_cols].values.astype(str))"
   ]
  },
  {
   "cell_type": "code",
   "execution_count": null,
   "id": "5e645564",
   "metadata": {},
   "outputs": [],
   "source": [
    "transformed_cat_cols = categorical_transformer.get_feature_names_out(cat_cols)"
   ]
  },
  {
   "cell_type": "code",
   "execution_count": null,
   "id": "259f0366",
   "metadata": {},
   "outputs": [],
   "source": [
    "# transformed_cat_cols"
   ]
  },
  {
   "cell_type": "code",
   "execution_count": null,
   "id": "99685d09",
   "metadata": {},
   "outputs": [],
   "source": [
    "train_data_cat = categorical_transformer.transform(train_data[cat_cols].values).toarray()"
   ]
  },
  {
   "cell_type": "code",
   "execution_count": null,
   "id": "4d4a6de3",
   "metadata": {},
   "outputs": [],
   "source": [
    "train_data_cat = pd.DataFrame(train_data_cat) "
   ]
  },
  {
   "cell_type": "code",
   "execution_count": null,
   "id": "749edadf",
   "metadata": {},
   "outputs": [],
   "source": [
    "train_data_cat.columns = transformed_cat_cols"
   ]
  },
  {
   "cell_type": "code",
   "execution_count": null,
   "id": "65659047",
   "metadata": {},
   "outputs": [],
   "source": [
    "valid_data_cat = categorical_transformer.transform(valid_data[cat_cols].values).toarray()"
   ]
  },
  {
   "cell_type": "code",
   "execution_count": null,
   "id": "f121583c",
   "metadata": {},
   "outputs": [],
   "source": [
    "valid_data_cat = pd.DataFrame(valid_data_cat) "
   ]
  },
  {
   "cell_type": "code",
   "execution_count": null,
   "id": "df16bf89",
   "metadata": {},
   "outputs": [],
   "source": [
    "valid_data_cat.columns = transformed_cat_cols"
   ]
  },
  {
   "cell_type": "code",
   "execution_count": null,
   "id": "2cff76b4",
   "metadata": {},
   "outputs": [],
   "source": [
    "test_data_cat = categorical_transformer.transform(test_data[cat_cols].values).toarray()"
   ]
  },
  {
   "cell_type": "code",
   "execution_count": null,
   "id": "0b504939",
   "metadata": {},
   "outputs": [],
   "source": [
    "test_data_cat = pd.DataFrame(test_data_cat) "
   ]
  },
  {
   "cell_type": "code",
   "execution_count": null,
   "id": "762c69ec",
   "metadata": {},
   "outputs": [],
   "source": [
    "test_data_cat.columns = transformed_cat_cols"
   ]
  },
  {
   "cell_type": "code",
   "execution_count": null,
   "id": "e42b30f8",
   "metadata": {},
   "outputs": [],
   "source": [
    "from sklearn.impute import SimpleImputer"
   ]
  },
  {
   "cell_type": "code",
   "execution_count": null,
   "id": "ea43bf17",
   "metadata": {},
   "outputs": [],
   "source": [
    "si = SimpleImputer()"
   ]
  },
  {
   "cell_type": "code",
   "execution_count": null,
   "id": "2f6512b6",
   "metadata": {},
   "outputs": [],
   "source": [
    "si.fit(train_data[num_cols])"
   ]
  },
  {
   "cell_type": "code",
   "execution_count": null,
   "id": "a63ffc8f",
   "metadata": {},
   "outputs": [],
   "source": [
    "train_data_num = si.transform(train_data[num_cols].values)"
   ]
  },
  {
   "cell_type": "code",
   "execution_count": null,
   "id": "238fbbac",
   "metadata": {},
   "outputs": [],
   "source": [
    "train_data_num = pd.DataFrame(train_data_num)"
   ]
  },
  {
   "cell_type": "code",
   "execution_count": null,
   "id": "d1e2c3d1",
   "metadata": {},
   "outputs": [],
   "source": [
    "train_data_num.columns = num_cols"
   ]
  },
  {
   "cell_type": "code",
   "execution_count": null,
   "id": "0253aa2d",
   "metadata": {},
   "outputs": [],
   "source": [
    "valid_data_num = si.transform(valid_data[num_cols].values)"
   ]
  },
  {
   "cell_type": "code",
   "execution_count": null,
   "id": "0f11ab78",
   "metadata": {},
   "outputs": [],
   "source": [
    "valid_data_num = pd.DataFrame(valid_data_num)"
   ]
  },
  {
   "cell_type": "code",
   "execution_count": null,
   "id": "27029aad",
   "metadata": {},
   "outputs": [],
   "source": [
    "valid_data_num.columns = num_cols"
   ]
  },
  {
   "cell_type": "code",
   "execution_count": null,
   "id": "fd528abf",
   "metadata": {},
   "outputs": [],
   "source": [
    "test_data_num = si.transform(test_data[num_cols].values)"
   ]
  },
  {
   "cell_type": "code",
   "execution_count": null,
   "id": "cbbb74c4",
   "metadata": {},
   "outputs": [],
   "source": [
    "test_data_num = pd.DataFrame(test_data_num)"
   ]
  },
  {
   "cell_type": "code",
   "execution_count": null,
   "id": "fbe6c4a4",
   "metadata": {},
   "outputs": [],
   "source": [
    "test_data_num.columns = num_cols"
   ]
  },
  {
   "cell_type": "code",
   "execution_count": null,
   "id": "98c28135",
   "metadata": {},
   "outputs": [],
   "source": [
    "cat_cols"
   ]
  },
  {
   "cell_type": "code",
   "execution_count": null,
   "id": "8e81fb31",
   "metadata": {},
   "outputs": [],
   "source": [
    "catch = []\n",
    "for col in cat_cols: \n",
    "#     print(col)\n",
    "#     print([col1 for col1 in transformed_cat_cols if col in col1])\n",
    "    dict1 = {col: [col1 for col1 in transformed_cat_cols if col in col1]}\n",
    "    if col == \"Experiment\": \n",
    "        dict1 = {col: [col1 for col1 in transformed_cat_cols if col in col1 if \"Code\" not in col1]}\n",
    "#     print([col1 for col1 in transformed_cat_cols if col in col1])    \n",
    "    catch.append(dict1)"
   ]
  },
  {
   "cell_type": "code",
   "execution_count": null,
   "id": "2a277b57",
   "metadata": {},
   "outputs": [],
   "source": [
    "train_trait_num_cols = set(trait_cols.iloc[:,0].values).intersection(num_cols)"
   ]
  },
  {
   "cell_type": "code",
   "execution_count": null,
   "id": "b7c809e7",
   "metadata": {},
   "outputs": [],
   "source": [
    "meta_num_cols = set(meta_cols.iloc[:,0].values).intersection(num_cols)"
   ]
  },
  {
   "cell_type": "code",
   "execution_count": null,
   "id": "e1ec0941",
   "metadata": {},
   "outputs": [],
   "source": [
    "EC_num_cols = set(EC_cols.iloc[:,0].values).intersection(num_cols)"
   ]
  },
  {
   "cell_type": "code",
   "execution_count": null,
   "id": "8e7de5e7",
   "metadata": {},
   "outputs": [],
   "source": [
    "soil_num_cols = set(soil_columns.iloc[:,0].values).intersection(num_cols)"
   ]
  },
  {
   "cell_type": "code",
   "execution_count": null,
   "id": "5eed5f8b",
   "metadata": {},
   "outputs": [],
   "source": [
    "hybrid_num_cols = set(hybrid_cols.iloc[:,0].values).intersection(num_cols)"
   ]
  },
  {
   "cell_type": "code",
   "execution_count": null,
   "id": "dc28d226",
   "metadata": {},
   "outputs": [],
   "source": [
    "weather_num_cols = set(weather_cols.iloc[:,0].values).intersection(num_cols)"
   ]
  },
  {
   "cell_type": "code",
   "execution_count": null,
   "id": "8c075936",
   "metadata": {},
   "outputs": [],
   "source": [
    "# hybrid_num_cols = set(hybrid_cols).intersection(num_cols)"
   ]
  },
  {
   "cell_type": "code",
   "execution_count": null,
   "id": "a6e21037",
   "metadata": {},
   "outputs": [],
   "source": [
    "trait_cat_cols = []\n",
    "meta_cat_cols = []\n",
    "weather_cat_cols = []\n",
    "EC_cat_cols = []\n",
    "soil_cat_cols = []\n",
    "for item in catch:\n",
    "    if list(item.keys())[0] in trait_cols.values:\n",
    "#         if item != \"Experiment_Code\"\n",
    "#         print(item.keys())\n",
    "#         print(list(item.values())[0])\n",
    "        trait_cat_cols.append(list(item.values())[0])\n",
    "    if list(item.keys())[0] in meta_cols.values:\n",
    "#         print(item.keys())\n",
    "        meta_cat_cols.append(list(item.values())[0])   \n",
    "    if list(item.keys())[0] in weather_cols.values:\n",
    "        weather_cat_cols.append(list(item.values())[0])\n",
    "        print(item.keys())\n",
    "    if list(item.keys())[0] in soil_columns.values:\n",
    "        soil_cat_cols.append(list(item.values())[0])\n",
    "#         print(item.keys())\n",
    "    if list(item.keys())[0] in EC_cols.values:\n",
    "        EC_cat_cols.append(list(item.values())[0])\n",
    "        print(item.keys())\n",
    "        "
   ]
  },
  {
   "cell_type": "code",
   "execution_count": null,
   "id": "278f8018",
   "metadata": {},
   "outputs": [],
   "source": [
    "trait_cat_cols = [inner for item in trait_cat_cols for inner in item]"
   ]
  },
  {
   "cell_type": "code",
   "execution_count": null,
   "id": "f096719e",
   "metadata": {},
   "outputs": [],
   "source": [
    "meta_cat_cols = [inner for item in meta_cat_cols for inner in item]"
   ]
  },
  {
   "cell_type": "code",
   "execution_count": null,
   "id": "5803f483",
   "metadata": {},
   "outputs": [],
   "source": [
    "weather_cat_cols = [inner for item in weather_cat_cols for inner in item]"
   ]
  },
  {
   "cell_type": "code",
   "execution_count": null,
   "id": "a96ac3a0",
   "metadata": {},
   "outputs": [],
   "source": [
    "EC_cat_cols = [inner for item in EC_cat_cols for inner in item]"
   ]
  },
  {
   "cell_type": "code",
   "execution_count": null,
   "id": "dd241e7c",
   "metadata": {},
   "outputs": [],
   "source": [
    "soil_cat_cols = [inner for item in soil_cat_cols for inner in item]"
   ]
  },
  {
   "cell_type": "code",
   "execution_count": null,
   "id": "dbc4760f",
   "metadata": {},
   "outputs": [],
   "source": [
    "soil_cat_cols"
   ]
  },
  {
   "cell_type": "code",
   "execution_count": null,
   "id": "265a40e3",
   "metadata": {},
   "outputs": [],
   "source": [
    "### train \n",
    "train_trait_cat = train_data_cat[trait_cat_cols]\n",
    "train_meta_cat = train_data_cat[meta_cat_cols]\n",
    "train_weather_cat = train_data_cat[weather_cat_cols]\n",
    "train_EC_cat = train_data_cat[EC_cat_cols]\n",
    "train_soil_cat = train_data_cat[soil_cat_cols]"
   ]
  },
  {
   "cell_type": "code",
   "execution_count": null,
   "id": "dad8bb60",
   "metadata": {},
   "outputs": [],
   "source": [
    "### valid \n",
    "valid_trait_cat = valid_data_cat[trait_cat_cols]\n",
    "valid_meta_cat = valid_data_cat[meta_cat_cols]\n",
    "valid_weather_cat = valid_data_cat[weather_cat_cols]\n",
    "valid_EC_cat = valid_data_cat[EC_cat_cols]\n",
    "valid_soil_cat = valid_data_cat[soil_cat_cols]"
   ]
  },
  {
   "cell_type": "code",
   "execution_count": null,
   "id": "acdf27d4",
   "metadata": {},
   "outputs": [],
   "source": [
    "### test\n",
    "test_meta_cat = test_data_cat[meta_cat_cols]\n",
    "test_weather_cat = test_data_cat[weather_cat_cols]\n",
    "test_EC_cat = test_data_cat[EC_cat_cols]\n",
    "test_soil_cat = test_data_cat[soil_cat_cols]"
   ]
  },
  {
   "cell_type": "code",
   "execution_count": null,
   "id": "596ba104",
   "metadata": {},
   "outputs": [],
   "source": [
    "### numeric \n",
    "train_trait_num = train_data_num[list(train_trait_num_cols)]\n",
    "train_meta_num  = train_data_num[list(meta_num_cols)]\n",
    "train_weather_num  = train_data_num[list(weather_num_cols)]\n",
    "train_EC_num  = train_data_num[list(EC_num_cols)]\n",
    "train_soil_num  = train_data_num[list(soil_num_cols)]\n",
    "train_hybrid_num = train_data_num[hybrid_cols.iloc[:,0].values.tolist()]"
   ]
  },
  {
   "cell_type": "code",
   "execution_count": null,
   "id": "84b2c1bf",
   "metadata": {},
   "outputs": [],
   "source": [
    "### valid \n",
    "### numeric \n",
    "valid_trait_num = valid_data_num[list(train_trait_num_cols)]\n",
    "valid_meta_num  = valid_data_num[list(meta_num_cols)]\n",
    "valid_weather_num  = valid_data_num[list(weather_num_cols)]\n",
    "valid_EC_num  = valid_data_num[list(EC_num_cols)]\n",
    "valid_soil_num  = valid_data_num[list(soil_num_cols)]\n",
    "valid_hybrid_num = valid_data_num[hybrid_cols.iloc[:,0].values.tolist()]"
   ]
  },
  {
   "cell_type": "code",
   "execution_count": null,
   "id": "37676849",
   "metadata": {},
   "outputs": [],
   "source": [
    "### test\n",
    "### numeric \n",
    "# train_trait_num = train_data_num[list(train_trait_num_cols)]\n",
    "test_meta_num  = test_data_num[list(meta_num_cols)]\n",
    "test_weather_num  = test_data_num[list(weather_num_cols)]\n",
    "test_EC_num  = test_data_num[list(EC_num_cols)]\n",
    "test_soil_num  = test_data_num[list(soil_num_cols)]\n",
    "test_hybrid_num = test_data_num[hybrid_cols.iloc[:,0].values.tolist()]"
   ]
  },
  {
   "cell_type": "code",
   "execution_count": null,
   "id": "b9e7d477",
   "metadata": {},
   "outputs": [],
   "source": [
    "# train_trait_cat"
   ]
  },
  {
   "cell_type": "code",
   "execution_count": null,
   "id": "54cb27b5",
   "metadata": {},
   "outputs": [],
   "source": [
    "train_meta_num.shape"
   ]
  },
  {
   "cell_type": "code",
   "execution_count": null,
   "id": "0d94ec50",
   "metadata": {},
   "outputs": [],
   "source": [
    "train_meta_cat.shape"
   ]
  },
  {
   "cell_type": "code",
   "execution_count": null,
   "id": "eb9c4cfb",
   "metadata": {},
   "outputs": [],
   "source": [
    "import tensorflow as tf"
   ]
  },
  {
   "cell_type": "code",
   "execution_count": null,
   "id": "4a8d5f82",
   "metadata": {},
   "outputs": [],
   "source": [
    "inp_meta_num1 = tf.keras.layers.Input(shape = (train_meta_num.shape[1]),name = \"meta_num\")\n",
    "inp_meta_num = tf.keras.layers.Normalization()(inp_meta_num1)\n",
    "inp_weather_num1 = tf.keras.layers.Input(shape = (train_weather_num.shape[1]),name = \"weather_num\")\n",
    "inp_weather_num = tf.keras.layers.Normalization()(inp_weather_num1)\n",
    "inp_EC_num1 = tf.keras.layers.Input(shape = (train_EC_num.shape[1]),name = \"EC_num\")\n",
    "inp_EC_num = tf.keras.layers.Normalization()(inp_EC_num1)\n",
    "inp_soil_num1 = tf.keras.layers.Input(shape = (train_soil_num.shape[1]),name = \"soil_num\")\n",
    "inp_soil_num = tf.keras.layers.Normalization()(inp_soil_num1)\n",
    "inp_trait_num1 = tf.keras.layers.Input(shape = (train_trait_num.shape[1]),name = \"trait_num\")\n",
    "inp_trait_num = tf.keras.layers.Normalization()(inp_trait_num1)\n",
    "inp_hybrid_num1 = tf.keras.layers.Input(shape = (train_hybrid_num.shape[1]),name = \"hybrid_num\")\n",
    "inp_hybrid_num = tf.keras.layers.Normalization()(inp_hybrid_num1)"
   ]
  },
  {
   "cell_type": "code",
   "execution_count": null,
   "id": "7b498ef8",
   "metadata": {},
   "outputs": [],
   "source": [
    "inp_meta_cat1 = tf.keras.layers.Input(shape = (train_meta_cat.shape[1]),name = \"meta_cat\")\n",
    "inp_meta_cat = tf.keras.layers.Normalization()(inp_meta_cat1)\n",
    "inp_soil_cat1 = tf.keras.layers.Input(shape = (train_soil_cat.shape[1]),name = \"soil_cat\")\n",
    "inp_soil_cat = tf.keras.layers.Normalization()(inp_soil_cat1)\n",
    "inp_trait_cat1 = tf.keras.layers.Input(shape = (train_trait_cat.shape[1]),name = \"trait_cat\")\n",
    "inp_trait_cat = tf.keras.layers.Normalization()(inp_trait_cat1)"
   ]
  },
  {
   "cell_type": "code",
   "execution_count": null,
   "id": "aaebac64",
   "metadata": {},
   "outputs": [],
   "source": [
    "inp_meta_num"
   ]
  },
  {
   "cell_type": "code",
   "execution_count": null,
   "id": "c3683f3a",
   "metadata": {},
   "outputs": [],
   "source": [
    "dense_meta_num = tf.keras.layers.Dense(inp_meta_num.get_shape()[1]//2)(inp_meta_num)"
   ]
  },
  {
   "cell_type": "code",
   "execution_count": null,
   "id": "75347b76",
   "metadata": {},
   "outputs": [],
   "source": [
    "dense_weather_num = tf.keras.layers.Dense(inp_weather_num.get_shape()[1]//2)(inp_weather_num)"
   ]
  },
  {
   "cell_type": "code",
   "execution_count": null,
   "id": "0e929f39",
   "metadata": {},
   "outputs": [],
   "source": [
    "dense_EC_num = tf.keras.layers.Dense(inp_EC_num.get_shape()[1]//16, kernel_regularizer=tf.keras.regularizers.L1L2())(inp_EC_num)"
   ]
  },
  {
   "cell_type": "code",
   "execution_count": null,
   "id": "9820358e",
   "metadata": {},
   "outputs": [],
   "source": [
    "dense_EC_num"
   ]
  },
  {
   "cell_type": "code",
   "execution_count": null,
   "id": "c3478b31",
   "metadata": {},
   "outputs": [],
   "source": [
    "dense_soil_num = tf.keras.layers.Dense(inp_soil_num.get_shape()[1]//2)(inp_soil_num)"
   ]
  },
  {
   "cell_type": "code",
   "execution_count": null,
   "id": "fd72f0a7",
   "metadata": {},
   "outputs": [],
   "source": [
    "dense_trait_num = tf.keras.layers.Dense(inp_trait_num.get_shape()[1]//2)(inp_trait_num)"
   ]
  },
  {
   "cell_type": "code",
   "execution_count": null,
   "id": "bac7ae27",
   "metadata": {},
   "outputs": [],
   "source": [
    "dense_hybrid_num = tf.keras.layers.Dense(inp_hybrid_num.get_shape()[1]//6, kernel_regularizer=tf.keras.regularizers.L1L2())(inp_hybrid_num)"
   ]
  },
  {
   "cell_type": "code",
   "execution_count": null,
   "id": "a8937f87",
   "metadata": {},
   "outputs": [],
   "source": [
    "dense_hybrid_num"
   ]
  },
  {
   "cell_type": "code",
   "execution_count": null,
   "id": "b53e2e49",
   "metadata": {},
   "outputs": [],
   "source": [
    "dense_meta_cat = tf.keras.layers.Dense(inp_meta_cat.get_shape()[1]//2, kernel_regularizer=tf.keras.regularizers.L1L2())(inp_meta_cat)"
   ]
  },
  {
   "cell_type": "code",
   "execution_count": null,
   "id": "8d0200a2",
   "metadata": {},
   "outputs": [],
   "source": [
    "dense_meta_cat"
   ]
  },
  {
   "cell_type": "code",
   "execution_count": null,
   "id": "04bfabaa",
   "metadata": {},
   "outputs": [],
   "source": [
    "dense_soil_cat = tf.keras.layers.Dense(inp_soil_cat.get_shape()[1]//2)(inp_soil_cat)"
   ]
  },
  {
   "cell_type": "code",
   "execution_count": null,
   "id": "6a67f401",
   "metadata": {},
   "outputs": [],
   "source": [
    "dense_soil_cat"
   ]
  },
  {
   "cell_type": "code",
   "execution_count": null,
   "id": "afa33487",
   "metadata": {},
   "outputs": [],
   "source": [
    "dense_trait_cat = tf.keras.layers.Dense(inp_trait_cat.get_shape()[1]//6, kernel_regularizer=tf.keras.regularizers.L1L2())(inp_trait_cat)"
   ]
  },
  {
   "cell_type": "code",
   "execution_count": null,
   "id": "82480348",
   "metadata": {},
   "outputs": [],
   "source": [
    "dense_trait_cat"
   ]
  },
  {
   "cell_type": "code",
   "execution_count": null,
   "id": "e0e8474c",
   "metadata": {},
   "outputs": [],
   "source": [
    "out_meta_num = tf.keras.layers.Dense(1, activation = \"relu\")(dense_meta_num)"
   ]
  },
  {
   "cell_type": "code",
   "execution_count": null,
   "id": "edea1ead",
   "metadata": {},
   "outputs": [],
   "source": [
    "out_weather_num = tf.keras.layers.Dense(1, activation = \"relu\")(dense_weather_num)"
   ]
  },
  {
   "cell_type": "code",
   "execution_count": null,
   "id": "e511509f",
   "metadata": {},
   "outputs": [],
   "source": [
    "out_EC_num = tf.keras.layers.Dense(1, activation = \"relu\")(dense_EC_num)"
   ]
  },
  {
   "cell_type": "code",
   "execution_count": null,
   "id": "5431386f",
   "metadata": {},
   "outputs": [],
   "source": [
    "out_soil_num = tf.keras.layers.Dense(1, activation = \"relu\")(dense_soil_num)"
   ]
  },
  {
   "cell_type": "code",
   "execution_count": null,
   "id": "61f2123f",
   "metadata": {},
   "outputs": [],
   "source": [
    "out_trait_num = tf.keras.layers.Dense(1, activation = \"relu\")(dense_trait_num)"
   ]
  },
  {
   "cell_type": "code",
   "execution_count": null,
   "id": "e7854c6f",
   "metadata": {},
   "outputs": [],
   "source": [
    "out_hybrid_num = tf.keras.layers.Dense(1, activation = \"relu\")(dense_hybrid_num)"
   ]
  },
  {
   "cell_type": "code",
   "execution_count": null,
   "id": "2e532465",
   "metadata": {},
   "outputs": [],
   "source": [
    "out_meta_cat = tf.keras.layers.Dense(1, activation = \"relu\")(dense_meta_cat)"
   ]
  },
  {
   "cell_type": "code",
   "execution_count": null,
   "id": "01dd21f5",
   "metadata": {},
   "outputs": [],
   "source": [
    "out_soil_cat = tf.keras.layers.Dense(1, activation = \"relu\")(dense_soil_cat)"
   ]
  },
  {
   "cell_type": "code",
   "execution_count": null,
   "id": "61673d24",
   "metadata": {},
   "outputs": [],
   "source": [
    "out_trait_cat = tf.keras.layers.Dense(1, activation = \"relu\")(dense_trait_cat)"
   ]
  },
  {
   "cell_type": "code",
   "execution_count": null,
   "id": "ba03182d",
   "metadata": {},
   "outputs": [],
   "source": [
    "weight_meta_num = tf.keras.layers.Dense(1)(out_meta_num)"
   ]
  },
  {
   "cell_type": "code",
   "execution_count": null,
   "id": "cd45c3a6",
   "metadata": {},
   "outputs": [],
   "source": [
    "weight_weather_num = tf.keras.layers.Dense(1)(out_weather_num)"
   ]
  },
  {
   "cell_type": "code",
   "execution_count": null,
   "id": "ed8b7524",
   "metadata": {},
   "outputs": [],
   "source": [
    "weight_EC_num = tf.keras.layers.Dense(1)(out_EC_num)"
   ]
  },
  {
   "cell_type": "code",
   "execution_count": null,
   "id": "5aa6d672",
   "metadata": {},
   "outputs": [],
   "source": [
    "weight_soil_num = tf.keras.layers.Dense(1)(out_soil_num)"
   ]
  },
  {
   "cell_type": "code",
   "execution_count": null,
   "id": "2933f50c",
   "metadata": {},
   "outputs": [],
   "source": [
    "weight_trait_num = tf.keras.layers.Dense(1)(out_trait_num)"
   ]
  },
  {
   "cell_type": "code",
   "execution_count": null,
   "id": "8aab910d",
   "metadata": {},
   "outputs": [],
   "source": [
    "weight_hybrid_num = tf.keras.layers.Dense(1)(out_hybrid_num)"
   ]
  },
  {
   "cell_type": "code",
   "execution_count": null,
   "id": "323f585a",
   "metadata": {},
   "outputs": [],
   "source": [
    "weight_meta_cat = tf.keras.layers.Dense(1)(out_meta_cat)"
   ]
  },
  {
   "cell_type": "code",
   "execution_count": null,
   "id": "6b259fc4",
   "metadata": {},
   "outputs": [],
   "source": [
    "weight_soil_cat = tf.keras.layers.Dense(1)(out_soil_cat)"
   ]
  },
  {
   "cell_type": "code",
   "execution_count": null,
   "id": "d80ec69a",
   "metadata": {},
   "outputs": [],
   "source": [
    "weight_trait_cat = tf.keras.layers.Dense(1)(out_trait_cat)"
   ]
  },
  {
   "cell_type": "code",
   "execution_count": null,
   "id": "338d09b5",
   "metadata": {},
   "outputs": [],
   "source": [
    "all_weights = tf.keras.layers.Concatenate()([weight_meta_num, weight_weather_num, weight_EC_num, weight_soil_num, \n",
    "                                            weight_hybrid_num, weight_meta_cat, weight_soil_cat])"
   ]
  },
  {
   "cell_type": "code",
   "execution_count": null,
   "id": "1227472d",
   "metadata": {},
   "outputs": [],
   "source": [
    "all_weights = tf.keras.layers.Activation(\"softmax\")(all_weights)"
   ]
  },
  {
   "cell_type": "code",
   "execution_count": null,
   "id": "ad6ece23",
   "metadata": {},
   "outputs": [],
   "source": [
    "all_weights"
   ]
  },
  {
   "cell_type": "code",
   "execution_count": null,
   "id": "0096d5c0",
   "metadata": {},
   "outputs": [],
   "source": [
    "all_outs = tf.keras.layers.Concatenate()([out_meta_num, out_weather_num, out_EC_num, out_soil_num, \n",
    "                                            out_hybrid_num, out_meta_cat, out_soil_cat])"
   ]
  },
  {
   "cell_type": "code",
   "execution_count": null,
   "id": "03c9bfd0",
   "metadata": {},
   "outputs": [],
   "source": [
    "all_outs"
   ]
  },
  {
   "cell_type": "code",
   "execution_count": null,
   "id": "288230db",
   "metadata": {},
   "outputs": [],
   "source": [
    "element_multiply = tf.keras.layers.Multiply()([all_outs, all_weights])"
   ]
  },
  {
   "cell_type": "code",
   "execution_count": null,
   "id": "88f36f31",
   "metadata": {},
   "outputs": [],
   "source": [
    "element_multiply"
   ]
  },
  {
   "cell_type": "code",
   "execution_count": null,
   "id": "36e61160",
   "metadata": {},
   "outputs": [],
   "source": [
    "row_sums = tf.keras.layers.Lambda(lambda x: tf.reduce_sum(x,1))(element_multiply)"
   ]
  },
  {
   "cell_type": "code",
   "execution_count": null,
   "id": "c860cfa8",
   "metadata": {},
   "outputs": [],
   "source": [
    "row_sums"
   ]
  },
  {
   "cell_type": "code",
   "execution_count": null,
   "id": "391a58ab",
   "metadata": {},
   "outputs": [],
   "source": [
    "reshape_layer = tf.keras.layers.Reshape((1,))(row_sums)"
   ]
  },
  {
   "cell_type": "code",
   "execution_count": null,
   "id": "a3d04e69",
   "metadata": {},
   "outputs": [],
   "source": [
    "reshape_layer"
   ]
  },
  {
   "cell_type": "code",
   "execution_count": null,
   "id": "acbfec95",
   "metadata": {},
   "outputs": [],
   "source": [
    "modular_model = tf.keras.models.Model([inp_meta_num1, inp_weather_num1, inp_EC_num1, inp_soil_num1, \n",
    "                                            inp_hybrid_num1, inp_meta_cat1, inp_soil_cat1], reshape_layer)"
   ]
  },
  {
   "cell_type": "code",
   "execution_count": null,
   "id": "4d00ff81",
   "metadata": {},
   "outputs": [],
   "source": [
    "modular_model"
   ]
  },
  {
   "cell_type": "code",
   "execution_count": null,
   "id": "104a3b02",
   "metadata": {},
   "outputs": [],
   "source": [
    "modular_model.summary()"
   ]
  },
  {
   "cell_type": "code",
   "execution_count": null,
   "id": "f36edf34",
   "metadata": {},
   "outputs": [],
   "source": [
    "# tf.keras.utils.plot_model(modular_model, show_shapes = True, dpi = 900, \n",
    "#                          to_file='model.png')"
   ]
  },
  {
   "cell_type": "code",
   "execution_count": null,
   "id": "a7f6baa1",
   "metadata": {},
   "outputs": [],
   "source": [
    "modular_model.compile(loss = \"mse\", optimizer = tf.keras.optimizers.Adam(1e-1), \n",
    "                     metrics = tf.keras.metrics.RootMeanSquaredError())"
   ]
  },
  {
   "cell_type": "code",
   "execution_count": null,
   "id": "31abcf00",
   "metadata": {
    "scrolled": false
   },
   "outputs": [],
   "source": [
    "history = modular_model.fit([train_meta_num, train_weather_num, train_EC_num, train_soil_num, \n",
    "                                            train_hybrid_num, train_meta_cat, train_soil_cat], train_target.values, \n",
    "                 epochs = 10000, verbose = 1, callbacks=tf.keras.callbacks.EarlyStopping(monitor = \"val_loss\", \n",
    "                                                                                        patience = 25, restore_best_weights=True, \n",
    "                                                                                        mode = \"min\"), \n",
    "                 validation_data=([valid_meta_num, valid_weather_num, valid_EC_num, valid_soil_num, \n",
    "                                            valid_hybrid_num, valid_meta_cat, valid_soil_cat], valid_target.values),\n",
    "                 shuffle = True, batch_size = 1024)"
   ]
  },
  {
   "cell_type": "code",
   "execution_count": null,
   "id": "34013bb7",
   "metadata": {},
   "outputs": [],
   "source": [
    "import matplotlib.pyplot as plt"
   ]
  },
  {
   "cell_type": "code",
   "execution_count": null,
   "id": "8a2e3dba",
   "metadata": {},
   "outputs": [],
   "source": [
    "# np.sqrt(((valid_target.values - np.mean(valid_target.values))**2).mean())"
   ]
  },
  {
   "cell_type": "code",
   "execution_count": null,
   "id": "2a5e855c",
   "metadata": {},
   "outputs": [],
   "source": [
    "import matplotlib.pyplot as plt"
   ]
  },
  {
   "cell_type": "code",
   "execution_count": null,
   "id": "5b7dc607",
   "metadata": {},
   "outputs": [],
   "source": [
    "test_preds = modular_model.predict([test_meta_num, test_weather_num, test_EC_num, test_soil_num, \n",
    "                                            test_hybrid_num, test_meta_cat, test_soil_cat])"
   ]
  },
  {
   "cell_type": "code",
   "execution_count": null,
   "id": "fa8962d1",
   "metadata": {},
   "outputs": [],
   "source": [
    "# test_data"
   ]
  },
  {
   "cell_type": "code",
   "execution_count": null,
   "id": "c9946bd6",
   "metadata": {},
   "outputs": [],
   "source": [
    "test_order = test_data[[\"Env\", \"Hybrid\"]].values"
   ]
  },
  {
   "cell_type": "code",
   "execution_count": null,
   "id": "ff994870",
   "metadata": {},
   "outputs": [],
   "source": [
    "test_order_df = test_order.copy()"
   ]
  },
  {
   "cell_type": "code",
   "execution_count": null,
   "id": "3ab593b1",
   "metadata": {},
   "outputs": [],
   "source": [
    "test_preds.shape"
   ]
  },
  {
   "cell_type": "code",
   "execution_count": null,
   "id": "530bfd53",
   "metadata": {},
   "outputs": [],
   "source": [
    "test_order_df.shape"
   ]
  },
  {
   "cell_type": "code",
   "execution_count": null,
   "id": "60c148a6",
   "metadata": {},
   "outputs": [],
   "source": [
    "test_order_df = pd.DataFrame(test_order_df)"
   ]
  },
  {
   "cell_type": "code",
   "execution_count": null,
   "id": "546eb49b",
   "metadata": {},
   "outputs": [],
   "source": [
    "test_order_df.columns = [\"Env\", \"Hybrid\"]"
   ]
  },
  {
   "cell_type": "code",
   "execution_count": null,
   "id": "d98560a0",
   "metadata": {},
   "outputs": [],
   "source": [
    "test_order_df[\"Yield_Mg_ha\"] = test_preds"
   ]
  },
  {
   "cell_type": "code",
   "execution_count": null,
   "id": "0d7af0a3",
   "metadata": {},
   "outputs": [],
   "source": [
    "# test_order_df"
   ]
  },
  {
   "cell_type": "code",
   "execution_count": null,
   "id": "791142c1",
   "metadata": {},
   "outputs": [],
   "source": [
    "final_df = test_order_df.groupby([\"Env\", \"Hybrid\"])[\"Yield_Mg_ha\"].mean()"
   ]
  },
  {
   "cell_type": "code",
   "execution_count": null,
   "id": "5ac64f9f",
   "metadata": {},
   "outputs": [],
   "source": [
    "final_df = final_df.reset_index()"
   ]
  },
  {
   "cell_type": "code",
   "execution_count": null,
   "id": "7e1973e8",
   "metadata": {},
   "outputs": [],
   "source": [
    "final_df.head(5)"
   ]
  },
  {
   "cell_type": "code",
   "execution_count": null,
   "id": "833f78a5",
   "metadata": {},
   "outputs": [],
   "source": [
    "sub_file = pd.read_csv(r\"Testing_Data\\1_Submission_Template_2022.csv\")"
   ]
  },
  {
   "cell_type": "code",
   "execution_count": null,
   "id": "63eaf417",
   "metadata": {},
   "outputs": [],
   "source": [
    "sub_file = sub_file.drop(['Yield_Mg_ha'],1)"
   ]
  },
  {
   "cell_type": "code",
   "execution_count": null,
   "id": "b9ee00e9",
   "metadata": {},
   "outputs": [],
   "source": [
    "sub_file.columns"
   ]
  },
  {
   "cell_type": "code",
   "execution_count": null,
   "id": "8430d79f",
   "metadata": {},
   "outputs": [],
   "source": [
    "sub_file = sub_file.merge(final_df, on = [\"Env\", \"Hybrid\"], how = \"left\")"
   ]
  },
  {
   "cell_type": "code",
   "execution_count": null,
   "id": "3e7a3b19",
   "metadata": {},
   "outputs": [],
   "source": [
    "sub_file.isnull().sum()"
   ]
  },
  {
   "cell_type": "code",
   "execution_count": null,
   "id": "acf8fb32",
   "metadata": {},
   "outputs": [],
   "source": [
    "# sub_file.to_csv(\"last_option_fifth_prediction_deepcropvision.csv\", index = False)"
   ]
  },
  {
   "cell_type": "code",
   "execution_count": null,
   "id": "02d925b5",
   "metadata": {},
   "outputs": [],
   "source": [
    "sub_file.head()"
   ]
  },
  {
   "cell_type": "code",
   "execution_count": null,
   "id": "25ff79b8",
   "metadata": {},
   "outputs": [],
   "source": [
    "sub_file.shape"
   ]
  },
  {
   "cell_type": "code",
   "execution_count": null,
   "id": "88c1ead6",
   "metadata": {},
   "outputs": [],
   "source": [
    "sub_file.head()"
   ]
  },
  {
   "cell_type": "code",
   "execution_count": null,
   "id": "c7e73dbb",
   "metadata": {},
   "outputs": [],
   "source": [
    "sub_file.dtypes"
   ]
  },
  {
   "cell_type": "code",
   "execution_count": null,
   "id": "e317b05f",
   "metadata": {},
   "outputs": [],
   "source": [
    "# train_trait = pd.read_csv(r\"Training_Data\\1_Training_Trait_Data_2014_2021.csv\")"
   ]
  },
  {
   "cell_type": "code",
   "execution_count": null,
   "id": "b4f3f03b",
   "metadata": {},
   "outputs": [],
   "source": [
    "# plt.hist(train_trait[\"Yield_Mg_ha\"])\n",
    "# plt.show()"
   ]
  },
  {
   "cell_type": "code",
   "execution_count": null,
   "id": "b3373980",
   "metadata": {},
   "outputs": [],
   "source": [
    "# plt.hist(sub_file[\"Yield_Mg_ha\"])\n",
    "# plt.show()"
   ]
  },
  {
   "cell_type": "code",
   "execution_count": null,
   "id": "45fd2332",
   "metadata": {},
   "outputs": [],
   "source": [
    "# sub_file_ck = pd.read_csv(r\"Testing_Data\\1_Submission_Template_2022.csv\")"
   ]
  },
  {
   "cell_type": "code",
   "execution_count": null,
   "id": "e1ddc9f1",
   "metadata": {},
   "outputs": [],
   "source": [
    "# sub_file_ck.head()"
   ]
  },
  {
   "cell_type": "code",
   "execution_count": null,
   "id": "dbe4fe72",
   "metadata": {},
   "outputs": [],
   "source": [
    "# train_trait.head()"
   ]
  },
  {
   "cell_type": "code",
   "execution_count": null,
   "id": "96a6f58a",
   "metadata": {},
   "outputs": [],
   "source": [
    "final_observed = pd.read_csv(\"D:\\Maize_Comp\\Final_Observed_Yield.csv\")"
   ]
  },
  {
   "cell_type": "code",
   "execution_count": null,
   "id": "7f7e0041",
   "metadata": {},
   "outputs": [],
   "source": [
    "final_observed.dtypes"
   ]
  },
  {
   "cell_type": "code",
   "execution_count": null,
   "id": "1ad7b2d5",
   "metadata": {},
   "outputs": [],
   "source": [
    "c1 = final_observed.merge(sub_file, on = [\"Env\", \"Hybrid\"])"
   ]
  },
  {
   "cell_type": "code",
   "execution_count": null,
   "id": "d40de5f8",
   "metadata": {},
   "outputs": [],
   "source": [
    "c1"
   ]
  },
  {
   "cell_type": "code",
   "execution_count": null,
   "id": "77e628e0",
   "metadata": {},
   "outputs": [],
   "source": [
    "# check final test set rmse"
   ]
  },
  {
   "cell_type": "code",
   "execution_count": null,
   "id": "59bddcfd",
   "metadata": {},
   "outputs": [],
   "source": [
    "import numpy as np"
   ]
  },
  {
   "cell_type": "code",
   "execution_count": null,
   "id": "406ceb85",
   "metadata": {},
   "outputs": [],
   "source": [
    "np.sqrt(((c1.iloc[:,-1] - c1.iloc[:,-2])**2).mean())"
   ]
  }
 ],
 "metadata": {
  "kernelspec": {
   "display_name": "newone1",
   "language": "python",
   "name": "newone1"
  },
  "language_info": {
   "codemirror_mode": {
    "name": "ipython",
    "version": 3
   },
   "file_extension": ".py",
   "mimetype": "text/x-python",
   "name": "python",
   "nbconvert_exporter": "python",
   "pygments_lexer": "ipython3",
   "version": "3.9.12"
  }
 },
 "nbformat": 4,
 "nbformat_minor": 5
}
