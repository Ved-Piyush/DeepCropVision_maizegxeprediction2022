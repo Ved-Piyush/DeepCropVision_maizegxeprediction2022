{
 "cells": [
  {
   "cell_type": "code",
   "execution_count": null,
   "id": "a15bd0b0",
   "metadata": {},
   "outputs": [],
   "source": [
    "# import necessary packages\n",
    "import pandas as pd\n",
    "import numpy as np\n",
    "import matplotlib.pyplot as plt\n",
    "import pandas as pd\n",
    "import gzip"
   ]
  },
  {
   "cell_type": "code",
   "execution_count": null,
   "id": "8e64568d",
   "metadata": {},
   "outputs": [],
   "source": [
    "# read in the data files from the train set to see how they look like\n",
    "\n",
    "# most likely the keys will be \"Env\" and \"Hybrid\"\n",
    "\n",
    "# Training data first\n",
    "Trait_data = pd.read_csv(r\"Training_Data\\1_Training_Trait_Data_2014_2021.csv\")"
   ]
  },
  {
   "cell_type": "code",
   "execution_count": null,
   "id": "0688a1ed",
   "metadata": {},
   "outputs": [],
   "source": [
    "# take a look at the data\n",
    "Trait_data.head()"
   ]
  },
  {
   "cell_type": "code",
   "execution_count": null,
   "id": "d1665cb4",
   "metadata": {},
   "outputs": [],
   "source": [
    "# how many rows?\n",
    "Trait_data.shape"
   ]
  },
  {
   "cell_type": "code",
   "execution_count": null,
   "id": "468872df",
   "metadata": {},
   "outputs": [],
   "source": [
    "# how many missing values per column?\n",
    "na_values_trait_data = Trait_data.isna().sum()\n",
    "na_values_trait_data"
   ]
  },
  {
   "cell_type": "code",
   "execution_count": null,
   "id": "d435da2d",
   "metadata": {},
   "outputs": [],
   "source": [
    "na_values_trait_data.sum()"
   ]
  },
  {
   "cell_type": "code",
   "execution_count": null,
   "id": "ca232507",
   "metadata": {},
   "outputs": [],
   "source": [
    "# import meta data\n",
    "Meta_data = pd.read_csv(r\"Training_Data\\2_Training_Meta_Data_2014_2021.csv\", encoding = \"latin1\")"
   ]
  },
  {
   "cell_type": "code",
   "execution_count": null,
   "id": "ac4351a9",
   "metadata": {},
   "outputs": [],
   "source": [
    "Meta_data.shape"
   ]
  },
  {
   "cell_type": "code",
   "execution_count": null,
   "id": "c42a0e98",
   "metadata": {
    "scrolled": false
   },
   "outputs": [],
   "source": [
    "Meta_data.head()"
   ]
  },
  {
   "cell_type": "code",
   "execution_count": null,
   "id": "60717f87",
   "metadata": {
    "scrolled": true
   },
   "outputs": [],
   "source": [
    "# missing values\n",
    "missing_meta = Meta_data.isna().sum()\n",
    "missing_meta"
   ]
  },
  {
   "cell_type": "code",
   "execution_count": null,
   "id": "13f039b4",
   "metadata": {},
   "outputs": [],
   "source": [
    "missing_meta.sum()"
   ]
  },
  {
   "cell_type": "code",
   "execution_count": null,
   "id": "2f4f7f52",
   "metadata": {},
   "outputs": [],
   "source": [
    "# import soil data\n",
    "soil_data = pd.read_csv(r\"Training_Data\\3_Training_Soil_Data_2015_2021.csv\")"
   ]
  },
  {
   "cell_type": "code",
   "execution_count": null,
   "id": "da9ca423",
   "metadata": {},
   "outputs": [],
   "source": [
    "soil_data.shape"
   ]
  },
  {
   "cell_type": "code",
   "execution_count": null,
   "id": "453223dd",
   "metadata": {
    "scrolled": true
   },
   "outputs": [],
   "source": [
    "soil_data.head()"
   ]
  },
  {
   "cell_type": "code",
   "execution_count": null,
   "id": "e72ff196",
   "metadata": {},
   "outputs": [],
   "source": [
    "# missing values\n",
    "missing_soil = soil_data.isna().sum()"
   ]
  },
  {
   "cell_type": "code",
   "execution_count": null,
   "id": "9e674ee2",
   "metadata": {},
   "outputs": [],
   "source": [
    "missing_soil.sum()"
   ]
  },
  {
   "cell_type": "code",
   "execution_count": null,
   "id": "03000bcf",
   "metadata": {},
   "outputs": [],
   "source": [
    "# weather data\n",
    "weather_data = pd.read_csv(r\"Training_Data\\4_Training_Weather_Data_2014_2021.csv\")"
   ]
  },
  {
   "cell_type": "code",
   "execution_count": null,
   "id": "7d0a21f6",
   "metadata": {},
   "outputs": [],
   "source": [
    "weather_data.shape"
   ]
  },
  {
   "cell_type": "code",
   "execution_count": null,
   "id": "922d5607",
   "metadata": {
    "scrolled": true
   },
   "outputs": [],
   "source": [
    "weather_data.head()"
   ]
  },
  {
   "cell_type": "code",
   "execution_count": null,
   "id": "603faf81",
   "metadata": {},
   "outputs": [],
   "source": [
    "# missing weather\n",
    "missing_weather = weather_data.isna().sum()\n",
    "missing_weather.sum()"
   ]
  },
  {
   "cell_type": "code",
   "execution_count": null,
   "id": "0e60e0fd",
   "metadata": {},
   "outputs": [],
   "source": [
    "# EC data\n",
    "EC_data = pd.read_csv(r\"Training_Data\\6_Training_EC_Data_2014_2021.csv\")"
   ]
  },
  {
   "cell_type": "code",
   "execution_count": null,
   "id": "bceaa445",
   "metadata": {},
   "outputs": [],
   "source": [
    "EC_data.shape"
   ]
  },
  {
   "cell_type": "code",
   "execution_count": null,
   "id": "2e923b53",
   "metadata": {
    "scrolled": true
   },
   "outputs": [],
   "source": [
    "EC_data.head()"
   ]
  },
  {
   "cell_type": "code",
   "execution_count": null,
   "id": "ed6077c9",
   "metadata": {},
   "outputs": [],
   "source": [
    "# missing EC\n",
    "missing_EC = EC_data.isna().sum()"
   ]
  },
  {
   "cell_type": "code",
   "execution_count": null,
   "id": "4905b192",
   "metadata": {},
   "outputs": [],
   "source": [
    "missing_EC.sum()"
   ]
  },
  {
   "cell_type": "markdown",
   "id": "c29c7831",
   "metadata": {},
   "source": [
    "Okay, so no missing data in the EC data, and weather data, but all other datasets have missing values. When doing preprocessing, it is better to do at least minimal preprocessing for individual data than straight away joining the data. Hence start with that."
   ]
  },
  {
   "cell_type": "markdown",
   "id": "cc9d8368",
   "metadata": {},
   "source": [
    "Test Data "
   ]
  },
  {
   "cell_type": "code",
   "execution_count": null,
   "id": "8cddf549",
   "metadata": {},
   "outputs": [],
   "source": [
    "# import the test data, and compare with train data\n",
    "# submission data\n",
    "\n",
    "submission_test = pd.read_csv(r\"Testing_Data\\1_Submission_Template_2022.csv\")"
   ]
  },
  {
   "cell_type": "code",
   "execution_count": null,
   "id": "feaf3728",
   "metadata": {},
   "outputs": [],
   "source": [
    "submission_test.shape"
   ]
  },
  {
   "cell_type": "code",
   "execution_count": null,
   "id": "f1811c14",
   "metadata": {
    "scrolled": true
   },
   "outputs": [],
   "source": [
    "submission_test.head()"
   ]
  },
  {
   "cell_type": "code",
   "execution_count": null,
   "id": "d404397f",
   "metadata": {},
   "outputs": [],
   "source": [
    "# any duplicate entries? - nope\n",
    "submission_test = submission_test.drop_duplicates()"
   ]
  },
  {
   "cell_type": "code",
   "execution_count": null,
   "id": "4ffa17c4",
   "metadata": {},
   "outputs": [],
   "source": [
    "submission_test.shape"
   ]
  },
  {
   "cell_type": "code",
   "execution_count": null,
   "id": "7ea18e22",
   "metadata": {},
   "outputs": [],
   "source": [
    "# how many test hybrids?\n",
    "test_hybrids = list(submission_test['Hybrid'].unique())\n",
    "len(test_hybrids)"
   ]
  },
  {
   "cell_type": "code",
   "execution_count": null,
   "id": "e6f0f66f",
   "metadata": {},
   "outputs": [],
   "source": [
    "# how many test Envs?\n",
    "test_envs = list(submission_test['Env'].unique())\n",
    "len(test_envs)"
   ]
  },
  {
   "cell_type": "code",
   "execution_count": null,
   "id": "2ff3c70b",
   "metadata": {},
   "outputs": [],
   "source": [
    "# import traits data\n",
    "\n",
    "# interesting! There is no any trait data!"
   ]
  },
  {
   "cell_type": "code",
   "execution_count": null,
   "id": "4d99cb70",
   "metadata": {},
   "outputs": [],
   "source": [
    "# but we need the three corresponding columns in train trait data for joinning the dataframes\n",
    "# Therefore, lets extract those data\n",
    "\n",
    "test_col_list = submission_test.columns.tolist()\n",
    "train_col_list = Trait_data.columns.tolist()\n",
    "\n",
    "train_col_not_in_test = []\n",
    "for val in train_col_list:\n",
    "    if val not in test_col_list:\n",
    "        train_col_not_in_test.append(val)\n",
    "\n",
    "# train_sub_data = Trait_data[[\"\"]]\n",
    "# train_sub_data.shape"
   ]
  },
  {
   "cell_type": "code",
   "execution_count": null,
   "id": "7284f7ef",
   "metadata": {},
   "outputs": [],
   "source": [
    "train_col_not_in_test"
   ]
  },
  {
   "cell_type": "code",
   "execution_count": null,
   "id": "cafcdd7d",
   "metadata": {},
   "outputs": [],
   "source": [
    "train_trait_none = Trait_data[test_col_list]"
   ]
  },
  {
   "cell_type": "code",
   "execution_count": null,
   "id": "a819dca1",
   "metadata": {},
   "outputs": [],
   "source": [
    "train_trait_others = Trait_data[train_col_not_in_test]"
   ]
  },
  {
   "cell_type": "code",
   "execution_count": null,
   "id": "9b785820",
   "metadata": {},
   "outputs": [],
   "source": [
    "train_sub_data = pd.concat([train_trait_none, train_trait_others], axis = 1)"
   ]
  },
  {
   "cell_type": "code",
   "execution_count": null,
   "id": "d11a6687",
   "metadata": {},
   "outputs": [],
   "source": [
    "train_sub_data.shape"
   ]
  },
  {
   "cell_type": "code",
   "execution_count": null,
   "id": "2370e817",
   "metadata": {},
   "outputs": [],
   "source": [
    "train_sub_data.head()"
   ]
  },
  {
   "cell_type": "code",
   "execution_count": null,
   "id": "98414539",
   "metadata": {},
   "outputs": [],
   "source": [
    "train_sub_data = train_sub_data.drop_duplicates()"
   ]
  },
  {
   "cell_type": "code",
   "execution_count": null,
   "id": "12bb2244",
   "metadata": {},
   "outputs": [],
   "source": [
    "train_sub_data.shape"
   ]
  },
  {
   "cell_type": "code",
   "execution_count": null,
   "id": "9af3426f",
   "metadata": {
    "scrolled": true
   },
   "outputs": [],
   "source": [
    "train_sub_data.head()"
   ]
  },
  {
   "cell_type": "code",
   "execution_count": null,
   "id": "209713a1",
   "metadata": {},
   "outputs": [],
   "source": [
    "submission_test.head()"
   ]
  },
  {
   "cell_type": "code",
   "execution_count": null,
   "id": "c2079913",
   "metadata": {},
   "outputs": [],
   "source": [
    "# vertically stack the two dataframes for joins in future\n",
    "sub_all = pd.concat([train_sub_data, submission_test], axis = 0)"
   ]
  },
  {
   "cell_type": "code",
   "execution_count": null,
   "id": "567f3a92",
   "metadata": {},
   "outputs": [],
   "source": [
    "sub_all.shape"
   ]
  },
  {
   "cell_type": "code",
   "execution_count": null,
   "id": "c619ec1e",
   "metadata": {},
   "outputs": [],
   "source": [
    "sub_all.tail()"
   ]
  },
  {
   "cell_type": "code",
   "execution_count": null,
   "id": "95320a57",
   "metadata": {},
   "outputs": [],
   "source": [
    "# import meta data\n",
    "test_meta_data = pd.read_csv(r\"Testing_Data\\2_Testing_Meta_Data_2022.csv\")"
   ]
  },
  {
   "cell_type": "code",
   "execution_count": null,
   "id": "0f3c6e9a",
   "metadata": {
    "scrolled": true
   },
   "outputs": [],
   "source": [
    "test_meta_data.head()"
   ]
  },
  {
   "cell_type": "code",
   "execution_count": null,
   "id": "2024d456",
   "metadata": {
    "scrolled": true
   },
   "outputs": [],
   "source": [
    "test_meta_data.shape"
   ]
  },
  {
   "cell_type": "code",
   "execution_count": null,
   "id": "f0eb8b46",
   "metadata": {},
   "outputs": [],
   "source": [
    "test_meta_cols = list(test_meta_data.columns)"
   ]
  },
  {
   "cell_type": "code",
   "execution_count": null,
   "id": "af464df9",
   "metadata": {},
   "outputs": [],
   "source": [
    "test_meta_cols"
   ]
  },
  {
   "cell_type": "code",
   "execution_count": null,
   "id": "bf354ec1",
   "metadata": {},
   "outputs": [],
   "source": [
    "len(test_meta_cols)"
   ]
  },
  {
   "cell_type": "code",
   "execution_count": null,
   "id": "14c9e6ac",
   "metadata": {
    "scrolled": false
   },
   "outputs": [],
   "source": [
    "Meta_data.shape"
   ]
  },
  {
   "cell_type": "code",
   "execution_count": null,
   "id": "cebc7b81",
   "metadata": {},
   "outputs": [],
   "source": [
    "# missing values\n",
    "missing_meta_test = test_meta_data.isna().sum()\n",
    "missing_meta_test.sum()"
   ]
  },
  {
   "cell_type": "code",
   "execution_count": null,
   "id": "53394120",
   "metadata": {},
   "outputs": [],
   "source": [
    "meta_cols = list(Meta_data.columns)"
   ]
  },
  {
   "cell_type": "code",
   "execution_count": null,
   "id": "e226d10f",
   "metadata": {
    "scrolled": false
   },
   "outputs": [],
   "source": [
    "# meta_cols"
   ]
  },
  {
   "cell_type": "code",
   "execution_count": null,
   "id": "c034b1e6",
   "metadata": {},
   "outputs": [],
   "source": [
    "# intersecting columns for stacking\n",
    "meta_intersecting = list(set(meta_cols) & set(test_meta_cols))"
   ]
  },
  {
   "cell_type": "code",
   "execution_count": null,
   "id": "3a980de7",
   "metadata": {},
   "outputs": [],
   "source": [
    "# meta_intersecting"
   ]
  },
  {
   "cell_type": "code",
   "execution_count": null,
   "id": "ba729a4d",
   "metadata": {},
   "outputs": [],
   "source": [
    "len(meta_cols)"
   ]
  },
  {
   "cell_type": "code",
   "execution_count": null,
   "id": "6d9ac04f",
   "metadata": {},
   "outputs": [],
   "source": [
    "# meta_cols"
   ]
  },
  {
   "cell_type": "code",
   "execution_count": null,
   "id": "46f8e74d",
   "metadata": {},
   "outputs": [],
   "source": [
    "# are these the same as train columns of meta sanity check\n",
    "meta_intersecting == meta_cols"
   ]
  },
  {
   "cell_type": "code",
   "execution_count": null,
   "id": "561f7b81",
   "metadata": {},
   "outputs": [],
   "source": [
    "# extract the data from both datasets that intersect\n",
    "test_meta_ext = test_meta_data[meta_intersecting]"
   ]
  },
  {
   "cell_type": "code",
   "execution_count": null,
   "id": "49dcdf45",
   "metadata": {},
   "outputs": [],
   "source": [
    "test_meta_ext.head()"
   ]
  },
  {
   "cell_type": "code",
   "execution_count": null,
   "id": "ff580617",
   "metadata": {},
   "outputs": [],
   "source": [
    "train_meta_ext = Meta_data[meta_intersecting]"
   ]
  },
  {
   "cell_type": "code",
   "execution_count": null,
   "id": "8b02086d",
   "metadata": {},
   "outputs": [],
   "source": [
    "train_meta_ext.head()"
   ]
  },
  {
   "cell_type": "code",
   "execution_count": null,
   "id": "df78206a",
   "metadata": {},
   "outputs": [],
   "source": [
    "list(train_meta_ext.columns) == list(test_meta_ext.columns)"
   ]
  },
  {
   "cell_type": "code",
   "execution_count": null,
   "id": "431d27d7",
   "metadata": {},
   "outputs": [],
   "source": [
    "# now stack the two datasets together\n",
    "meta_all = pd.concat([train_meta_ext, test_meta_ext], axis = 0)"
   ]
  },
  {
   "cell_type": "code",
   "execution_count": null,
   "id": "9a90db90",
   "metadata": {},
   "outputs": [],
   "source": [
    "meta_all.shape"
   ]
  },
  {
   "cell_type": "code",
   "execution_count": null,
   "id": "c17a3ee0",
   "metadata": {},
   "outputs": [],
   "source": [
    "# meta_all.tail()"
   ]
  },
  {
   "cell_type": "markdown",
   "id": "bf803965",
   "metadata": {},
   "source": [
    "#### Stack soil data"
   ]
  },
  {
   "cell_type": "code",
   "execution_count": null,
   "id": "3e2f0cf1",
   "metadata": {},
   "outputs": [],
   "source": [
    "# soil data \n",
    "test_soil_data = pd.read_csv(r\"Testing_Data\\3_Testing_Soil_Data_2022.csv\")"
   ]
  },
  {
   "cell_type": "code",
   "execution_count": null,
   "id": "0c28ff38",
   "metadata": {},
   "outputs": [],
   "source": [
    "test_soil_data.head()"
   ]
  },
  {
   "cell_type": "code",
   "execution_count": null,
   "id": "3d0453d1",
   "metadata": {},
   "outputs": [],
   "source": [
    "test_soil_data.shape"
   ]
  },
  {
   "cell_type": "code",
   "execution_count": null,
   "id": "f206d335",
   "metadata": {},
   "outputs": [],
   "source": [
    "test_soil_data = test_soil_data.drop_duplicates()\n",
    "test_soil_data.shape"
   ]
  },
  {
   "cell_type": "code",
   "execution_count": null,
   "id": "acfcb37a",
   "metadata": {
    "scrolled": true
   },
   "outputs": [],
   "source": [
    "soil_data.shape"
   ]
  },
  {
   "cell_type": "code",
   "execution_count": null,
   "id": "64251324",
   "metadata": {},
   "outputs": [],
   "source": [
    "soil_data = soil_data.drop_duplicates()"
   ]
  },
  {
   "cell_type": "code",
   "execution_count": null,
   "id": "8ad8b991",
   "metadata": {},
   "outputs": [],
   "source": [
    "soil_data.shape"
   ]
  },
  {
   "cell_type": "code",
   "execution_count": null,
   "id": "a4c55806",
   "metadata": {},
   "outputs": [],
   "source": [
    "soil_data.shape"
   ]
  },
  {
   "cell_type": "code",
   "execution_count": null,
   "id": "972ecbac",
   "metadata": {},
   "outputs": [],
   "source": [
    "soil_data.isna().sum().sum()"
   ]
  },
  {
   "cell_type": "code",
   "execution_count": null,
   "id": "007364b7",
   "metadata": {},
   "outputs": [],
   "source": [
    "# missing values\n",
    "missing_soil_test = test_soil_data.isna().sum()\n",
    "missing_soil_test.sum()"
   ]
  },
  {
   "cell_type": "code",
   "execution_count": null,
   "id": "e9482ffe",
   "metadata": {
    "scrolled": true
   },
   "outputs": [],
   "source": [
    "soil_int_cols = list(set(soil_data.columns) & set(test_soil_data.columns))"
   ]
  },
  {
   "cell_type": "code",
   "execution_count": null,
   "id": "e63e83df",
   "metadata": {},
   "outputs": [],
   "source": [
    "len(soil_int_cols)"
   ]
  },
  {
   "cell_type": "code",
   "execution_count": null,
   "id": "0d55e10c",
   "metadata": {},
   "outputs": [],
   "source": [
    "# exract the intersecting columns from both datasets\n",
    "soil_train_final = soil_data[soil_int_cols]\n",
    "soil_test_final = test_soil_data[soil_int_cols]"
   ]
  },
  {
   "cell_type": "code",
   "execution_count": null,
   "id": "6bbbb551",
   "metadata": {
    "scrolled": true
   },
   "outputs": [],
   "source": [
    "soil_train_final.isna().sum().sum()"
   ]
  },
  {
   "cell_type": "code",
   "execution_count": null,
   "id": "2adf7117",
   "metadata": {},
   "outputs": [],
   "source": [
    "soil_test_final.isna().sum().sum()"
   ]
  },
  {
   "cell_type": "code",
   "execution_count": null,
   "id": "7cf29cc4",
   "metadata": {},
   "outputs": [],
   "source": [
    "# stack these two vertically\n",
    "soil_final = pd.concat([soil_train_final, soil_test_final], axis = 0)"
   ]
  },
  {
   "cell_type": "code",
   "execution_count": null,
   "id": "6171f332",
   "metadata": {},
   "outputs": [],
   "source": [
    "soil_final.shape"
   ]
  },
  {
   "cell_type": "code",
   "execution_count": null,
   "id": "94c02da1",
   "metadata": {},
   "outputs": [],
   "source": [
    "soil_final.isna().sum().sum()"
   ]
  },
  {
   "cell_type": "markdown",
   "id": "76b70a95",
   "metadata": {},
   "source": [
    "#### Stack weather dta together"
   ]
  },
  {
   "cell_type": "code",
   "execution_count": null,
   "id": "376577d2",
   "metadata": {},
   "outputs": [],
   "source": [
    "# weather data\n",
    "test_weather_data = pd.read_csv(r\"Testing_Data\\4_Testing_Weather_Data_2022.csv\")"
   ]
  },
  {
   "cell_type": "code",
   "execution_count": null,
   "id": "3b769878",
   "metadata": {
    "scrolled": true
   },
   "outputs": [],
   "source": [
    "test_weather_data.head()"
   ]
  },
  {
   "cell_type": "code",
   "execution_count": null,
   "id": "e5a78d36",
   "metadata": {},
   "outputs": [],
   "source": [
    "test_weather_data.isna().sum().sum()"
   ]
  },
  {
   "cell_type": "code",
   "execution_count": null,
   "id": "6b947c39",
   "metadata": {
    "scrolled": true
   },
   "outputs": [],
   "source": [
    "test_weather_data.shape"
   ]
  },
  {
   "cell_type": "code",
   "execution_count": null,
   "id": "acbecfcc",
   "metadata": {},
   "outputs": [],
   "source": [
    "test_weather_data = test_weather_data.drop_duplicates()\n",
    "test_weather_data.shape"
   ]
  },
  {
   "cell_type": "code",
   "execution_count": null,
   "id": "505c8862",
   "metadata": {},
   "outputs": [],
   "source": [
    "weather_data.shape"
   ]
  },
  {
   "cell_type": "code",
   "execution_count": null,
   "id": "0a2d0590",
   "metadata": {},
   "outputs": [],
   "source": [
    "weather_data = weather_data.drop_duplicates()\n",
    "weather_data.shape"
   ]
  },
  {
   "cell_type": "code",
   "execution_count": null,
   "id": "91fd8871",
   "metadata": {},
   "outputs": [],
   "source": [
    "\n",
    "# are the columns the same?\n",
    "test_weather_data.columns == weather_data.columns"
   ]
  },
  {
   "cell_type": "code",
   "execution_count": null,
   "id": "1addc0ba",
   "metadata": {},
   "outputs": [],
   "source": [
    "# may be the order of appearance is incorrect, therefore, let's sort the dataframes according to columns and merge"
   ]
  },
  {
   "cell_type": "code",
   "execution_count": null,
   "id": "0c7c59aa",
   "metadata": {},
   "outputs": [],
   "source": [
    "weather_data = weather_data.reindex(sorted(weather_data.columns), axis = 1)"
   ]
  },
  {
   "cell_type": "code",
   "execution_count": null,
   "id": "9bfa5ba6",
   "metadata": {},
   "outputs": [],
   "source": [
    "test_weather_data = test_weather_data.reindex(sorted(weather_data.columns), axis = 1)"
   ]
  },
  {
   "cell_type": "code",
   "execution_count": null,
   "id": "c1492b73",
   "metadata": {},
   "outputs": [],
   "source": [
    "test_weather_data.isna().sum().sum()"
   ]
  },
  {
   "cell_type": "code",
   "execution_count": null,
   "id": "e76ad913",
   "metadata": {},
   "outputs": [],
   "source": [
    "# are the columns the same now?\n",
    "test_weather_data.columns == weather_data.columns"
   ]
  },
  {
   "cell_type": "code",
   "execution_count": null,
   "id": "a9c4aba0",
   "metadata": {},
   "outputs": [],
   "source": [
    "# now can concatenate the two dataframes"
   ]
  },
  {
   "cell_type": "code",
   "execution_count": null,
   "id": "73e97219",
   "metadata": {},
   "outputs": [],
   "source": [
    "weather_final = pd.concat([weather_data,test_weather_data ], axis = 0)"
   ]
  },
  {
   "cell_type": "code",
   "execution_count": null,
   "id": "90b1e672",
   "metadata": {},
   "outputs": [],
   "source": [
    "weather_final.shape"
   ]
  },
  {
   "cell_type": "code",
   "execution_count": null,
   "id": "fd09877d",
   "metadata": {},
   "outputs": [],
   "source": [
    "test_weather_data.shape"
   ]
  },
  {
   "cell_type": "code",
   "execution_count": null,
   "id": "5ef7c100",
   "metadata": {},
   "outputs": [],
   "source": [
    "weather_final.shape"
   ]
  },
  {
   "cell_type": "code",
   "execution_count": null,
   "id": "63bce89d",
   "metadata": {},
   "outputs": [],
   "source": [
    "weather_final.isna().sum().sum()"
   ]
  },
  {
   "cell_type": "markdown",
   "id": "2787b6d1",
   "metadata": {},
   "source": [
    "Concatenate EC data"
   ]
  },
  {
   "cell_type": "code",
   "execution_count": null,
   "id": "1bb310a4",
   "metadata": {},
   "outputs": [],
   "source": [
    "# EC data\n",
    "test_ec_data = pd.read_csv(r\"Testing_Data\\6_Testing_EC_Data_2022.csv\")"
   ]
  },
  {
   "cell_type": "code",
   "execution_count": null,
   "id": "1145fa67",
   "metadata": {},
   "outputs": [],
   "source": [
    "test_ec_data.head()"
   ]
  },
  {
   "cell_type": "code",
   "execution_count": null,
   "id": "33ba0fa6",
   "metadata": {},
   "outputs": [],
   "source": [
    "test_ec_data.shape"
   ]
  },
  {
   "cell_type": "code",
   "execution_count": null,
   "id": "c529c4c2",
   "metadata": {},
   "outputs": [],
   "source": [
    "test_ec_data.isna().sum().sum()"
   ]
  },
  {
   "cell_type": "code",
   "execution_count": null,
   "id": "66b0222f",
   "metadata": {},
   "outputs": [],
   "source": [
    "test_ec_data = test_ec_data.drop_duplicates()\n",
    "test_ec_data.shape"
   ]
  },
  {
   "cell_type": "code",
   "execution_count": null,
   "id": "e99d087c",
   "metadata": {},
   "outputs": [],
   "source": [
    "test_ec_data.isna().sum().sum()"
   ]
  },
  {
   "cell_type": "code",
   "execution_count": null,
   "id": "cef8c795",
   "metadata": {},
   "outputs": [],
   "source": [
    "EC_data.shape"
   ]
  },
  {
   "cell_type": "code",
   "execution_count": null,
   "id": "6afc6a9d",
   "metadata": {},
   "outputs": [],
   "source": [
    "EC_data = EC_data.drop_duplicates()\n",
    "EC_data.shape"
   ]
  },
  {
   "cell_type": "code",
   "execution_count": null,
   "id": "3a27955b",
   "metadata": {},
   "outputs": [],
   "source": [
    "EC_data.isna().sum().sum()"
   ]
  },
  {
   "cell_type": "code",
   "execution_count": null,
   "id": "ce85aeba",
   "metadata": {},
   "outputs": [],
   "source": [
    "test_EC_columns = list(test_ec_data.columns)\n",
    "# test_EC_columns"
   ]
  },
  {
   "cell_type": "code",
   "execution_count": null,
   "id": "fcacde68",
   "metadata": {},
   "outputs": [],
   "source": [
    "EC_columns = list(EC_data.columns)\n",
    "# EC_columns"
   ]
  },
  {
   "cell_type": "code",
   "execution_count": null,
   "id": "e54a51a1",
   "metadata": {
    "scrolled": true
   },
   "outputs": [],
   "source": [
    "# are the columns the same for EC train and test sets?\n",
    "sum(test_ec_data.columns == EC_data.columns)\n",
    "# They are the same, so stack together"
   ]
  },
  {
   "cell_type": "code",
   "execution_count": null,
   "id": "e5752bfe",
   "metadata": {},
   "outputs": [],
   "source": [
    "# Since the columns are all same, we can vertically stack the two data sets together\n",
    "EC_all = pd.concat([EC_data, test_ec_data], axis=0)\n",
    "EC_all.shape"
   ]
  },
  {
   "cell_type": "code",
   "execution_count": null,
   "id": "b255c7aa",
   "metadata": {},
   "outputs": [],
   "source": [
    "EC_all.head()"
   ]
  },
  {
   "cell_type": "code",
   "execution_count": null,
   "id": "5bcb2d59",
   "metadata": {},
   "outputs": [],
   "source": [
    "# any missing values?\n",
    "EC_all.isna().sum().sum()\n",
    "\n",
    "# no missing values"
   ]
  },
  {
   "cell_type": "markdown",
   "id": "ba5da3dd",
   "metadata": {},
   "source": [
    "#### Getting rid of columns"
   ]
  },
  {
   "cell_type": "markdown",
   "id": "2aff0411",
   "metadata": {},
   "source": [
    "#### Trait data"
   ]
  },
  {
   "cell_type": "code",
   "execution_count": null,
   "id": "69862fab",
   "metadata": {},
   "outputs": [],
   "source": [
    "# Note these almost all columns here are not available in the test data, therefore, \n",
    "# let's only consider the dataset with the required three columns."
   ]
  },
  {
   "cell_type": "code",
   "execution_count": null,
   "id": "9060b227",
   "metadata": {},
   "outputs": [],
   "source": [
    "# Train only data\n",
    "train_sub_data.shape"
   ]
  },
  {
   "cell_type": "code",
   "execution_count": null,
   "id": "7f814c21",
   "metadata": {},
   "outputs": [],
   "source": [
    "# all data\n",
    "sub_all.shape"
   ]
  },
  {
   "cell_type": "code",
   "execution_count": null,
   "id": "e8c0d0ce",
   "metadata": {},
   "outputs": [],
   "source": [
    "# sanity check: To see if there are 136012 obs when we concatenate the first two columns in the specific train dataset."
   ]
  },
  {
   "cell_type": "code",
   "execution_count": null,
   "id": "fdc7e9e8",
   "metadata": {},
   "outputs": [],
   "source": [
    "train_sub_data['concat_term'] = train_sub_data['Env'] + train_sub_data['Hybrid']"
   ]
  },
  {
   "cell_type": "code",
   "execution_count": null,
   "id": "26d21108",
   "metadata": {},
   "outputs": [],
   "source": [
    "train_sub_data.columns"
   ]
  },
  {
   "cell_type": "code",
   "execution_count": null,
   "id": "103a1990",
   "metadata": {},
   "outputs": [],
   "source": [
    "unique_items = list(train_sub_data['concat_term'].unique())"
   ]
  },
  {
   "cell_type": "code",
   "execution_count": null,
   "id": "c5a2a738",
   "metadata": {},
   "outputs": [],
   "source": [
    "len(unique_items)"
   ]
  },
  {
   "cell_type": "code",
   "execution_count": null,
   "id": "c31f28ef",
   "metadata": {},
   "outputs": [],
   "source": [
    "# so, how many per non unique categories?\n",
    "train_sub_data['concat_term'].value_counts().head(35000)"
   ]
  },
  {
   "cell_type": "code",
   "execution_count": null,
   "id": "8739d93e",
   "metadata": {},
   "outputs": [],
   "source": [
    "# meaning around 39000 combinations have atleast two lines each"
   ]
  },
  {
   "cell_type": "code",
   "execution_count": null,
   "id": "c6ee85fb",
   "metadata": {},
   "outputs": [],
   "source": [
    "# how many unique combinations in test set?\n",
    "submission_test.shape"
   ]
  },
  {
   "cell_type": "code",
   "execution_count": null,
   "id": "91534408",
   "metadata": {},
   "outputs": [],
   "source": [
    "unique_combos = list(submission_test['Env'] + submission_test[\"Hybrid\"])"
   ]
  },
  {
   "cell_type": "code",
   "execution_count": null,
   "id": "cd163dca",
   "metadata": {},
   "outputs": [],
   "source": [
    "# how many uniquecombos here?\n",
    "len(unique_combos)"
   ]
  },
  {
   "cell_type": "code",
   "execution_count": null,
   "id": "b8406ba1",
   "metadata": {},
   "outputs": [],
   "source": [
    "# as expected we have 11555"
   ]
  },
  {
   "cell_type": "code",
   "execution_count": null,
   "id": "d9a7af65",
   "metadata": {},
   "outputs": [],
   "source": [
    "# Since trait data is not available for test data, we ignore all these columns"
   ]
  },
  {
   "cell_type": "markdown",
   "id": "77392488",
   "metadata": {},
   "source": [
    "Meta data"
   ]
  },
  {
   "cell_type": "code",
   "execution_count": null,
   "id": "fb2e62db",
   "metadata": {},
   "outputs": [],
   "source": [
    "meta_all.shape"
   ]
  },
  {
   "cell_type": "code",
   "execution_count": null,
   "id": "58428fc4",
   "metadata": {
    "scrolled": true
   },
   "outputs": [],
   "source": [
    "meta_cols_all = list(meta_all.columns)\n",
    "meta_cols_all"
   ]
  },
  {
   "cell_type": "markdown",
   "id": "05f1c788",
   "metadata": {},
   "source": [
    "Previous_Crop"
   ]
  },
  {
   "cell_type": "code",
   "execution_count": null,
   "id": "25f4c286",
   "metadata": {
    "scrolled": true
   },
   "outputs": [],
   "source": [
    "meta_all['Previous_Crop'].value_counts()"
   ]
  },
  {
   "cell_type": "code",
   "execution_count": null,
   "id": "00687d5f",
   "metadata": {},
   "outputs": [],
   "source": [
    "meta_all['Previous_Crop'] = meta_all['Previous_Crop'].fillna(\"not_avail\")"
   ]
  },
  {
   "cell_type": "code",
   "execution_count": null,
   "id": "79b94af0",
   "metadata": {},
   "outputs": [],
   "source": [
    "prev_crop_list = list(meta_all['Previous_Crop'])\n",
    "# prev_crop_list = [x.lower() for x in prev_crop_list]\n",
    "(meta_all['Previous_Crop'] == 'not_avail').value_counts()[1]"
   ]
  },
  {
   "cell_type": "code",
   "execution_count": null,
   "id": "67e5f504",
   "metadata": {},
   "outputs": [],
   "source": [
    "# prev_crop_list"
   ]
  },
  {
   "cell_type": "code",
   "execution_count": null,
   "id": "ff4076e0",
   "metadata": {},
   "outputs": [],
   "source": [
    "new_crop_col = []\n",
    "for i in prev_crop_list:\n",
    "    if ((meta_all['Previous_Crop'] == i).value_counts()[1])/meta_all.shape[0] >= 0.05:\n",
    "        i = i\n",
    "    else:\n",
    "        i = 'other'\n",
    "    new_crop_col.append(i)"
   ]
  },
  {
   "cell_type": "code",
   "execution_count": null,
   "id": "570315f1",
   "metadata": {},
   "outputs": [],
   "source": [
    "meta_all['Previous_Crop'] = new_crop_col"
   ]
  },
  {
   "cell_type": "code",
   "execution_count": null,
   "id": "b6895c03",
   "metadata": {},
   "outputs": [],
   "source": [
    "meta_all['Previous_Crop'].value_counts()"
   ]
  },
  {
   "cell_type": "code",
   "execution_count": null,
   "id": "db6672aa",
   "metadata": {},
   "outputs": [],
   "source": [
    "# meta_all['Previous_Crop'].value_counts()"
   ]
  },
  {
   "cell_type": "markdown",
   "id": "c89ca4fa",
   "metadata": {},
   "source": [
    "Type_of_planter"
   ]
  },
  {
   "cell_type": "code",
   "execution_count": null,
   "id": "b98552c6",
   "metadata": {},
   "outputs": [],
   "source": [
    "meta_all['Type_of_planter (fluted cone; belt cone; air planter)'].value_counts()"
   ]
  },
  {
   "cell_type": "code",
   "execution_count": null,
   "id": "252bf01e",
   "metadata": {},
   "outputs": [],
   "source": [
    "make_list = list(meta_all['Type_of_planter (fluted cone; belt cone; air planter)'])"
   ]
  },
  {
   "cell_type": "code",
   "execution_count": null,
   "id": "7e784f26",
   "metadata": {},
   "outputs": [],
   "source": [
    "meta_all['Type_of_planter (fluted cone; belt cone; air planter)'] = meta_all['Type_of_planter (fluted cone; belt cone; air planter)'].fillna(\"not_avail\")"
   ]
  },
  {
   "cell_type": "code",
   "execution_count": null,
   "id": "ff9bbdee",
   "metadata": {},
   "outputs": [],
   "source": [
    "meta_all['Type_of_planter (fluted cone; belt cone; air planter)'].value_counts()"
   ]
  },
  {
   "cell_type": "code",
   "execution_count": null,
   "id": "75aab8dc",
   "metadata": {},
   "outputs": [],
   "source": [
    "# get rid of numbers in the categories of this column\n",
    "meta_all['Type_of_planter (fluted cone; belt cone; air planter)'] = meta_all['Type_of_planter (fluted cone; belt cone; air planter)'].str.replace('\\d+', '')"
   ]
  },
  {
   "cell_type": "code",
   "execution_count": null,
   "id": "3e1822ff",
   "metadata": {
    "scrolled": true
   },
   "outputs": [],
   "source": [
    "# see if this worked\n",
    "meta_all['Type_of_planter (fluted cone; belt cone; air planter)'].value_counts()"
   ]
  },
  {
   "cell_type": "code",
   "execution_count": null,
   "id": "614f847f",
   "metadata": {},
   "outputs": [],
   "source": [
    "# now make all these lower case\n",
    "\n",
    "# lower\n",
    "meta_all['Type_of_planter (fluted cone; belt cone; air planter)'] = meta_all['Type_of_planter (fluted cone; belt cone; air planter)'].str.lower()\n"
   ]
  },
  {
   "cell_type": "code",
   "execution_count": null,
   "id": "b9aaebc5",
   "metadata": {
    "scrolled": true
   },
   "outputs": [],
   "source": [
    "meta_all['Type_of_planter (fluted cone; belt cone; air planter)'].value_counts()"
   ]
  },
  {
   "cell_type": "code",
   "execution_count": null,
   "id": "7f282c13",
   "metadata": {},
   "outputs": [],
   "source": [
    "planter_list = list(meta_all['Type_of_planter (fluted cone; belt cone; air planter)'])"
   ]
  },
  {
   "cell_type": "code",
   "execution_count": null,
   "id": "61d73c2e",
   "metadata": {
    "scrolled": true
   },
   "outputs": [],
   "source": [
    "new_planter_col = []\n",
    "for i in planter_list:\n",
    "    if ((meta_all['Type_of_planter (fluted cone; belt cone; air planter)'] == i).value_counts()[1])/meta_all.shape[0] >= 0.05:\n",
    "        i = i\n",
    "    else:\n",
    "        i = 'other'\n",
    "    new_planter_col.append(i)"
   ]
  },
  {
   "cell_type": "code",
   "execution_count": null,
   "id": "5110c605",
   "metadata": {},
   "outputs": [],
   "source": [
    "meta_all['Type_of_planter (fluted cone; belt cone; air planter)'] = new_planter_col"
   ]
  },
  {
   "cell_type": "code",
   "execution_count": null,
   "id": "351de2d9",
   "metadata": {},
   "outputs": [],
   "source": [
    "meta_all['Type_of_planter (fluted cone; belt cone; air planter)'].value_counts()"
   ]
  },
  {
   "cell_type": "code",
   "execution_count": null,
   "id": "88694d57",
   "metadata": {},
   "outputs": [],
   "source": [
    "# not including any comment columns"
   ]
  },
  {
   "cell_type": "code",
   "execution_count": null,
   "id": "670596b3",
   "metadata": {},
   "outputs": [],
   "source": [
    "# meta_all['Issue/comment_#3'].value_counts()"
   ]
  },
  {
   "cell_type": "code",
   "execution_count": null,
   "id": "a50ff91f",
   "metadata": {},
   "outputs": [],
   "source": [
    "# meta_all['Issue/comment_#3'].isna().sum()"
   ]
  },
  {
   "cell_type": "markdown",
   "id": "8dae12ee",
   "metadata": {},
   "source": [
    "Year"
   ]
  },
  {
   "cell_type": "code",
   "execution_count": null,
   "id": "43de6955",
   "metadata": {},
   "outputs": [],
   "source": [
    "# meta_all['Year'].value_counts()"
   ]
  },
  {
   "cell_type": "markdown",
   "id": "ee473d8e",
   "metadata": {},
   "source": [
    "Env"
   ]
  },
  {
   "cell_type": "code",
   "execution_count": null,
   "id": "54394b2e",
   "metadata": {},
   "outputs": [],
   "source": [
    "meta_all['Env'].value_counts()"
   ]
  },
  {
   "cell_type": "markdown",
   "id": "7f36f52f",
   "metadata": {},
   "source": [
    "We will include this, but let's count the unique environments as the year is different in envs and this information needs t be taken into account."
   ]
  },
  {
   "cell_type": "code",
   "execution_count": null,
   "id": "e2e5a5e9",
   "metadata": {},
   "outputs": [],
   "source": [
    "list_envs = list(meta_all['Env'])"
   ]
  },
  {
   "cell_type": "code",
   "execution_count": null,
   "id": "b1668721",
   "metadata": {},
   "outputs": [],
   "source": [
    "env_only = []\n",
    "for i in list_envs:\n",
    "    env = i.split('_')[0]\n",
    "    env_only.append(env)"
   ]
  },
  {
   "cell_type": "code",
   "execution_count": null,
   "id": "0044f329",
   "metadata": {},
   "outputs": [],
   "source": [
    "num_envs = len(set(env_only))\n",
    "num_envs"
   ]
  },
  {
   "cell_type": "markdown",
   "id": "a4aad73b",
   "metadata": {},
   "source": [
    "Experiment_Code"
   ]
  },
  {
   "cell_type": "code",
   "execution_count": null,
   "id": "1f241b49",
   "metadata": {},
   "outputs": [],
   "source": [
    "# meta_all['Experiment_Code'].value_counts()"
   ]
  },
  {
   "cell_type": "code",
   "execution_count": null,
   "id": "bf6a1529",
   "metadata": {},
   "outputs": [],
   "source": [
    "# This is basically the code in the env"
   ]
  },
  {
   "cell_type": "markdown",
   "id": "44b9e278",
   "metadata": {},
   "source": [
    "Treatment"
   ]
  },
  {
   "cell_type": "code",
   "execution_count": null,
   "id": "9e5797c0",
   "metadata": {},
   "outputs": [],
   "source": [
    "meta_all['Treatment'].isna().sum()"
   ]
  },
  {
   "cell_type": "code",
   "execution_count": null,
   "id": "b2231bf4",
   "metadata": {},
   "outputs": [],
   "source": [
    "meta_all['Treatment'] = meta_all['Treatment'].fillna('not_avail')"
   ]
  },
  {
   "cell_type": "code",
   "execution_count": null,
   "id": "08a1cb8c",
   "metadata": {},
   "outputs": [],
   "source": [
    "meta_all['Treatment'].value_counts()"
   ]
  },
  {
   "cell_type": "code",
   "execution_count": null,
   "id": "c1f2aa4e",
   "metadata": {},
   "outputs": [],
   "source": [
    "# remove the unnecessary categories\n",
    "\n",
    "# not doing anything as lower case or removing spaces as not worth it - not adding more values to existing categories\n",
    "trt_list = meta_all['Treatment']\n",
    "new_trt_col = []\n",
    "for i in trt_list:\n",
    "    if ((meta_all['Treatment'] == i).value_counts()[1])/meta_all.shape[0] >= 0.05:\n",
    "        i = i\n",
    "    else:\n",
    "        i = 'other'\n",
    "    new_trt_col.append(i)"
   ]
  },
  {
   "cell_type": "code",
   "execution_count": null,
   "id": "48660e37",
   "metadata": {},
   "outputs": [],
   "source": [
    "meta_all['Treatment'] = new_trt_col"
   ]
  },
  {
   "cell_type": "code",
   "execution_count": null,
   "id": "de425927",
   "metadata": {},
   "outputs": [],
   "source": [
    "meta_all['Treatment'].value_counts()"
   ]
  },
  {
   "cell_type": "markdown",
   "id": "5d9aef14",
   "metadata": {},
   "source": [
    "City"
   ]
  },
  {
   "cell_type": "code",
   "execution_count": null,
   "id": "4886cb60",
   "metadata": {
    "scrolled": true
   },
   "outputs": [],
   "source": [
    "# meta_all['City'].value_counts() - mostly equally distributed"
   ]
  },
  {
   "cell_type": "code",
   "execution_count": null,
   "id": "a53c9843",
   "metadata": {},
   "outputs": [],
   "source": [
    "# meta_all['Farm'].value_counts() - mostly equally distributed"
   ]
  },
  {
   "cell_type": "code",
   "execution_count": null,
   "id": "300b7916",
   "metadata": {},
   "outputs": [],
   "source": [
    "# meta_all['Field'].value_counts()  - mostly equally distributed"
   ]
  },
  {
   "cell_type": "code",
   "execution_count": null,
   "id": "a330e137",
   "metadata": {},
   "outputs": [],
   "source": [
    "# meta_all['Trial_ID (Assigned by collaborator for internal reference)'].value_counts() \n",
    "# -not using,too many categories"
   ]
  },
  {
   "cell_type": "code",
   "execution_count": null,
   "id": "6c676bbe",
   "metadata": {},
   "outputs": [],
   "source": [
    "# meta_all['Soil_Taxonomic_ID and horizon description, if known'].value_counts()\n",
    "# .isna().sum() \n",
    "# - too many missing values"
   ]
  },
  {
   "cell_type": "code",
   "execution_count": null,
   "id": "0eeb9c5e",
   "metadata": {},
   "outputs": [],
   "source": [
    "# meta_all['Weather_Station_Serial_Number (Last four digits, e.g. m2700s#####)'].value_counts() \n",
    "# - too many cats"
   ]
  },
  {
   "cell_type": "markdown",
   "id": "f35bc204",
   "metadata": {},
   "source": [
    "meta_all['Weather_Station_Latitude (in decimal numbers NOT DMS)'].isna().sum() - include"
   ]
  },
  {
   "cell_type": "code",
   "execution_count": null,
   "id": "f0589d70",
   "metadata": {},
   "outputs": [],
   "source": [
    "# and longitude"
   ]
  },
  {
   "cell_type": "code",
   "execution_count": null,
   "id": "53112cb9",
   "metadata": {},
   "outputs": [],
   "source": [
    "# dates excluded as they are not useful in row form"
   ]
  },
  {
   "cell_type": "code",
   "execution_count": null,
   "id": "7e6d8992",
   "metadata": {},
   "outputs": [],
   "source": [
    "# meta_all['Pre-plant_tillage_method(s)'].value_counts() \n",
    "# - too many cats"
   ]
  },
  {
   "cell_type": "code",
   "execution_count": null,
   "id": "117c38dc",
   "metadata": {},
   "outputs": [],
   "source": [
    "# meta_all['In-season_tillage_method(s)'].value_counts() \n",
    "# - too many missing values"
   ]
  },
  {
   "cell_type": "code",
   "execution_count": null,
   "id": "429933d4",
   "metadata": {},
   "outputs": [],
   "source": [
    "# meta_all['Cardinal_Heading_Pass_1'].value_counts()\n",
    "# - ignore for now - 104 missing"
   ]
  },
  {
   "cell_type": "code",
   "execution_count": null,
   "id": "d3d1f0dd",
   "metadata": {},
   "outputs": [],
   "source": [
    "# all lat and longtude data included"
   ]
  },
  {
   "cell_type": "code",
   "execution_count": null,
   "id": "d9330d1e",
   "metadata": {},
   "outputs": [],
   "source": [
    "# Irrigated*, Date_Planted**, Plot_Area_ha** not found in the test dataset"
   ]
  },
  {
   "cell_type": "code",
   "execution_count": null,
   "id": "8ca416ac",
   "metadata": {},
   "outputs": [],
   "source": [
    "meta_all['Pounds_Needed_Soil_Moisture'].isna().sum() \n",
    "# - many missing but seems important"
   ]
  },
  {
   "cell_type": "code",
   "execution_count": null,
   "id": "4e090d28",
   "metadata": {},
   "outputs": [],
   "source": [
    "# meta_all['Pounds_Needed_Soil_Moisture'].value_counts()"
   ]
  },
  {
   "cell_type": "code",
   "execution_count": null,
   "id": "0c921d42",
   "metadata": {},
   "outputs": [],
   "source": [
    "# meta_all['System_Determining_Moisture'].value_counts() \n",
    "# - too mays cats"
   ]
  },
  {
   "cell_type": "code",
   "execution_count": null,
   "id": "9c138655",
   "metadata": {},
   "outputs": [],
   "source": [
    "final_cols = ['Previous_Crop',\n",
    " 'Type_of_planter (fluted cone; belt cone; air planter)',\n",
    " 'Pounds_Needed_Soil_Moisture',\n",
    " 'Experiment_Code',\n",
    " 'Weather_Station_Latitude (in decimal numbers NOT DMS)',\n",
    " 'Year',\n",
    " 'Latitude_of_Field_Corner_#2 (lower right)',\n",
    " 'Longitude_of_Field_Corner_#4 (upper left)',\n",
    " 'Latitude_of_Field_Corner_#4 (upper left)',\n",
    " 'Longitude_of_Field_Corner_#2 (lower right)',\n",
    " 'Latitude_of_Field_Corner_#1 (lower left)',\n",
    " 'Weather_Station_Longitude (in decimal numbers NOT DMS)',\n",
    " 'Longitude_of_Field_Corner_#1 (lower left)',\n",
    " 'Env',\n",
    " 'Longitude_of_Field_Corner_#3 (upper right)',\n",
    " 'Latitude_of_Field_Corner_#3 (upper right)',\n",
    " 'City',\n",
    " 'Treatment']"
   ]
  },
  {
   "cell_type": "code",
   "execution_count": null,
   "id": "9cc6cab4",
   "metadata": {},
   "outputs": [],
   "source": [
    "# final meta data\n",
    "meta_all_reqs = meta_all[final_cols]\n",
    "meta_all_reqs.shape"
   ]
  },
  {
   "cell_type": "code",
   "execution_count": null,
   "id": "e45ebbe4",
   "metadata": {},
   "outputs": [],
   "source": [
    "meta_all_reqs.head()"
   ]
  },
  {
   "cell_type": "markdown",
   "id": "eb553491",
   "metadata": {},
   "source": [
    "#### Soil data"
   ]
  },
  {
   "cell_type": "code",
   "execution_count": null,
   "id": "be35efcb",
   "metadata": {},
   "outputs": [],
   "source": [
    "soil_final.shape"
   ]
  },
  {
   "cell_type": "code",
   "execution_count": null,
   "id": "615e0093",
   "metadata": {},
   "outputs": [],
   "source": [
    "soil_cols = list(soil_final.columns)"
   ]
  },
  {
   "cell_type": "code",
   "execution_count": null,
   "id": "34b8b49e",
   "metadata": {
    "scrolled": true
   },
   "outputs": [],
   "source": [
    "soil_final.info()"
   ]
  },
  {
   "cell_type": "code",
   "execution_count": null,
   "id": "dd41051f",
   "metadata": {},
   "outputs": [],
   "source": [
    "# soil_final['Comments']"
   ]
  },
  {
   "cell_type": "code",
   "execution_count": null,
   "id": "f9ea8ece",
   "metadata": {},
   "outputs": [],
   "source": [
    "# ignored the date columns and comments, but retained everything else"
   ]
  },
  {
   "cell_type": "code",
   "execution_count": null,
   "id": "917823d6",
   "metadata": {},
   "outputs": [],
   "source": [
    "soil_all_reqs = soil_final.drop(['Date Received', 'Date Reported', 'Comments'], axis = 1)"
   ]
  },
  {
   "cell_type": "code",
   "execution_count": null,
   "id": "5d6c2d3f",
   "metadata": {
    "scrolled": true
   },
   "outputs": [],
   "source": [
    "soil_all_reqs.shape"
   ]
  },
  {
   "cell_type": "code",
   "execution_count": null,
   "id": "3bc35084",
   "metadata": {},
   "outputs": [],
   "source": [
    "soil_all_reqs.isna().sum().sum()"
   ]
  },
  {
   "cell_type": "markdown",
   "id": "8ce554c2",
   "metadata": {},
   "source": [
    "#### Weather"
   ]
  },
  {
   "cell_type": "code",
   "execution_count": null,
   "id": "6cfc625e",
   "metadata": {},
   "outputs": [],
   "source": [
    "weather_final.shape"
   ]
  },
  {
   "cell_type": "code",
   "execution_count": null,
   "id": "551d92f1",
   "metadata": {},
   "outputs": [],
   "source": [
    "weather_cols = list(weather_final.columns)"
   ]
  },
  {
   "cell_type": "code",
   "execution_count": null,
   "id": "5df13843",
   "metadata": {},
   "outputs": [],
   "source": [
    "weather_cols"
   ]
  },
  {
   "cell_type": "code",
   "execution_count": null,
   "id": "d00db321",
   "metadata": {},
   "outputs": [],
   "source": [
    "weather_final.isna().sum().sum()"
   ]
  },
  {
   "cell_type": "code",
   "execution_count": null,
   "id": "e9fc72a3",
   "metadata": {},
   "outputs": [],
   "source": [
    "# not dropping anything here"
   ]
  },
  {
   "cell_type": "markdown",
   "id": "f1900fe7",
   "metadata": {},
   "source": [
    "#### EC"
   ]
  },
  {
   "cell_type": "code",
   "execution_count": null,
   "id": "91fc9819",
   "metadata": {},
   "outputs": [],
   "source": [
    "EC_all.shape"
   ]
  },
  {
   "cell_type": "code",
   "execution_count": null,
   "id": "fa079d69",
   "metadata": {},
   "outputs": [],
   "source": [
    "# any missing values? - nope\n",
    "EC_all.isna().sum().sum()"
   ]
  },
  {
   "cell_type": "code",
   "execution_count": null,
   "id": "c096d856",
   "metadata": {},
   "outputs": [],
   "source": [
    "# type of data\n",
    "EC_all.describe()"
   ]
  },
  {
   "cell_type": "code",
   "execution_count": null,
   "id": "1abb81ce",
   "metadata": {},
   "outputs": [],
   "source": [
    "num_cols_EC = EC_all.select_dtypes(include=np.number)"
   ]
  },
  {
   "cell_type": "code",
   "execution_count": null,
   "id": "7a13eac4",
   "metadata": {},
   "outputs": [],
   "source": [
    "num_cols_EC.shape"
   ]
  },
  {
   "cell_type": "code",
   "execution_count": null,
   "id": "bd2bdcd8",
   "metadata": {},
   "outputs": [],
   "source": [
    "# all data are numeric apart from the Env - include all data"
   ]
  },
  {
   "cell_type": "markdown",
   "id": "4b7cebd4",
   "metadata": {},
   "source": [
    "#### Okay, now we can merge all the data"
   ]
  },
  {
   "cell_type": "code",
   "execution_count": null,
   "id": "ace35555",
   "metadata": {},
   "outputs": [],
   "source": [
    "# sub data and meta data first"
   ]
  },
  {
   "cell_type": "code",
   "execution_count": null,
   "id": "5cd72743",
   "metadata": {
    "scrolled": false
   },
   "outputs": [],
   "source": [
    "sub_all.head()"
   ]
  },
  {
   "cell_type": "code",
   "execution_count": null,
   "id": "a452df70",
   "metadata": {},
   "outputs": [],
   "source": [
    "sub_all['Year'] = sub_all['Year'].fillna(2022)"
   ]
  },
  {
   "cell_type": "code",
   "execution_count": null,
   "id": "09f02974",
   "metadata": {},
   "outputs": [],
   "source": [
    "sub_all['Year'].isna().sum()"
   ]
  },
  {
   "cell_type": "code",
   "execution_count": null,
   "id": "bff37f16",
   "metadata": {},
   "outputs": [],
   "source": [
    "sub_all['Year'] = sub_all['Year'].astype('int64')"
   ]
  },
  {
   "cell_type": "code",
   "execution_count": null,
   "id": "20012952",
   "metadata": {},
   "outputs": [],
   "source": [
    "# sub_all['Year'].isna().sum()"
   ]
  },
  {
   "cell_type": "code",
   "execution_count": null,
   "id": "14fc9788",
   "metadata": {
    "scrolled": true
   },
   "outputs": [],
   "source": [
    "sub_all.info()"
   ]
  },
  {
   "cell_type": "code",
   "execution_count": null,
   "id": "02c340dc",
   "metadata": {},
   "outputs": [],
   "source": [
    "meta_all_reqs.shape"
   ]
  },
  {
   "cell_type": "code",
   "execution_count": null,
   "id": "2df21b17",
   "metadata": {},
   "outputs": [],
   "source": [
    "sub_all[sub_all['Year'] == 2022]"
   ]
  },
  {
   "cell_type": "code",
   "execution_count": null,
   "id": "3c8a7a3f",
   "metadata": {},
   "outputs": [],
   "source": [
    "# meta_all_reqs['Env'].value_counts()\n",
    "\n",
    "# primary key in RHS is unique"
   ]
  },
  {
   "cell_type": "code",
   "execution_count": null,
   "id": "16e3fe5a",
   "metadata": {
    "scrolled": true
   },
   "outputs": [],
   "source": [
    "sub_all.shape"
   ]
  },
  {
   "cell_type": "code",
   "execution_count": null,
   "id": "cf1e59fb",
   "metadata": {},
   "outputs": [],
   "source": [
    "# sub_all = sub_all[['Env', 'Hybrid', 'Yield_Mg_ha']]"
   ]
  },
  {
   "cell_type": "code",
   "execution_count": null,
   "id": "657334ea",
   "metadata": {},
   "outputs": [],
   "source": [
    "sub_all.shape"
   ]
  },
  {
   "cell_type": "code",
   "execution_count": null,
   "id": "d75524d8",
   "metadata": {},
   "outputs": [],
   "source": [
    "# see if there are any duplicate rows\n",
    "sub_all_final = sub_all.drop_duplicates()"
   ]
  },
  {
   "cell_type": "code",
   "execution_count": null,
   "id": "716cde7a",
   "metadata": {},
   "outputs": [],
   "source": [
    "sub_all_final.shape"
   ]
  },
  {
   "cell_type": "code",
   "execution_count": null,
   "id": "619098e6",
   "metadata": {},
   "outputs": [],
   "source": [
    "# Let's see the intersecting columns\n",
    "intersecting_sub = list(set(sub_all.columns) & set(meta_all_reqs.columns))"
   ]
  },
  {
   "cell_type": "code",
   "execution_count": null,
   "id": "efdd8d82",
   "metadata": {
    "scrolled": true
   },
   "outputs": [],
   "source": [
    "intersecting_sub"
   ]
  },
  {
   "cell_type": "code",
   "execution_count": null,
   "id": "58324711",
   "metadata": {},
   "outputs": [],
   "source": [
    "# since the year is changing, only merge by Env"
   ]
  },
  {
   "cell_type": "code",
   "execution_count": null,
   "id": "fc9c7c40",
   "metadata": {},
   "outputs": [],
   "source": [
    "# Okay, I think it should be a left join\n",
    "sub_and_meta = sub_all.merge(meta_all_reqs, on = [\"Env\", 'Year'], how = 'left')"
   ]
  },
  {
   "cell_type": "code",
   "execution_count": null,
   "id": "037d1cac",
   "metadata": {
    "scrolled": false
   },
   "outputs": [],
   "source": [
    "sub_and_meta.shape"
   ]
  },
  {
   "cell_type": "code",
   "execution_count": null,
   "id": "be30f305",
   "metadata": {},
   "outputs": [],
   "source": [
    "sub_and_meta.isna().sum().sum()"
   ]
  },
  {
   "cell_type": "code",
   "execution_count": null,
   "id": "fc73b970",
   "metadata": {},
   "outputs": [],
   "source": [
    "sub_and_meta = sub_and_meta.reset_index(drop = True)"
   ]
  },
  {
   "cell_type": "code",
   "execution_count": null,
   "id": "5ec2d2db",
   "metadata": {
    "scrolled": true
   },
   "outputs": [],
   "source": [
    "sub_and_meta.shape"
   ]
  },
  {
   "cell_type": "code",
   "execution_count": null,
   "id": "8586d42c",
   "metadata": {
    "scrolled": true
   },
   "outputs": [],
   "source": [
    "sub_and_meta['Year']"
   ]
  },
  {
   "cell_type": "code",
   "execution_count": null,
   "id": "71467021",
   "metadata": {
    "scrolled": true
   },
   "outputs": [],
   "source": [
    "# sanity check\n",
    "# meta_all_reqs.head()"
   ]
  },
  {
   "cell_type": "code",
   "execution_count": null,
   "id": "e7163c7a",
   "metadata": {},
   "outputs": [],
   "source": [
    "# DEH1_2014_meta = meta_all_reqs[meta_all_reqs['Env'] == 'DEH1_2014']\n",
    "# DEH1_2014_meta"
   ]
  },
  {
   "cell_type": "code",
   "execution_count": null,
   "id": "3079df4b",
   "metadata": {},
   "outputs": [],
   "source": [
    "# DEH1_2014_all = sub_all[sub_all['Env'] == 'DEH1_2014']\n",
    "# DEH1_2014_all.head()"
   ]
  },
  {
   "cell_type": "markdown",
   "id": "971cc08a",
   "metadata": {},
   "source": [
    "#### now mege soil\n"
   ]
  },
  {
   "cell_type": "code",
   "execution_count": null,
   "id": "88ebc848",
   "metadata": {},
   "outputs": [],
   "source": [
    "# get the intersecting columns\n",
    "int_cols_soil = list(set(soil_all_reqs.columns) & set(sub_and_meta.columns))\n",
    "int_cols_soil"
   ]
  },
  {
   "cell_type": "code",
   "execution_count": null,
   "id": "d577f031",
   "metadata": {
    "scrolled": true
   },
   "outputs": [],
   "source": [
    "soil_all_reqs.shape"
   ]
  },
  {
   "cell_type": "code",
   "execution_count": null,
   "id": "7b8c382b",
   "metadata": {},
   "outputs": [],
   "source": [
    "soil_all_reqs.isna().sum()"
   ]
  },
  {
   "cell_type": "code",
   "execution_count": null,
   "id": "42928f6f",
   "metadata": {},
   "outputs": [],
   "source": [
    "soil_all_reqs.groupby(['Env', 'Year']).size()"
   ]
  },
  {
   "cell_type": "code",
   "execution_count": null,
   "id": "cb1b3fad",
   "metadata": {},
   "outputs": [],
   "source": [
    "soil_all_reqs = soil_all_reqs.reset_index(drop = True)"
   ]
  },
  {
   "cell_type": "code",
   "execution_count": null,
   "id": "1b150b08",
   "metadata": {},
   "outputs": [],
   "source": [
    "# let's merge on Env, and year\n",
    "sub_meta_soil = pd.merge(sub_and_meta, soil_all_reqs, left_on = [\"Env\", \"Year\"], right_on = [\"Env\", \"Year\"], how = 'left')"
   ]
  },
  {
   "cell_type": "code",
   "execution_count": null,
   "id": "24b566e5",
   "metadata": {
    "scrolled": true
   },
   "outputs": [],
   "source": [
    "sub_meta_soil.shape"
   ]
  },
  {
   "cell_type": "code",
   "execution_count": null,
   "id": "e0b2d816",
   "metadata": {},
   "outputs": [],
   "source": [
    "sub_meta_soil = sub_meta_soil.drop_duplicates()\n",
    "sub_meta_soil.shape"
   ]
  },
  {
   "cell_type": "code",
   "execution_count": null,
   "id": "94ea6d49",
   "metadata": {},
   "outputs": [],
   "source": [
    "sub_meta_soil.isna().sum()"
   ]
  },
  {
   "cell_type": "markdown",
   "id": "8eabc633",
   "metadata": {},
   "source": [
    "#### merge weather"
   ]
  },
  {
   "cell_type": "code",
   "execution_count": null,
   "id": "01d4ade1",
   "metadata": {},
   "outputs": [],
   "source": [
    "# get the intersecting columns\n",
    "int_cols_wea = list(set(weather_final.columns) & set(sub_meta_soil.columns))\n",
    "int_cols_wea"
   ]
  },
  {
   "cell_type": "code",
   "execution_count": null,
   "id": "8950b0c9",
   "metadata": {
    "scrolled": false
   },
   "outputs": [],
   "source": [
    "weather_final['Env'].value_counts()"
   ]
  },
  {
   "cell_type": "code",
   "execution_count": null,
   "id": "7b580efa",
   "metadata": {},
   "outputs": [],
   "source": [
    "# drop variable \"Date\", and average across each env\n",
    "weather_final = weather_final.drop([\"Date\"], axis = 1)"
   ]
  },
  {
   "cell_type": "code",
   "execution_count": null,
   "id": "7330e196",
   "metadata": {
    "scrolled": true
   },
   "outputs": [],
   "source": [
    "weather_final.head()"
   ]
  },
  {
   "cell_type": "code",
   "execution_count": null,
   "id": "a8914676",
   "metadata": {},
   "outputs": [],
   "source": [
    "weather_final = weather_final.groupby(['Env'], as_index=False).mean()"
   ]
  },
  {
   "cell_type": "code",
   "execution_count": null,
   "id": "c1d91bb4",
   "metadata": {},
   "outputs": [],
   "source": [
    "weather_final"
   ]
  },
  {
   "cell_type": "code",
   "execution_count": null,
   "id": "2020ba9a",
   "metadata": {},
   "outputs": [],
   "source": [
    "weather_final.shape"
   ]
  },
  {
   "cell_type": "code",
   "execution_count": null,
   "id": "516f5edf",
   "metadata": {},
   "outputs": [],
   "source": [
    "# merge on this\n",
    "sub_meta_soil_wea = sub_meta_soil.merge(weather_final, how = 'left', on = \"Env\")"
   ]
  },
  {
   "cell_type": "code",
   "execution_count": null,
   "id": "661db8cf",
   "metadata": {
    "scrolled": true
   },
   "outputs": [],
   "source": [
    "sub_meta_soil_wea.shape"
   ]
  },
  {
   "cell_type": "markdown",
   "id": "29be0a52",
   "metadata": {},
   "source": [
    "#### merge the EC data"
   ]
  },
  {
   "cell_type": "code",
   "execution_count": null,
   "id": "92f407f8",
   "metadata": {},
   "outputs": [],
   "source": [
    "# get the intersecting columns\n",
    "int_cols_EC = list(set(EC_all.columns) & set(sub_meta_soil_wea.columns))\n",
    "int_cols_EC"
   ]
  },
  {
   "cell_type": "code",
   "execution_count": null,
   "id": "04ca1c89",
   "metadata": {},
   "outputs": [],
   "source": [
    "# any duplicate values?\n",
    "EC_all['Env'].value_counts()"
   ]
  },
  {
   "cell_type": "code",
   "execution_count": null,
   "id": "e35c6f7b",
   "metadata": {},
   "outputs": [],
   "source": [
    "# nope - do a left merge\n",
    "data_all_final = sub_meta_soil_wea.merge(EC_all, how = 'left', on = \"Env\")"
   ]
  },
  {
   "cell_type": "code",
   "execution_count": null,
   "id": "1d672a26",
   "metadata": {},
   "outputs": [],
   "source": [
    "data_all_final.shape"
   ]
  },
  {
   "cell_type": "code",
   "execution_count": null,
   "id": "13cf482e",
   "metadata": {},
   "outputs": [],
   "source": [
    "# Now, split the train and test datasets\n",
    "train_ID = list(train_sub_data['Env'].unique())"
   ]
  },
  {
   "cell_type": "code",
   "execution_count": null,
   "id": "ffcda4e5",
   "metadata": {},
   "outputs": [],
   "source": [
    "len(train_ID)"
   ]
  },
  {
   "cell_type": "code",
   "execution_count": null,
   "id": "1fc5c957",
   "metadata": {},
   "outputs": [],
   "source": [
    "train_true = []\n",
    "for i in data_all_final['Env']:\n",
    "    if i in train_ID:\n",
    "        train_true.append(True)\n",
    "    else:\n",
    "        train_true.append(False)\n",
    "        "
   ]
  },
  {
   "cell_type": "code",
   "execution_count": null,
   "id": "f2f0aea3",
   "metadata": {},
   "outputs": [],
   "source": [
    "len(train_true)"
   ]
  },
  {
   "cell_type": "code",
   "execution_count": null,
   "id": "53a5fa30",
   "metadata": {},
   "outputs": [],
   "source": [
    "data_all_final['train_true'] = train_true"
   ]
  },
  {
   "cell_type": "code",
   "execution_count": null,
   "id": "14ecb510",
   "metadata": {},
   "outputs": [],
   "source": [
    "train_data = data_all_final[data_all_final['train_true'] == True]"
   ]
  },
  {
   "cell_type": "code",
   "execution_count": null,
   "id": "5f99427e",
   "metadata": {},
   "outputs": [],
   "source": [
    "train_data.shape"
   ]
  },
  {
   "cell_type": "code",
   "execution_count": null,
   "id": "df737adb",
   "metadata": {},
   "outputs": [],
   "source": [
    "test_data = data_all_final[data_all_final['train_true'] == False]"
   ]
  },
  {
   "cell_type": "code",
   "execution_count": null,
   "id": "9ca6addd",
   "metadata": {},
   "outputs": [],
   "source": [
    "test_data.shape"
   ]
  },
  {
   "cell_type": "code",
   "execution_count": null,
   "id": "0179c49b",
   "metadata": {},
   "outputs": [],
   "source": [
    "# store all these files\n",
    "data_all_final.to_csv(r\"final_data_all_with_traits.csv\", index = False)"
   ]
  },
  {
   "cell_type": "code",
   "execution_count": null,
   "id": "53ef3647",
   "metadata": {},
   "outputs": [],
   "source": [
    "# train data\n",
    "# train_data.to_csv(r\"train_data_with_traits.csv\")"
   ]
  },
  {
   "cell_type": "code",
   "execution_count": null,
   "id": "7684854c",
   "metadata": {},
   "outputs": [],
   "source": [
    "# test data\n",
    "# test_data.to_csv(r\"test_data_with_traits.csv\")"
   ]
  },
  {
   "cell_type": "code",
   "execution_count": null,
   "id": "c333cf92",
   "metadata": {},
   "outputs": [],
   "source": []
  },
  {
   "cell_type": "code",
   "execution_count": null,
   "id": "cb937143",
   "metadata": {},
   "outputs": [],
   "source": [
    "# import all data\n",
    "# all_data = pd.read_csv(r\"merged_data\\final_data_all.csv\")"
   ]
  },
  {
   "cell_type": "code",
   "execution_count": null,
   "id": "1f5df964",
   "metadata": {
    "scrolled": true
   },
   "outputs": [],
   "source": [
    "# all_data_traits = pd.read_csv(r\"merged_data\\final_data_all_with_traits.csv\")"
   ]
  },
  {
   "cell_type": "code",
   "execution_count": null,
   "id": "a69d387d",
   "metadata": {
    "scrolled": true
   },
   "outputs": [],
   "source": [
    "# all_data['%H Sat'].isna().sum()"
   ]
  },
  {
   "cell_type": "code",
   "execution_count": null,
   "id": "cab3e8eb",
   "metadata": {},
   "outputs": [],
   "source": [
    "# all_data.columns"
   ]
  },
  {
   "cell_type": "code",
   "execution_count": null,
   "id": "0bfc36f6",
   "metadata": {},
   "outputs": [],
   "source": [
    "# all_data_traits['%H Sat'].isna().sum()"
   ]
  },
  {
   "cell_type": "code",
   "execution_count": null,
   "id": "d032c8a2",
   "metadata": {},
   "outputs": [],
   "source": [
    "# all_data_test = all_data[all_data['train_true'] == False]"
   ]
  },
  {
   "cell_type": "code",
   "execution_count": null,
   "id": "ad4b30db",
   "metadata": {},
   "outputs": [],
   "source": [
    "# all_data_test['%H Sat'].isna().sum()"
   ]
  },
  {
   "cell_type": "code",
   "execution_count": null,
   "id": "ecb8c4c7",
   "metadata": {},
   "outputs": [],
   "source": [
    "# all_data_test.shape"
   ]
  },
  {
   "cell_type": "code",
   "execution_count": null,
   "id": "6bb49454",
   "metadata": {},
   "outputs": [],
   "source": [
    "# all_data_traits_test = all_data_traits[all_data_traits['train_true'] == False]"
   ]
  },
  {
   "cell_type": "code",
   "execution_count": null,
   "id": "f28ac0fc",
   "metadata": {},
   "outputs": [],
   "source": [
    "# all_data_traits_test['%H Sat'].isna().sum()"
   ]
  },
  {
   "cell_type": "code",
   "execution_count": null,
   "id": "dab32d1e",
   "metadata": {},
   "outputs": [],
   "source": [
    "# all_data_test.columns"
   ]
  },
  {
   "cell_type": "code",
   "execution_count": null,
   "id": "58dd0814",
   "metadata": {},
   "outputs": [],
   "source": [
    "# all_data_test['%Mg Sat'].isna().sum()"
   ]
  },
  {
   "cell_type": "code",
   "execution_count": null,
   "id": "96fbdad3",
   "metadata": {},
   "outputs": [],
   "source": [
    "# all_data_traits_test['%Mg Sat'].isna().sum()"
   ]
  },
  {
   "cell_type": "code",
   "execution_count": null,
   "id": "f138749e",
   "metadata": {},
   "outputs": [],
   "source": [
    "# # for traits\n",
    "# trait_cols = list(sub_all_final.columns)\n",
    "# trait_cols"
   ]
  },
  {
   "cell_type": "code",
   "execution_count": null,
   "id": "65b9b406",
   "metadata": {},
   "outputs": [],
   "source": [
    "# len(trait_cols)"
   ]
  },
  {
   "cell_type": "code",
   "execution_count": null,
   "id": "92468c07",
   "metadata": {},
   "outputs": [],
   "source": [
    "# # meta columns\n",
    "# meta_cols = list(meta_all_reqs.columns)\n",
    "# len(meta_cols)"
   ]
  },
  {
   "cell_type": "code",
   "execution_count": null,
   "id": "2f2229c8",
   "metadata": {},
   "outputs": [],
   "source": [
    "# meta_cols"
   ]
  },
  {
   "cell_type": "code",
   "execution_count": null,
   "id": "3271b908",
   "metadata": {},
   "outputs": [],
   "source": [
    "# soil columns\n",
    "# soil_columns = list(soil_all_reqs.columns)"
   ]
  },
  {
   "cell_type": "code",
   "execution_count": null,
   "id": "f1ea8cbe",
   "metadata": {},
   "outputs": [],
   "source": [
    "# soil_columns"
   ]
  },
  {
   "cell_type": "code",
   "execution_count": null,
   "id": "d3e225c9",
   "metadata": {},
   "outputs": [],
   "source": [
    "# weather columns\n",
    "# weather_cols = list(weather_final.columns)"
   ]
  },
  {
   "cell_type": "code",
   "execution_count": null,
   "id": "630ab7be",
   "metadata": {},
   "outputs": [],
   "source": [
    "# len(weather_cols)"
   ]
  },
  {
   "cell_type": "code",
   "execution_count": null,
   "id": "3c3cdd19",
   "metadata": {},
   "outputs": [],
   "source": [
    "# weather_cols"
   ]
  },
  {
   "cell_type": "code",
   "execution_count": null,
   "id": "fc6943bb",
   "metadata": {},
   "outputs": [],
   "source": [
    "# EC columns\n",
    "# EC_cols = list(EC_all.columns)"
   ]
  },
  {
   "cell_type": "code",
   "execution_count": null,
   "id": "9cee5dc3",
   "metadata": {},
   "outputs": [],
   "source": [
    "# len(EC_cols)"
   ]
  },
  {
   "cell_type": "code",
   "execution_count": null,
   "id": "c4333212",
   "metadata": {},
   "outputs": [],
   "source": [
    "# EC_cols"
   ]
  },
  {
   "cell_type": "code",
   "execution_count": null,
   "id": "e4bf8992",
   "metadata": {},
   "outputs": [],
   "source": []
  }
 ],
 "metadata": {
  "kernelspec": {
   "display_name": "newone1",
   "language": "python",
   "name": "newone1"
  },
  "language_info": {
   "codemirror_mode": {
    "name": "ipython",
    "version": 3
   },
   "file_extension": ".py",
   "mimetype": "text/x-python",
   "name": "python",
   "nbconvert_exporter": "python",
   "pygments_lexer": "ipython3",
   "version": "3.9.12"
  }
 },
 "nbformat": 4,
 "nbformat_minor": 5
}
